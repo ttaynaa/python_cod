{
 "cells": [
  {
   "cell_type": "markdown",
   "id": "0b61c6d3",
   "metadata": {},
   "source": [
    "<h1><center>Python Intermediário para Análise de Dados</center></h1>"
   ]
  },
  {
   "cell_type": "markdown",
   "id": "224f13ac",
   "metadata": {},
   "source": [
    "### Módulo 1: Extensões sobre funções ----------------------"
   ]
  },
  {
   "cell_type": "markdown",
   "id": "8969e58a",
   "metadata": {},
   "source": [
    "### Lição 1: Parâmetros múltiplos e dinâmicos\n"
   ]
  },
  {
   "cell_type": "markdown",
   "id": "5a26f0c1",
   "metadata": {},
   "source": [
    "#### Parte 1: Parâmentros *args"
   ]
  },
  {
   "cell_type": "markdown",
   "id": "b1afa7fe",
   "metadata": {},
   "source": [
    "Assim como vimos, o *args é uma sintaxe que permite passarmos uma sequência de parâmetros de comprimento variável."
   ]
  },
  {
   "cell_type": "code",
   "execution_count": 2,
   "id": "f3502388",
   "metadata": {},
   "outputs": [],
   "source": [
    "def estudante(nome, idade, *args):\n",
    "  print(\"nome:\", nome)\n",
    "  print(\"idade\", idade)\n",
    "  print(args, type(args))"
   ]
  },
  {
   "cell_type": "code",
   "execution_count": 3,
   "id": "5a479ad6",
   "metadata": {},
   "outputs": [
    {
     "name": "stdout",
     "output_type": "stream",
     "text": [
      "nome: João\n",
      "idade 50\n",
      "() <class 'tuple'>\n"
     ]
    }
   ],
   "source": [
    "estudante(\"João\", \"50\")"
   ]
  },
  {
   "cell_type": "code",
   "execution_count": 4,
   "id": "4dd1fe70",
   "metadata": {},
   "outputs": [
    {
     "name": "stdout",
     "output_type": "stream",
     "text": [
      "nome: João\n",
      "idade 50\n",
      "(20, 30) <class 'tuple'>\n"
     ]
    }
   ],
   "source": [
    "estudante(\"João\", \"50\", 20, 30)"
   ]
  },
  {
   "cell_type": "code",
   "execution_count": 5,
   "id": "ffb1aedc",
   "metadata": {},
   "outputs": [
    {
     "name": "stdout",
     "output_type": "stream",
     "text": [
      "nome: João\n",
      "idade 50\n",
      "([20, 30], 10, 'ola') <class 'tuple'>\n"
     ]
    }
   ],
   "source": [
    "estudante(\"João\", \"50\", [20, 30], 10, \"ola\")"
   ]
  },
  {
   "cell_type": "code",
   "execution_count": 6,
   "id": "d38d1656",
   "metadata": {},
   "outputs": [],
   "source": [
    "def estudante(nome, idade, *args):\n",
    "  print(\"nome:\", nome)\n",
    "  print(\"idade\", idade)\n",
    "  for a in args:\n",
    "    print('Nota:',a)\n",
    "  print('Média:',sum(args)/len(args))"
   ]
  },
  {
   "cell_type": "markdown",
   "id": "26f0f90a",
   "metadata": {},
   "source": [
    "#### Parte 2: Parâmetro **kwargs"
   ]
  },
  {
   "cell_type": "markdown",
   "id": "8e87d039",
   "metadata": {},
   "source": [
    "A outra sintaxe vista foi o __**kwargs__, usada para passar uma sequencia de parâmetros do tipo 'chave: valor' de comprimento variável."
   ]
  },
  {
   "cell_type": "code",
   "execution_count": 7,
   "id": "8e499222",
   "metadata": {},
   "outputs": [],
   "source": [
    "def estudante(nome, idade, **kwargs):\n",
    "  print(\"nome:\", nome)\n",
    "  print(\"idade\", idade)\n",
    "  print(kwargs, type(kwargs))"
   ]
  },
  {
   "cell_type": "code",
   "execution_count": 8,
   "id": "c18bbc52",
   "metadata": {},
   "outputs": [
    {
     "name": "stdout",
     "output_type": "stream",
     "text": [
      "nome: Joao\n",
      "idade 22\n",
      "{'matematica': 10, 'historia': 7, 'portugues': 9, 'ingles': 8, 'fisica': 10} <class 'dict'>\n"
     ]
    }
   ],
   "source": [
    "estudante(\"Joao\", 22, matematica=10, historia=7, portugues=9, ingles=8, fisica = 10)"
   ]
  },
  {
   "cell_type": "code",
   "execution_count": 9,
   "id": "27d3fb63",
   "metadata": {},
   "outputs": [],
   "source": [
    "def estudante(nome, idade, **kwargs):\n",
    "  print(\"nome:\", nome)\n",
    "  print(\"idade\", idade)\n",
    "  for chave, valor in kwargs.items():\n",
    "    print(chave, \":\", valor)"
   ]
  },
  {
   "cell_type": "markdown",
   "id": "d3b990a2",
   "metadata": {},
   "source": [
    "### Lição 2: Funções como objetos de primeira classe"
   ]
  },
  {
   "cell_type": "markdown",
   "id": "f57bebea",
   "metadata": {},
   "source": [
    "Quando dizemos que funções são objetos de primeira classe queremos dizer que elas se comportam assim qualquer outro tipo nativo da linguagem. Isso significa que podemos passar funções como parâmetros de outras funções, podemos armazenar funções em variáveis, e muito mais!"
   ]
  },
  {
   "cell_type": "code",
   "execution_count": 11,
   "id": "e3cf5c56",
   "metadata": {},
   "outputs": [],
   "source": [
    "def funcao_def():\n",
    "  print(\"minha funcao def\")\n",
    "\n",
    "lamb = lambda x: x*2\n",
    "\n",
    "lista_heterogenea = [funcao_def, lamb, lambda x: 3*x]"
   ]
  },
  {
   "cell_type": "code",
   "execution_count": 12,
   "id": "fa01e14d",
   "metadata": {},
   "outputs": [
    {
     "data": {
      "text/plain": [
       "[<function __main__.funcao_def()>,\n",
       " <function __main__.<lambda>(x)>,\n",
       " <function __main__.<lambda>(x)>]"
      ]
     },
     "execution_count": 12,
     "metadata": {},
     "output_type": "execute_result"
    }
   ],
   "source": [
    "lista_heterogenea"
   ]
  },
  {
   "cell_type": "markdown",
   "id": "5ef83948",
   "metadata": {},
   "source": [
    "O mais interessante das funções serem tratadas como qualquer outro tipo de objeto é a possibilidade de passarmos funções como parâmetros para outras funções "
   ]
  },
  {
   "cell_type": "markdown",
   "id": "839a2db3",
   "metadata": {},
   "source": [
    "### Lição 3: Funções de ordem superior"
   ]
  },
  {
   "cell_type": "markdown",
   "id": "4674e819",
   "metadata": {},
   "source": [
    "Existem diversas funções prontas que recebem uma outra função como parâmetro, dentre elas temos **map()**, **filter()** e **reduce()**"
   ]
  },
  {
   "cell_type": "markdown",
   "id": "17b7de2d",
   "metadata": {},
   "source": [
    "#### Parte 1: Função map()"
   ]
  },
  {
   "cell_type": "markdown",
   "id": "e8c7d213",
   "metadata": {},
   "source": [
    "Vimos qual a ideia por trás do map, mas como ele funciona na prática?"
   ]
  },
  {
   "cell_type": "code",
   "execution_count": 14,
   "id": "5b1cfd64",
   "metadata": {},
   "outputs": [],
   "source": [
    "map?"
   ]
  },
  {
   "cell_type": "markdown",
   "id": "a852fbdc",
   "metadata": {},
   "source": [
    "Usando uma função comum, nós temos:"
   ]
  },
  {
   "cell_type": "code",
   "execution_count": 15,
   "id": "0f492268",
   "metadata": {},
   "outputs": [
    {
     "name": "stdout",
     "output_type": "stream",
     "text": [
      "range(1, 6)\n"
     ]
    },
    {
     "data": {
      "text/plain": [
       "[1, 2, 3, 4, 5]"
      ]
     },
     "execution_count": 15,
     "metadata": {},
     "output_type": "execute_result"
    }
   ],
   "source": [
    "l = range(1, 6)\n",
    "print(l)\n",
    "list(l)"
   ]
  },
  {
   "cell_type": "code",
   "execution_count": 16,
   "id": "8831f9de",
   "metadata": {},
   "outputs": [],
   "source": [
    "def quadrados(lista):\n",
    "  res_lista = []\n",
    "  for l in lista:\n",
    "    res_lista.append(l**2)\n",
    "  return res_lista"
   ]
  },
  {
   "cell_type": "code",
   "execution_count": 17,
   "id": "d01e36fc",
   "metadata": {},
   "outputs": [
    {
     "data": {
      "text/plain": [
       "[1, 4, 9, 16, 25]"
      ]
     },
     "execution_count": 17,
     "metadata": {},
     "output_type": "execute_result"
    }
   ],
   "source": [
    "quadrados(l)"
   ]
  },
  {
   "cell_type": "markdown",
   "id": "1075e4d7",
   "metadata": {},
   "source": [
    "Usando o map:"
   ]
  },
  {
   "cell_type": "code",
   "execution_count": 19,
   "id": "a203adf3",
   "metadata": {},
   "outputs": [
    {
     "name": "stdout",
     "output_type": "stream",
     "text": [
      "<map object at 0x0000016DD12748E0>\n",
      "<class 'map'>\n"
     ]
    },
    {
     "data": {
      "text/plain": [
       "[1, 4, 9, 16, 25]"
      ]
     },
     "execution_count": 19,
     "metadata": {},
     "output_type": "execute_result"
    }
   ],
   "source": [
    "m = map(lambda x: x**2, l)\n",
    "\n",
    "print(m)  \n",
    "print(type(m))\n",
    "list (m)  "
   ]
  },
  {
   "cell_type": "markdown",
   "id": "fb827c00",
   "metadata": {},
   "source": [
    "Observe que o Python reconhece a variável **m** de fato como um objeto map. Além disso, temos a possibilidade de converter o resultado desse objeto m em uma lista"
   ]
  },
  {
   "cell_type": "markdown",
   "id": "f7b4260a",
   "metadata": {},
   "source": [
    "Como o objeto que o map retorna é iterável, podemos percorre-lo com um loop"
   ]
  },
  {
   "cell_type": "code",
   "execution_count": 20,
   "id": "8efa4ad4",
   "metadata": {},
   "outputs": [
    {
     "name": "stdout",
     "output_type": "stream",
     "text": [
      "1\n",
      "4\n",
      "9\n",
      "16\n",
      "25\n"
     ]
    }
   ],
   "source": [
    "for i in map(lambda x: x**2, l):\n",
    "  print(i)"
   ]
  },
  {
   "cell_type": "markdown",
   "id": "9395749d",
   "metadata": {},
   "source": [
    "Outra maneira interessante de usar o map é multiplicar uma lista por um valor especifico."
   ]
  },
  {
   "cell_type": "code",
   "execution_count": 21,
   "id": "99070dd9",
   "metadata": {},
   "outputs": [
    {
     "name": "stdout",
     "output_type": "stream",
     "text": [
      "4\n"
     ]
    },
    {
     "data": {
      "text/plain": [
       "[2, 4, 8, 10]"
      ]
     },
     "execution_count": 21,
     "metadata": {},
     "output_type": "execute_result"
    }
   ],
   "source": [
    "l = [1, 2, 4, 5]\n",
    "esc = 2\n",
    "\n",
    "print(len(l))\n",
    "list(map(lambda x, y: x * y, l, [esc]*len(l)))"
   ]
  },
  {
   "cell_type": "markdown",
   "id": "803f5687",
   "metadata": {},
   "source": [
    "#### Parte 2: Função filter()"
   ]
  },
  {
   "cell_type": "markdown",
   "id": "37d42a87",
   "metadata": {},
   "source": [
    "Outra função importante é o **filter()**. Assim como o map, passamos como parâmetro a função que queremos aplicar no(s) iterador(es). "
   ]
  },
  {
   "cell_type": "code",
   "execution_count": 22,
   "id": "cf29298c",
   "metadata": {},
   "outputs": [],
   "source": [
    "filter?"
   ]
  },
  {
   "cell_type": "markdown",
   "id": "5313cf8b",
   "metadata": {},
   "source": [
    "Como já mostramos, a diferença entre o filter e o map é que no filter retornamos apenas aqueles valores que atendem a condição da função passada. É importante falar que o filter retorna os valores que atendem a condição ao invés de indicar como **True** ou **False**."
   ]
  },
  {
   "cell_type": "code",
   "execution_count": 23,
   "id": "1fd2fe6d",
   "metadata": {},
   "outputs": [
    {
     "data": {
      "text/plain": [
       "[2, 4]"
      ]
     },
     "execution_count": 23,
     "metadata": {},
     "output_type": "execute_result"
    }
   ],
   "source": [
    "filter(lambda x: x % 2 == 0, l)\n",
    "list(filter(lambda x: x % 2 == 0, l))"
   ]
  },
  {
   "cell_type": "markdown",
   "id": "9c205f73",
   "metadata": {},
   "source": [
    "Nos exemplos a seguir temos duas situações:"
   ]
  },
  {
   "cell_type": "markdown",
   "id": "59ba14a8",
   "metadata": {},
   "source": [
    "1. O uso normal do filter, em que ele retornará apenas os elementos da lista que são maiores que 5;"
   ]
  },
  {
   "cell_type": "code",
   "execution_count": 24,
   "id": "77630ca1",
   "metadata": {},
   "outputs": [
    {
     "data": {
      "text/plain": [
       "[6, 8, 10, 7]"
      ]
     },
     "execution_count": 24,
     "metadata": {},
     "output_type": "execute_result"
    }
   ],
   "source": [
    "lista = [1, 4, 6, 8, 10, 3, 7]\n",
    "list(filter(lambda x: x>5, lista))"
   ]
  },
  {
   "cell_type": "markdown",
   "id": "18e21561",
   "metadata": {},
   "source": [
    "2. Uma aplicação diferente do filter, para ele retornar apenas os valores que são menores que 5"
   ]
  },
  {
   "cell_type": "code",
   "execution_count": 25,
   "id": "4cc9004e",
   "metadata": {},
   "outputs": [
    {
     "name": "stdout",
     "output_type": "stream",
     "text": [
      "[1, 4, 3]\n"
     ]
    }
   ],
   "source": [
    "r = filter(lambda x: False if x > 5 else True, lista )\n",
    "print(list(r))"
   ]
  },
  {
   "cell_type": "markdown",
   "id": "92f005bf",
   "metadata": {},
   "source": [
    "#### Parte 3: Função reduce()"
   ]
  },
  {
   "cell_type": "markdown",
   "id": "470035ff",
   "metadata": {},
   "source": [
    "Por último temos a função **reduce()**, que, como vimos, retorna um valor agregado de acordo com a função que passamos como parâmetro."
   ]
  },
  {
   "cell_type": "markdown",
   "id": "b3da336f",
   "metadata": {},
   "source": [
    "Ao contrário das outras funções o reduce deve ser importado da biblioteca _functools_, já que ela não faz parte das Built-in Functions."
   ]
  },
  {
   "cell_type": "code",
   "execution_count": 26,
   "id": "e1c7b3b2",
   "metadata": {},
   "outputs": [],
   "source": [
    "from functools import reduce"
   ]
  },
  {
   "cell_type": "code",
   "execution_count": 27,
   "id": "1e92d0cc",
   "metadata": {},
   "outputs": [],
   "source": [
    "reduce?"
   ]
  },
  {
   "cell_type": "code",
   "execution_count": 28,
   "id": "60713711",
   "metadata": {},
   "outputs": [
    {
     "data": {
      "text/plain": [
       "10"
      ]
     },
     "execution_count": 28,
     "metadata": {},
     "output_type": "execute_result"
    }
   ],
   "source": [
    "iterador = range(1, 5)\n",
    "reduce(lambda x,y: x+y, iterador)"
   ]
  },
  {
   "cell_type": "code",
   "execution_count": 29,
   "id": "6e6c9261",
   "metadata": {},
   "outputs": [
    {
     "data": {
      "text/plain": [
       "24"
      ]
     },
     "execution_count": 29,
     "metadata": {},
     "output_type": "execute_result"
    }
   ],
   "source": [
    "reduce(lambda x,y: x*y, iterador)"
   ]
  },
  {
   "cell_type": "markdown",
   "id": "5188e364",
   "metadata": {},
   "source": [
    "Um exemplo prático da função **reduce()** é quando precisamos **calcular juros compostos**. Para fazermos isso precisamos do valor inical e dos juros que devem ser aplicados"
   ]
  },
  {
   "cell_type": "code",
   "execution_count": 30,
   "id": "3ea4f5d2",
   "metadata": {},
   "outputs": [
    {
     "data": {
      "text/plain": [
       "0.0"
      ]
     },
     "execution_count": 30,
     "metadata": {},
     "output_type": "execute_result"
    }
   ],
   "source": [
    "valor_inicial = 1000\n",
    "juros = [0.01, 0.02, 0.08, 0.02]\n",
    "\n",
    "valor_final = reduce(lambda x, y: x*(1 + y), juros, valor_inicial)\n",
    "\n",
    "valor_final - valor_final"
   ]
  },
  {
   "cell_type": "markdown",
   "id": "f7cf0f9b",
   "metadata": {},
   "source": [
    "### Lição 4: Funções para iteradores e iteráveis"
   ]
  },
  {
   "cell_type": "markdown",
   "id": "f6088ce7",
   "metadata": {},
   "source": [
    "#### Parte 1: Funções any() e all()"
   ]
  },
  {
   "cell_type": "markdown",
   "id": "1e037f11",
   "metadata": {},
   "source": [
    "\n",
    "| Any | All   |\n",
    "|:------:|:------:|\n",
    "|A função pega um objeto iterável em Python e retorna verdadeiro se algum dos elementos atende à condição| Recebe um objeto iterável e retorna verdadeiro apenas se todos cumprem a condição|"
   ]
  },
  {
   "cell_type": "code",
   "execution_count": 31,
   "id": "c9b8ee46",
   "metadata": {},
   "outputs": [],
   "source": [
    "lista = [1, 4, 6, 2, 3, 9]"
   ]
  },
  {
   "cell_type": "markdown",
   "id": "5ddcb37b",
   "metadata": {},
   "source": [
    "**Any**"
   ]
  },
  {
   "cell_type": "code",
   "execution_count": 32,
   "id": "fa72c898",
   "metadata": {},
   "outputs": [
    {
     "data": {
      "text/plain": [
       "[True, True, False, True, True, False]"
      ]
     },
     "execution_count": 32,
     "metadata": {},
     "output_type": "execute_result"
    }
   ],
   "source": [
    "list(map(lambda x: x < 5, lista))"
   ]
  },
  {
   "cell_type": "code",
   "execution_count": 33,
   "id": "94653906",
   "metadata": {},
   "outputs": [
    {
     "data": {
      "text/plain": [
       "True"
      ]
     },
     "execution_count": 33,
     "metadata": {},
     "output_type": "execute_result"
    }
   ],
   "source": [
    "any(map(lambda x: x < 5, lista))"
   ]
  },
  {
   "cell_type": "markdown",
   "id": "4163aa76",
   "metadata": {},
   "source": [
    "É interessante também vermos o any juntamente com o filter(). Ele retorna *true* quando algum valor atende à condição, mas retorna *false* se nenhuma retornar"
   ]
  },
  {
   "cell_type": "code",
   "execution_count": 34,
   "id": "1141afe8",
   "metadata": {},
   "outputs": [
    {
     "name": "stdout",
     "output_type": "stream",
     "text": [
      "[6, 9]\n",
      "True\n"
     ]
    }
   ],
   "source": [
    "print(list(filter(lambda x: x > 5, lista)))\n",
    "print(any(filter(lambda x: x > 5, lista)))"
   ]
  },
  {
   "cell_type": "markdown",
   "id": "6ca069d2",
   "metadata": {},
   "source": [
    "**All**"
   ]
  },
  {
   "cell_type": "code",
   "execution_count": 35,
   "id": "6b9ecaba",
   "metadata": {},
   "outputs": [
    {
     "data": {
      "text/plain": [
       "[True, True, False, True, True, False]"
      ]
     },
     "execution_count": 35,
     "metadata": {},
     "output_type": "execute_result"
    }
   ],
   "source": [
    "list(map(lambda x: x < 5, lista))"
   ]
  },
  {
   "cell_type": "code",
   "execution_count": 36,
   "id": "800e62fe",
   "metadata": {},
   "outputs": [
    {
     "data": {
      "text/plain": [
       "False"
      ]
     },
     "execution_count": 36,
     "metadata": {},
     "output_type": "execute_result"
    }
   ],
   "source": [
    "all(map(lambda x: x < 5, lista))"
   ]
  },
  {
   "cell_type": "markdown",
   "id": "7c0b322e",
   "metadata": {},
   "source": [
    "#### Parte 2: Função zip()"
   ]
  },
  {
   "cell_type": "markdown",
   "id": "eb738e48",
   "metadata": {},
   "source": [
    "| Zip | \n",
    "|:------:|\n",
    "|Retorna um objeto iteravel \"zipado\" com o que foi passado como parâmetro|"
   ]
  },
  {
   "cell_type": "code",
   "execution_count": 37,
   "id": "82b03a1b",
   "metadata": {},
   "outputs": [],
   "source": [
    "l1 = [1, 2, 3, 4]\n",
    "l2 = [5, 3, 6, 2]"
   ]
  },
  {
   "cell_type": "code",
   "execution_count": 38,
   "id": "3418234c",
   "metadata": {},
   "outputs": [
    {
     "data": {
      "text/plain": [
       "[(1, 5), (2, 3), (3, 6), (4, 2)]"
      ]
     },
     "execution_count": 38,
     "metadata": {},
     "output_type": "execute_result"
    }
   ],
   "source": [
    "list(zip(l1, l2))"
   ]
  },
  {
   "cell_type": "markdown",
   "id": "e83879ee",
   "metadata": {},
   "source": [
    "Essa função é muito utilizada quando temos um loop **for** e queremos que ele tenha dois contadores que irão percorrer duas sequência diferentes"
   ]
  },
  {
   "cell_type": "code",
   "execution_count": 39,
   "id": "26825e5a",
   "metadata": {},
   "outputs": [
    {
     "name": "stdout",
     "output_type": "stream",
     "text": [
      "L1: 1  L2: 5\n",
      "L1: 2  L2: 3\n",
      "L1: 3  L2: 6\n",
      "L1: 4  L2: 2\n"
     ]
    }
   ],
   "source": [
    "for i, j in zip(l1, l2):\n",
    "  print('L1:', i, ' L2:', j)"
   ]
  },
  {
   "cell_type": "markdown",
   "id": "7c5e138b",
   "metadata": {},
   "source": [
    "É importante ressaltar que o **zip()** pode ser usado com qualquer objeto iterável"
   ]
  },
  {
   "cell_type": "code",
   "execution_count": null,
   "id": "1b4916a7",
   "metadata": {},
   "outputs": [],
   "source": []
  },
  {
   "cell_type": "markdown",
   "id": "18acfa17",
   "metadata": {},
   "source": [
    "## Módulo 2: Avançando em Orientação a Objetos"
   ]
  },
  {
   "cell_type": "markdown",
   "id": "52abe648",
   "metadata": {},
   "source": [
    "### Lição 2: Herança"
   ]
  },
  {
   "cell_type": "markdown",
   "id": "e54528f6",
   "metadata": {},
   "source": [
    "Vamos construir o exemplo mostrado. Temos uma **Classe mãe** (Superclasse) nomeada **Veículo**. Dela criaremos duas classes _Carro_ e _Moto_"
   ]
  },
  {
   "cell_type": "code",
   "execution_count": 1,
   "id": "c05e7ceb",
   "metadata": {},
   "outputs": [],
   "source": [
    "class Veiculo ():\n",
    "  def __init__(self, marca, modelo, anoDeFabricacao, cor):\n",
    "      self.marca = marca \n",
    "      self.modelo = modelo\n",
    "      self.anoDeFabricacao = anoDeFabricacao\n",
    "      self.cor = cor \n",
    "\n",
    "class Carro (Veiculo):\n",
    "  def __init__(self, marca, modelo, anoDeFabricacao, cor, qnt_portas, vol_bagageiro):\n",
    "      super().__init__(marca, modelo, anoDeFabricacao, cor)\n",
    "      self.qnt_portas = qnt_portas\n",
    "      self.vol_bagageiro = vol_bagageiro #metros cúbicos\n",
    "       \n",
    "class Moto (Veiculo):\n",
    "  def __init__(self, marca, modelo, anoDeFabricacao, cor, viseira=False, porta_capacete=True):\n",
    "      super().__init__(marca, modelo, anoDeFabricacao, cor)\n",
    "      self.porta_capacete = porta_capacete\n",
    "      self.viseira = viseira"
   ]
  },
  {
   "cell_type": "code",
   "execution_count": 2,
   "id": "f032b9ab",
   "metadata": {},
   "outputs": [],
   "source": [
    "gol = Carro('wolks', 'gol', 2010, 'laranja', 4, 500) \n",
    "fusca = Carro('wolks', 'fusca', 1990, 'azul claro', 2, 300)\n",
    "\n",
    "bis = Moto('honda', 'bis', 2018, 'vermelho', viseira=True)"
   ]
  },
  {
   "cell_type": "code",
   "execution_count": 3,
   "id": "c3708f64",
   "metadata": {},
   "outputs": [
    {
     "data": {
      "text/plain": [
       "False"
      ]
     },
     "execution_count": 3,
     "metadata": {},
     "output_type": "execute_result"
    }
   ],
   "source": [
    "isinstance(gol, Moto)"
   ]
  },
  {
   "cell_type": "code",
   "execution_count": 4,
   "id": "7c4f428a",
   "metadata": {},
   "outputs": [
    {
     "name": "stdout",
     "output_type": "stream",
     "text": [
      "Gol:  wolks \t 4\n",
      "Bis:  2018 \t True\n"
     ]
    }
   ],
   "source": [
    "print('Gol: ', gol.marca, '\\t', gol.qnt_portas)\n",
    "print('Bis: ', bis.anoDeFabricacao, '\\t', bis.porta_capacete)"
   ]
  },
  {
   "cell_type": "markdown",
   "id": "716de620",
   "metadata": {},
   "source": [
    "### Lição 3: Herança múltipla"
   ]
  },
  {
   "cell_type": "markdown",
   "id": "af492af3",
   "metadata": {},
   "source": [
    "Então, para modelar o nosso problema de **Veículos Terrestres** e **Veículos Aquáticos** podemos usar duas situações"
   ]
  },
  {
   "cell_type": "markdown",
   "id": "6550587e",
   "metadata": {},
   "source": [
    "1. Usando o conceito normal de herança\n",
    "2. Usando o conceito de herança múltipla exemplificado abaixo:\n"
   ]
  },
  {
   "cell_type": "code",
   "execution_count": 5,
   "id": "e56d8c0a",
   "metadata": {},
   "outputs": [],
   "source": [
    "class Veiculo ():\n",
    "  def __init__(self, marca, modelo, anoDeFabricacao, cor):\n",
    "      self.marca = marca \n",
    "      self.modelo = modelo\n",
    "      self.anoDeFabricacao = anoDeFabricacao\n",
    "      self.cor = cor \n",
    "\n",
    "class Veiculo_Terrestre ():\n",
    "    def __init__(self):\n",
    "      self.qnt_rodas = None\n",
    "      # pass\n",
    "    \n",
    "    def set_qnt_rodas(self, qnt_rodas):\n",
    "      self.qnt_rodas = qnt_rodas\n",
    "\n",
    "class Veiculo_Aquatico ():\n",
    "  pass\n",
    "\n",
    "class Carro (Veiculo, Veiculo_Terrestre):\n",
    "  def __init__(self, marca, modelo, anoDeFabricacao, cor, qnt_rodas, qnt_portas, vol_bagageiro):\n",
    "      super().__init__(marca, modelo, anoDeFabricacao, cor)\n",
    "      super().set_qnt_rodas(qnt_rodas)\n",
    "      self.qnt_portas = qnt_portas\n",
    "      self.vol_bagageiro = vol_bagageiro #metros cúbicos\n",
    "\n",
    "#Hierarquia de herança. \n",
    "#Perde referencia inicializador da segunda classe\n",
    "#Necessario redefinicoes para a segunda classe\n",
    "#So para o modelo, usuario continua de boas"
   ]
  },
  {
   "cell_type": "markdown",
   "id": "9cae856a",
   "metadata": {},
   "source": [
    "Na herança múltipla o método *super()* funciona de um jeito diferente. Como ele herda de duas classes diferentes, caso haja conflito de métodos, ele sempre \"escolherá\" o método da primeira classe passada como parâmetro"
   ]
  },
  {
   "cell_type": "code",
   "execution_count": 6,
   "id": "594f01a0",
   "metadata": {},
   "outputs": [
    {
     "name": "stdout",
     "output_type": "stream",
     "text": [
      "wolks gol 4 4\n"
     ]
    }
   ],
   "source": [
    "gol = Carro('wolks', 'gol', 2010, 'branco', 4, 4, 500) \n",
    "\n",
    "#Atributos de Veiculo, Veiculo, Veiculo_Terrestre e Carro, respectivamente\n",
    "print(gol.marca, gol.modelo, gol.qnt_rodas, gol.qnt_portas)"
   ]
  },
  {
   "cell_type": "code",
   "execution_count": 7,
   "id": "dc9d6534",
   "metadata": {},
   "outputs": [
    {
     "data": {
      "text/plain": [
       "__main__.Carro"
      ]
     },
     "execution_count": 7,
     "metadata": {},
     "output_type": "execute_result"
    }
   ],
   "source": [
    "isinstance(gol, Veiculo_Terrestre)\n",
    "type(gol)"
   ]
  },
  {
   "cell_type": "code",
   "execution_count": 8,
   "id": "96cd9fff",
   "metadata": {},
   "outputs": [
    {
     "data": {
      "text/plain": [
       "__main__.Veiculo"
      ]
     },
     "execution_count": 8,
     "metadata": {},
     "output_type": "execute_result"
    }
   ],
   "source": [
    "veic = Veiculo(\"wolks\", 'gol', 2010, 'branco')\n",
    "type(veic)"
   ]
  },
  {
   "cell_type": "markdown",
   "id": "3e587537",
   "metadata": {},
   "source": [
    "### Lição 4: Classes abstratas"
   ]
  },
  {
   "cell_type": "markdown",
   "id": "2d788d2a",
   "metadata": {},
   "source": [
    "Para aplicarmos o conceito de classe abstrata no Python devemos, primeiramente, importar o módulo **abc**"
   ]
  },
  {
   "cell_type": "code",
   "execution_count": 9,
   "id": "4899852a",
   "metadata": {},
   "outputs": [],
   "source": [
    "import abc"
   ]
  },
  {
   "cell_type": "markdown",
   "id": "69bb9111",
   "metadata": {},
   "source": [
    "O importante do modulo *abc* é que ele é utilizado para determinar qual é a classe mãe, através do *abc.ABCMeta*. Toda classe abstrata precisará necessariamente herdar da classe *abc.ABCMeta*."
   ]
  },
  {
   "cell_type": "markdown",
   "id": "69216c4b",
   "metadata": {},
   "source": [
    "Sobre classes abstratas devemos comentar um ponto importante. Uma classe é dita abstrata se há, pelo menos, um método abstrato. Ou seja, deve ter apenas a assinatura do método para que ele possa ser implementado nas classes filhas."
   ]
  },
  {
   "cell_type": "markdown",
   "id": "fcb38d8d",
   "metadata": {},
   "source": [
    "Em seguida, podemos construir a nossa ideia de classe abstrata. Repare em como realizamos a marcação de um método abstrato. Precisamos utilizar um *decorator* com @abc.abstractmethod acima do método em questão."
   ]
  },
  {
   "cell_type": "code",
   "execution_count": 10,
   "id": "ac47e2de",
   "metadata": {},
   "outputs": [],
   "source": [
    "class Veiculo (metaclass=abc.ABCMeta):\n",
    "  def __init__(self, marca, modelo, anoDeFabricacao, cor):\n",
    "      self.marca = marca \n",
    "      self.modelo = modelo\n",
    "      self.anoDeFabricacao = anoDeFabricacao\n",
    "      self.cor = cor \n",
    "\n",
    "  @abc.abstractmethod\n",
    "  def mostrar_veiculo(self):\n",
    "    return\n",
    "\n",
    "class Carro (Veiculo):\n",
    "  def __init__(self, marca, modelo, anoDeFabricacao, cor, qnt_portas, vol_bagageiro):\n",
    "      super().__init__(marca, modelo, anoDeFabricacao, cor)\n",
    "      self.qnt_portas = qnt_portas\n",
    "      self.vol_bagageiro = vol_bagageiro #metros cúbicos\n",
    "    \n",
    "  def mostrar_veiculo(self):\n",
    "    print(self.marca, self.modelo, self.anoDeFabricacao, self.cor, self.qnt_portas, self.vol_bagageiro)"
   ]
  },
  {
   "cell_type": "markdown",
   "id": "96c8b384",
   "metadata": {},
   "source": [
    "Poderemos instanciar um objeto de nossas classes filhas normalmente:"
   ]
  },
  {
   "cell_type": "code",
   "execution_count": 11,
   "id": "98d5493a",
   "metadata": {},
   "outputs": [
    {
     "name": "stdout",
     "output_type": "stream",
     "text": [
      "wolks gol 2010 branco 4 500\n"
     ]
    }
   ],
   "source": [
    "gol = Carro('wolks', 'gol', 2010, 'branco', 4, 500) \n",
    "\n",
    "gol.mostrar_veiculo()"
   ]
  },
  {
   "cell_type": "markdown",
   "id": "be972c47",
   "metadata": {},
   "source": [
    "É importante ressaltar que **não podemos instaciar um objeto de uma classe abstrata** "
   ]
  },
  {
   "cell_type": "code",
   "execution_count": 12,
   "id": "a5b927c1",
   "metadata": {},
   "outputs": [
    {
     "ename": "TypeError",
     "evalue": "Can't instantiate abstract class Veiculo with abstract method mostrar_veiculo",
     "output_type": "error",
     "traceback": [
      "\u001b[1;31m---------------------------------------------------------------------------\u001b[0m",
      "\u001b[1;31mTypeError\u001b[0m                                 Traceback (most recent call last)",
      "\u001b[1;32m~\\AppData\\Local\\Temp/ipykernel_1964/4226862421.py\u001b[0m in \u001b[0;36m<module>\u001b[1;34m\u001b[0m\n\u001b[1;32m----> 1\u001b[1;33m \u001b[0mveic\u001b[0m \u001b[1;33m=\u001b[0m \u001b[0mVeiculo\u001b[0m\u001b[1;33m(\u001b[0m\u001b[1;34m\"wolks\"\u001b[0m\u001b[1;33m,\u001b[0m \u001b[1;34m\"gol\"\u001b[0m\u001b[1;33m,\u001b[0m \u001b[1;36m2010\u001b[0m\u001b[1;33m,\u001b[0m \u001b[1;34m\"branco\"\u001b[0m\u001b[1;33m)\u001b[0m\u001b[1;33m\u001b[0m\u001b[1;33m\u001b[0m\u001b[0m\n\u001b[0m",
      "\u001b[1;31mTypeError\u001b[0m: Can't instantiate abstract class Veiculo with abstract method mostrar_veiculo"
     ]
    }
   ],
   "source": [
    "veic = Veiculo(\"wolks\", \"gol\", 2010, \"branco\")"
   ]
  },
  {
   "cell_type": "markdown",
   "id": "036e6524",
   "metadata": {},
   "source": [
    "Apesar do Python apresentar o conceito de classes abstratas, ele não possui interfaces ao contrário de linguagens como Java e PHP"
   ]
  },
  {
   "cell_type": "markdown",
   "id": "57fe3aff",
   "metadata": {},
   "source": [
    "Apesar do Python apresentar o conceito de classes abstratas, ele não possui interfaces ao contrário de linguagens como Java e PHP"
   ]
  },
  {
   "cell_type": "markdown",
   "id": "683f1146",
   "metadata": {},
   "source": [
    "Usamos estratégias de Polimorfismo quando, além de aplicarmos o conceito de **herança**, queremos que um método estabelecido na classe mãe se adapte à classe filha"
   ]
  },
  {
   "cell_type": "code",
   "execution_count": 16,
   "id": "c83e5754",
   "metadata": {},
   "outputs": [],
   "source": [
    "class Veiculo ():\n",
    "  def __init__(self, marca, modelo, anoDeFabricacao, cor):\n",
    "    self.marca = marca \n",
    "    self.modelo = modelo\n",
    "    self.anoDeFabricacao = anoDeFabricacao\n",
    "    self.cor = cor \n",
    "\n",
    "  def mostrar_veiculo(self):\n",
    "    print(\"Método da classe Veiculo\")\n",
    "    print(self.marca, self.modelo, self.anoDeFabricacao, self.cor)\n",
    "\n",
    "class Carro (Veiculo):\n",
    "  def __init__(self, marca, modelo, anoDeFabricacao, cor, qnt_portas, vol_bagageiro):\n",
    "    super().__init__(marca, modelo, anoDeFabricacao, cor)\n",
    "    self.qnt_portas = qnt_portas\n",
    "    self.vol_bagageiro = vol_bagageiro #metros cúbicos\n",
    "\n",
    "  def mostrar_veiculo(self):\n",
    "    super().mostrar_veiculo()\n",
    "    print(\"Método da classe Carro\")\n",
    "    print(self.marca, self.modelo, self.anoDeFabricacao, self.cor, self.qnt_portas, self.vol_bagageiro)"
   ]
  },
  {
   "cell_type": "code",
   "execution_count": 17,
   "id": "e58bf741",
   "metadata": {},
   "outputs": [],
   "source": [
    "veic = Veiculo('minha_marca', 'meu_modelo', 2020, 'minha_cor')\n",
    "gol = Carro('wolks', 'gol', 2010, 'branco', 4, 500) "
   ]
  },
  {
   "cell_type": "code",
   "execution_count": 18,
   "id": "98fdd3a0",
   "metadata": {},
   "outputs": [
    {
     "name": "stdout",
     "output_type": "stream",
     "text": [
      "Método da classe Veiculo\n",
      "minha_marca meu_modelo 2020 minha_cor\n"
     ]
    }
   ],
   "source": [
    "veic.mostrar_veiculo()"
   ]
  },
  {
   "cell_type": "code",
   "execution_count": 19,
   "id": "70098a30",
   "metadata": {},
   "outputs": [
    {
     "name": "stdout",
     "output_type": "stream",
     "text": [
      "Método da classe Veiculo\n",
      "wolks gol 2010 branco\n",
      "Método da classe Carro\n",
      "wolks gol 2010 branco 4 500\n"
     ]
    }
   ],
   "source": [
    "gol.mostrar_veiculo()"
   ]
  },
  {
   "cell_type": "code",
   "execution_count": 20,
   "id": "6dd0a595",
   "metadata": {},
   "outputs": [
    {
     "name": "stdout",
     "output_type": "stream",
     "text": [
      "Método da classe Veiculo\n",
      "wolks gol 2010 branco\n",
      "Método da classe Carro\n",
      "wolks gol 2010 branco 4 500\n"
     ]
    }
   ],
   "source": [
    "gol.mostrar_veiculo()"
   ]
  },
  {
   "cell_type": "markdown",
   "id": "dcf6bcfb",
   "metadata": {},
   "source": [
    "### Lição 6: Sobrecarga de operadores"
   ]
  },
  {
   "cell_type": "markdown",
   "id": "78a24342",
   "metadata": {},
   "source": [
    "Como já mostramos, a ideia da sobrecarga é redefinir o conceito de um operador já existente, como **+**, **-**, etc. A partir disso vamos fazer o seguinte para nossa classe **Carro**"
   ]
  },
  {
   "cell_type": "markdown",
   "id": "6fcbd57d",
   "metadata": {},
   "source": [
    "* Vamos definir que a soma entre dois objetos Carro seja a soma de suas capacidades para os bagageiros.\n",
    "\n",
    "* Vamos definir também que uma impressão no formato da nossa função 'mostrar_veiculo' deva ser executada sempre que pedirmos a impressão de nosso objeto em um print(Carro)."
   ]
  },
  {
   "cell_type": "code",
   "execution_count": 21,
   "id": "4e6c3576",
   "metadata": {},
   "outputs": [],
   "source": [
    "class Veiculo ():\n",
    "  def __init__(self, marca, modelo, anoDeFabricacao, cor):\n",
    "    self.marca = marca \n",
    "    self.modelo = modelo\n",
    "    self.anoDeFabricacao = anoDeFabricacao\n",
    "    self.cor = cor \n",
    "\n",
    "class Carro (Veiculo):\n",
    "  def __init__(self, marca, modelo, anoDeFabricacao, cor, qnt_portas, vol_bagageiro):\n",
    "    super().__init__(marca, modelo, anoDeFabricacao, cor)\n",
    "    self.qnt_portas = qnt_portas\n",
    "    self.vol_bagageiro = vol_bagageiro #metros cúbicos\n",
    "\n",
    "  def mostrar_veiculo(self):\n",
    "    print(\"Método da classe Carro\")\n",
    "    print(self.marca, self.modelo, self.anoDeFabricacao, self.cor, self.qnt_portas, self.vol_bagageiro)\n",
    "\n",
    "  def __add__(self, other): #Definir operaçãão de adiçãão entre objetos Carro\n",
    "    return self.vol_bagageiro + other.vol_bagageiro\n",
    "\n",
    "  def __str__(self): #Definir transformação de nosso objeto em string - método chamado pela função print() \n",
    "    return \"Método da classe Carro \\n\" + str(self.marca) + str(self.modelo) + str(self.anoDeFabricacao) + str(self.cor) + str(self.qnt_portas) + str(self.vol_bagageiro)\n",
    "\n",
    "  def __repr__(self):\n",
    "    return self.__str__() + \"\\n Nova coisa\"\n",
    "  "
   ]
  },
  {
   "cell_type": "code",
   "execution_count": 22,
   "id": "a1ba6215",
   "metadata": {},
   "outputs": [],
   "source": [
    "gol = Carro('wolks', 'gol', 2010, 'laranja', 4, 500) \n",
    "fusca = Carro('wolks', 'fusca', 1990, 'azul claro', 2, 300)\n",
    "\n",
    "fusca2 = Carro('wolks', 'fusca', 1990, 'azul claro', 2, 400)"
   ]
  },
  {
   "cell_type": "code",
   "execution_count": 23,
   "id": "d8cfada5",
   "metadata": {},
   "outputs": [
    {
     "data": {
      "text/plain": [
       "800"
      ]
     },
     "execution_count": 23,
     "metadata": {},
     "output_type": "execute_result"
    }
   ],
   "source": [
    "gol + fusca"
   ]
  },
  {
   "cell_type": "code",
   "execution_count": 24,
   "id": "7bd9aa45",
   "metadata": {},
   "outputs": [
    {
     "data": {
      "text/plain": [
       "Método da classe Carro \n",
       "wolksgol2010laranja4500\n",
       " Nova coisa"
      ]
     },
     "execution_count": 24,
     "metadata": {},
     "output_type": "execute_result"
    }
   ],
   "source": [
    "gol"
   ]
  },
  {
   "cell_type": "markdown",
   "id": "97091fca",
   "metadata": {},
   "source": [
    "Isso foi apenas um dos exemplos do que podemos fazer com a sobrecarga de operadores, se quiser ver a lista completa veja o [link](https://docs.python.org/3/reference/datamodel.html#specialnames)"
   ]
  },
  {
   "cell_type": "code",
   "execution_count": null,
   "id": "a44a6c86",
   "metadata": {},
   "outputs": [],
   "source": []
  },
  {
   "cell_type": "markdown",
   "id": "29ee9afb",
   "metadata": {},
   "source": [
    "## Módulo 3: Tratamento de exceções"
   ]
  },
  {
   "cell_type": "markdown",
   "id": "6cb6f24e",
   "metadata": {},
   "source": [
    "### Lição 1: Exceções e fluxos de execução"
   ]
  },
  {
   "cell_type": "markdown",
   "id": "ac24148c",
   "metadata": {},
   "source": [
    "Os erros de execução que acontecem mesmo que o código esteja escrito corretamente são chamados de **exceções**.  Em sua biblioteca padrão, o Python possui diversos tipos de exceções que podemos ver no [link](https://docs.python.org/pt-br/3/library/exceptions.html)"
   ]
  },
  {
   "cell_type": "code",
   "execution_count": 25,
   "id": "9eb735fc",
   "metadata": {},
   "outputs": [
    {
     "ename": "ZeroDivisionError",
     "evalue": "division by zero",
     "output_type": "error",
     "traceback": [
      "\u001b[1;31m---------------------------------------------------------------------------\u001b[0m",
      "\u001b[1;31mZeroDivisionError\u001b[0m                         Traceback (most recent call last)",
      "\u001b[1;32m~\\AppData\\Local\\Temp/ipykernel_1964/530406163.py\u001b[0m in \u001b[0;36m<module>\u001b[1;34m\u001b[0m\n\u001b[1;32m----> 1\u001b[1;33m \u001b[1;36m10\u001b[0m\u001b[1;33m/\u001b[0m\u001b[1;36m0\u001b[0m\u001b[1;33m\u001b[0m\u001b[1;33m\u001b[0m\u001b[0m\n\u001b[0m",
      "\u001b[1;31mZeroDivisionError\u001b[0m: division by zero"
     ]
    }
   ],
   "source": [
    "10/0"
   ]
  },
  {
   "cell_type": "code",
   "execution_count": 26,
   "id": "b8321a44",
   "metadata": {},
   "outputs": [
    {
     "ename": "NameError",
     "evalue": "name 'x' is not defined",
     "output_type": "error",
     "traceback": [
      "\u001b[1;31m---------------------------------------------------------------------------\u001b[0m",
      "\u001b[1;31mNameError\u001b[0m                                 Traceback (most recent call last)",
      "\u001b[1;32m~\\AppData\\Local\\Temp/ipykernel_1964/1435880422.py\u001b[0m in \u001b[0;36m<module>\u001b[1;34m\u001b[0m\n\u001b[1;32m----> 1\u001b[1;33m \u001b[0my\u001b[0m \u001b[1;33m=\u001b[0m \u001b[0mx\u001b[0m \u001b[1;33m+\u001b[0m \u001b[1;36m5\u001b[0m\u001b[1;33m\u001b[0m\u001b[1;33m\u001b[0m\u001b[0m\n\u001b[0m\u001b[0;32m      2\u001b[0m \u001b[0my\u001b[0m\u001b[1;33m\u001b[0m\u001b[1;33m\u001b[0m\u001b[0m\n",
      "\u001b[1;31mNameError\u001b[0m: name 'x' is not defined"
     ]
    }
   ],
   "source": [
    "y = x + 5\n",
    "y"
   ]
  },
  {
   "cell_type": "code",
   "execution_count": 27,
   "id": "1096f37c",
   "metadata": {},
   "outputs": [
    {
     "ename": "SyntaxError",
     "evalue": "invalid syntax (Temp/ipykernel_1964/1426782515.py, line 1)",
     "output_type": "error",
     "traceback": [
      "\u001b[1;36m  File \u001b[1;32m\"C:\\Users\\aluga.com\\AppData\\Local\\Temp/ipykernel_1964/1426782515.py\"\u001b[1;36m, line \u001b[1;32m1\u001b[0m\n\u001b[1;33m    Através da biblioteca builtins nós temos acesso a vários tipos de erros\u001b[0m\n\u001b[1;37m            ^\u001b[0m\n\u001b[1;31mSyntaxError\u001b[0m\u001b[1;31m:\u001b[0m invalid syntax\n"
     ]
    }
   ],
   "source": [
    "Através da biblioteca builtins nós temos acesso a vários tipos de erros"
   ]
  },
  {
   "cell_type": "markdown",
   "id": "b61492f0",
   "metadata": {},
   "source": [
    "Através da biblioteca builtins nós temos acesso a vários tipos de erros"
   ]
  },
  {
   "cell_type": "code",
   "execution_count": 98,
   "id": "bbf27956",
   "metadata": {},
   "outputs": [],
   "source": [
    "import builtins"
   ]
  },
  {
   "cell_type": "code",
   "execution_count": 99,
   "id": "8e0fed97",
   "metadata": {},
   "outputs": [
    {
     "name": "stdout",
     "output_type": "stream",
     "text": [
      "Help on built-in module builtins:\n",
      "\n",
      "NAME\n",
      "    builtins - Built-in functions, exceptions, and other objects.\n",
      "\n",
      "DESCRIPTION\n",
      "    Noteworthy: None is the `nil' object; Ellipsis represents `...' in slices.\n",
      "\n",
      "CLASSES\n",
      "    object\n",
      "        BaseException\n",
      "            Exception\n",
      "                ArithmeticError\n",
      "                    FloatingPointError\n",
      "                    OverflowError\n",
      "                    ZeroDivisionError\n",
      "                AssertionError\n",
      "                AttributeError\n",
      "                BufferError\n",
      "                EOFError\n",
      "                ImportError\n",
      "                    ModuleNotFoundError\n",
      "                LookupError\n",
      "                    IndexError\n",
      "                    KeyError\n",
      "                MemoryError\n",
      "                NameError\n",
      "                    UnboundLocalError\n",
      "                OSError\n",
      "                    BlockingIOError\n",
      "                    ChildProcessError\n",
      "                    ConnectionError\n",
      "                        BrokenPipeError\n",
      "                        ConnectionAbortedError\n",
      "                        ConnectionRefusedError\n",
      "                        ConnectionResetError\n",
      "                    FileExistsError\n",
      "                    FileNotFoundError\n",
      "                    InterruptedError\n",
      "                    IsADirectoryError\n",
      "                    NotADirectoryError\n",
      "                    PermissionError\n",
      "                    ProcessLookupError\n",
      "                    TimeoutError\n",
      "                ReferenceError\n",
      "                RuntimeError\n",
      "                    NotImplementedError\n",
      "                    RecursionError\n",
      "                StopAsyncIteration\n",
      "                StopIteration\n",
      "                SyntaxError\n",
      "                    IndentationError\n",
      "                        TabError\n",
      "                SystemError\n",
      "                TypeError\n",
      "                ValueError\n",
      "                    UnicodeError\n",
      "                        UnicodeDecodeError\n",
      "                        UnicodeEncodeError\n",
      "                        UnicodeTranslateError\n",
      "                Warning\n",
      "                    BytesWarning\n",
      "                    DeprecationWarning\n",
      "                    FutureWarning\n",
      "                    ImportWarning\n",
      "                    PendingDeprecationWarning\n",
      "                    ResourceWarning\n",
      "                    RuntimeWarning\n",
      "                    SyntaxWarning\n",
      "                    UnicodeWarning\n",
      "                    UserWarning\n",
      "            GeneratorExit\n",
      "            KeyboardInterrupt\n",
      "            SystemExit\n",
      "        bytearray\n",
      "        bytes\n",
      "        classmethod\n",
      "        complex\n",
      "        dict\n",
      "        enumerate\n",
      "        filter\n",
      "        float\n",
      "        frozenset\n",
      "        int\n",
      "            bool\n",
      "        list\n",
      "        map\n",
      "        memoryview\n",
      "        property\n",
      "        range\n",
      "        reversed\n",
      "        set\n",
      "        slice\n",
      "        staticmethod\n",
      "        str\n",
      "        super\n",
      "        tuple\n",
      "        type\n",
      "        zip\n",
      "    \n",
      "    class ArithmeticError(Exception)\n",
      "     |  Base class for arithmetic errors.\n",
      "     |  \n",
      "     |  Method resolution order:\n",
      "     |      ArithmeticError\n",
      "     |      Exception\n",
      "     |      BaseException\n",
      "     |      object\n",
      "     |  \n",
      "     |  Built-in subclasses:\n",
      "     |      FloatingPointError\n",
      "     |      OverflowError\n",
      "     |      ZeroDivisionError\n",
      "     |  \n",
      "     |  Methods defined here:\n",
      "     |  \n",
      "     |  __init__(self, /, *args, **kwargs)\n",
      "     |      Initialize self.  See help(type(self)) for accurate signature.\n",
      "     |  \n",
      "     |  ----------------------------------------------------------------------\n",
      "     |  Static methods defined here:\n",
      "     |  \n",
      "     |  __new__(*args, **kwargs) from type\n",
      "     |      Create and return a new object.  See help(type) for accurate signature.\n",
      "     |  \n",
      "     |  ----------------------------------------------------------------------\n",
      "     |  Methods inherited from BaseException:\n",
      "     |  \n",
      "     |  __delattr__(self, name, /)\n",
      "     |      Implement delattr(self, name).\n",
      "     |  \n",
      "     |  __getattribute__(self, name, /)\n",
      "     |      Return getattr(self, name).\n",
      "     |  \n",
      "     |  __reduce__(...)\n",
      "     |      Helper for pickle.\n",
      "     |  \n",
      "     |  __repr__(self, /)\n",
      "     |      Return repr(self).\n",
      "     |  \n",
      "     |  __setattr__(self, name, value, /)\n",
      "     |      Implement setattr(self, name, value).\n",
      "     |  \n",
      "     |  __setstate__(...)\n",
      "     |  \n",
      "     |  __str__(self, /)\n",
      "     |      Return str(self).\n",
      "     |  \n",
      "     |  with_traceback(...)\n",
      "     |      Exception.with_traceback(tb) --\n",
      "     |      set self.__traceback__ to tb and return self.\n",
      "     |  \n",
      "     |  ----------------------------------------------------------------------\n",
      "     |  Data descriptors inherited from BaseException:\n",
      "     |  \n",
      "     |  __cause__\n",
      "     |      exception cause\n",
      "     |  \n",
      "     |  __context__\n",
      "     |      exception context\n",
      "     |  \n",
      "     |  __dict__\n",
      "     |  \n",
      "     |  __suppress_context__\n",
      "     |  \n",
      "     |  __traceback__\n",
      "     |  \n",
      "     |  args\n",
      "    \n",
      "    class AssertionError(Exception)\n",
      "     |  Assertion failed.\n",
      "     |  \n",
      "     |  Method resolution order:\n",
      "     |      AssertionError\n",
      "     |      Exception\n",
      "     |      BaseException\n",
      "     |      object\n",
      "     |  \n",
      "     |  Methods defined here:\n",
      "     |  \n",
      "     |  __init__(self, /, *args, **kwargs)\n",
      "     |      Initialize self.  See help(type(self)) for accurate signature.\n",
      "     |  \n",
      "     |  ----------------------------------------------------------------------\n",
      "     |  Static methods defined here:\n",
      "     |  \n",
      "     |  __new__(*args, **kwargs) from type\n",
      "     |      Create and return a new object.  See help(type) for accurate signature.\n",
      "     |  \n",
      "     |  ----------------------------------------------------------------------\n",
      "     |  Methods inherited from BaseException:\n",
      "     |  \n",
      "     |  __delattr__(self, name, /)\n",
      "     |      Implement delattr(self, name).\n",
      "     |  \n",
      "     |  __getattribute__(self, name, /)\n",
      "     |      Return getattr(self, name).\n",
      "     |  \n",
      "     |  __reduce__(...)\n",
      "     |      Helper for pickle.\n",
      "     |  \n",
      "     |  __repr__(self, /)\n",
      "     |      Return repr(self).\n",
      "     |  \n",
      "     |  __setattr__(self, name, value, /)\n",
      "     |      Implement setattr(self, name, value).\n",
      "     |  \n",
      "     |  __setstate__(...)\n",
      "     |  \n",
      "     |  __str__(self, /)\n",
      "     |      Return str(self).\n",
      "     |  \n",
      "     |  with_traceback(...)\n",
      "     |      Exception.with_traceback(tb) --\n",
      "     |      set self.__traceback__ to tb and return self.\n",
      "     |  \n",
      "     |  ----------------------------------------------------------------------\n",
      "     |  Data descriptors inherited from BaseException:\n",
      "     |  \n",
      "     |  __cause__\n",
      "     |      exception cause\n",
      "     |  \n",
      "     |  __context__\n",
      "     |      exception context\n",
      "     |  \n",
      "     |  __dict__\n",
      "     |  \n",
      "     |  __suppress_context__\n",
      "     |  \n",
      "     |  __traceback__\n",
      "     |  \n",
      "     |  args\n",
      "    \n",
      "    class AttributeError(Exception)\n",
      "     |  Attribute not found.\n",
      "     |  \n",
      "     |  Method resolution order:\n",
      "     |      AttributeError\n",
      "     |      Exception\n",
      "     |      BaseException\n",
      "     |      object\n",
      "     |  \n",
      "     |  Methods defined here:\n",
      "     |  \n",
      "     |  __init__(self, /, *args, **kwargs)\n",
      "     |      Initialize self.  See help(type(self)) for accurate signature.\n",
      "     |  \n",
      "     |  ----------------------------------------------------------------------\n",
      "     |  Static methods defined here:\n",
      "     |  \n",
      "     |  __new__(*args, **kwargs) from type\n",
      "     |      Create and return a new object.  See help(type) for accurate signature.\n",
      "     |  \n",
      "     |  ----------------------------------------------------------------------\n",
      "     |  Methods inherited from BaseException:\n",
      "     |  \n",
      "     |  __delattr__(self, name, /)\n",
      "     |      Implement delattr(self, name).\n",
      "     |  \n",
      "     |  __getattribute__(self, name, /)\n",
      "     |      Return getattr(self, name).\n",
      "     |  \n",
      "     |  __reduce__(...)\n",
      "     |      Helper for pickle.\n",
      "     |  \n",
      "     |  __repr__(self, /)\n",
      "     |      Return repr(self).\n",
      "     |  \n",
      "     |  __setattr__(self, name, value, /)\n",
      "     |      Implement setattr(self, name, value).\n",
      "     |  \n",
      "     |  __setstate__(...)\n",
      "     |  \n",
      "     |  __str__(self, /)\n",
      "     |      Return str(self).\n",
      "     |  \n",
      "     |  with_traceback(...)\n",
      "     |      Exception.with_traceback(tb) --\n",
      "     |      set self.__traceback__ to tb and return self.\n",
      "     |  \n",
      "     |  ----------------------------------------------------------------------\n",
      "     |  Data descriptors inherited from BaseException:\n",
      "     |  \n",
      "     |  __cause__\n",
      "     |      exception cause\n",
      "     |  \n",
      "     |  __context__\n",
      "     |      exception context\n",
      "     |  \n",
      "     |  __dict__\n",
      "     |  \n",
      "     |  __suppress_context__\n",
      "     |  \n",
      "     |  __traceback__\n",
      "     |  \n",
      "     |  args\n",
      "    \n",
      "    class BaseException(object)\n",
      "     |  Common base class for all exceptions\n",
      "     |  \n",
      "     |  Built-in subclasses:\n",
      "     |      Exception\n",
      "     |      GeneratorExit\n",
      "     |      KeyboardInterrupt\n",
      "     |      SystemExit\n",
      "     |  \n",
      "     |  Methods defined here:\n",
      "     |  \n",
      "     |  __delattr__(self, name, /)\n",
      "     |      Implement delattr(self, name).\n",
      "     |  \n",
      "     |  __getattribute__(self, name, /)\n",
      "     |      Return getattr(self, name).\n",
      "     |  \n",
      "     |  __init__(self, /, *args, **kwargs)\n",
      "     |      Initialize self.  See help(type(self)) for accurate signature.\n",
      "     |  \n",
      "     |  __reduce__(...)\n",
      "     |      Helper for pickle.\n",
      "     |  \n",
      "     |  __repr__(self, /)\n",
      "     |      Return repr(self).\n",
      "     |  \n",
      "     |  __setattr__(self, name, value, /)\n",
      "     |      Implement setattr(self, name, value).\n",
      "     |  \n",
      "     |  __setstate__(...)\n",
      "     |  \n",
      "     |  __str__(self, /)\n",
      "     |      Return str(self).\n",
      "     |  \n",
      "     |  with_traceback(...)\n",
      "     |      Exception.with_traceback(tb) --\n",
      "     |      set self.__traceback__ to tb and return self.\n",
      "     |  \n",
      "     |  ----------------------------------------------------------------------\n",
      "     |  Static methods defined here:\n",
      "     |  \n",
      "     |  __new__(*args, **kwargs) from type\n",
      "     |      Create and return a new object.  See help(type) for accurate signature.\n",
      "     |  \n",
      "     |  ----------------------------------------------------------------------\n",
      "     |  Data descriptors defined here:\n",
      "     |  \n",
      "     |  __cause__\n",
      "     |      exception cause\n",
      "     |  \n",
      "     |  __context__\n",
      "     |      exception context\n",
      "     |  \n",
      "     |  __dict__\n",
      "     |  \n",
      "     |  __suppress_context__\n",
      "     |  \n",
      "     |  __traceback__\n",
      "     |  \n",
      "     |  args\n",
      "    \n",
      "    class BlockingIOError(OSError)\n",
      "     |  I/O operation would block.\n",
      "     |  \n",
      "     |  Method resolution order:\n",
      "     |      BlockingIOError\n",
      "     |      OSError\n",
      "     |      Exception\n",
      "     |      BaseException\n",
      "     |      object\n",
      "     |  \n",
      "     |  Methods defined here:\n",
      "     |  \n",
      "     |  __init__(self, /, *args, **kwargs)\n",
      "     |      Initialize self.  See help(type(self)) for accurate signature.\n",
      "     |  \n",
      "     |  ----------------------------------------------------------------------\n",
      "     |  Methods inherited from OSError:\n",
      "     |  \n",
      "     |  __reduce__(...)\n",
      "     |      Helper for pickle.\n",
      "     |  \n",
      "     |  __str__(self, /)\n",
      "     |      Return str(self).\n",
      "     |  \n",
      "     |  ----------------------------------------------------------------------\n",
      "     |  Static methods inherited from OSError:\n",
      "     |  \n",
      "     |  __new__(*args, **kwargs) from type\n",
      "     |      Create and return a new object.  See help(type) for accurate signature.\n",
      "     |  \n",
      "     |  ----------------------------------------------------------------------\n",
      "     |  Data descriptors inherited from OSError:\n",
      "     |  \n",
      "     |  characters_written\n",
      "     |  \n",
      "     |  errno\n",
      "     |      POSIX exception code\n",
      "     |  \n",
      "     |  filename\n",
      "     |      exception filename\n",
      "     |  \n",
      "     |  filename2\n",
      "     |      second exception filename\n",
      "     |  \n",
      "     |  strerror\n",
      "     |      exception strerror\n",
      "     |  \n",
      "     |  winerror\n",
      "     |      Win32 exception code\n",
      "     |  \n",
      "     |  ----------------------------------------------------------------------\n",
      "     |  Methods inherited from BaseException:\n",
      "     |  \n",
      "     |  __delattr__(self, name, /)\n",
      "     |      Implement delattr(self, name).\n",
      "     |  \n",
      "     |  __getattribute__(self, name, /)\n",
      "     |      Return getattr(self, name).\n",
      "     |  \n",
      "     |  __repr__(self, /)\n",
      "     |      Return repr(self).\n",
      "     |  \n",
      "     |  __setattr__(self, name, value, /)\n",
      "     |      Implement setattr(self, name, value).\n",
      "     |  \n",
      "     |  __setstate__(...)\n",
      "     |  \n",
      "     |  with_traceback(...)\n",
      "     |      Exception.with_traceback(tb) --\n",
      "     |      set self.__traceback__ to tb and return self.\n",
      "     |  \n",
      "     |  ----------------------------------------------------------------------\n",
      "     |  Data descriptors inherited from BaseException:\n",
      "     |  \n",
      "     |  __cause__\n",
      "     |      exception cause\n",
      "     |  \n",
      "     |  __context__\n",
      "     |      exception context\n",
      "     |  \n",
      "     |  __dict__\n",
      "     |  \n",
      "     |  __suppress_context__\n",
      "     |  \n",
      "     |  __traceback__\n",
      "     |  \n",
      "     |  args\n",
      "    \n",
      "    class BrokenPipeError(ConnectionError)\n",
      "     |  Broken pipe.\n",
      "     |  \n",
      "     |  Method resolution order:\n",
      "     |      BrokenPipeError\n",
      "     |      ConnectionError\n",
      "     |      OSError\n",
      "     |      Exception\n",
      "     |      BaseException\n",
      "     |      object\n",
      "     |  \n",
      "     |  Methods defined here:\n",
      "     |  \n",
      "     |  __init__(self, /, *args, **kwargs)\n",
      "     |      Initialize self.  See help(type(self)) for accurate signature.\n",
      "     |  \n",
      "     |  ----------------------------------------------------------------------\n",
      "     |  Methods inherited from OSError:\n",
      "     |  \n",
      "     |  __reduce__(...)\n",
      "     |      Helper for pickle.\n",
      "     |  \n",
      "     |  __str__(self, /)\n",
      "     |      Return str(self).\n",
      "     |  \n",
      "     |  ----------------------------------------------------------------------\n",
      "     |  Static methods inherited from OSError:\n",
      "     |  \n",
      "     |  __new__(*args, **kwargs) from type\n",
      "     |      Create and return a new object.  See help(type) for accurate signature.\n",
      "     |  \n",
      "     |  ----------------------------------------------------------------------\n",
      "     |  Data descriptors inherited from OSError:\n",
      "     |  \n",
      "     |  characters_written\n",
      "     |  \n",
      "     |  errno\n",
      "     |      POSIX exception code\n",
      "     |  \n",
      "     |  filename\n",
      "     |      exception filename\n",
      "     |  \n",
      "     |  filename2\n",
      "     |      second exception filename\n",
      "     |  \n",
      "     |  strerror\n",
      "     |      exception strerror\n",
      "     |  \n",
      "     |  winerror\n",
      "     |      Win32 exception code\n",
      "     |  \n",
      "     |  ----------------------------------------------------------------------\n",
      "     |  Methods inherited from BaseException:\n",
      "     |  \n",
      "     |  __delattr__(self, name, /)\n",
      "     |      Implement delattr(self, name).\n",
      "     |  \n",
      "     |  __getattribute__(self, name, /)\n",
      "     |      Return getattr(self, name).\n",
      "     |  \n",
      "     |  __repr__(self, /)\n",
      "     |      Return repr(self).\n",
      "     |  \n",
      "     |  __setattr__(self, name, value, /)\n",
      "     |      Implement setattr(self, name, value).\n",
      "     |  \n",
      "     |  __setstate__(...)\n",
      "     |  \n",
      "     |  with_traceback(...)\n",
      "     |      Exception.with_traceback(tb) --\n",
      "     |      set self.__traceback__ to tb and return self.\n",
      "     |  \n",
      "     |  ----------------------------------------------------------------------\n",
      "     |  Data descriptors inherited from BaseException:\n",
      "     |  \n",
      "     |  __cause__\n",
      "     |      exception cause\n",
      "     |  \n",
      "     |  __context__\n",
      "     |      exception context\n",
      "     |  \n",
      "     |  __dict__\n",
      "     |  \n",
      "     |  __suppress_context__\n",
      "     |  \n",
      "     |  __traceback__\n",
      "     |  \n",
      "     |  args\n",
      "    \n",
      "    class BufferError(Exception)\n",
      "     |  Buffer error.\n",
      "     |  \n",
      "     |  Method resolution order:\n",
      "     |      BufferError\n",
      "     |      Exception\n",
      "     |      BaseException\n",
      "     |      object\n",
      "     |  \n",
      "     |  Methods defined here:\n",
      "     |  \n",
      "     |  __init__(self, /, *args, **kwargs)\n",
      "     |      Initialize self.  See help(type(self)) for accurate signature.\n",
      "     |  \n",
      "     |  ----------------------------------------------------------------------\n",
      "     |  Static methods defined here:\n",
      "     |  \n",
      "     |  __new__(*args, **kwargs) from type\n",
      "     |      Create and return a new object.  See help(type) for accurate signature.\n",
      "     |  \n",
      "     |  ----------------------------------------------------------------------\n",
      "     |  Methods inherited from BaseException:\n",
      "     |  \n",
      "     |  __delattr__(self, name, /)\n",
      "     |      Implement delattr(self, name).\n",
      "     |  \n",
      "     |  __getattribute__(self, name, /)\n",
      "     |      Return getattr(self, name).\n",
      "     |  \n",
      "     |  __reduce__(...)\n",
      "     |      Helper for pickle.\n",
      "     |  \n",
      "     |  __repr__(self, /)\n",
      "     |      Return repr(self).\n",
      "     |  \n",
      "     |  __setattr__(self, name, value, /)\n",
      "     |      Implement setattr(self, name, value).\n",
      "     |  \n",
      "     |  __setstate__(...)\n",
      "     |  \n",
      "     |  __str__(self, /)\n",
      "     |      Return str(self).\n",
      "     |  \n",
      "     |  with_traceback(...)\n",
      "     |      Exception.with_traceback(tb) --\n",
      "     |      set self.__traceback__ to tb and return self.\n",
      "     |  \n",
      "     |  ----------------------------------------------------------------------\n",
      "     |  Data descriptors inherited from BaseException:\n",
      "     |  \n",
      "     |  __cause__\n",
      "     |      exception cause\n",
      "     |  \n",
      "     |  __context__\n",
      "     |      exception context\n",
      "     |  \n",
      "     |  __dict__\n",
      "     |  \n",
      "     |  __suppress_context__\n",
      "     |  \n",
      "     |  __traceback__\n",
      "     |  \n",
      "     |  args\n",
      "    \n",
      "    class BytesWarning(Warning)\n",
      "     |  Base class for warnings about bytes and buffer related problems, mostly\n",
      "     |  related to conversion from str or comparing to str.\n",
      "     |  \n",
      "     |  Method resolution order:\n",
      "     |      BytesWarning\n",
      "     |      Warning\n",
      "     |      Exception\n",
      "     |      BaseException\n",
      "     |      object\n",
      "     |  \n",
      "     |  Methods defined here:\n",
      "     |  \n",
      "     |  __init__(self, /, *args, **kwargs)\n",
      "     |      Initialize self.  See help(type(self)) for accurate signature.\n",
      "     |  \n",
      "     |  ----------------------------------------------------------------------\n",
      "     |  Static methods defined here:\n",
      "     |  \n",
      "     |  __new__(*args, **kwargs) from type\n",
      "     |      Create and return a new object.  See help(type) for accurate signature.\n",
      "     |  \n",
      "     |  ----------------------------------------------------------------------\n",
      "     |  Methods inherited from BaseException:\n",
      "     |  \n",
      "     |  __delattr__(self, name, /)\n",
      "     |      Implement delattr(self, name).\n",
      "     |  \n",
      "     |  __getattribute__(self, name, /)\n",
      "     |      Return getattr(self, name).\n",
      "     |  \n",
      "     |  __reduce__(...)\n",
      "     |      Helper for pickle.\n",
      "     |  \n",
      "     |  __repr__(self, /)\n",
      "     |      Return repr(self).\n",
      "     |  \n",
      "     |  __setattr__(self, name, value, /)\n",
      "     |      Implement setattr(self, name, value).\n",
      "     |  \n",
      "     |  __setstate__(...)\n",
      "     |  \n",
      "     |  __str__(self, /)\n",
      "     |      Return str(self).\n",
      "     |  \n",
      "     |  with_traceback(...)\n",
      "     |      Exception.with_traceback(tb) --\n",
      "     |      set self.__traceback__ to tb and return self.\n",
      "     |  \n",
      "     |  ----------------------------------------------------------------------\n",
      "     |  Data descriptors inherited from BaseException:\n",
      "     |  \n",
      "     |  __cause__\n",
      "     |      exception cause\n",
      "     |  \n",
      "     |  __context__\n",
      "     |      exception context\n",
      "     |  \n",
      "     |  __dict__\n",
      "     |  \n",
      "     |  __suppress_context__\n",
      "     |  \n",
      "     |  __traceback__\n",
      "     |  \n",
      "     |  args\n",
      "    \n",
      "    class ChildProcessError(OSError)\n",
      "     |  Child process error.\n",
      "     |  \n",
      "     |  Method resolution order:\n",
      "     |      ChildProcessError\n",
      "     |      OSError\n",
      "     |      Exception\n",
      "     |      BaseException\n",
      "     |      object\n",
      "     |  \n",
      "     |  Methods defined here:\n",
      "     |  \n",
      "     |  __init__(self, /, *args, **kwargs)\n",
      "     |      Initialize self.  See help(type(self)) for accurate signature.\n",
      "     |  \n",
      "     |  ----------------------------------------------------------------------\n",
      "     |  Methods inherited from OSError:\n",
      "     |  \n",
      "     |  __reduce__(...)\n",
      "     |      Helper for pickle.\n",
      "     |  \n",
      "     |  __str__(self, /)\n",
      "     |      Return str(self).\n",
      "     |  \n",
      "     |  ----------------------------------------------------------------------\n",
      "     |  Static methods inherited from OSError:\n",
      "     |  \n",
      "     |  __new__(*args, **kwargs) from type\n",
      "     |      Create and return a new object.  See help(type) for accurate signature.\n",
      "     |  \n",
      "     |  ----------------------------------------------------------------------\n",
      "     |  Data descriptors inherited from OSError:\n",
      "     |  \n",
      "     |  characters_written\n",
      "     |  \n",
      "     |  errno\n",
      "     |      POSIX exception code\n",
      "     |  \n",
      "     |  filename\n",
      "     |      exception filename\n",
      "     |  \n",
      "     |  filename2\n",
      "     |      second exception filename\n",
      "     |  \n",
      "     |  strerror\n",
      "     |      exception strerror\n",
      "     |  \n",
      "     |  winerror\n",
      "     |      Win32 exception code\n",
      "     |  \n",
      "     |  ----------------------------------------------------------------------\n",
      "     |  Methods inherited from BaseException:\n",
      "     |  \n",
      "     |  __delattr__(self, name, /)\n",
      "     |      Implement delattr(self, name).\n",
      "     |  \n",
      "     |  __getattribute__(self, name, /)\n",
      "     |      Return getattr(self, name).\n",
      "     |  \n",
      "     |  __repr__(self, /)\n",
      "     |      Return repr(self).\n",
      "     |  \n",
      "     |  __setattr__(self, name, value, /)\n",
      "     |      Implement setattr(self, name, value).\n",
      "     |  \n",
      "     |  __setstate__(...)\n",
      "     |  \n",
      "     |  with_traceback(...)\n",
      "     |      Exception.with_traceback(tb) --\n",
      "     |      set self.__traceback__ to tb and return self.\n",
      "     |  \n",
      "     |  ----------------------------------------------------------------------\n",
      "     |  Data descriptors inherited from BaseException:\n",
      "     |  \n",
      "     |  __cause__\n",
      "     |      exception cause\n",
      "     |  \n",
      "     |  __context__\n",
      "     |      exception context\n",
      "     |  \n",
      "     |  __dict__\n",
      "     |  \n",
      "     |  __suppress_context__\n",
      "     |  \n",
      "     |  __traceback__\n",
      "     |  \n",
      "     |  args\n",
      "    \n",
      "    class ConnectionAbortedError(ConnectionError)\n",
      "     |  Connection aborted.\n",
      "     |  \n",
      "     |  Method resolution order:\n",
      "     |      ConnectionAbortedError\n",
      "     |      ConnectionError\n",
      "     |      OSError\n",
      "     |      Exception\n",
      "     |      BaseException\n",
      "     |      object\n",
      "     |  \n",
      "     |  Methods defined here:\n",
      "     |  \n",
      "     |  __init__(self, /, *args, **kwargs)\n",
      "     |      Initialize self.  See help(type(self)) for accurate signature.\n",
      "     |  \n",
      "     |  ----------------------------------------------------------------------\n",
      "     |  Methods inherited from OSError:\n",
      "     |  \n",
      "     |  __reduce__(...)\n",
      "     |      Helper for pickle.\n",
      "     |  \n",
      "     |  __str__(self, /)\n",
      "     |      Return str(self).\n",
      "     |  \n",
      "     |  ----------------------------------------------------------------------\n",
      "     |  Static methods inherited from OSError:\n",
      "     |  \n",
      "     |  __new__(*args, **kwargs) from type\n",
      "     |      Create and return a new object.  See help(type) for accurate signature.\n",
      "     |  \n",
      "     |  ----------------------------------------------------------------------\n",
      "     |  Data descriptors inherited from OSError:\n",
      "     |  \n",
      "     |  characters_written\n",
      "     |  \n",
      "     |  errno\n",
      "     |      POSIX exception code\n",
      "     |  \n",
      "     |  filename\n",
      "     |      exception filename\n",
      "     |  \n",
      "     |  filename2\n",
      "     |      second exception filename\n",
      "     |  \n",
      "     |  strerror\n",
      "     |      exception strerror\n",
      "     |  \n",
      "     |  winerror\n",
      "     |      Win32 exception code\n",
      "     |  \n",
      "     |  ----------------------------------------------------------------------\n",
      "     |  Methods inherited from BaseException:\n",
      "     |  \n",
      "     |  __delattr__(self, name, /)\n",
      "     |      Implement delattr(self, name).\n",
      "     |  \n",
      "     |  __getattribute__(self, name, /)\n",
      "     |      Return getattr(self, name).\n",
      "     |  \n",
      "     |  __repr__(self, /)\n",
      "     |      Return repr(self).\n",
      "     |  \n",
      "     |  __setattr__(self, name, value, /)\n",
      "     |      Implement setattr(self, name, value).\n",
      "     |  \n",
      "     |  __setstate__(...)\n",
      "     |  \n",
      "     |  with_traceback(...)\n",
      "     |      Exception.with_traceback(tb) --\n",
      "     |      set self.__traceback__ to tb and return self.\n",
      "     |  \n",
      "     |  ----------------------------------------------------------------------\n",
      "     |  Data descriptors inherited from BaseException:\n",
      "     |  \n",
      "     |  __cause__\n",
      "     |      exception cause\n",
      "     |  \n",
      "     |  __context__\n",
      "     |      exception context\n",
      "     |  \n",
      "     |  __dict__\n",
      "     |  \n",
      "     |  __suppress_context__\n",
      "     |  \n",
      "     |  __traceback__\n",
      "     |  \n",
      "     |  args\n",
      "    \n",
      "    class ConnectionError(OSError)\n",
      "     |  Connection error.\n",
      "     |  \n",
      "     |  Method resolution order:\n",
      "     |      ConnectionError\n",
      "     |      OSError\n",
      "     |      Exception\n",
      "     |      BaseException\n",
      "     |      object\n",
      "     |  \n",
      "     |  Built-in subclasses:\n",
      "     |      BrokenPipeError\n",
      "     |      ConnectionAbortedError\n",
      "     |      ConnectionRefusedError\n",
      "     |      ConnectionResetError\n",
      "     |  \n",
      "     |  Methods defined here:\n",
      "     |  \n",
      "     |  __init__(self, /, *args, **kwargs)\n",
      "     |      Initialize self.  See help(type(self)) for accurate signature.\n",
      "     |  \n",
      "     |  ----------------------------------------------------------------------\n",
      "     |  Methods inherited from OSError:\n",
      "     |  \n",
      "     |  __reduce__(...)\n",
      "     |      Helper for pickle.\n",
      "     |  \n",
      "     |  __str__(self, /)\n",
      "     |      Return str(self).\n",
      "     |  \n",
      "     |  ----------------------------------------------------------------------\n",
      "     |  Static methods inherited from OSError:\n",
      "     |  \n",
      "     |  __new__(*args, **kwargs) from type\n",
      "     |      Create and return a new object.  See help(type) for accurate signature.\n",
      "     |  \n",
      "     |  ----------------------------------------------------------------------\n",
      "     |  Data descriptors inherited from OSError:\n",
      "     |  \n",
      "     |  characters_written\n",
      "     |  \n",
      "     |  errno\n",
      "     |      POSIX exception code\n",
      "     |  \n",
      "     |  filename\n",
      "     |      exception filename\n",
      "     |  \n",
      "     |  filename2\n",
      "     |      second exception filename\n",
      "     |  \n",
      "     |  strerror\n",
      "     |      exception strerror\n",
      "     |  \n",
      "     |  winerror\n",
      "     |      Win32 exception code\n",
      "     |  \n",
      "     |  ----------------------------------------------------------------------\n",
      "     |  Methods inherited from BaseException:\n",
      "     |  \n",
      "     |  __delattr__(self, name, /)\n",
      "     |      Implement delattr(self, name).\n",
      "     |  \n",
      "     |  __getattribute__(self, name, /)\n",
      "     |      Return getattr(self, name).\n",
      "     |  \n",
      "     |  __repr__(self, /)\n",
      "     |      Return repr(self).\n",
      "     |  \n",
      "     |  __setattr__(self, name, value, /)\n",
      "     |      Implement setattr(self, name, value).\n",
      "     |  \n",
      "     |  __setstate__(...)\n",
      "     |  \n",
      "     |  with_traceback(...)\n",
      "     |      Exception.with_traceback(tb) --\n",
      "     |      set self.__traceback__ to tb and return self.\n",
      "     |  \n",
      "     |  ----------------------------------------------------------------------\n",
      "     |  Data descriptors inherited from BaseException:\n",
      "     |  \n",
      "     |  __cause__\n",
      "     |      exception cause\n",
      "     |  \n",
      "     |  __context__\n",
      "     |      exception context\n",
      "     |  \n",
      "     |  __dict__\n",
      "     |  \n",
      "     |  __suppress_context__\n",
      "     |  \n",
      "     |  __traceback__\n",
      "     |  \n",
      "     |  args\n",
      "    \n",
      "    class ConnectionRefusedError(ConnectionError)\n",
      "     |  Connection refused.\n",
      "     |  \n",
      "     |  Method resolution order:\n",
      "     |      ConnectionRefusedError\n",
      "     |      ConnectionError\n",
      "     |      OSError\n",
      "     |      Exception\n",
      "     |      BaseException\n",
      "     |      object\n",
      "     |  \n",
      "     |  Methods defined here:\n",
      "     |  \n",
      "     |  __init__(self, /, *args, **kwargs)\n",
      "     |      Initialize self.  See help(type(self)) for accurate signature.\n",
      "     |  \n",
      "     |  ----------------------------------------------------------------------\n",
      "     |  Methods inherited from OSError:\n",
      "     |  \n",
      "     |  __reduce__(...)\n",
      "     |      Helper for pickle.\n",
      "     |  \n",
      "     |  __str__(self, /)\n",
      "     |      Return str(self).\n",
      "     |  \n",
      "     |  ----------------------------------------------------------------------\n",
      "     |  Static methods inherited from OSError:\n",
      "     |  \n",
      "     |  __new__(*args, **kwargs) from type\n",
      "     |      Create and return a new object.  See help(type) for accurate signature.\n",
      "     |  \n",
      "     |  ----------------------------------------------------------------------\n",
      "     |  Data descriptors inherited from OSError:\n",
      "     |  \n",
      "     |  characters_written\n",
      "     |  \n",
      "     |  errno\n",
      "     |      POSIX exception code\n",
      "     |  \n",
      "     |  filename\n",
      "     |      exception filename\n",
      "     |  \n",
      "     |  filename2\n",
      "     |      second exception filename\n",
      "     |  \n",
      "     |  strerror\n",
      "     |      exception strerror\n",
      "     |  \n",
      "     |  winerror\n",
      "     |      Win32 exception code\n",
      "     |  \n",
      "     |  ----------------------------------------------------------------------\n",
      "     |  Methods inherited from BaseException:\n",
      "     |  \n",
      "     |  __delattr__(self, name, /)\n",
      "     |      Implement delattr(self, name).\n",
      "     |  \n",
      "     |  __getattribute__(self, name, /)\n",
      "     |      Return getattr(self, name).\n",
      "     |  \n",
      "     |  __repr__(self, /)\n",
      "     |      Return repr(self).\n",
      "     |  \n",
      "     |  __setattr__(self, name, value, /)\n",
      "     |      Implement setattr(self, name, value).\n",
      "     |  \n",
      "     |  __setstate__(...)\n",
      "     |  \n",
      "     |  with_traceback(...)\n",
      "     |      Exception.with_traceback(tb) --\n",
      "     |      set self.__traceback__ to tb and return self.\n",
      "     |  \n",
      "     |  ----------------------------------------------------------------------\n",
      "     |  Data descriptors inherited from BaseException:\n",
      "     |  \n",
      "     |  __cause__\n",
      "     |      exception cause\n",
      "     |  \n",
      "     |  __context__\n",
      "     |      exception context\n",
      "     |  \n",
      "     |  __dict__\n",
      "     |  \n",
      "     |  __suppress_context__\n",
      "     |  \n",
      "     |  __traceback__\n",
      "     |  \n",
      "     |  args\n",
      "    \n",
      "    class ConnectionResetError(ConnectionError)\n",
      "     |  Connection reset.\n",
      "     |  \n",
      "     |  Method resolution order:\n",
      "     |      ConnectionResetError\n",
      "     |      ConnectionError\n",
      "     |      OSError\n",
      "     |      Exception\n",
      "     |      BaseException\n",
      "     |      object\n",
      "     |  \n",
      "     |  Methods defined here:\n",
      "     |  \n",
      "     |  __init__(self, /, *args, **kwargs)\n",
      "     |      Initialize self.  See help(type(self)) for accurate signature.\n",
      "     |  \n",
      "     |  ----------------------------------------------------------------------\n",
      "     |  Methods inherited from OSError:\n",
      "     |  \n",
      "     |  __reduce__(...)\n",
      "     |      Helper for pickle.\n",
      "     |  \n",
      "     |  __str__(self, /)\n",
      "     |      Return str(self).\n",
      "     |  \n",
      "     |  ----------------------------------------------------------------------\n",
      "     |  Static methods inherited from OSError:\n",
      "     |  \n",
      "     |  __new__(*args, **kwargs) from type\n",
      "     |      Create and return a new object.  See help(type) for accurate signature.\n",
      "     |  \n",
      "     |  ----------------------------------------------------------------------\n",
      "     |  Data descriptors inherited from OSError:\n",
      "     |  \n",
      "     |  characters_written\n",
      "     |  \n",
      "     |  errno\n",
      "     |      POSIX exception code\n",
      "     |  \n",
      "     |  filename\n",
      "     |      exception filename\n",
      "     |  \n",
      "     |  filename2\n",
      "     |      second exception filename\n",
      "     |  \n",
      "     |  strerror\n",
      "     |      exception strerror\n",
      "     |  \n",
      "     |  winerror\n",
      "     |      Win32 exception code\n",
      "     |  \n",
      "     |  ----------------------------------------------------------------------\n",
      "     |  Methods inherited from BaseException:\n",
      "     |  \n",
      "     |  __delattr__(self, name, /)\n",
      "     |      Implement delattr(self, name).\n",
      "     |  \n",
      "     |  __getattribute__(self, name, /)\n",
      "     |      Return getattr(self, name).\n",
      "     |  \n",
      "     |  __repr__(self, /)\n",
      "     |      Return repr(self).\n",
      "     |  \n",
      "     |  __setattr__(self, name, value, /)\n",
      "     |      Implement setattr(self, name, value).\n",
      "     |  \n",
      "     |  __setstate__(...)\n",
      "     |  \n",
      "     |  with_traceback(...)\n",
      "     |      Exception.with_traceback(tb) --\n",
      "     |      set self.__traceback__ to tb and return self.\n",
      "     |  \n",
      "     |  ----------------------------------------------------------------------\n",
      "     |  Data descriptors inherited from BaseException:\n",
      "     |  \n",
      "     |  __cause__\n",
      "     |      exception cause\n",
      "     |  \n",
      "     |  __context__\n",
      "     |      exception context\n",
      "     |  \n",
      "     |  __dict__\n",
      "     |  \n",
      "     |  __suppress_context__\n",
      "     |  \n",
      "     |  __traceback__\n",
      "     |  \n",
      "     |  args\n",
      "    \n",
      "    class DeprecationWarning(Warning)\n",
      "     |  Base class for warnings about deprecated features.\n",
      "     |  \n",
      "     |  Method resolution order:\n",
      "     |      DeprecationWarning\n",
      "     |      Warning\n",
      "     |      Exception\n",
      "     |      BaseException\n",
      "     |      object\n",
      "     |  \n",
      "     |  Methods defined here:\n",
      "     |  \n",
      "     |  __init__(self, /, *args, **kwargs)\n",
      "     |      Initialize self.  See help(type(self)) for accurate signature.\n",
      "     |  \n",
      "     |  ----------------------------------------------------------------------\n",
      "     |  Static methods defined here:\n",
      "     |  \n",
      "     |  __new__(*args, **kwargs) from type\n",
      "     |      Create and return a new object.  See help(type) for accurate signature.\n",
      "     |  \n",
      "     |  ----------------------------------------------------------------------\n",
      "     |  Methods inherited from BaseException:\n",
      "     |  \n",
      "     |  __delattr__(self, name, /)\n",
      "     |      Implement delattr(self, name).\n",
      "     |  \n",
      "     |  __getattribute__(self, name, /)\n",
      "     |      Return getattr(self, name).\n",
      "     |  \n",
      "     |  __reduce__(...)\n",
      "     |      Helper for pickle.\n",
      "     |  \n",
      "     |  __repr__(self, /)\n",
      "     |      Return repr(self).\n",
      "     |  \n",
      "     |  __setattr__(self, name, value, /)\n",
      "     |      Implement setattr(self, name, value).\n",
      "     |  \n",
      "     |  __setstate__(...)\n",
      "     |  \n",
      "     |  __str__(self, /)\n",
      "     |      Return str(self).\n",
      "     |  \n",
      "     |  with_traceback(...)\n",
      "     |      Exception.with_traceback(tb) --\n",
      "     |      set self.__traceback__ to tb and return self.\n",
      "     |  \n",
      "     |  ----------------------------------------------------------------------\n",
      "     |  Data descriptors inherited from BaseException:\n",
      "     |  \n",
      "     |  __cause__\n",
      "     |      exception cause\n",
      "     |  \n",
      "     |  __context__\n",
      "     |      exception context\n",
      "     |  \n",
      "     |  __dict__\n",
      "     |  \n",
      "     |  __suppress_context__\n",
      "     |  \n",
      "     |  __traceback__\n",
      "     |  \n",
      "     |  args\n",
      "    \n",
      "    class EOFError(Exception)\n",
      "     |  Read beyond end of file.\n",
      "     |  \n",
      "     |  Method resolution order:\n",
      "     |      EOFError\n",
      "     |      Exception\n",
      "     |      BaseException\n",
      "     |      object\n",
      "     |  \n",
      "     |  Methods defined here:\n",
      "     |  \n",
      "     |  __init__(self, /, *args, **kwargs)\n",
      "     |      Initialize self.  See help(type(self)) for accurate signature.\n",
      "     |  \n",
      "     |  ----------------------------------------------------------------------\n",
      "     |  Static methods defined here:\n",
      "     |  \n",
      "     |  __new__(*args, **kwargs) from type\n",
      "     |      Create and return a new object.  See help(type) for accurate signature.\n",
      "     |  \n",
      "     |  ----------------------------------------------------------------------\n",
      "     |  Methods inherited from BaseException:\n",
      "     |  \n",
      "     |  __delattr__(self, name, /)\n",
      "     |      Implement delattr(self, name).\n",
      "     |  \n",
      "     |  __getattribute__(self, name, /)\n",
      "     |      Return getattr(self, name).\n",
      "     |  \n",
      "     |  __reduce__(...)\n",
      "     |      Helper for pickle.\n",
      "     |  \n",
      "     |  __repr__(self, /)\n",
      "     |      Return repr(self).\n",
      "     |  \n",
      "     |  __setattr__(self, name, value, /)\n",
      "     |      Implement setattr(self, name, value).\n",
      "     |  \n",
      "     |  __setstate__(...)\n",
      "     |  \n",
      "     |  __str__(self, /)\n",
      "     |      Return str(self).\n",
      "     |  \n",
      "     |  with_traceback(...)\n",
      "     |      Exception.with_traceback(tb) --\n",
      "     |      set self.__traceback__ to tb and return self.\n",
      "     |  \n",
      "     |  ----------------------------------------------------------------------\n",
      "     |  Data descriptors inherited from BaseException:\n",
      "     |  \n",
      "     |  __cause__\n",
      "     |      exception cause\n",
      "     |  \n",
      "     |  __context__\n",
      "     |      exception context\n",
      "     |  \n",
      "     |  __dict__\n",
      "     |  \n",
      "     |  __suppress_context__\n",
      "     |  \n",
      "     |  __traceback__\n",
      "     |  \n",
      "     |  args\n",
      "    \n",
      "    EnvironmentError = class OSError(Exception)\n",
      "     |  Base class for I/O related errors.\n",
      "     |  \n",
      "     |  Method resolution order:\n",
      "     |      OSError\n",
      "     |      Exception\n",
      "     |      BaseException\n",
      "     |      object\n",
      "     |  \n",
      "     |  Built-in subclasses:\n",
      "     |      BlockingIOError\n",
      "     |      ChildProcessError\n",
      "     |      ConnectionError\n",
      "     |      FileExistsError\n",
      "     |      ... and 7 other subclasses\n",
      "     |  \n",
      "     |  Methods defined here:\n",
      "     |  \n",
      "     |  __init__(self, /, *args, **kwargs)\n",
      "     |      Initialize self.  See help(type(self)) for accurate signature.\n",
      "     |  \n",
      "     |  __reduce__(...)\n",
      "     |      Helper for pickle.\n",
      "     |  \n",
      "     |  __str__(self, /)\n",
      "     |      Return str(self).\n",
      "     |  \n",
      "     |  ----------------------------------------------------------------------\n",
      "     |  Static methods defined here:\n",
      "     |  \n",
      "     |  __new__(*args, **kwargs) from type\n",
      "     |      Create and return a new object.  See help(type) for accurate signature.\n",
      "     |  \n",
      "     |  ----------------------------------------------------------------------\n",
      "     |  Data descriptors defined here:\n",
      "     |  \n",
      "     |  characters_written\n",
      "     |  \n",
      "     |  errno\n",
      "     |      POSIX exception code\n",
      "     |  \n",
      "     |  filename\n",
      "     |      exception filename\n",
      "     |  \n",
      "     |  filename2\n",
      "     |      second exception filename\n",
      "     |  \n",
      "     |  strerror\n",
      "     |      exception strerror\n",
      "     |  \n",
      "     |  winerror\n",
      "     |      Win32 exception code\n",
      "     |  \n",
      "     |  ----------------------------------------------------------------------\n",
      "     |  Methods inherited from BaseException:\n",
      "     |  \n",
      "     |  __delattr__(self, name, /)\n",
      "     |      Implement delattr(self, name).\n",
      "     |  \n",
      "     |  __getattribute__(self, name, /)\n",
      "     |      Return getattr(self, name).\n",
      "     |  \n",
      "     |  __repr__(self, /)\n",
      "     |      Return repr(self).\n",
      "     |  \n",
      "     |  __setattr__(self, name, value, /)\n",
      "     |      Implement setattr(self, name, value).\n",
      "     |  \n",
      "     |  __setstate__(...)\n",
      "     |  \n",
      "     |  with_traceback(...)\n",
      "     |      Exception.with_traceback(tb) --\n",
      "     |      set self.__traceback__ to tb and return self.\n",
      "     |  \n",
      "     |  ----------------------------------------------------------------------\n",
      "     |  Data descriptors inherited from BaseException:\n",
      "     |  \n",
      "     |  __cause__\n",
      "     |      exception cause\n",
      "     |  \n",
      "     |  __context__\n",
      "     |      exception context\n",
      "     |  \n",
      "     |  __dict__\n",
      "     |  \n",
      "     |  __suppress_context__\n",
      "     |  \n",
      "     |  __traceback__\n",
      "     |  \n",
      "     |  args\n",
      "    \n",
      "    class Exception(BaseException)\n",
      "     |  Common base class for all non-exit exceptions.\n",
      "     |  \n",
      "     |  Method resolution order:\n",
      "     |      Exception\n",
      "     |      BaseException\n",
      "     |      object\n",
      "     |  \n",
      "     |  Built-in subclasses:\n",
      "     |      ArithmeticError\n",
      "     |      AssertionError\n",
      "     |      AttributeError\n",
      "     |      BufferError\n",
      "     |      ... and 15 other subclasses\n",
      "     |  \n",
      "     |  Methods defined here:\n",
      "     |  \n",
      "     |  __init__(self, /, *args, **kwargs)\n",
      "     |      Initialize self.  See help(type(self)) for accurate signature.\n",
      "     |  \n",
      "     |  ----------------------------------------------------------------------\n",
      "     |  Static methods defined here:\n",
      "     |  \n",
      "     |  __new__(*args, **kwargs) from type\n",
      "     |      Create and return a new object.  See help(type) for accurate signature.\n",
      "     |  \n",
      "     |  ----------------------------------------------------------------------\n",
      "     |  Methods inherited from BaseException:\n",
      "     |  \n",
      "     |  __delattr__(self, name, /)\n",
      "     |      Implement delattr(self, name).\n",
      "     |  \n",
      "     |  __getattribute__(self, name, /)\n",
      "     |      Return getattr(self, name).\n",
      "     |  \n",
      "     |  __reduce__(...)\n",
      "     |      Helper for pickle.\n",
      "     |  \n",
      "     |  __repr__(self, /)\n",
      "     |      Return repr(self).\n",
      "     |  \n",
      "     |  __setattr__(self, name, value, /)\n",
      "     |      Implement setattr(self, name, value).\n",
      "     |  \n",
      "     |  __setstate__(...)\n",
      "     |  \n",
      "     |  __str__(self, /)\n",
      "     |      Return str(self).\n",
      "     |  \n",
      "     |  with_traceback(...)\n",
      "     |      Exception.with_traceback(tb) --\n",
      "     |      set self.__traceback__ to tb and return self.\n",
      "     |  \n",
      "     |  ----------------------------------------------------------------------\n",
      "     |  Data descriptors inherited from BaseException:\n",
      "     |  \n",
      "     |  __cause__\n",
      "     |      exception cause\n",
      "     |  \n",
      "     |  __context__\n",
      "     |      exception context\n",
      "     |  \n",
      "     |  __dict__\n",
      "     |  \n",
      "     |  __suppress_context__\n",
      "     |  \n",
      "     |  __traceback__\n",
      "     |  \n",
      "     |  args\n",
      "    \n",
      "    class FileExistsError(OSError)\n",
      "     |  File already exists.\n",
      "     |  \n",
      "     |  Method resolution order:\n",
      "     |      FileExistsError\n",
      "     |      OSError\n",
      "     |      Exception\n",
      "     |      BaseException\n",
      "     |      object\n",
      "     |  \n",
      "     |  Methods defined here:\n",
      "     |  \n",
      "     |  __init__(self, /, *args, **kwargs)\n",
      "     |      Initialize self.  See help(type(self)) for accurate signature.\n",
      "     |  \n",
      "     |  ----------------------------------------------------------------------\n",
      "     |  Methods inherited from OSError:\n",
      "     |  \n",
      "     |  __reduce__(...)\n",
      "     |      Helper for pickle.\n",
      "     |  \n",
      "     |  __str__(self, /)\n",
      "     |      Return str(self).\n",
      "     |  \n",
      "     |  ----------------------------------------------------------------------\n",
      "     |  Static methods inherited from OSError:\n",
      "     |  \n",
      "     |  __new__(*args, **kwargs) from type\n",
      "     |      Create and return a new object.  See help(type) for accurate signature.\n",
      "     |  \n",
      "     |  ----------------------------------------------------------------------\n",
      "     |  Data descriptors inherited from OSError:\n",
      "     |  \n",
      "     |  characters_written\n",
      "     |  \n",
      "     |  errno\n",
      "     |      POSIX exception code\n",
      "     |  \n",
      "     |  filename\n",
      "     |      exception filename\n",
      "     |  \n",
      "     |  filename2\n",
      "     |      second exception filename\n",
      "     |  \n",
      "     |  strerror\n",
      "     |      exception strerror\n",
      "     |  \n",
      "     |  winerror\n",
      "     |      Win32 exception code\n",
      "     |  \n",
      "     |  ----------------------------------------------------------------------\n",
      "     |  Methods inherited from BaseException:\n",
      "     |  \n",
      "     |  __delattr__(self, name, /)\n",
      "     |      Implement delattr(self, name).\n",
      "     |  \n",
      "     |  __getattribute__(self, name, /)\n",
      "     |      Return getattr(self, name).\n",
      "     |  \n",
      "     |  __repr__(self, /)\n",
      "     |      Return repr(self).\n",
      "     |  \n",
      "     |  __setattr__(self, name, value, /)\n",
      "     |      Implement setattr(self, name, value).\n",
      "     |  \n",
      "     |  __setstate__(...)\n",
      "     |  \n",
      "     |  with_traceback(...)\n",
      "     |      Exception.with_traceback(tb) --\n",
      "     |      set self.__traceback__ to tb and return self.\n",
      "     |  \n",
      "     |  ----------------------------------------------------------------------\n",
      "     |  Data descriptors inherited from BaseException:\n",
      "     |  \n",
      "     |  __cause__\n",
      "     |      exception cause\n",
      "     |  \n",
      "     |  __context__\n",
      "     |      exception context\n",
      "     |  \n",
      "     |  __dict__\n",
      "     |  \n",
      "     |  __suppress_context__\n",
      "     |  \n",
      "     |  __traceback__\n",
      "     |  \n",
      "     |  args\n",
      "    \n",
      "    class FileNotFoundError(OSError)\n",
      "     |  File not found.\n",
      "     |  \n",
      "     |  Method resolution order:\n",
      "     |      FileNotFoundError\n",
      "     |      OSError\n",
      "     |      Exception\n",
      "     |      BaseException\n",
      "     |      object\n",
      "     |  \n",
      "     |  Methods defined here:\n",
      "     |  \n",
      "     |  __init__(self, /, *args, **kwargs)\n",
      "     |      Initialize self.  See help(type(self)) for accurate signature.\n",
      "     |  \n",
      "     |  ----------------------------------------------------------------------\n",
      "     |  Methods inherited from OSError:\n",
      "     |  \n",
      "     |  __reduce__(...)\n",
      "     |      Helper for pickle.\n",
      "     |  \n",
      "     |  __str__(self, /)\n",
      "     |      Return str(self).\n",
      "     |  \n",
      "     |  ----------------------------------------------------------------------\n",
      "     |  Static methods inherited from OSError:\n",
      "     |  \n",
      "     |  __new__(*args, **kwargs) from type\n",
      "     |      Create and return a new object.  See help(type) for accurate signature.\n",
      "     |  \n",
      "     |  ----------------------------------------------------------------------\n",
      "     |  Data descriptors inherited from OSError:\n",
      "     |  \n",
      "     |  characters_written\n",
      "     |  \n",
      "     |  errno\n",
      "     |      POSIX exception code\n",
      "     |  \n",
      "     |  filename\n",
      "     |      exception filename\n",
      "     |  \n",
      "     |  filename2\n",
      "     |      second exception filename\n",
      "     |  \n",
      "     |  strerror\n",
      "     |      exception strerror\n",
      "     |  \n",
      "     |  winerror\n",
      "     |      Win32 exception code\n",
      "     |  \n",
      "     |  ----------------------------------------------------------------------\n",
      "     |  Methods inherited from BaseException:\n",
      "     |  \n",
      "     |  __delattr__(self, name, /)\n",
      "     |      Implement delattr(self, name).\n",
      "     |  \n",
      "     |  __getattribute__(self, name, /)\n",
      "     |      Return getattr(self, name).\n",
      "     |  \n",
      "     |  __repr__(self, /)\n",
      "     |      Return repr(self).\n",
      "     |  \n",
      "     |  __setattr__(self, name, value, /)\n",
      "     |      Implement setattr(self, name, value).\n",
      "     |  \n",
      "     |  __setstate__(...)\n",
      "     |  \n",
      "     |  with_traceback(...)\n",
      "     |      Exception.with_traceback(tb) --\n",
      "     |      set self.__traceback__ to tb and return self.\n",
      "     |  \n",
      "     |  ----------------------------------------------------------------------\n",
      "     |  Data descriptors inherited from BaseException:\n",
      "     |  \n",
      "     |  __cause__\n",
      "     |      exception cause\n",
      "     |  \n",
      "     |  __context__\n",
      "     |      exception context\n",
      "     |  \n",
      "     |  __dict__\n",
      "     |  \n",
      "     |  __suppress_context__\n",
      "     |  \n",
      "     |  __traceback__\n",
      "     |  \n",
      "     |  args\n",
      "    \n",
      "    class FloatingPointError(ArithmeticError)\n",
      "     |  Floating point operation failed.\n",
      "     |  \n",
      "     |  Method resolution order:\n",
      "     |      FloatingPointError\n",
      "     |      ArithmeticError\n",
      "     |      Exception\n",
      "     |      BaseException\n",
      "     |      object\n",
      "     |  \n",
      "     |  Methods defined here:\n",
      "     |  \n",
      "     |  __init__(self, /, *args, **kwargs)\n",
      "     |      Initialize self.  See help(type(self)) for accurate signature.\n",
      "     |  \n",
      "     |  ----------------------------------------------------------------------\n",
      "     |  Static methods defined here:\n",
      "     |  \n",
      "     |  __new__(*args, **kwargs) from type\n",
      "     |      Create and return a new object.  See help(type) for accurate signature.\n",
      "     |  \n",
      "     |  ----------------------------------------------------------------------\n",
      "     |  Methods inherited from BaseException:\n",
      "     |  \n",
      "     |  __delattr__(self, name, /)\n",
      "     |      Implement delattr(self, name).\n",
      "     |  \n",
      "     |  __getattribute__(self, name, /)\n",
      "     |      Return getattr(self, name).\n",
      "     |  \n",
      "     |  __reduce__(...)\n",
      "     |      Helper for pickle.\n",
      "     |  \n",
      "     |  __repr__(self, /)\n",
      "     |      Return repr(self).\n",
      "     |  \n",
      "     |  __setattr__(self, name, value, /)\n",
      "     |      Implement setattr(self, name, value).\n",
      "     |  \n",
      "     |  __setstate__(...)\n",
      "     |  \n",
      "     |  __str__(self, /)\n",
      "     |      Return str(self).\n",
      "     |  \n",
      "     |  with_traceback(...)\n",
      "     |      Exception.with_traceback(tb) --\n",
      "     |      set self.__traceback__ to tb and return self.\n",
      "     |  \n",
      "     |  ----------------------------------------------------------------------\n",
      "     |  Data descriptors inherited from BaseException:\n",
      "     |  \n",
      "     |  __cause__\n",
      "     |      exception cause\n",
      "     |  \n",
      "     |  __context__\n",
      "     |      exception context\n",
      "     |  \n",
      "     |  __dict__\n",
      "     |  \n",
      "     |  __suppress_context__\n",
      "     |  \n",
      "     |  __traceback__\n",
      "     |  \n",
      "     |  args\n",
      "    \n",
      "    class FutureWarning(Warning)\n",
      "     |  Base class for warnings about constructs that will change semantically\n",
      "     |  in the future.\n",
      "     |  \n",
      "     |  Method resolution order:\n",
      "     |      FutureWarning\n",
      "     |      Warning\n",
      "     |      Exception\n",
      "     |      BaseException\n",
      "     |      object\n",
      "     |  \n",
      "     |  Methods defined here:\n",
      "     |  \n",
      "     |  __init__(self, /, *args, **kwargs)\n",
      "     |      Initialize self.  See help(type(self)) for accurate signature.\n",
      "     |  \n",
      "     |  ----------------------------------------------------------------------\n",
      "     |  Static methods defined here:\n",
      "     |  \n",
      "     |  __new__(*args, **kwargs) from type\n",
      "     |      Create and return a new object.  See help(type) for accurate signature.\n",
      "     |  \n",
      "     |  ----------------------------------------------------------------------\n",
      "     |  Methods inherited from BaseException:\n",
      "     |  \n",
      "     |  __delattr__(self, name, /)\n",
      "     |      Implement delattr(self, name).\n",
      "     |  \n",
      "     |  __getattribute__(self, name, /)\n",
      "     |      Return getattr(self, name).\n",
      "     |  \n",
      "     |  __reduce__(...)\n",
      "     |      Helper for pickle.\n",
      "     |  \n",
      "     |  __repr__(self, /)\n",
      "     |      Return repr(self).\n",
      "     |  \n",
      "     |  __setattr__(self, name, value, /)\n",
      "     |      Implement setattr(self, name, value).\n",
      "     |  \n",
      "     |  __setstate__(...)\n",
      "     |  \n",
      "     |  __str__(self, /)\n",
      "     |      Return str(self).\n",
      "     |  \n",
      "     |  with_traceback(...)\n",
      "     |      Exception.with_traceback(tb) --\n",
      "     |      set self.__traceback__ to tb and return self.\n",
      "     |  \n",
      "     |  ----------------------------------------------------------------------\n",
      "     |  Data descriptors inherited from BaseException:\n",
      "     |  \n",
      "     |  __cause__\n",
      "     |      exception cause\n",
      "     |  \n",
      "     |  __context__\n",
      "     |      exception context\n",
      "     |  \n",
      "     |  __dict__\n",
      "     |  \n",
      "     |  __suppress_context__\n",
      "     |  \n",
      "     |  __traceback__\n",
      "     |  \n",
      "     |  args\n",
      "    \n",
      "    class GeneratorExit(BaseException)\n",
      "     |  Request that a generator exit.\n",
      "     |  \n",
      "     |  Method resolution order:\n",
      "     |      GeneratorExit\n",
      "     |      BaseException\n",
      "     |      object\n",
      "     |  \n",
      "     |  Methods defined here:\n",
      "     |  \n",
      "     |  __init__(self, /, *args, **kwargs)\n",
      "     |      Initialize self.  See help(type(self)) for accurate signature.\n",
      "     |  \n",
      "     |  ----------------------------------------------------------------------\n",
      "     |  Static methods defined here:\n",
      "     |  \n",
      "     |  __new__(*args, **kwargs) from type\n",
      "     |      Create and return a new object.  See help(type) for accurate signature.\n",
      "     |  \n",
      "     |  ----------------------------------------------------------------------\n",
      "     |  Methods inherited from BaseException:\n",
      "     |  \n",
      "     |  __delattr__(self, name, /)\n",
      "     |      Implement delattr(self, name).\n",
      "     |  \n",
      "     |  __getattribute__(self, name, /)\n",
      "     |      Return getattr(self, name).\n",
      "     |  \n",
      "     |  __reduce__(...)\n",
      "     |      Helper for pickle.\n",
      "     |  \n",
      "     |  __repr__(self, /)\n",
      "     |      Return repr(self).\n",
      "     |  \n",
      "     |  __setattr__(self, name, value, /)\n",
      "     |      Implement setattr(self, name, value).\n",
      "     |  \n",
      "     |  __setstate__(...)\n",
      "     |  \n",
      "     |  __str__(self, /)\n",
      "     |      Return str(self).\n",
      "     |  \n",
      "     |  with_traceback(...)\n",
      "     |      Exception.with_traceback(tb) --\n",
      "     |      set self.__traceback__ to tb and return self.\n",
      "     |  \n",
      "     |  ----------------------------------------------------------------------\n",
      "     |  Data descriptors inherited from BaseException:\n",
      "     |  \n",
      "     |  __cause__\n",
      "     |      exception cause\n",
      "     |  \n",
      "     |  __context__\n",
      "     |      exception context\n",
      "     |  \n",
      "     |  __dict__\n",
      "     |  \n",
      "     |  __suppress_context__\n",
      "     |  \n",
      "     |  __traceback__\n",
      "     |  \n",
      "     |  args\n",
      "    \n",
      "    IOError = class OSError(Exception)\n",
      "     |  Base class for I/O related errors.\n",
      "     |  \n",
      "     |  Method resolution order:\n",
      "     |      OSError\n",
      "     |      Exception\n",
      "     |      BaseException\n",
      "     |      object\n",
      "     |  \n",
      "     |  Built-in subclasses:\n",
      "     |      BlockingIOError\n",
      "     |      ChildProcessError\n",
      "     |      ConnectionError\n",
      "     |      FileExistsError\n",
      "     |      ... and 7 other subclasses\n",
      "     |  \n",
      "     |  Methods defined here:\n",
      "     |  \n",
      "     |  __init__(self, /, *args, **kwargs)\n",
      "     |      Initialize self.  See help(type(self)) for accurate signature.\n",
      "     |  \n",
      "     |  __reduce__(...)\n",
      "     |      Helper for pickle.\n",
      "     |  \n",
      "     |  __str__(self, /)\n",
      "     |      Return str(self).\n",
      "     |  \n",
      "     |  ----------------------------------------------------------------------\n",
      "     |  Static methods defined here:\n",
      "     |  \n",
      "     |  __new__(*args, **kwargs) from type\n",
      "     |      Create and return a new object.  See help(type) for accurate signature.\n",
      "     |  \n",
      "     |  ----------------------------------------------------------------------\n",
      "     |  Data descriptors defined here:\n",
      "     |  \n",
      "     |  characters_written\n",
      "     |  \n",
      "     |  errno\n",
      "     |      POSIX exception code\n",
      "     |  \n",
      "     |  filename\n",
      "     |      exception filename\n",
      "     |  \n",
      "     |  filename2\n",
      "     |      second exception filename\n",
      "     |  \n",
      "     |  strerror\n",
      "     |      exception strerror\n",
      "     |  \n",
      "     |  winerror\n",
      "     |      Win32 exception code\n",
      "     |  \n",
      "     |  ----------------------------------------------------------------------\n",
      "     |  Methods inherited from BaseException:\n",
      "     |  \n",
      "     |  __delattr__(self, name, /)\n",
      "     |      Implement delattr(self, name).\n",
      "     |  \n",
      "     |  __getattribute__(self, name, /)\n",
      "     |      Return getattr(self, name).\n",
      "     |  \n",
      "     |  __repr__(self, /)\n",
      "     |      Return repr(self).\n",
      "     |  \n",
      "     |  __setattr__(self, name, value, /)\n",
      "     |      Implement setattr(self, name, value).\n",
      "     |  \n",
      "     |  __setstate__(...)\n",
      "     |  \n",
      "     |  with_traceback(...)\n",
      "     |      Exception.with_traceback(tb) --\n",
      "     |      set self.__traceback__ to tb and return self.\n",
      "     |  \n",
      "     |  ----------------------------------------------------------------------\n",
      "     |  Data descriptors inherited from BaseException:\n",
      "     |  \n",
      "     |  __cause__\n",
      "     |      exception cause\n",
      "     |  \n",
      "     |  __context__\n",
      "     |      exception context\n",
      "     |  \n",
      "     |  __dict__\n",
      "     |  \n",
      "     |  __suppress_context__\n",
      "     |  \n",
      "     |  __traceback__\n",
      "     |  \n",
      "     |  args\n",
      "    \n",
      "    class ImportError(Exception)\n",
      "     |  Import can't find module, or can't find name in module.\n",
      "     |  \n",
      "     |  Method resolution order:\n",
      "     |      ImportError\n",
      "     |      Exception\n",
      "     |      BaseException\n",
      "     |      object\n",
      "     |  \n",
      "     |  Built-in subclasses:\n",
      "     |      ModuleNotFoundError\n",
      "     |  \n",
      "     |  Methods defined here:\n",
      "     |  \n",
      "     |  __init__(self, /, *args, **kwargs)\n",
      "     |      Initialize self.  See help(type(self)) for accurate signature.\n",
      "     |  \n",
      "     |  __reduce__(...)\n",
      "     |      Helper for pickle.\n",
      "     |  \n",
      "     |  __str__(self, /)\n",
      "     |      Return str(self).\n",
      "     |  \n",
      "     |  ----------------------------------------------------------------------\n",
      "     |  Data descriptors defined here:\n",
      "     |  \n",
      "     |  msg\n",
      "     |      exception message\n",
      "     |  \n",
      "     |  name\n",
      "     |      module name\n",
      "     |  \n",
      "     |  path\n",
      "     |      module path\n",
      "     |  \n",
      "     |  ----------------------------------------------------------------------\n",
      "     |  Static methods inherited from Exception:\n",
      "     |  \n",
      "     |  __new__(*args, **kwargs) from type\n",
      "     |      Create and return a new object.  See help(type) for accurate signature.\n",
      "     |  \n",
      "     |  ----------------------------------------------------------------------\n",
      "     |  Methods inherited from BaseException:\n",
      "     |  \n",
      "     |  __delattr__(self, name, /)\n",
      "     |      Implement delattr(self, name).\n",
      "     |  \n",
      "     |  __getattribute__(self, name, /)\n",
      "     |      Return getattr(self, name).\n",
      "     |  \n",
      "     |  __repr__(self, /)\n",
      "     |      Return repr(self).\n",
      "     |  \n",
      "     |  __setattr__(self, name, value, /)\n",
      "     |      Implement setattr(self, name, value).\n",
      "     |  \n",
      "     |  __setstate__(...)\n",
      "     |  \n",
      "     |  with_traceback(...)\n",
      "     |      Exception.with_traceback(tb) --\n",
      "     |      set self.__traceback__ to tb and return self.\n",
      "     |  \n",
      "     |  ----------------------------------------------------------------------\n",
      "     |  Data descriptors inherited from BaseException:\n",
      "     |  \n",
      "     |  __cause__\n",
      "     |      exception cause\n",
      "     |  \n",
      "     |  __context__\n",
      "     |      exception context\n",
      "     |  \n",
      "     |  __dict__\n",
      "     |  \n",
      "     |  __suppress_context__\n",
      "     |  \n",
      "     |  __traceback__\n",
      "     |  \n",
      "     |  args\n",
      "    \n",
      "    class ImportWarning(Warning)\n",
      "     |  Base class for warnings about probable mistakes in module imports\n",
      "     |  \n",
      "     |  Method resolution order:\n",
      "     |      ImportWarning\n",
      "     |      Warning\n",
      "     |      Exception\n",
      "     |      BaseException\n",
      "     |      object\n",
      "     |  \n",
      "     |  Methods defined here:\n",
      "     |  \n",
      "     |  __init__(self, /, *args, **kwargs)\n",
      "     |      Initialize self.  See help(type(self)) for accurate signature.\n",
      "     |  \n",
      "     |  ----------------------------------------------------------------------\n",
      "     |  Static methods defined here:\n",
      "     |  \n",
      "     |  __new__(*args, **kwargs) from type\n",
      "     |      Create and return a new object.  See help(type) for accurate signature.\n",
      "     |  \n",
      "     |  ----------------------------------------------------------------------\n",
      "     |  Methods inherited from BaseException:\n",
      "     |  \n",
      "     |  __delattr__(self, name, /)\n",
      "     |      Implement delattr(self, name).\n",
      "     |  \n",
      "     |  __getattribute__(self, name, /)\n",
      "     |      Return getattr(self, name).\n",
      "     |  \n",
      "     |  __reduce__(...)\n",
      "     |      Helper for pickle.\n",
      "     |  \n",
      "     |  __repr__(self, /)\n",
      "     |      Return repr(self).\n",
      "     |  \n",
      "     |  __setattr__(self, name, value, /)\n",
      "     |      Implement setattr(self, name, value).\n",
      "     |  \n",
      "     |  __setstate__(...)\n",
      "     |  \n",
      "     |  __str__(self, /)\n",
      "     |      Return str(self).\n",
      "     |  \n",
      "     |  with_traceback(...)\n",
      "     |      Exception.with_traceback(tb) --\n",
      "     |      set self.__traceback__ to tb and return self.\n",
      "     |  \n",
      "     |  ----------------------------------------------------------------------\n",
      "     |  Data descriptors inherited from BaseException:\n",
      "     |  \n",
      "     |  __cause__\n",
      "     |      exception cause\n",
      "     |  \n",
      "     |  __context__\n",
      "     |      exception context\n",
      "     |  \n",
      "     |  __dict__\n",
      "     |  \n",
      "     |  __suppress_context__\n",
      "     |  \n",
      "     |  __traceback__\n",
      "     |  \n",
      "     |  args\n",
      "    \n",
      "    class IndentationError(SyntaxError)\n",
      "     |  Improper indentation.\n",
      "     |  \n",
      "     |  Method resolution order:\n",
      "     |      IndentationError\n",
      "     |      SyntaxError\n",
      "     |      Exception\n",
      "     |      BaseException\n",
      "     |      object\n",
      "     |  \n",
      "     |  Built-in subclasses:\n",
      "     |      TabError\n",
      "     |  \n",
      "     |  Methods defined here:\n",
      "     |  \n",
      "     |  __init__(self, /, *args, **kwargs)\n",
      "     |      Initialize self.  See help(type(self)) for accurate signature.\n",
      "     |  \n",
      "     |  ----------------------------------------------------------------------\n",
      "     |  Methods inherited from SyntaxError:\n",
      "     |  \n",
      "     |  __str__(self, /)\n",
      "     |      Return str(self).\n",
      "     |  \n",
      "     |  ----------------------------------------------------------------------\n",
      "     |  Data descriptors inherited from SyntaxError:\n",
      "     |  \n",
      "     |  filename\n",
      "     |      exception filename\n",
      "     |  \n",
      "     |  lineno\n",
      "     |      exception lineno\n",
      "     |  \n",
      "     |  msg\n",
      "     |      exception msg\n",
      "     |  \n",
      "     |  offset\n",
      "     |      exception offset\n",
      "     |  \n",
      "     |  print_file_and_line\n",
      "     |      exception print_file_and_line\n",
      "     |  \n",
      "     |  text\n",
      "     |      exception text\n",
      "     |  \n",
      "     |  ----------------------------------------------------------------------\n",
      "     |  Static methods inherited from Exception:\n",
      "     |  \n",
      "     |  __new__(*args, **kwargs) from type\n",
      "     |      Create and return a new object.  See help(type) for accurate signature.\n",
      "     |  \n",
      "     |  ----------------------------------------------------------------------\n",
      "     |  Methods inherited from BaseException:\n",
      "     |  \n",
      "     |  __delattr__(self, name, /)\n",
      "     |      Implement delattr(self, name).\n",
      "     |  \n",
      "     |  __getattribute__(self, name, /)\n",
      "     |      Return getattr(self, name).\n",
      "     |  \n",
      "     |  __reduce__(...)\n",
      "     |      Helper for pickle.\n",
      "     |  \n",
      "     |  __repr__(self, /)\n",
      "     |      Return repr(self).\n",
      "     |  \n",
      "     |  __setattr__(self, name, value, /)\n",
      "     |      Implement setattr(self, name, value).\n",
      "     |  \n",
      "     |  __setstate__(...)\n",
      "     |  \n",
      "     |  with_traceback(...)\n",
      "     |      Exception.with_traceback(tb) --\n",
      "     |      set self.__traceback__ to tb and return self.\n",
      "     |  \n",
      "     |  ----------------------------------------------------------------------\n",
      "     |  Data descriptors inherited from BaseException:\n",
      "     |  \n",
      "     |  __cause__\n",
      "     |      exception cause\n",
      "     |  \n",
      "     |  __context__\n",
      "     |      exception context\n",
      "     |  \n",
      "     |  __dict__\n",
      "     |  \n",
      "     |  __suppress_context__\n",
      "     |  \n",
      "     |  __traceback__\n",
      "     |  \n",
      "     |  args\n",
      "    \n",
      "    class IndexError(LookupError)\n",
      "     |  Sequence index out of range.\n",
      "     |  \n",
      "     |  Method resolution order:\n",
      "     |      IndexError\n",
      "     |      LookupError\n",
      "     |      Exception\n",
      "     |      BaseException\n",
      "     |      object\n",
      "     |  \n",
      "     |  Methods defined here:\n",
      "     |  \n",
      "     |  __init__(self, /, *args, **kwargs)\n",
      "     |      Initialize self.  See help(type(self)) for accurate signature.\n",
      "     |  \n",
      "     |  ----------------------------------------------------------------------\n",
      "     |  Static methods defined here:\n",
      "     |  \n",
      "     |  __new__(*args, **kwargs) from type\n",
      "     |      Create and return a new object.  See help(type) for accurate signature.\n",
      "     |  \n",
      "     |  ----------------------------------------------------------------------\n",
      "     |  Methods inherited from BaseException:\n",
      "     |  \n",
      "     |  __delattr__(self, name, /)\n",
      "     |      Implement delattr(self, name).\n",
      "     |  \n",
      "     |  __getattribute__(self, name, /)\n",
      "     |      Return getattr(self, name).\n",
      "     |  \n",
      "     |  __reduce__(...)\n",
      "     |      Helper for pickle.\n",
      "     |  \n",
      "     |  __repr__(self, /)\n",
      "     |      Return repr(self).\n",
      "     |  \n",
      "     |  __setattr__(self, name, value, /)\n",
      "     |      Implement setattr(self, name, value).\n",
      "     |  \n",
      "     |  __setstate__(...)\n",
      "     |  \n",
      "     |  __str__(self, /)\n",
      "     |      Return str(self).\n",
      "     |  \n",
      "     |  with_traceback(...)\n",
      "     |      Exception.with_traceback(tb) --\n",
      "     |      set self.__traceback__ to tb and return self.\n",
      "     |  \n",
      "     |  ----------------------------------------------------------------------\n",
      "     |  Data descriptors inherited from BaseException:\n",
      "     |  \n",
      "     |  __cause__\n",
      "     |      exception cause\n",
      "     |  \n",
      "     |  __context__\n",
      "     |      exception context\n",
      "     |  \n",
      "     |  __dict__\n",
      "     |  \n",
      "     |  __suppress_context__\n",
      "     |  \n",
      "     |  __traceback__\n",
      "     |  \n",
      "     |  args\n",
      "    \n",
      "    class InterruptedError(OSError)\n",
      "     |  Interrupted by signal.\n",
      "     |  \n",
      "     |  Method resolution order:\n",
      "     |      InterruptedError\n",
      "     |      OSError\n",
      "     |      Exception\n",
      "     |      BaseException\n",
      "     |      object\n",
      "     |  \n",
      "     |  Methods defined here:\n",
      "     |  \n",
      "     |  __init__(self, /, *args, **kwargs)\n",
      "     |      Initialize self.  See help(type(self)) for accurate signature.\n",
      "     |  \n",
      "     |  ----------------------------------------------------------------------\n",
      "     |  Methods inherited from OSError:\n",
      "     |  \n",
      "     |  __reduce__(...)\n",
      "     |      Helper for pickle.\n",
      "     |  \n",
      "     |  __str__(self, /)\n",
      "     |      Return str(self).\n",
      "     |  \n",
      "     |  ----------------------------------------------------------------------\n",
      "     |  Static methods inherited from OSError:\n",
      "     |  \n",
      "     |  __new__(*args, **kwargs) from type\n",
      "     |      Create and return a new object.  See help(type) for accurate signature.\n",
      "     |  \n",
      "     |  ----------------------------------------------------------------------\n",
      "     |  Data descriptors inherited from OSError:\n",
      "     |  \n",
      "     |  characters_written\n",
      "     |  \n",
      "     |  errno\n",
      "     |      POSIX exception code\n",
      "     |  \n",
      "     |  filename\n",
      "     |      exception filename\n",
      "     |  \n",
      "     |  filename2\n",
      "     |      second exception filename\n",
      "     |  \n",
      "     |  strerror\n",
      "     |      exception strerror\n",
      "     |  \n",
      "     |  winerror\n",
      "     |      Win32 exception code\n",
      "     |  \n",
      "     |  ----------------------------------------------------------------------\n",
      "     |  Methods inherited from BaseException:\n",
      "     |  \n",
      "     |  __delattr__(self, name, /)\n",
      "     |      Implement delattr(self, name).\n",
      "     |  \n",
      "     |  __getattribute__(self, name, /)\n",
      "     |      Return getattr(self, name).\n",
      "     |  \n",
      "     |  __repr__(self, /)\n",
      "     |      Return repr(self).\n",
      "     |  \n",
      "     |  __setattr__(self, name, value, /)\n",
      "     |      Implement setattr(self, name, value).\n",
      "     |  \n",
      "     |  __setstate__(...)\n",
      "     |  \n",
      "     |  with_traceback(...)\n",
      "     |      Exception.with_traceback(tb) --\n",
      "     |      set self.__traceback__ to tb and return self.\n",
      "     |  \n",
      "     |  ----------------------------------------------------------------------\n",
      "     |  Data descriptors inherited from BaseException:\n",
      "     |  \n",
      "     |  __cause__\n",
      "     |      exception cause\n",
      "     |  \n",
      "     |  __context__\n",
      "     |      exception context\n",
      "     |  \n",
      "     |  __dict__\n",
      "     |  \n",
      "     |  __suppress_context__\n",
      "     |  \n",
      "     |  __traceback__\n",
      "     |  \n",
      "     |  args\n",
      "    \n",
      "    class IsADirectoryError(OSError)\n",
      "     |  Operation doesn't work on directories.\n",
      "     |  \n",
      "     |  Method resolution order:\n",
      "     |      IsADirectoryError\n",
      "     |      OSError\n",
      "     |      Exception\n",
      "     |      BaseException\n",
      "     |      object\n",
      "     |  \n",
      "     |  Methods defined here:\n",
      "     |  \n",
      "     |  __init__(self, /, *args, **kwargs)\n",
      "     |      Initialize self.  See help(type(self)) for accurate signature.\n",
      "     |  \n",
      "     |  ----------------------------------------------------------------------\n",
      "     |  Methods inherited from OSError:\n",
      "     |  \n",
      "     |  __reduce__(...)\n",
      "     |      Helper for pickle.\n",
      "     |  \n",
      "     |  __str__(self, /)\n",
      "     |      Return str(self).\n",
      "     |  \n",
      "     |  ----------------------------------------------------------------------\n",
      "     |  Static methods inherited from OSError:\n",
      "     |  \n",
      "     |  __new__(*args, **kwargs) from type\n",
      "     |      Create and return a new object.  See help(type) for accurate signature.\n",
      "     |  \n",
      "     |  ----------------------------------------------------------------------\n",
      "     |  Data descriptors inherited from OSError:\n",
      "     |  \n",
      "     |  characters_written\n",
      "     |  \n",
      "     |  errno\n",
      "     |      POSIX exception code\n",
      "     |  \n",
      "     |  filename\n",
      "     |      exception filename\n",
      "     |  \n",
      "     |  filename2\n",
      "     |      second exception filename\n",
      "     |  \n",
      "     |  strerror\n",
      "     |      exception strerror\n",
      "     |  \n",
      "     |  winerror\n",
      "     |      Win32 exception code\n",
      "     |  \n",
      "     |  ----------------------------------------------------------------------\n",
      "     |  Methods inherited from BaseException:\n",
      "     |  \n",
      "     |  __delattr__(self, name, /)\n",
      "     |      Implement delattr(self, name).\n",
      "     |  \n",
      "     |  __getattribute__(self, name, /)\n",
      "     |      Return getattr(self, name).\n",
      "     |  \n",
      "     |  __repr__(self, /)\n",
      "     |      Return repr(self).\n",
      "     |  \n",
      "     |  __setattr__(self, name, value, /)\n",
      "     |      Implement setattr(self, name, value).\n",
      "     |  \n",
      "     |  __setstate__(...)\n",
      "     |  \n",
      "     |  with_traceback(...)\n",
      "     |      Exception.with_traceback(tb) --\n",
      "     |      set self.__traceback__ to tb and return self.\n",
      "     |  \n",
      "     |  ----------------------------------------------------------------------\n",
      "     |  Data descriptors inherited from BaseException:\n",
      "     |  \n",
      "     |  __cause__\n",
      "     |      exception cause\n",
      "     |  \n",
      "     |  __context__\n",
      "     |      exception context\n",
      "     |  \n",
      "     |  __dict__\n",
      "     |  \n",
      "     |  __suppress_context__\n",
      "     |  \n",
      "     |  __traceback__\n",
      "     |  \n",
      "     |  args\n",
      "    \n",
      "    class KeyError(LookupError)\n",
      "     |  Mapping key not found.\n",
      "     |  \n",
      "     |  Method resolution order:\n",
      "     |      KeyError\n",
      "     |      LookupError\n",
      "     |      Exception\n",
      "     |      BaseException\n",
      "     |      object\n",
      "     |  \n",
      "     |  Methods defined here:\n",
      "     |  \n",
      "     |  __init__(self, /, *args, **kwargs)\n",
      "     |      Initialize self.  See help(type(self)) for accurate signature.\n",
      "     |  \n",
      "     |  __str__(self, /)\n",
      "     |      Return str(self).\n",
      "     |  \n",
      "     |  ----------------------------------------------------------------------\n",
      "     |  Static methods inherited from LookupError:\n",
      "     |  \n",
      "     |  __new__(*args, **kwargs) from type\n",
      "     |      Create and return a new object.  See help(type) for accurate signature.\n",
      "     |  \n",
      "     |  ----------------------------------------------------------------------\n",
      "     |  Methods inherited from BaseException:\n",
      "     |  \n",
      "     |  __delattr__(self, name, /)\n",
      "     |      Implement delattr(self, name).\n",
      "     |  \n",
      "     |  __getattribute__(self, name, /)\n",
      "     |      Return getattr(self, name).\n",
      "     |  \n",
      "     |  __reduce__(...)\n",
      "     |      Helper for pickle.\n",
      "     |  \n",
      "     |  __repr__(self, /)\n",
      "     |      Return repr(self).\n",
      "     |  \n",
      "     |  __setattr__(self, name, value, /)\n",
      "     |      Implement setattr(self, name, value).\n",
      "     |  \n",
      "     |  __setstate__(...)\n",
      "     |  \n",
      "     |  with_traceback(...)\n",
      "     |      Exception.with_traceback(tb) --\n",
      "     |      set self.__traceback__ to tb and return self.\n",
      "     |  \n",
      "     |  ----------------------------------------------------------------------\n",
      "     |  Data descriptors inherited from BaseException:\n",
      "     |  \n",
      "     |  __cause__\n",
      "     |      exception cause\n",
      "     |  \n",
      "     |  __context__\n",
      "     |      exception context\n",
      "     |  \n",
      "     |  __dict__\n",
      "     |  \n",
      "     |  __suppress_context__\n",
      "     |  \n",
      "     |  __traceback__\n",
      "     |  \n",
      "     |  args\n",
      "    \n",
      "    class KeyboardInterrupt(BaseException)\n",
      "     |  Program interrupted by user.\n",
      "     |  \n",
      "     |  Method resolution order:\n",
      "     |      KeyboardInterrupt\n",
      "     |      BaseException\n",
      "     |      object\n",
      "     |  \n",
      "     |  Methods defined here:\n",
      "     |  \n",
      "     |  __init__(self, /, *args, **kwargs)\n",
      "     |      Initialize self.  See help(type(self)) for accurate signature.\n",
      "     |  \n",
      "     |  ----------------------------------------------------------------------\n",
      "     |  Static methods defined here:\n",
      "     |  \n",
      "     |  __new__(*args, **kwargs) from type\n",
      "     |      Create and return a new object.  See help(type) for accurate signature.\n",
      "     |  \n",
      "     |  ----------------------------------------------------------------------\n",
      "     |  Methods inherited from BaseException:\n",
      "     |  \n",
      "     |  __delattr__(self, name, /)\n",
      "     |      Implement delattr(self, name).\n",
      "     |  \n",
      "     |  __getattribute__(self, name, /)\n",
      "     |      Return getattr(self, name).\n",
      "     |  \n",
      "     |  __reduce__(...)\n",
      "     |      Helper for pickle.\n",
      "     |  \n",
      "     |  __repr__(self, /)\n",
      "     |      Return repr(self).\n",
      "     |  \n",
      "     |  __setattr__(self, name, value, /)\n",
      "     |      Implement setattr(self, name, value).\n",
      "     |  \n",
      "     |  __setstate__(...)\n",
      "     |  \n",
      "     |  __str__(self, /)\n",
      "     |      Return str(self).\n",
      "     |  \n",
      "     |  with_traceback(...)\n",
      "     |      Exception.with_traceback(tb) --\n",
      "     |      set self.__traceback__ to tb and return self.\n",
      "     |  \n",
      "     |  ----------------------------------------------------------------------\n",
      "     |  Data descriptors inherited from BaseException:\n",
      "     |  \n",
      "     |  __cause__\n",
      "     |      exception cause\n",
      "     |  \n",
      "     |  __context__\n",
      "     |      exception context\n",
      "     |  \n",
      "     |  __dict__\n",
      "     |  \n",
      "     |  __suppress_context__\n",
      "     |  \n",
      "     |  __traceback__\n",
      "     |  \n",
      "     |  args\n",
      "    \n",
      "    class LookupError(Exception)\n",
      "     |  Base class for lookup errors.\n",
      "     |  \n",
      "     |  Method resolution order:\n",
      "     |      LookupError\n",
      "     |      Exception\n",
      "     |      BaseException\n",
      "     |      object\n",
      "     |  \n",
      "     |  Built-in subclasses:\n",
      "     |      IndexError\n",
      "     |      KeyError\n",
      "     |  \n",
      "     |  Methods defined here:\n",
      "     |  \n",
      "     |  __init__(self, /, *args, **kwargs)\n",
      "     |      Initialize self.  See help(type(self)) for accurate signature.\n",
      "     |  \n",
      "     |  ----------------------------------------------------------------------\n",
      "     |  Static methods defined here:\n",
      "     |  \n",
      "     |  __new__(*args, **kwargs) from type\n",
      "     |      Create and return a new object.  See help(type) for accurate signature.\n",
      "     |  \n",
      "     |  ----------------------------------------------------------------------\n",
      "     |  Methods inherited from BaseException:\n",
      "     |  \n",
      "     |  __delattr__(self, name, /)\n",
      "     |      Implement delattr(self, name).\n",
      "     |  \n",
      "     |  __getattribute__(self, name, /)\n",
      "     |      Return getattr(self, name).\n",
      "     |  \n",
      "     |  __reduce__(...)\n",
      "     |      Helper for pickle.\n",
      "     |  \n",
      "     |  __repr__(self, /)\n",
      "     |      Return repr(self).\n",
      "     |  \n",
      "     |  __setattr__(self, name, value, /)\n",
      "     |      Implement setattr(self, name, value).\n",
      "     |  \n",
      "     |  __setstate__(...)\n",
      "     |  \n",
      "     |  __str__(self, /)\n",
      "     |      Return str(self).\n",
      "     |  \n",
      "     |  with_traceback(...)\n",
      "     |      Exception.with_traceback(tb) --\n",
      "     |      set self.__traceback__ to tb and return self.\n",
      "     |  \n",
      "     |  ----------------------------------------------------------------------\n",
      "     |  Data descriptors inherited from BaseException:\n",
      "     |  \n",
      "     |  __cause__\n",
      "     |      exception cause\n",
      "     |  \n",
      "     |  __context__\n",
      "     |      exception context\n",
      "     |  \n",
      "     |  __dict__\n",
      "     |  \n",
      "     |  __suppress_context__\n",
      "     |  \n",
      "     |  __traceback__\n",
      "     |  \n",
      "     |  args\n",
      "    \n",
      "    class MemoryError(Exception)\n",
      "     |  Out of memory.\n",
      "     |  \n",
      "     |  Method resolution order:\n",
      "     |      MemoryError\n",
      "     |      Exception\n",
      "     |      BaseException\n",
      "     |      object\n",
      "     |  \n",
      "     |  Methods defined here:\n",
      "     |  \n",
      "     |  __init__(self, /, *args, **kwargs)\n",
      "     |      Initialize self.  See help(type(self)) for accurate signature.\n",
      "     |  \n",
      "     |  ----------------------------------------------------------------------\n",
      "     |  Static methods defined here:\n",
      "     |  \n",
      "     |  __new__(*args, **kwargs) from type\n",
      "     |      Create and return a new object.  See help(type) for accurate signature.\n",
      "     |  \n",
      "     |  ----------------------------------------------------------------------\n",
      "     |  Methods inherited from BaseException:\n",
      "     |  \n",
      "     |  __delattr__(self, name, /)\n",
      "     |      Implement delattr(self, name).\n",
      "     |  \n",
      "     |  __getattribute__(self, name, /)\n",
      "     |      Return getattr(self, name).\n",
      "     |  \n",
      "     |  __reduce__(...)\n",
      "     |      Helper for pickle.\n",
      "     |  \n",
      "     |  __repr__(self, /)\n",
      "     |      Return repr(self).\n",
      "     |  \n",
      "     |  __setattr__(self, name, value, /)\n",
      "     |      Implement setattr(self, name, value).\n",
      "     |  \n",
      "     |  __setstate__(...)\n",
      "     |  \n",
      "     |  __str__(self, /)\n",
      "     |      Return str(self).\n",
      "     |  \n",
      "     |  with_traceback(...)\n",
      "     |      Exception.with_traceback(tb) --\n",
      "     |      set self.__traceback__ to tb and return self.\n",
      "     |  \n",
      "     |  ----------------------------------------------------------------------\n",
      "     |  Data descriptors inherited from BaseException:\n",
      "     |  \n",
      "     |  __cause__\n",
      "     |      exception cause\n",
      "     |  \n",
      "     |  __context__\n",
      "     |      exception context\n",
      "     |  \n",
      "     |  __dict__\n",
      "     |  \n",
      "     |  __suppress_context__\n",
      "     |  \n",
      "     |  __traceback__\n",
      "     |  \n",
      "     |  args\n",
      "    \n",
      "    class ModuleNotFoundError(ImportError)\n",
      "     |  Module not found.\n",
      "     |  \n",
      "     |  Method resolution order:\n",
      "     |      ModuleNotFoundError\n",
      "     |      ImportError\n",
      "     |      Exception\n",
      "     |      BaseException\n",
      "     |      object\n",
      "     |  \n",
      "     |  Methods defined here:\n",
      "     |  \n",
      "     |  __init__(self, /, *args, **kwargs)\n",
      "     |      Initialize self.  See help(type(self)) for accurate signature.\n",
      "     |  \n",
      "     |  ----------------------------------------------------------------------\n",
      "     |  Methods inherited from ImportError:\n",
      "     |  \n",
      "     |  __reduce__(...)\n",
      "     |      Helper for pickle.\n",
      "     |  \n",
      "     |  __str__(self, /)\n",
      "     |      Return str(self).\n",
      "     |  \n",
      "     |  ----------------------------------------------------------------------\n",
      "     |  Data descriptors inherited from ImportError:\n",
      "     |  \n",
      "     |  msg\n",
      "     |      exception message\n",
      "     |  \n",
      "     |  name\n",
      "     |      module name\n",
      "     |  \n",
      "     |  path\n",
      "     |      module path\n",
      "     |  \n",
      "     |  ----------------------------------------------------------------------\n",
      "     |  Static methods inherited from Exception:\n",
      "     |  \n",
      "     |  __new__(*args, **kwargs) from type\n",
      "     |      Create and return a new object.  See help(type) for accurate signature.\n",
      "     |  \n",
      "     |  ----------------------------------------------------------------------\n",
      "     |  Methods inherited from BaseException:\n",
      "     |  \n",
      "     |  __delattr__(self, name, /)\n",
      "     |      Implement delattr(self, name).\n",
      "     |  \n",
      "     |  __getattribute__(self, name, /)\n",
      "     |      Return getattr(self, name).\n",
      "     |  \n",
      "     |  __repr__(self, /)\n",
      "     |      Return repr(self).\n",
      "     |  \n",
      "     |  __setattr__(self, name, value, /)\n",
      "     |      Implement setattr(self, name, value).\n",
      "     |  \n",
      "     |  __setstate__(...)\n",
      "     |  \n",
      "     |  with_traceback(...)\n",
      "     |      Exception.with_traceback(tb) --\n",
      "     |      set self.__traceback__ to tb and return self.\n",
      "     |  \n",
      "     |  ----------------------------------------------------------------------\n",
      "     |  Data descriptors inherited from BaseException:\n",
      "     |  \n",
      "     |  __cause__\n",
      "     |      exception cause\n",
      "     |  \n",
      "     |  __context__\n",
      "     |      exception context\n",
      "     |  \n",
      "     |  __dict__\n",
      "     |  \n",
      "     |  __suppress_context__\n",
      "     |  \n",
      "     |  __traceback__\n",
      "     |  \n",
      "     |  args\n",
      "    \n",
      "    class NameError(Exception)\n",
      "     |  Name not found globally.\n",
      "     |  \n",
      "     |  Method resolution order:\n",
      "     |      NameError\n",
      "     |      Exception\n",
      "     |      BaseException\n",
      "     |      object\n",
      "     |  \n",
      "     |  Built-in subclasses:\n",
      "     |      UnboundLocalError\n",
      "     |  \n",
      "     |  Methods defined here:\n",
      "     |  \n",
      "     |  __init__(self, /, *args, **kwargs)\n",
      "     |      Initialize self.  See help(type(self)) for accurate signature.\n",
      "     |  \n",
      "     |  ----------------------------------------------------------------------\n",
      "     |  Static methods defined here:\n",
      "     |  \n",
      "     |  __new__(*args, **kwargs) from type\n",
      "     |      Create and return a new object.  See help(type) for accurate signature.\n",
      "     |  \n",
      "     |  ----------------------------------------------------------------------\n",
      "     |  Methods inherited from BaseException:\n",
      "     |  \n",
      "     |  __delattr__(self, name, /)\n",
      "     |      Implement delattr(self, name).\n",
      "     |  \n",
      "     |  __getattribute__(self, name, /)\n",
      "     |      Return getattr(self, name).\n",
      "     |  \n",
      "     |  __reduce__(...)\n",
      "     |      Helper for pickle.\n",
      "     |  \n",
      "     |  __repr__(self, /)\n",
      "     |      Return repr(self).\n",
      "     |  \n",
      "     |  __setattr__(self, name, value, /)\n",
      "     |      Implement setattr(self, name, value).\n",
      "     |  \n",
      "     |  __setstate__(...)\n",
      "     |  \n",
      "     |  __str__(self, /)\n",
      "     |      Return str(self).\n",
      "     |  \n",
      "     |  with_traceback(...)\n",
      "     |      Exception.with_traceback(tb) --\n",
      "     |      set self.__traceback__ to tb and return self.\n",
      "     |  \n",
      "     |  ----------------------------------------------------------------------\n",
      "     |  Data descriptors inherited from BaseException:\n",
      "     |  \n",
      "     |  __cause__\n",
      "     |      exception cause\n",
      "     |  \n",
      "     |  __context__\n",
      "     |      exception context\n",
      "     |  \n",
      "     |  __dict__\n",
      "     |  \n",
      "     |  __suppress_context__\n",
      "     |  \n",
      "     |  __traceback__\n",
      "     |  \n",
      "     |  args\n",
      "    \n",
      "    class NotADirectoryError(OSError)\n",
      "     |  Operation only works on directories.\n",
      "     |  \n",
      "     |  Method resolution order:\n",
      "     |      NotADirectoryError\n",
      "     |      OSError\n",
      "     |      Exception\n",
      "     |      BaseException\n",
      "     |      object\n",
      "     |  \n",
      "     |  Methods defined here:\n",
      "     |  \n",
      "     |  __init__(self, /, *args, **kwargs)\n",
      "     |      Initialize self.  See help(type(self)) for accurate signature.\n",
      "     |  \n",
      "     |  ----------------------------------------------------------------------\n",
      "     |  Methods inherited from OSError:\n",
      "     |  \n",
      "     |  __reduce__(...)\n",
      "     |      Helper for pickle.\n",
      "     |  \n",
      "     |  __str__(self, /)\n",
      "     |      Return str(self).\n",
      "     |  \n",
      "     |  ----------------------------------------------------------------------\n",
      "     |  Static methods inherited from OSError:\n",
      "     |  \n",
      "     |  __new__(*args, **kwargs) from type\n",
      "     |      Create and return a new object.  See help(type) for accurate signature.\n",
      "     |  \n",
      "     |  ----------------------------------------------------------------------\n",
      "     |  Data descriptors inherited from OSError:\n",
      "     |  \n",
      "     |  characters_written\n",
      "     |  \n",
      "     |  errno\n",
      "     |      POSIX exception code\n",
      "     |  \n",
      "     |  filename\n",
      "     |      exception filename\n",
      "     |  \n",
      "     |  filename2\n",
      "     |      second exception filename\n",
      "     |  \n",
      "     |  strerror\n",
      "     |      exception strerror\n",
      "     |  \n",
      "     |  winerror\n",
      "     |      Win32 exception code\n",
      "     |  \n",
      "     |  ----------------------------------------------------------------------\n",
      "     |  Methods inherited from BaseException:\n",
      "     |  \n",
      "     |  __delattr__(self, name, /)\n",
      "     |      Implement delattr(self, name).\n",
      "     |  \n",
      "     |  __getattribute__(self, name, /)\n",
      "     |      Return getattr(self, name).\n",
      "     |  \n",
      "     |  __repr__(self, /)\n",
      "     |      Return repr(self).\n",
      "     |  \n",
      "     |  __setattr__(self, name, value, /)\n",
      "     |      Implement setattr(self, name, value).\n",
      "     |  \n",
      "     |  __setstate__(...)\n",
      "     |  \n",
      "     |  with_traceback(...)\n",
      "     |      Exception.with_traceback(tb) --\n",
      "     |      set self.__traceback__ to tb and return self.\n",
      "     |  \n",
      "     |  ----------------------------------------------------------------------\n",
      "     |  Data descriptors inherited from BaseException:\n",
      "     |  \n",
      "     |  __cause__\n",
      "     |      exception cause\n",
      "     |  \n",
      "     |  __context__\n",
      "     |      exception context\n",
      "     |  \n",
      "     |  __dict__\n",
      "     |  \n",
      "     |  __suppress_context__\n",
      "     |  \n",
      "     |  __traceback__\n",
      "     |  \n",
      "     |  args\n",
      "    \n",
      "    class NotImplementedError(RuntimeError)\n",
      "     |  Method or function hasn't been implemented yet.\n",
      "     |  \n",
      "     |  Method resolution order:\n",
      "     |      NotImplementedError\n",
      "     |      RuntimeError\n",
      "     |      Exception\n",
      "     |      BaseException\n",
      "     |      object\n",
      "     |  \n",
      "     |  Methods defined here:\n",
      "     |  \n",
      "     |  __init__(self, /, *args, **kwargs)\n",
      "     |      Initialize self.  See help(type(self)) for accurate signature.\n",
      "     |  \n",
      "     |  ----------------------------------------------------------------------\n",
      "     |  Static methods defined here:\n",
      "     |  \n",
      "     |  __new__(*args, **kwargs) from type\n",
      "     |      Create and return a new object.  See help(type) for accurate signature.\n",
      "     |  \n",
      "     |  ----------------------------------------------------------------------\n",
      "     |  Methods inherited from BaseException:\n",
      "     |  \n",
      "     |  __delattr__(self, name, /)\n",
      "     |      Implement delattr(self, name).\n",
      "     |  \n",
      "     |  __getattribute__(self, name, /)\n",
      "     |      Return getattr(self, name).\n",
      "     |  \n",
      "     |  __reduce__(...)\n",
      "     |      Helper for pickle.\n",
      "     |  \n",
      "     |  __repr__(self, /)\n",
      "     |      Return repr(self).\n",
      "     |  \n",
      "     |  __setattr__(self, name, value, /)\n",
      "     |      Implement setattr(self, name, value).\n",
      "     |  \n",
      "     |  __setstate__(...)\n",
      "     |  \n",
      "     |  __str__(self, /)\n",
      "     |      Return str(self).\n",
      "     |  \n",
      "     |  with_traceback(...)\n",
      "     |      Exception.with_traceback(tb) --\n",
      "     |      set self.__traceback__ to tb and return self.\n",
      "     |  \n",
      "     |  ----------------------------------------------------------------------\n",
      "     |  Data descriptors inherited from BaseException:\n",
      "     |  \n",
      "     |  __cause__\n",
      "     |      exception cause\n",
      "     |  \n",
      "     |  __context__\n",
      "     |      exception context\n",
      "     |  \n",
      "     |  __dict__\n",
      "     |  \n",
      "     |  __suppress_context__\n",
      "     |  \n",
      "     |  __traceback__\n",
      "     |  \n",
      "     |  args\n",
      "    \n",
      "    class OSError(Exception)\n",
      "     |  Base class for I/O related errors.\n",
      "     |  \n",
      "     |  Method resolution order:\n",
      "     |      OSError\n",
      "     |      Exception\n",
      "     |      BaseException\n",
      "     |      object\n",
      "     |  \n",
      "     |  Built-in subclasses:\n",
      "     |      BlockingIOError\n",
      "     |      ChildProcessError\n",
      "     |      ConnectionError\n",
      "     |      FileExistsError\n",
      "     |      ... and 7 other subclasses\n",
      "     |  \n",
      "     |  Methods defined here:\n",
      "     |  \n",
      "     |  __init__(self, /, *args, **kwargs)\n",
      "     |      Initialize self.  See help(type(self)) for accurate signature.\n",
      "     |  \n",
      "     |  __reduce__(...)\n",
      "     |      Helper for pickle.\n",
      "     |  \n",
      "     |  __str__(self, /)\n",
      "     |      Return str(self).\n",
      "     |  \n",
      "     |  ----------------------------------------------------------------------\n",
      "     |  Static methods defined here:\n",
      "     |  \n",
      "     |  __new__(*args, **kwargs) from type\n",
      "     |      Create and return a new object.  See help(type) for accurate signature.\n",
      "     |  \n",
      "     |  ----------------------------------------------------------------------\n",
      "     |  Data descriptors defined here:\n",
      "     |  \n",
      "     |  characters_written\n",
      "     |  \n",
      "     |  errno\n",
      "     |      POSIX exception code\n",
      "     |  \n",
      "     |  filename\n",
      "     |      exception filename\n",
      "     |  \n",
      "     |  filename2\n",
      "     |      second exception filename\n",
      "     |  \n",
      "     |  strerror\n",
      "     |      exception strerror\n",
      "     |  \n",
      "     |  winerror\n",
      "     |      Win32 exception code\n",
      "     |  \n",
      "     |  ----------------------------------------------------------------------\n",
      "     |  Methods inherited from BaseException:\n",
      "     |  \n",
      "     |  __delattr__(self, name, /)\n",
      "     |      Implement delattr(self, name).\n",
      "     |  \n",
      "     |  __getattribute__(self, name, /)\n",
      "     |      Return getattr(self, name).\n",
      "     |  \n",
      "     |  __repr__(self, /)\n",
      "     |      Return repr(self).\n",
      "     |  \n",
      "     |  __setattr__(self, name, value, /)\n",
      "     |      Implement setattr(self, name, value).\n",
      "     |  \n",
      "     |  __setstate__(...)\n",
      "     |  \n",
      "     |  with_traceback(...)\n",
      "     |      Exception.with_traceback(tb) --\n",
      "     |      set self.__traceback__ to tb and return self.\n",
      "     |  \n",
      "     |  ----------------------------------------------------------------------\n",
      "     |  Data descriptors inherited from BaseException:\n",
      "     |  \n",
      "     |  __cause__\n",
      "     |      exception cause\n",
      "     |  \n",
      "     |  __context__\n",
      "     |      exception context\n",
      "     |  \n",
      "     |  __dict__\n",
      "     |  \n",
      "     |  __suppress_context__\n",
      "     |  \n",
      "     |  __traceback__\n",
      "     |  \n",
      "     |  args\n",
      "    \n",
      "    class OverflowError(ArithmeticError)\n",
      "     |  Result too large to be represented.\n",
      "     |  \n",
      "     |  Method resolution order:\n",
      "     |      OverflowError\n",
      "     |      ArithmeticError\n",
      "     |      Exception\n",
      "     |      BaseException\n",
      "     |      object\n",
      "     |  \n",
      "     |  Methods defined here:\n",
      "     |  \n",
      "     |  __init__(self, /, *args, **kwargs)\n",
      "     |      Initialize self.  See help(type(self)) for accurate signature.\n",
      "     |  \n",
      "     |  ----------------------------------------------------------------------\n",
      "     |  Static methods defined here:\n",
      "     |  \n",
      "     |  __new__(*args, **kwargs) from type\n",
      "     |      Create and return a new object.  See help(type) for accurate signature.\n",
      "     |  \n",
      "     |  ----------------------------------------------------------------------\n",
      "     |  Methods inherited from BaseException:\n",
      "     |  \n",
      "     |  __delattr__(self, name, /)\n",
      "     |      Implement delattr(self, name).\n",
      "     |  \n",
      "     |  __getattribute__(self, name, /)\n",
      "     |      Return getattr(self, name).\n",
      "     |  \n",
      "     |  __reduce__(...)\n",
      "     |      Helper for pickle.\n",
      "     |  \n",
      "     |  __repr__(self, /)\n",
      "     |      Return repr(self).\n",
      "     |  \n",
      "     |  __setattr__(self, name, value, /)\n",
      "     |      Implement setattr(self, name, value).\n",
      "     |  \n",
      "     |  __setstate__(...)\n",
      "     |  \n",
      "     |  __str__(self, /)\n",
      "     |      Return str(self).\n",
      "     |  \n",
      "     |  with_traceback(...)\n",
      "     |      Exception.with_traceback(tb) --\n",
      "     |      set self.__traceback__ to tb and return self.\n",
      "     |  \n",
      "     |  ----------------------------------------------------------------------\n",
      "     |  Data descriptors inherited from BaseException:\n",
      "     |  \n",
      "     |  __cause__\n",
      "     |      exception cause\n",
      "     |  \n",
      "     |  __context__\n",
      "     |      exception context\n",
      "     |  \n",
      "     |  __dict__\n",
      "     |  \n",
      "     |  __suppress_context__\n",
      "     |  \n",
      "     |  __traceback__\n",
      "     |  \n",
      "     |  args\n",
      "    \n",
      "    class PendingDeprecationWarning(Warning)\n",
      "     |  Base class for warnings about features which will be deprecated\n",
      "     |  in the future.\n",
      "     |  \n",
      "     |  Method resolution order:\n",
      "     |      PendingDeprecationWarning\n",
      "     |      Warning\n",
      "     |      Exception\n",
      "     |      BaseException\n",
      "     |      object\n",
      "     |  \n",
      "     |  Methods defined here:\n",
      "     |  \n",
      "     |  __init__(self, /, *args, **kwargs)\n",
      "     |      Initialize self.  See help(type(self)) for accurate signature.\n",
      "     |  \n",
      "     |  ----------------------------------------------------------------------\n",
      "     |  Static methods defined here:\n",
      "     |  \n",
      "     |  __new__(*args, **kwargs) from type\n",
      "     |      Create and return a new object.  See help(type) for accurate signature.\n",
      "     |  \n",
      "     |  ----------------------------------------------------------------------\n",
      "     |  Methods inherited from BaseException:\n",
      "     |  \n",
      "     |  __delattr__(self, name, /)\n",
      "     |      Implement delattr(self, name).\n",
      "     |  \n",
      "     |  __getattribute__(self, name, /)\n",
      "     |      Return getattr(self, name).\n",
      "     |  \n",
      "     |  __reduce__(...)\n",
      "     |      Helper for pickle.\n",
      "     |  \n",
      "     |  __repr__(self, /)\n",
      "     |      Return repr(self).\n",
      "     |  \n",
      "     |  __setattr__(self, name, value, /)\n",
      "     |      Implement setattr(self, name, value).\n",
      "     |  \n",
      "     |  __setstate__(...)\n",
      "     |  \n",
      "     |  __str__(self, /)\n",
      "     |      Return str(self).\n",
      "     |  \n",
      "     |  with_traceback(...)\n",
      "     |      Exception.with_traceback(tb) --\n",
      "     |      set self.__traceback__ to tb and return self.\n",
      "     |  \n",
      "     |  ----------------------------------------------------------------------\n",
      "     |  Data descriptors inherited from BaseException:\n",
      "     |  \n",
      "     |  __cause__\n",
      "     |      exception cause\n",
      "     |  \n",
      "     |  __context__\n",
      "     |      exception context\n",
      "     |  \n",
      "     |  __dict__\n",
      "     |  \n",
      "     |  __suppress_context__\n",
      "     |  \n",
      "     |  __traceback__\n",
      "     |  \n",
      "     |  args\n",
      "    \n",
      "    class PermissionError(OSError)\n",
      "     |  Not enough permissions.\n",
      "     |  \n",
      "     |  Method resolution order:\n",
      "     |      PermissionError\n",
      "     |      OSError\n",
      "     |      Exception\n",
      "     |      BaseException\n",
      "     |      object\n",
      "     |  \n",
      "     |  Methods defined here:\n",
      "     |  \n",
      "     |  __init__(self, /, *args, **kwargs)\n",
      "     |      Initialize self.  See help(type(self)) for accurate signature.\n",
      "     |  \n",
      "     |  ----------------------------------------------------------------------\n",
      "     |  Methods inherited from OSError:\n",
      "     |  \n",
      "     |  __reduce__(...)\n",
      "     |      Helper for pickle.\n",
      "     |  \n",
      "     |  __str__(self, /)\n",
      "     |      Return str(self).\n",
      "     |  \n",
      "     |  ----------------------------------------------------------------------\n",
      "     |  Static methods inherited from OSError:\n",
      "     |  \n",
      "     |  __new__(*args, **kwargs) from type\n",
      "     |      Create and return a new object.  See help(type) for accurate signature.\n",
      "     |  \n",
      "     |  ----------------------------------------------------------------------\n",
      "     |  Data descriptors inherited from OSError:\n",
      "     |  \n",
      "     |  characters_written\n",
      "     |  \n",
      "     |  errno\n",
      "     |      POSIX exception code\n",
      "     |  \n",
      "     |  filename\n",
      "     |      exception filename\n",
      "     |  \n",
      "     |  filename2\n",
      "     |      second exception filename\n",
      "     |  \n",
      "     |  strerror\n",
      "     |      exception strerror\n",
      "     |  \n",
      "     |  winerror\n",
      "     |      Win32 exception code\n",
      "     |  \n",
      "     |  ----------------------------------------------------------------------\n",
      "     |  Methods inherited from BaseException:\n",
      "     |  \n",
      "     |  __delattr__(self, name, /)\n",
      "     |      Implement delattr(self, name).\n",
      "     |  \n",
      "     |  __getattribute__(self, name, /)\n",
      "     |      Return getattr(self, name).\n",
      "     |  \n",
      "     |  __repr__(self, /)\n",
      "     |      Return repr(self).\n",
      "     |  \n",
      "     |  __setattr__(self, name, value, /)\n",
      "     |      Implement setattr(self, name, value).\n",
      "     |  \n",
      "     |  __setstate__(...)\n",
      "     |  \n",
      "     |  with_traceback(...)\n",
      "     |      Exception.with_traceback(tb) --\n",
      "     |      set self.__traceback__ to tb and return self.\n",
      "     |  \n",
      "     |  ----------------------------------------------------------------------\n",
      "     |  Data descriptors inherited from BaseException:\n",
      "     |  \n",
      "     |  __cause__\n",
      "     |      exception cause\n",
      "     |  \n",
      "     |  __context__\n",
      "     |      exception context\n",
      "     |  \n",
      "     |  __dict__\n",
      "     |  \n",
      "     |  __suppress_context__\n",
      "     |  \n",
      "     |  __traceback__\n",
      "     |  \n",
      "     |  args\n",
      "    \n",
      "    class ProcessLookupError(OSError)\n",
      "     |  Process not found.\n",
      "     |  \n",
      "     |  Method resolution order:\n",
      "     |      ProcessLookupError\n",
      "     |      OSError\n",
      "     |      Exception\n",
      "     |      BaseException\n",
      "     |      object\n",
      "     |  \n",
      "     |  Methods defined here:\n",
      "     |  \n",
      "     |  __init__(self, /, *args, **kwargs)\n",
      "     |      Initialize self.  See help(type(self)) for accurate signature.\n",
      "     |  \n",
      "     |  ----------------------------------------------------------------------\n",
      "     |  Methods inherited from OSError:\n",
      "     |  \n",
      "     |  __reduce__(...)\n",
      "     |      Helper for pickle.\n",
      "     |  \n",
      "     |  __str__(self, /)\n",
      "     |      Return str(self).\n",
      "     |  \n",
      "     |  ----------------------------------------------------------------------\n",
      "     |  Static methods inherited from OSError:\n",
      "     |  \n",
      "     |  __new__(*args, **kwargs) from type\n",
      "     |      Create and return a new object.  See help(type) for accurate signature.\n",
      "     |  \n",
      "     |  ----------------------------------------------------------------------\n",
      "     |  Data descriptors inherited from OSError:\n",
      "     |  \n",
      "     |  characters_written\n",
      "     |  \n",
      "     |  errno\n",
      "     |      POSIX exception code\n",
      "     |  \n",
      "     |  filename\n",
      "     |      exception filename\n",
      "     |  \n",
      "     |  filename2\n",
      "     |      second exception filename\n",
      "     |  \n",
      "     |  strerror\n",
      "     |      exception strerror\n",
      "     |  \n",
      "     |  winerror\n",
      "     |      Win32 exception code\n",
      "     |  \n",
      "     |  ----------------------------------------------------------------------\n",
      "     |  Methods inherited from BaseException:\n",
      "     |  \n",
      "     |  __delattr__(self, name, /)\n",
      "     |      Implement delattr(self, name).\n",
      "     |  \n",
      "     |  __getattribute__(self, name, /)\n",
      "     |      Return getattr(self, name).\n",
      "     |  \n",
      "     |  __repr__(self, /)\n",
      "     |      Return repr(self).\n",
      "     |  \n",
      "     |  __setattr__(self, name, value, /)\n",
      "     |      Implement setattr(self, name, value).\n",
      "     |  \n",
      "     |  __setstate__(...)\n",
      "     |  \n",
      "     |  with_traceback(...)\n",
      "     |      Exception.with_traceback(tb) --\n",
      "     |      set self.__traceback__ to tb and return self.\n",
      "     |  \n",
      "     |  ----------------------------------------------------------------------\n",
      "     |  Data descriptors inherited from BaseException:\n",
      "     |  \n",
      "     |  __cause__\n",
      "     |      exception cause\n",
      "     |  \n",
      "     |  __context__\n",
      "     |      exception context\n",
      "     |  \n",
      "     |  __dict__\n",
      "     |  \n",
      "     |  __suppress_context__\n",
      "     |  \n",
      "     |  __traceback__\n",
      "     |  \n",
      "     |  args\n",
      "    \n",
      "    class RecursionError(RuntimeError)\n",
      "     |  Recursion limit exceeded.\n",
      "     |  \n",
      "     |  Method resolution order:\n",
      "     |      RecursionError\n",
      "     |      RuntimeError\n",
      "     |      Exception\n",
      "     |      BaseException\n",
      "     |      object\n",
      "     |  \n",
      "     |  Methods defined here:\n",
      "     |  \n",
      "     |  __init__(self, /, *args, **kwargs)\n",
      "     |      Initialize self.  See help(type(self)) for accurate signature.\n",
      "     |  \n",
      "     |  ----------------------------------------------------------------------\n",
      "     |  Static methods defined here:\n",
      "     |  \n",
      "     |  __new__(*args, **kwargs) from type\n",
      "     |      Create and return a new object.  See help(type) for accurate signature.\n",
      "     |  \n",
      "     |  ----------------------------------------------------------------------\n",
      "     |  Methods inherited from BaseException:\n",
      "     |  \n",
      "     |  __delattr__(self, name, /)\n",
      "     |      Implement delattr(self, name).\n",
      "     |  \n",
      "     |  __getattribute__(self, name, /)\n",
      "     |      Return getattr(self, name).\n",
      "     |  \n",
      "     |  __reduce__(...)\n",
      "     |      Helper for pickle.\n",
      "     |  \n",
      "     |  __repr__(self, /)\n",
      "     |      Return repr(self).\n",
      "     |  \n",
      "     |  __setattr__(self, name, value, /)\n",
      "     |      Implement setattr(self, name, value).\n",
      "     |  \n",
      "     |  __setstate__(...)\n",
      "     |  \n",
      "     |  __str__(self, /)\n",
      "     |      Return str(self).\n",
      "     |  \n",
      "     |  with_traceback(...)\n",
      "     |      Exception.with_traceback(tb) --\n",
      "     |      set self.__traceback__ to tb and return self.\n",
      "     |  \n",
      "     |  ----------------------------------------------------------------------\n",
      "     |  Data descriptors inherited from BaseException:\n",
      "     |  \n",
      "     |  __cause__\n",
      "     |      exception cause\n",
      "     |  \n",
      "     |  __context__\n",
      "     |      exception context\n",
      "     |  \n",
      "     |  __dict__\n",
      "     |  \n",
      "     |  __suppress_context__\n",
      "     |  \n",
      "     |  __traceback__\n",
      "     |  \n",
      "     |  args\n",
      "    \n",
      "    class ReferenceError(Exception)\n",
      "     |  Weak ref proxy used after referent went away.\n",
      "     |  \n",
      "     |  Method resolution order:\n",
      "     |      ReferenceError\n",
      "     |      Exception\n",
      "     |      BaseException\n",
      "     |      object\n",
      "     |  \n",
      "     |  Methods defined here:\n",
      "     |  \n",
      "     |  __init__(self, /, *args, **kwargs)\n",
      "     |      Initialize self.  See help(type(self)) for accurate signature.\n",
      "     |  \n",
      "     |  ----------------------------------------------------------------------\n",
      "     |  Static methods defined here:\n",
      "     |  \n",
      "     |  __new__(*args, **kwargs) from type\n",
      "     |      Create and return a new object.  See help(type) for accurate signature.\n",
      "     |  \n",
      "     |  ----------------------------------------------------------------------\n",
      "     |  Methods inherited from BaseException:\n",
      "     |  \n",
      "     |  __delattr__(self, name, /)\n",
      "     |      Implement delattr(self, name).\n",
      "     |  \n",
      "     |  __getattribute__(self, name, /)\n",
      "     |      Return getattr(self, name).\n",
      "     |  \n",
      "     |  __reduce__(...)\n",
      "     |      Helper for pickle.\n",
      "     |  \n",
      "     |  __repr__(self, /)\n",
      "     |      Return repr(self).\n",
      "     |  \n",
      "     |  __setattr__(self, name, value, /)\n",
      "     |      Implement setattr(self, name, value).\n",
      "     |  \n",
      "     |  __setstate__(...)\n",
      "     |  \n",
      "     |  __str__(self, /)\n",
      "     |      Return str(self).\n",
      "     |  \n",
      "     |  with_traceback(...)\n",
      "     |      Exception.with_traceback(tb) --\n",
      "     |      set self.__traceback__ to tb and return self.\n",
      "     |  \n",
      "     |  ----------------------------------------------------------------------\n",
      "     |  Data descriptors inherited from BaseException:\n",
      "     |  \n",
      "     |  __cause__\n",
      "     |      exception cause\n",
      "     |  \n",
      "     |  __context__\n",
      "     |      exception context\n",
      "     |  \n",
      "     |  __dict__\n",
      "     |  \n",
      "     |  __suppress_context__\n",
      "     |  \n",
      "     |  __traceback__\n",
      "     |  \n",
      "     |  args\n",
      "    \n",
      "    class ResourceWarning(Warning)\n",
      "     |  Base class for warnings about resource usage.\n",
      "     |  \n",
      "     |  Method resolution order:\n",
      "     |      ResourceWarning\n",
      "     |      Warning\n",
      "     |      Exception\n",
      "     |      BaseException\n",
      "     |      object\n",
      "     |  \n",
      "     |  Methods defined here:\n",
      "     |  \n",
      "     |  __init__(self, /, *args, **kwargs)\n",
      "     |      Initialize self.  See help(type(self)) for accurate signature.\n",
      "     |  \n",
      "     |  ----------------------------------------------------------------------\n",
      "     |  Static methods defined here:\n",
      "     |  \n",
      "     |  __new__(*args, **kwargs) from type\n",
      "     |      Create and return a new object.  See help(type) for accurate signature.\n",
      "     |  \n",
      "     |  ----------------------------------------------------------------------\n",
      "     |  Methods inherited from BaseException:\n",
      "     |  \n",
      "     |  __delattr__(self, name, /)\n",
      "     |      Implement delattr(self, name).\n",
      "     |  \n",
      "     |  __getattribute__(self, name, /)\n",
      "     |      Return getattr(self, name).\n",
      "     |  \n",
      "     |  __reduce__(...)\n",
      "     |      Helper for pickle.\n",
      "     |  \n",
      "     |  __repr__(self, /)\n",
      "     |      Return repr(self).\n",
      "     |  \n",
      "     |  __setattr__(self, name, value, /)\n",
      "     |      Implement setattr(self, name, value).\n",
      "     |  \n",
      "     |  __setstate__(...)\n",
      "     |  \n",
      "     |  __str__(self, /)\n",
      "     |      Return str(self).\n",
      "     |  \n",
      "     |  with_traceback(...)\n",
      "     |      Exception.with_traceback(tb) --\n",
      "     |      set self.__traceback__ to tb and return self.\n",
      "     |  \n",
      "     |  ----------------------------------------------------------------------\n",
      "     |  Data descriptors inherited from BaseException:\n",
      "     |  \n",
      "     |  __cause__\n",
      "     |      exception cause\n",
      "     |  \n",
      "     |  __context__\n",
      "     |      exception context\n",
      "     |  \n",
      "     |  __dict__\n",
      "     |  \n",
      "     |  __suppress_context__\n",
      "     |  \n",
      "     |  __traceback__\n",
      "     |  \n",
      "     |  args\n",
      "    \n",
      "    class RuntimeError(Exception)\n",
      "     |  Unspecified run-time error.\n",
      "     |  \n",
      "     |  Method resolution order:\n",
      "     |      RuntimeError\n",
      "     |      Exception\n",
      "     |      BaseException\n",
      "     |      object\n",
      "     |  \n",
      "     |  Built-in subclasses:\n",
      "     |      NotImplementedError\n",
      "     |      RecursionError\n",
      "     |  \n",
      "     |  Methods defined here:\n",
      "     |  \n",
      "     |  __init__(self, /, *args, **kwargs)\n",
      "     |      Initialize self.  See help(type(self)) for accurate signature.\n",
      "     |  \n",
      "     |  ----------------------------------------------------------------------\n",
      "     |  Static methods defined here:\n",
      "     |  \n",
      "     |  __new__(*args, **kwargs) from type\n",
      "     |      Create and return a new object.  See help(type) for accurate signature.\n",
      "     |  \n",
      "     |  ----------------------------------------------------------------------\n",
      "     |  Methods inherited from BaseException:\n",
      "     |  \n",
      "     |  __delattr__(self, name, /)\n",
      "     |      Implement delattr(self, name).\n",
      "     |  \n",
      "     |  __getattribute__(self, name, /)\n",
      "     |      Return getattr(self, name).\n",
      "     |  \n",
      "     |  __reduce__(...)\n",
      "     |      Helper for pickle.\n",
      "     |  \n",
      "     |  __repr__(self, /)\n",
      "     |      Return repr(self).\n",
      "     |  \n",
      "     |  __setattr__(self, name, value, /)\n",
      "     |      Implement setattr(self, name, value).\n",
      "     |  \n",
      "     |  __setstate__(...)\n",
      "     |  \n",
      "     |  __str__(self, /)\n",
      "     |      Return str(self).\n",
      "     |  \n",
      "     |  with_traceback(...)\n",
      "     |      Exception.with_traceback(tb) --\n",
      "     |      set self.__traceback__ to tb and return self.\n",
      "     |  \n",
      "     |  ----------------------------------------------------------------------\n",
      "     |  Data descriptors inherited from BaseException:\n",
      "     |  \n",
      "     |  __cause__\n",
      "     |      exception cause\n",
      "     |  \n",
      "     |  __context__\n",
      "     |      exception context\n",
      "     |  \n",
      "     |  __dict__\n",
      "     |  \n",
      "     |  __suppress_context__\n",
      "     |  \n",
      "     |  __traceback__\n",
      "     |  \n",
      "     |  args\n",
      "    \n",
      "    class RuntimeWarning(Warning)\n",
      "     |  Base class for warnings about dubious runtime behavior.\n",
      "     |  \n",
      "     |  Method resolution order:\n",
      "     |      RuntimeWarning\n",
      "     |      Warning\n",
      "     |      Exception\n",
      "     |      BaseException\n",
      "     |      object\n",
      "     |  \n",
      "     |  Methods defined here:\n",
      "     |  \n",
      "     |  __init__(self, /, *args, **kwargs)\n",
      "     |      Initialize self.  See help(type(self)) for accurate signature.\n",
      "     |  \n",
      "     |  ----------------------------------------------------------------------\n",
      "     |  Static methods defined here:\n",
      "     |  \n",
      "     |  __new__(*args, **kwargs) from type\n",
      "     |      Create and return a new object.  See help(type) for accurate signature.\n",
      "     |  \n",
      "     |  ----------------------------------------------------------------------\n",
      "     |  Methods inherited from BaseException:\n",
      "     |  \n",
      "     |  __delattr__(self, name, /)\n",
      "     |      Implement delattr(self, name).\n",
      "     |  \n",
      "     |  __getattribute__(self, name, /)\n",
      "     |      Return getattr(self, name).\n",
      "     |  \n",
      "     |  __reduce__(...)\n",
      "     |      Helper for pickle.\n",
      "     |  \n",
      "     |  __repr__(self, /)\n",
      "     |      Return repr(self).\n",
      "     |  \n",
      "     |  __setattr__(self, name, value, /)\n",
      "     |      Implement setattr(self, name, value).\n",
      "     |  \n",
      "     |  __setstate__(...)\n",
      "     |  \n",
      "     |  __str__(self, /)\n",
      "     |      Return str(self).\n",
      "     |  \n",
      "     |  with_traceback(...)\n",
      "     |      Exception.with_traceback(tb) --\n",
      "     |      set self.__traceback__ to tb and return self.\n",
      "     |  \n",
      "     |  ----------------------------------------------------------------------\n",
      "     |  Data descriptors inherited from BaseException:\n",
      "     |  \n",
      "     |  __cause__\n",
      "     |      exception cause\n",
      "     |  \n",
      "     |  __context__\n",
      "     |      exception context\n",
      "     |  \n",
      "     |  __dict__\n",
      "     |  \n",
      "     |  __suppress_context__\n",
      "     |  \n",
      "     |  __traceback__\n",
      "     |  \n",
      "     |  args\n",
      "    \n",
      "    class StopAsyncIteration(Exception)\n",
      "     |  Signal the end from iterator.__anext__().\n",
      "     |  \n",
      "     |  Method resolution order:\n",
      "     |      StopAsyncIteration\n",
      "     |      Exception\n",
      "     |      BaseException\n",
      "     |      object\n",
      "     |  \n",
      "     |  Methods defined here:\n",
      "     |  \n",
      "     |  __init__(self, /, *args, **kwargs)\n",
      "     |      Initialize self.  See help(type(self)) for accurate signature.\n",
      "     |  \n",
      "     |  ----------------------------------------------------------------------\n",
      "     |  Static methods defined here:\n",
      "     |  \n",
      "     |  __new__(*args, **kwargs) from type\n",
      "     |      Create and return a new object.  See help(type) for accurate signature.\n",
      "     |  \n",
      "     |  ----------------------------------------------------------------------\n",
      "     |  Methods inherited from BaseException:\n",
      "     |  \n",
      "     |  __delattr__(self, name, /)\n",
      "     |      Implement delattr(self, name).\n",
      "     |  \n",
      "     |  __getattribute__(self, name, /)\n",
      "     |      Return getattr(self, name).\n",
      "     |  \n",
      "     |  __reduce__(...)\n",
      "     |      Helper for pickle.\n",
      "     |  \n",
      "     |  __repr__(self, /)\n",
      "     |      Return repr(self).\n",
      "     |  \n",
      "     |  __setattr__(self, name, value, /)\n",
      "     |      Implement setattr(self, name, value).\n",
      "     |  \n",
      "     |  __setstate__(...)\n",
      "     |  \n",
      "     |  __str__(self, /)\n",
      "     |      Return str(self).\n",
      "     |  \n",
      "     |  with_traceback(...)\n",
      "     |      Exception.with_traceback(tb) --\n",
      "     |      set self.__traceback__ to tb and return self.\n",
      "     |  \n",
      "     |  ----------------------------------------------------------------------\n",
      "     |  Data descriptors inherited from BaseException:\n",
      "     |  \n",
      "     |  __cause__\n",
      "     |      exception cause\n",
      "     |  \n",
      "     |  __context__\n",
      "     |      exception context\n",
      "     |  \n",
      "     |  __dict__\n",
      "     |  \n",
      "     |  __suppress_context__\n",
      "     |  \n",
      "     |  __traceback__\n",
      "     |  \n",
      "     |  args\n",
      "    \n",
      "    class StopIteration(Exception)\n",
      "     |  Signal the end from iterator.__next__().\n",
      "     |  \n",
      "     |  Method resolution order:\n",
      "     |      StopIteration\n",
      "     |      Exception\n",
      "     |      BaseException\n",
      "     |      object\n",
      "     |  \n",
      "     |  Methods defined here:\n",
      "     |  \n",
      "     |  __init__(self, /, *args, **kwargs)\n",
      "     |      Initialize self.  See help(type(self)) for accurate signature.\n",
      "     |  \n",
      "     |  ----------------------------------------------------------------------\n",
      "     |  Data descriptors defined here:\n",
      "     |  \n",
      "     |  value\n",
      "     |      generator return value\n",
      "     |  \n",
      "     |  ----------------------------------------------------------------------\n",
      "     |  Static methods inherited from Exception:\n",
      "     |  \n",
      "     |  __new__(*args, **kwargs) from type\n",
      "     |      Create and return a new object.  See help(type) for accurate signature.\n",
      "     |  \n",
      "     |  ----------------------------------------------------------------------\n",
      "     |  Methods inherited from BaseException:\n",
      "     |  \n",
      "     |  __delattr__(self, name, /)\n",
      "     |      Implement delattr(self, name).\n",
      "     |  \n",
      "     |  __getattribute__(self, name, /)\n",
      "     |      Return getattr(self, name).\n",
      "     |  \n",
      "     |  __reduce__(...)\n",
      "     |      Helper for pickle.\n",
      "     |  \n",
      "     |  __repr__(self, /)\n",
      "     |      Return repr(self).\n",
      "     |  \n",
      "     |  __setattr__(self, name, value, /)\n",
      "     |      Implement setattr(self, name, value).\n",
      "     |  \n",
      "     |  __setstate__(...)\n",
      "     |  \n",
      "     |  __str__(self, /)\n",
      "     |      Return str(self).\n",
      "     |  \n",
      "     |  with_traceback(...)\n",
      "     |      Exception.with_traceback(tb) --\n",
      "     |      set self.__traceback__ to tb and return self.\n",
      "     |  \n",
      "     |  ----------------------------------------------------------------------\n",
      "     |  Data descriptors inherited from BaseException:\n",
      "     |  \n",
      "     |  __cause__\n",
      "     |      exception cause\n",
      "     |  \n",
      "     |  __context__\n",
      "     |      exception context\n",
      "     |  \n",
      "     |  __dict__\n",
      "     |  \n",
      "     |  __suppress_context__\n",
      "     |  \n",
      "     |  __traceback__\n",
      "     |  \n",
      "     |  args\n",
      "    \n",
      "    class SyntaxError(Exception)\n",
      "     |  Invalid syntax.\n",
      "     |  \n",
      "     |  Method resolution order:\n",
      "     |      SyntaxError\n",
      "     |      Exception\n",
      "     |      BaseException\n",
      "     |      object\n",
      "     |  \n",
      "     |  Built-in subclasses:\n",
      "     |      IndentationError\n",
      "     |  \n",
      "     |  Methods defined here:\n",
      "     |  \n",
      "     |  __init__(self, /, *args, **kwargs)\n",
      "     |      Initialize self.  See help(type(self)) for accurate signature.\n",
      "     |  \n",
      "     |  __str__(self, /)\n",
      "     |      Return str(self).\n",
      "     |  \n",
      "     |  ----------------------------------------------------------------------\n",
      "     |  Data descriptors defined here:\n",
      "     |  \n",
      "     |  filename\n",
      "     |      exception filename\n",
      "     |  \n",
      "     |  lineno\n",
      "     |      exception lineno\n",
      "     |  \n",
      "     |  msg\n",
      "     |      exception msg\n",
      "     |  \n",
      "     |  offset\n",
      "     |      exception offset\n",
      "     |  \n",
      "     |  print_file_and_line\n",
      "     |      exception print_file_and_line\n",
      "     |  \n",
      "     |  text\n",
      "     |      exception text\n",
      "     |  \n",
      "     |  ----------------------------------------------------------------------\n",
      "     |  Static methods inherited from Exception:\n",
      "     |  \n",
      "     |  __new__(*args, **kwargs) from type\n",
      "     |      Create and return a new object.  See help(type) for accurate signature.\n",
      "     |  \n",
      "     |  ----------------------------------------------------------------------\n",
      "     |  Methods inherited from BaseException:\n",
      "     |  \n",
      "     |  __delattr__(self, name, /)\n",
      "     |      Implement delattr(self, name).\n",
      "     |  \n",
      "     |  __getattribute__(self, name, /)\n",
      "     |      Return getattr(self, name).\n",
      "     |  \n",
      "     |  __reduce__(...)\n",
      "     |      Helper for pickle.\n",
      "     |  \n",
      "     |  __repr__(self, /)\n",
      "     |      Return repr(self).\n",
      "     |  \n",
      "     |  __setattr__(self, name, value, /)\n",
      "     |      Implement setattr(self, name, value).\n",
      "     |  \n",
      "     |  __setstate__(...)\n",
      "     |  \n",
      "     |  with_traceback(...)\n",
      "     |      Exception.with_traceback(tb) --\n",
      "     |      set self.__traceback__ to tb and return self.\n",
      "     |  \n",
      "     |  ----------------------------------------------------------------------\n",
      "     |  Data descriptors inherited from BaseException:\n",
      "     |  \n",
      "     |  __cause__\n",
      "     |      exception cause\n",
      "     |  \n",
      "     |  __context__\n",
      "     |      exception context\n",
      "     |  \n",
      "     |  __dict__\n",
      "     |  \n",
      "     |  __suppress_context__\n",
      "     |  \n",
      "     |  __traceback__\n",
      "     |  \n",
      "     |  args\n",
      "    \n",
      "    class SyntaxWarning(Warning)\n",
      "     |  Base class for warnings about dubious syntax.\n",
      "     |  \n",
      "     |  Method resolution order:\n",
      "     |      SyntaxWarning\n",
      "     |      Warning\n",
      "     |      Exception\n",
      "     |      BaseException\n",
      "     |      object\n",
      "     |  \n",
      "     |  Methods defined here:\n",
      "     |  \n",
      "     |  __init__(self, /, *args, **kwargs)\n",
      "     |      Initialize self.  See help(type(self)) for accurate signature.\n",
      "     |  \n",
      "     |  ----------------------------------------------------------------------\n",
      "     |  Static methods defined here:\n",
      "     |  \n",
      "     |  __new__(*args, **kwargs) from type\n",
      "     |      Create and return a new object.  See help(type) for accurate signature.\n",
      "     |  \n",
      "     |  ----------------------------------------------------------------------\n",
      "     |  Methods inherited from BaseException:\n",
      "     |  \n",
      "     |  __delattr__(self, name, /)\n",
      "     |      Implement delattr(self, name).\n",
      "     |  \n",
      "     |  __getattribute__(self, name, /)\n",
      "     |      Return getattr(self, name).\n",
      "     |  \n",
      "     |  __reduce__(...)\n",
      "     |      Helper for pickle.\n",
      "     |  \n",
      "     |  __repr__(self, /)\n",
      "     |      Return repr(self).\n",
      "     |  \n",
      "     |  __setattr__(self, name, value, /)\n",
      "     |      Implement setattr(self, name, value).\n",
      "     |  \n",
      "     |  __setstate__(...)\n",
      "     |  \n",
      "     |  __str__(self, /)\n",
      "     |      Return str(self).\n",
      "     |  \n",
      "     |  with_traceback(...)\n",
      "     |      Exception.with_traceback(tb) --\n",
      "     |      set self.__traceback__ to tb and return self.\n",
      "     |  \n",
      "     |  ----------------------------------------------------------------------\n",
      "     |  Data descriptors inherited from BaseException:\n",
      "     |  \n",
      "     |  __cause__\n",
      "     |      exception cause\n",
      "     |  \n",
      "     |  __context__\n",
      "     |      exception context\n",
      "     |  \n",
      "     |  __dict__\n",
      "     |  \n",
      "     |  __suppress_context__\n",
      "     |  \n",
      "     |  __traceback__\n",
      "     |  \n",
      "     |  args\n",
      "    \n",
      "    class SystemError(Exception)\n",
      "     |  Internal error in the Python interpreter.\n",
      "     |  \n",
      "     |  Please report this to the Python maintainer, along with the traceback,\n",
      "     |  the Python version, and the hardware/OS platform and version.\n",
      "     |  \n",
      "     |  Method resolution order:\n",
      "     |      SystemError\n",
      "     |      Exception\n",
      "     |      BaseException\n",
      "     |      object\n",
      "     |  \n",
      "     |  Methods defined here:\n",
      "     |  \n",
      "     |  __init__(self, /, *args, **kwargs)\n",
      "     |      Initialize self.  See help(type(self)) for accurate signature.\n",
      "     |  \n",
      "     |  ----------------------------------------------------------------------\n",
      "     |  Static methods defined here:\n",
      "     |  \n",
      "     |  __new__(*args, **kwargs) from type\n",
      "     |      Create and return a new object.  See help(type) for accurate signature.\n",
      "     |  \n",
      "     |  ----------------------------------------------------------------------\n",
      "     |  Methods inherited from BaseException:\n",
      "     |  \n",
      "     |  __delattr__(self, name, /)\n",
      "     |      Implement delattr(self, name).\n",
      "     |  \n",
      "     |  __getattribute__(self, name, /)\n",
      "     |      Return getattr(self, name).\n",
      "     |  \n",
      "     |  __reduce__(...)\n",
      "     |      Helper for pickle.\n",
      "     |  \n",
      "     |  __repr__(self, /)\n",
      "     |      Return repr(self).\n",
      "     |  \n",
      "     |  __setattr__(self, name, value, /)\n",
      "     |      Implement setattr(self, name, value).\n",
      "     |  \n",
      "     |  __setstate__(...)\n",
      "     |  \n",
      "     |  __str__(self, /)\n",
      "     |      Return str(self).\n",
      "     |  \n",
      "     |  with_traceback(...)\n",
      "     |      Exception.with_traceback(tb) --\n",
      "     |      set self.__traceback__ to tb and return self.\n",
      "     |  \n",
      "     |  ----------------------------------------------------------------------\n",
      "     |  Data descriptors inherited from BaseException:\n",
      "     |  \n",
      "     |  __cause__\n",
      "     |      exception cause\n",
      "     |  \n",
      "     |  __context__\n",
      "     |      exception context\n",
      "     |  \n",
      "     |  __dict__\n",
      "     |  \n",
      "     |  __suppress_context__\n",
      "     |  \n",
      "     |  __traceback__\n",
      "     |  \n",
      "     |  args\n",
      "    \n",
      "    class SystemExit(BaseException)\n",
      "     |  Request to exit from the interpreter.\n",
      "     |  \n",
      "     |  Method resolution order:\n",
      "     |      SystemExit\n",
      "     |      BaseException\n",
      "     |      object\n",
      "     |  \n",
      "     |  Methods defined here:\n",
      "     |  \n",
      "     |  __init__(self, /, *args, **kwargs)\n",
      "     |      Initialize self.  See help(type(self)) for accurate signature.\n",
      "     |  \n",
      "     |  ----------------------------------------------------------------------\n",
      "     |  Data descriptors defined here:\n",
      "     |  \n",
      "     |  code\n",
      "     |      exception code\n",
      "     |  \n",
      "     |  ----------------------------------------------------------------------\n",
      "     |  Methods inherited from BaseException:\n",
      "     |  \n",
      "     |  __delattr__(self, name, /)\n",
      "     |      Implement delattr(self, name).\n",
      "     |  \n",
      "     |  __getattribute__(self, name, /)\n",
      "     |      Return getattr(self, name).\n",
      "     |  \n",
      "     |  __reduce__(...)\n",
      "     |      Helper for pickle.\n",
      "     |  \n",
      "     |  __repr__(self, /)\n",
      "     |      Return repr(self).\n",
      "     |  \n",
      "     |  __setattr__(self, name, value, /)\n",
      "     |      Implement setattr(self, name, value).\n",
      "     |  \n",
      "     |  __setstate__(...)\n",
      "     |  \n",
      "     |  __str__(self, /)\n",
      "     |      Return str(self).\n",
      "     |  \n",
      "     |  with_traceback(...)\n",
      "     |      Exception.with_traceback(tb) --\n",
      "     |      set self.__traceback__ to tb and return self.\n",
      "     |  \n",
      "     |  ----------------------------------------------------------------------\n",
      "     |  Static methods inherited from BaseException:\n",
      "     |  \n",
      "     |  __new__(*args, **kwargs) from type\n",
      "     |      Create and return a new object.  See help(type) for accurate signature.\n",
      "     |  \n",
      "     |  ----------------------------------------------------------------------\n",
      "     |  Data descriptors inherited from BaseException:\n",
      "     |  \n",
      "     |  __cause__\n",
      "     |      exception cause\n",
      "     |  \n",
      "     |  __context__\n",
      "     |      exception context\n",
      "     |  \n",
      "     |  __dict__\n",
      "     |  \n",
      "     |  __suppress_context__\n",
      "     |  \n",
      "     |  __traceback__\n",
      "     |  \n",
      "     |  args\n",
      "    \n",
      "    class TabError(IndentationError)\n",
      "     |  Improper mixture of spaces and tabs.\n",
      "     |  \n",
      "     |  Method resolution order:\n",
      "     |      TabError\n",
      "     |      IndentationError\n",
      "     |      SyntaxError\n",
      "     |      Exception\n",
      "     |      BaseException\n",
      "     |      object\n",
      "     |  \n",
      "     |  Methods defined here:\n",
      "     |  \n",
      "     |  __init__(self, /, *args, **kwargs)\n",
      "     |      Initialize self.  See help(type(self)) for accurate signature.\n",
      "     |  \n",
      "     |  ----------------------------------------------------------------------\n",
      "     |  Methods inherited from SyntaxError:\n",
      "     |  \n",
      "     |  __str__(self, /)\n",
      "     |      Return str(self).\n",
      "     |  \n",
      "     |  ----------------------------------------------------------------------\n",
      "     |  Data descriptors inherited from SyntaxError:\n",
      "     |  \n",
      "     |  filename\n",
      "     |      exception filename\n",
      "     |  \n",
      "     |  lineno\n",
      "     |      exception lineno\n",
      "     |  \n",
      "     |  msg\n",
      "     |      exception msg\n",
      "     |  \n",
      "     |  offset\n",
      "     |      exception offset\n",
      "     |  \n",
      "     |  print_file_and_line\n",
      "     |      exception print_file_and_line\n",
      "     |  \n",
      "     |  text\n",
      "     |      exception text\n",
      "     |  \n",
      "     |  ----------------------------------------------------------------------\n",
      "     |  Static methods inherited from Exception:\n",
      "     |  \n",
      "     |  __new__(*args, **kwargs) from type\n",
      "     |      Create and return a new object.  See help(type) for accurate signature.\n",
      "     |  \n",
      "     |  ----------------------------------------------------------------------\n",
      "     |  Methods inherited from BaseException:\n",
      "     |  \n",
      "     |  __delattr__(self, name, /)\n",
      "     |      Implement delattr(self, name).\n",
      "     |  \n",
      "     |  __getattribute__(self, name, /)\n",
      "     |      Return getattr(self, name).\n",
      "     |  \n",
      "     |  __reduce__(...)\n",
      "     |      Helper for pickle.\n",
      "     |  \n",
      "     |  __repr__(self, /)\n",
      "     |      Return repr(self).\n",
      "     |  \n",
      "     |  __setattr__(self, name, value, /)\n",
      "     |      Implement setattr(self, name, value).\n",
      "     |  \n",
      "     |  __setstate__(...)\n",
      "     |  \n",
      "     |  with_traceback(...)\n",
      "     |      Exception.with_traceback(tb) --\n",
      "     |      set self.__traceback__ to tb and return self.\n",
      "     |  \n",
      "     |  ----------------------------------------------------------------------\n",
      "     |  Data descriptors inherited from BaseException:\n",
      "     |  \n",
      "     |  __cause__\n",
      "     |      exception cause\n",
      "     |  \n",
      "     |  __context__\n",
      "     |      exception context\n",
      "     |  \n",
      "     |  __dict__\n",
      "     |  \n",
      "     |  __suppress_context__\n",
      "     |  \n",
      "     |  __traceback__\n",
      "     |  \n",
      "     |  args\n",
      "    \n",
      "    class TimeoutError(OSError)\n",
      "     |  Timeout expired.\n",
      "     |  \n",
      "     |  Method resolution order:\n",
      "     |      TimeoutError\n",
      "     |      OSError\n",
      "     |      Exception\n",
      "     |      BaseException\n",
      "     |      object\n",
      "     |  \n",
      "     |  Methods defined here:\n",
      "     |  \n",
      "     |  __init__(self, /, *args, **kwargs)\n",
      "     |      Initialize self.  See help(type(self)) for accurate signature.\n",
      "     |  \n",
      "     |  ----------------------------------------------------------------------\n",
      "     |  Methods inherited from OSError:\n",
      "     |  \n",
      "     |  __reduce__(...)\n",
      "     |      Helper for pickle.\n",
      "     |  \n",
      "     |  __str__(self, /)\n",
      "     |      Return str(self).\n",
      "     |  \n",
      "     |  ----------------------------------------------------------------------\n",
      "     |  Static methods inherited from OSError:\n",
      "     |  \n",
      "     |  __new__(*args, **kwargs) from type\n",
      "     |      Create and return a new object.  See help(type) for accurate signature.\n",
      "     |  \n",
      "     |  ----------------------------------------------------------------------\n",
      "     |  Data descriptors inherited from OSError:\n",
      "     |  \n",
      "     |  characters_written\n",
      "     |  \n",
      "     |  errno\n",
      "     |      POSIX exception code\n",
      "     |  \n",
      "     |  filename\n",
      "     |      exception filename\n",
      "     |  \n",
      "     |  filename2\n",
      "     |      second exception filename\n",
      "     |  \n",
      "     |  strerror\n",
      "     |      exception strerror\n",
      "     |  \n",
      "     |  winerror\n",
      "     |      Win32 exception code\n",
      "     |  \n",
      "     |  ----------------------------------------------------------------------\n",
      "     |  Methods inherited from BaseException:\n",
      "     |  \n",
      "     |  __delattr__(self, name, /)\n",
      "     |      Implement delattr(self, name).\n",
      "     |  \n",
      "     |  __getattribute__(self, name, /)\n",
      "     |      Return getattr(self, name).\n",
      "     |  \n",
      "     |  __repr__(self, /)\n",
      "     |      Return repr(self).\n",
      "     |  \n",
      "     |  __setattr__(self, name, value, /)\n",
      "     |      Implement setattr(self, name, value).\n",
      "     |  \n",
      "     |  __setstate__(...)\n",
      "     |  \n",
      "     |  with_traceback(...)\n",
      "     |      Exception.with_traceback(tb) --\n",
      "     |      set self.__traceback__ to tb and return self.\n",
      "     |  \n",
      "     |  ----------------------------------------------------------------------\n",
      "     |  Data descriptors inherited from BaseException:\n",
      "     |  \n",
      "     |  __cause__\n",
      "     |      exception cause\n",
      "     |  \n",
      "     |  __context__\n",
      "     |      exception context\n",
      "     |  \n",
      "     |  __dict__\n",
      "     |  \n",
      "     |  __suppress_context__\n",
      "     |  \n",
      "     |  __traceback__\n",
      "     |  \n",
      "     |  args\n",
      "    \n",
      "    class TypeError(Exception)\n",
      "     |  Inappropriate argument type.\n",
      "     |  \n",
      "     |  Method resolution order:\n",
      "     |      TypeError\n",
      "     |      Exception\n",
      "     |      BaseException\n",
      "     |      object\n",
      "     |  \n",
      "     |  Methods defined here:\n",
      "     |  \n",
      "     |  __init__(self, /, *args, **kwargs)\n",
      "     |      Initialize self.  See help(type(self)) for accurate signature.\n",
      "     |  \n",
      "     |  ----------------------------------------------------------------------\n",
      "     |  Static methods defined here:\n",
      "     |  \n",
      "     |  __new__(*args, **kwargs) from type\n",
      "     |      Create and return a new object.  See help(type) for accurate signature.\n",
      "     |  \n",
      "     |  ----------------------------------------------------------------------\n",
      "     |  Methods inherited from BaseException:\n",
      "     |  \n",
      "     |  __delattr__(self, name, /)\n",
      "     |      Implement delattr(self, name).\n",
      "     |  \n",
      "     |  __getattribute__(self, name, /)\n",
      "     |      Return getattr(self, name).\n",
      "     |  \n",
      "     |  __reduce__(...)\n",
      "     |      Helper for pickle.\n",
      "     |  \n",
      "     |  __repr__(self, /)\n",
      "     |      Return repr(self).\n",
      "     |  \n",
      "     |  __setattr__(self, name, value, /)\n",
      "     |      Implement setattr(self, name, value).\n",
      "     |  \n",
      "     |  __setstate__(...)\n",
      "     |  \n",
      "     |  __str__(self, /)\n",
      "     |      Return str(self).\n",
      "     |  \n",
      "     |  with_traceback(...)\n",
      "     |      Exception.with_traceback(tb) --\n",
      "     |      set self.__traceback__ to tb and return self.\n",
      "     |  \n",
      "     |  ----------------------------------------------------------------------\n",
      "     |  Data descriptors inherited from BaseException:\n",
      "     |  \n",
      "     |  __cause__\n",
      "     |      exception cause\n",
      "     |  \n",
      "     |  __context__\n",
      "     |      exception context\n",
      "     |  \n",
      "     |  __dict__\n",
      "     |  \n",
      "     |  __suppress_context__\n",
      "     |  \n",
      "     |  __traceback__\n",
      "     |  \n",
      "     |  args\n",
      "    \n",
      "    class UnboundLocalError(NameError)\n",
      "     |  Local name referenced but not bound to a value.\n",
      "     |  \n",
      "     |  Method resolution order:\n",
      "     |      UnboundLocalError\n",
      "     |      NameError\n",
      "     |      Exception\n",
      "     |      BaseException\n",
      "     |      object\n",
      "     |  \n",
      "     |  Methods defined here:\n",
      "     |  \n",
      "     |  __init__(self, /, *args, **kwargs)\n",
      "     |      Initialize self.  See help(type(self)) for accurate signature.\n",
      "     |  \n",
      "     |  ----------------------------------------------------------------------\n",
      "     |  Static methods defined here:\n",
      "     |  \n",
      "     |  __new__(*args, **kwargs) from type\n",
      "     |      Create and return a new object.  See help(type) for accurate signature.\n",
      "     |  \n",
      "     |  ----------------------------------------------------------------------\n",
      "     |  Methods inherited from BaseException:\n",
      "     |  \n",
      "     |  __delattr__(self, name, /)\n",
      "     |      Implement delattr(self, name).\n",
      "     |  \n",
      "     |  __getattribute__(self, name, /)\n",
      "     |      Return getattr(self, name).\n",
      "     |  \n",
      "     |  __reduce__(...)\n",
      "     |      Helper for pickle.\n",
      "     |  \n",
      "     |  __repr__(self, /)\n",
      "     |      Return repr(self).\n",
      "     |  \n",
      "     |  __setattr__(self, name, value, /)\n",
      "     |      Implement setattr(self, name, value).\n",
      "     |  \n",
      "     |  __setstate__(...)\n",
      "     |  \n",
      "     |  __str__(self, /)\n",
      "     |      Return str(self).\n",
      "     |  \n",
      "     |  with_traceback(...)\n",
      "     |      Exception.with_traceback(tb) --\n",
      "     |      set self.__traceback__ to tb and return self.\n",
      "     |  \n",
      "     |  ----------------------------------------------------------------------\n",
      "     |  Data descriptors inherited from BaseException:\n",
      "     |  \n",
      "     |  __cause__\n",
      "     |      exception cause\n",
      "     |  \n",
      "     |  __context__\n",
      "     |      exception context\n",
      "     |  \n",
      "     |  __dict__\n",
      "     |  \n",
      "     |  __suppress_context__\n",
      "     |  \n",
      "     |  __traceback__\n",
      "     |  \n",
      "     |  args\n",
      "    \n",
      "    class UnicodeDecodeError(UnicodeError)\n",
      "     |  Unicode decoding error.\n",
      "     |  \n",
      "     |  Method resolution order:\n",
      "     |      UnicodeDecodeError\n",
      "     |      UnicodeError\n",
      "     |      ValueError\n",
      "     |      Exception\n",
      "     |      BaseException\n",
      "     |      object\n",
      "     |  \n",
      "     |  Methods defined here:\n",
      "     |  \n",
      "     |  __init__(self, /, *args, **kwargs)\n",
      "     |      Initialize self.  See help(type(self)) for accurate signature.\n",
      "     |  \n",
      "     |  __str__(self, /)\n",
      "     |      Return str(self).\n",
      "     |  \n",
      "     |  ----------------------------------------------------------------------\n",
      "     |  Static methods defined here:\n",
      "     |  \n",
      "     |  __new__(*args, **kwargs) from type\n",
      "     |      Create and return a new object.  See help(type) for accurate signature.\n",
      "     |  \n",
      "     |  ----------------------------------------------------------------------\n",
      "     |  Data descriptors defined here:\n",
      "     |  \n",
      "     |  encoding\n",
      "     |      exception encoding\n",
      "     |  \n",
      "     |  end\n",
      "     |      exception end\n",
      "     |  \n",
      "     |  object\n",
      "     |      exception object\n",
      "     |  \n",
      "     |  reason\n",
      "     |      exception reason\n",
      "     |  \n",
      "     |  start\n",
      "     |      exception start\n",
      "     |  \n",
      "     |  ----------------------------------------------------------------------\n",
      "     |  Methods inherited from BaseException:\n",
      "     |  \n",
      "     |  __delattr__(self, name, /)\n",
      "     |      Implement delattr(self, name).\n",
      "     |  \n",
      "     |  __getattribute__(self, name, /)\n",
      "     |      Return getattr(self, name).\n",
      "     |  \n",
      "     |  __reduce__(...)\n",
      "     |      Helper for pickle.\n",
      "     |  \n",
      "     |  __repr__(self, /)\n",
      "     |      Return repr(self).\n",
      "     |  \n",
      "     |  __setattr__(self, name, value, /)\n",
      "     |      Implement setattr(self, name, value).\n",
      "     |  \n",
      "     |  __setstate__(...)\n",
      "     |  \n",
      "     |  with_traceback(...)\n",
      "     |      Exception.with_traceback(tb) --\n",
      "     |      set self.__traceback__ to tb and return self.\n",
      "     |  \n",
      "     |  ----------------------------------------------------------------------\n",
      "     |  Data descriptors inherited from BaseException:\n",
      "     |  \n",
      "     |  __cause__\n",
      "     |      exception cause\n",
      "     |  \n",
      "     |  __context__\n",
      "     |      exception context\n",
      "     |  \n",
      "     |  __dict__\n",
      "     |  \n",
      "     |  __suppress_context__\n",
      "     |  \n",
      "     |  __traceback__\n",
      "     |  \n",
      "     |  args\n",
      "    \n",
      "    class UnicodeEncodeError(UnicodeError)\n",
      "     |  Unicode encoding error.\n",
      "     |  \n",
      "     |  Method resolution order:\n",
      "     |      UnicodeEncodeError\n",
      "     |      UnicodeError\n",
      "     |      ValueError\n",
      "     |      Exception\n",
      "     |      BaseException\n",
      "     |      object\n",
      "     |  \n",
      "     |  Methods defined here:\n",
      "     |  \n",
      "     |  __init__(self, /, *args, **kwargs)\n",
      "     |      Initialize self.  See help(type(self)) for accurate signature.\n",
      "     |  \n",
      "     |  __str__(self, /)\n",
      "     |      Return str(self).\n",
      "     |  \n",
      "     |  ----------------------------------------------------------------------\n",
      "     |  Static methods defined here:\n",
      "     |  \n",
      "     |  __new__(*args, **kwargs) from type\n",
      "     |      Create and return a new object.  See help(type) for accurate signature.\n",
      "     |  \n",
      "     |  ----------------------------------------------------------------------\n",
      "     |  Data descriptors defined here:\n",
      "     |  \n",
      "     |  encoding\n",
      "     |      exception encoding\n",
      "     |  \n",
      "     |  end\n",
      "     |      exception end\n",
      "     |  \n",
      "     |  object\n",
      "     |      exception object\n",
      "     |  \n",
      "     |  reason\n",
      "     |      exception reason\n",
      "     |  \n",
      "     |  start\n",
      "     |      exception start\n",
      "     |  \n",
      "     |  ----------------------------------------------------------------------\n",
      "     |  Methods inherited from BaseException:\n",
      "     |  \n",
      "     |  __delattr__(self, name, /)\n",
      "     |      Implement delattr(self, name).\n",
      "     |  \n",
      "     |  __getattribute__(self, name, /)\n",
      "     |      Return getattr(self, name).\n",
      "     |  \n",
      "     |  __reduce__(...)\n",
      "     |      Helper for pickle.\n",
      "     |  \n",
      "     |  __repr__(self, /)\n",
      "     |      Return repr(self).\n",
      "     |  \n",
      "     |  __setattr__(self, name, value, /)\n",
      "     |      Implement setattr(self, name, value).\n",
      "     |  \n",
      "     |  __setstate__(...)\n",
      "     |  \n",
      "     |  with_traceback(...)\n",
      "     |      Exception.with_traceback(tb) --\n",
      "     |      set self.__traceback__ to tb and return self.\n",
      "     |  \n",
      "     |  ----------------------------------------------------------------------\n",
      "     |  Data descriptors inherited from BaseException:\n",
      "     |  \n",
      "     |  __cause__\n",
      "     |      exception cause\n",
      "     |  \n",
      "     |  __context__\n",
      "     |      exception context\n",
      "     |  \n",
      "     |  __dict__\n",
      "     |  \n",
      "     |  __suppress_context__\n",
      "     |  \n",
      "     |  __traceback__\n",
      "     |  \n",
      "     |  args\n",
      "    \n",
      "    class UnicodeError(ValueError)\n",
      "     |  Unicode related error.\n",
      "     |  \n",
      "     |  Method resolution order:\n",
      "     |      UnicodeError\n",
      "     |      ValueError\n",
      "     |      Exception\n",
      "     |      BaseException\n",
      "     |      object\n",
      "     |  \n",
      "     |  Built-in subclasses:\n",
      "     |      UnicodeDecodeError\n",
      "     |      UnicodeEncodeError\n",
      "     |      UnicodeTranslateError\n",
      "     |  \n",
      "     |  Methods defined here:\n",
      "     |  \n",
      "     |  __init__(self, /, *args, **kwargs)\n",
      "     |      Initialize self.  See help(type(self)) for accurate signature.\n",
      "     |  \n",
      "     |  ----------------------------------------------------------------------\n",
      "     |  Static methods defined here:\n",
      "     |  \n",
      "     |  __new__(*args, **kwargs) from type\n",
      "     |      Create and return a new object.  See help(type) for accurate signature.\n",
      "     |  \n",
      "     |  ----------------------------------------------------------------------\n",
      "     |  Methods inherited from BaseException:\n",
      "     |  \n",
      "     |  __delattr__(self, name, /)\n",
      "     |      Implement delattr(self, name).\n",
      "     |  \n",
      "     |  __getattribute__(self, name, /)\n",
      "     |      Return getattr(self, name).\n",
      "     |  \n",
      "     |  __reduce__(...)\n",
      "     |      Helper for pickle.\n",
      "     |  \n",
      "     |  __repr__(self, /)\n",
      "     |      Return repr(self).\n",
      "     |  \n",
      "     |  __setattr__(self, name, value, /)\n",
      "     |      Implement setattr(self, name, value).\n",
      "     |  \n",
      "     |  __setstate__(...)\n",
      "     |  \n",
      "     |  __str__(self, /)\n",
      "     |      Return str(self).\n",
      "     |  \n",
      "     |  with_traceback(...)\n",
      "     |      Exception.with_traceback(tb) --\n",
      "     |      set self.__traceback__ to tb and return self.\n",
      "     |  \n",
      "     |  ----------------------------------------------------------------------\n",
      "     |  Data descriptors inherited from BaseException:\n",
      "     |  \n",
      "     |  __cause__\n",
      "     |      exception cause\n",
      "     |  \n",
      "     |  __context__\n",
      "     |      exception context\n",
      "     |  \n",
      "     |  __dict__\n",
      "     |  \n",
      "     |  __suppress_context__\n",
      "     |  \n",
      "     |  __traceback__\n",
      "     |  \n",
      "     |  args\n",
      "    \n",
      "    class UnicodeTranslateError(UnicodeError)\n",
      "     |  Unicode translation error.\n",
      "     |  \n",
      "     |  Method resolution order:\n",
      "     |      UnicodeTranslateError\n",
      "     |      UnicodeError\n",
      "     |      ValueError\n",
      "     |      Exception\n",
      "     |      BaseException\n",
      "     |      object\n",
      "     |  \n",
      "     |  Methods defined here:\n",
      "     |  \n",
      "     |  __init__(self, /, *args, **kwargs)\n",
      "     |      Initialize self.  See help(type(self)) for accurate signature.\n",
      "     |  \n",
      "     |  __str__(self, /)\n",
      "     |      Return str(self).\n",
      "     |  \n",
      "     |  ----------------------------------------------------------------------\n",
      "     |  Static methods defined here:\n",
      "     |  \n",
      "     |  __new__(*args, **kwargs) from type\n",
      "     |      Create and return a new object.  See help(type) for accurate signature.\n",
      "     |  \n",
      "     |  ----------------------------------------------------------------------\n",
      "     |  Data descriptors defined here:\n",
      "     |  \n",
      "     |  encoding\n",
      "     |      exception encoding\n",
      "     |  \n",
      "     |  end\n",
      "     |      exception end\n",
      "     |  \n",
      "     |  object\n",
      "     |      exception object\n",
      "     |  \n",
      "     |  reason\n",
      "     |      exception reason\n",
      "     |  \n",
      "     |  start\n",
      "     |      exception start\n",
      "     |  \n",
      "     |  ----------------------------------------------------------------------\n",
      "     |  Methods inherited from BaseException:\n",
      "     |  \n",
      "     |  __delattr__(self, name, /)\n",
      "     |      Implement delattr(self, name).\n",
      "     |  \n",
      "     |  __getattribute__(self, name, /)\n",
      "     |      Return getattr(self, name).\n",
      "     |  \n",
      "     |  __reduce__(...)\n",
      "     |      Helper for pickle.\n",
      "     |  \n",
      "     |  __repr__(self, /)\n",
      "     |      Return repr(self).\n",
      "     |  \n",
      "     |  __setattr__(self, name, value, /)\n",
      "     |      Implement setattr(self, name, value).\n",
      "     |  \n",
      "     |  __setstate__(...)\n",
      "     |  \n",
      "     |  with_traceback(...)\n",
      "     |      Exception.with_traceback(tb) --\n",
      "     |      set self.__traceback__ to tb and return self.\n",
      "     |  \n",
      "     |  ----------------------------------------------------------------------\n",
      "     |  Data descriptors inherited from BaseException:\n",
      "     |  \n",
      "     |  __cause__\n",
      "     |      exception cause\n",
      "     |  \n",
      "     |  __context__\n",
      "     |      exception context\n",
      "     |  \n",
      "     |  __dict__\n",
      "     |  \n",
      "     |  __suppress_context__\n",
      "     |  \n",
      "     |  __traceback__\n",
      "     |  \n",
      "     |  args\n",
      "    \n",
      "    class UnicodeWarning(Warning)\n",
      "     |  Base class for warnings about Unicode related problems, mostly\n",
      "     |  related to conversion problems.\n",
      "     |  \n",
      "     |  Method resolution order:\n",
      "     |      UnicodeWarning\n",
      "     |      Warning\n",
      "     |      Exception\n",
      "     |      BaseException\n",
      "     |      object\n",
      "     |  \n",
      "     |  Methods defined here:\n",
      "     |  \n",
      "     |  __init__(self, /, *args, **kwargs)\n",
      "     |      Initialize self.  See help(type(self)) for accurate signature.\n",
      "     |  \n",
      "     |  ----------------------------------------------------------------------\n",
      "     |  Static methods defined here:\n",
      "     |  \n",
      "     |  __new__(*args, **kwargs) from type\n",
      "     |      Create and return a new object.  See help(type) for accurate signature.\n",
      "     |  \n",
      "     |  ----------------------------------------------------------------------\n",
      "     |  Methods inherited from BaseException:\n",
      "     |  \n",
      "     |  __delattr__(self, name, /)\n",
      "     |      Implement delattr(self, name).\n",
      "     |  \n",
      "     |  __getattribute__(self, name, /)\n",
      "     |      Return getattr(self, name).\n",
      "     |  \n",
      "     |  __reduce__(...)\n",
      "     |      Helper for pickle.\n",
      "     |  \n",
      "     |  __repr__(self, /)\n",
      "     |      Return repr(self).\n",
      "     |  \n",
      "     |  __setattr__(self, name, value, /)\n",
      "     |      Implement setattr(self, name, value).\n",
      "     |  \n",
      "     |  __setstate__(...)\n",
      "     |  \n",
      "     |  __str__(self, /)\n",
      "     |      Return str(self).\n",
      "     |  \n",
      "     |  with_traceback(...)\n",
      "     |      Exception.with_traceback(tb) --\n",
      "     |      set self.__traceback__ to tb and return self.\n",
      "     |  \n",
      "     |  ----------------------------------------------------------------------\n",
      "     |  Data descriptors inherited from BaseException:\n",
      "     |  \n",
      "     |  __cause__\n",
      "     |      exception cause\n",
      "     |  \n",
      "     |  __context__\n",
      "     |      exception context\n",
      "     |  \n",
      "     |  __dict__\n",
      "     |  \n",
      "     |  __suppress_context__\n",
      "     |  \n",
      "     |  __traceback__\n",
      "     |  \n",
      "     |  args\n",
      "    \n",
      "    class UserWarning(Warning)\n",
      "     |  Base class for warnings generated by user code.\n",
      "     |  \n",
      "     |  Method resolution order:\n",
      "     |      UserWarning\n",
      "     |      Warning\n",
      "     |      Exception\n",
      "     |      BaseException\n",
      "     |      object\n",
      "     |  \n",
      "     |  Methods defined here:\n",
      "     |  \n",
      "     |  __init__(self, /, *args, **kwargs)\n",
      "     |      Initialize self.  See help(type(self)) for accurate signature.\n",
      "     |  \n",
      "     |  ----------------------------------------------------------------------\n",
      "     |  Static methods defined here:\n",
      "     |  \n",
      "     |  __new__(*args, **kwargs) from type\n",
      "     |      Create and return a new object.  See help(type) for accurate signature.\n",
      "     |  \n",
      "     |  ----------------------------------------------------------------------\n",
      "     |  Methods inherited from BaseException:\n",
      "     |  \n",
      "     |  __delattr__(self, name, /)\n",
      "     |      Implement delattr(self, name).\n",
      "     |  \n",
      "     |  __getattribute__(self, name, /)\n",
      "     |      Return getattr(self, name).\n",
      "     |  \n",
      "     |  __reduce__(...)\n",
      "     |      Helper for pickle.\n",
      "     |  \n",
      "     |  __repr__(self, /)\n",
      "     |      Return repr(self).\n",
      "     |  \n",
      "     |  __setattr__(self, name, value, /)\n",
      "     |      Implement setattr(self, name, value).\n",
      "     |  \n",
      "     |  __setstate__(...)\n",
      "     |  \n",
      "     |  __str__(self, /)\n",
      "     |      Return str(self).\n",
      "     |  \n",
      "     |  with_traceback(...)\n",
      "     |      Exception.with_traceback(tb) --\n",
      "     |      set self.__traceback__ to tb and return self.\n",
      "     |  \n",
      "     |  ----------------------------------------------------------------------\n",
      "     |  Data descriptors inherited from BaseException:\n",
      "     |  \n",
      "     |  __cause__\n",
      "     |      exception cause\n",
      "     |  \n",
      "     |  __context__\n",
      "     |      exception context\n",
      "     |  \n",
      "     |  __dict__\n",
      "     |  \n",
      "     |  __suppress_context__\n",
      "     |  \n",
      "     |  __traceback__\n",
      "     |  \n",
      "     |  args\n",
      "    \n",
      "    class ValueError(Exception)\n",
      "     |  Inappropriate argument value (of correct type).\n",
      "     |  \n",
      "     |  Method resolution order:\n",
      "     |      ValueError\n",
      "     |      Exception\n",
      "     |      BaseException\n",
      "     |      object\n",
      "     |  \n",
      "     |  Built-in subclasses:\n",
      "     |      UnicodeError\n",
      "     |  \n",
      "     |  Methods defined here:\n",
      "     |  \n",
      "     |  __init__(self, /, *args, **kwargs)\n",
      "     |      Initialize self.  See help(type(self)) for accurate signature.\n",
      "     |  \n",
      "     |  ----------------------------------------------------------------------\n",
      "     |  Static methods defined here:\n",
      "     |  \n",
      "     |  __new__(*args, **kwargs) from type\n",
      "     |      Create and return a new object.  See help(type) for accurate signature.\n",
      "     |  \n",
      "     |  ----------------------------------------------------------------------\n",
      "     |  Methods inherited from BaseException:\n",
      "     |  \n",
      "     |  __delattr__(self, name, /)\n",
      "     |      Implement delattr(self, name).\n",
      "     |  \n",
      "     |  __getattribute__(self, name, /)\n",
      "     |      Return getattr(self, name).\n",
      "     |  \n",
      "     |  __reduce__(...)\n",
      "     |      Helper for pickle.\n",
      "     |  \n",
      "     |  __repr__(self, /)\n",
      "     |      Return repr(self).\n",
      "     |  \n",
      "     |  __setattr__(self, name, value, /)\n",
      "     |      Implement setattr(self, name, value).\n",
      "     |  \n",
      "     |  __setstate__(...)\n",
      "     |  \n",
      "     |  __str__(self, /)\n",
      "     |      Return str(self).\n",
      "     |  \n",
      "     |  with_traceback(...)\n",
      "     |      Exception.with_traceback(tb) --\n",
      "     |      set self.__traceback__ to tb and return self.\n",
      "     |  \n",
      "     |  ----------------------------------------------------------------------\n",
      "     |  Data descriptors inherited from BaseException:\n",
      "     |  \n",
      "     |  __cause__\n",
      "     |      exception cause\n",
      "     |  \n",
      "     |  __context__\n",
      "     |      exception context\n",
      "     |  \n",
      "     |  __dict__\n",
      "     |  \n",
      "     |  __suppress_context__\n",
      "     |  \n",
      "     |  __traceback__\n",
      "     |  \n",
      "     |  args\n",
      "    \n",
      "    class Warning(Exception)\n",
      "     |  Base class for warning categories.\n",
      "     |  \n",
      "     |  Method resolution order:\n",
      "     |      Warning\n",
      "     |      Exception\n",
      "     |      BaseException\n",
      "     |      object\n",
      "     |  \n",
      "     |  Built-in subclasses:\n",
      "     |      BytesWarning\n",
      "     |      DeprecationWarning\n",
      "     |      FutureWarning\n",
      "     |      ImportWarning\n",
      "     |      ... and 6 other subclasses\n",
      "     |  \n",
      "     |  Methods defined here:\n",
      "     |  \n",
      "     |  __init__(self, /, *args, **kwargs)\n",
      "     |      Initialize self.  See help(type(self)) for accurate signature.\n",
      "     |  \n",
      "     |  ----------------------------------------------------------------------\n",
      "     |  Static methods defined here:\n",
      "     |  \n",
      "     |  __new__(*args, **kwargs) from type\n",
      "     |      Create and return a new object.  See help(type) for accurate signature.\n",
      "     |  \n",
      "     |  ----------------------------------------------------------------------\n",
      "     |  Methods inherited from BaseException:\n",
      "     |  \n",
      "     |  __delattr__(self, name, /)\n",
      "     |      Implement delattr(self, name).\n",
      "     |  \n",
      "     |  __getattribute__(self, name, /)\n",
      "     |      Return getattr(self, name).\n",
      "     |  \n",
      "     |  __reduce__(...)\n",
      "     |      Helper for pickle.\n",
      "     |  \n",
      "     |  __repr__(self, /)\n",
      "     |      Return repr(self).\n",
      "     |  \n",
      "     |  __setattr__(self, name, value, /)\n",
      "     |      Implement setattr(self, name, value).\n",
      "     |  \n",
      "     |  __setstate__(...)\n",
      "     |  \n",
      "     |  __str__(self, /)\n",
      "     |      Return str(self).\n",
      "     |  \n",
      "     |  with_traceback(...)\n",
      "     |      Exception.with_traceback(tb) --\n",
      "     |      set self.__traceback__ to tb and return self.\n",
      "     |  \n",
      "     |  ----------------------------------------------------------------------\n",
      "     |  Data descriptors inherited from BaseException:\n",
      "     |  \n",
      "     |  __cause__\n",
      "     |      exception cause\n",
      "     |  \n",
      "     |  __context__\n",
      "     |      exception context\n",
      "     |  \n",
      "     |  __dict__\n",
      "     |  \n",
      "     |  __suppress_context__\n",
      "     |  \n",
      "     |  __traceback__\n",
      "     |  \n",
      "     |  args\n",
      "    \n",
      "    WindowsError = class OSError(Exception)\n",
      "     |  Base class for I/O related errors.\n",
      "     |  \n",
      "     |  Method resolution order:\n",
      "     |      OSError\n",
      "     |      Exception\n",
      "     |      BaseException\n",
      "     |      object\n",
      "     |  \n",
      "     |  Built-in subclasses:\n",
      "     |      BlockingIOError\n",
      "     |      ChildProcessError\n",
      "     |      ConnectionError\n",
      "     |      FileExistsError\n",
      "     |      ... and 7 other subclasses\n",
      "     |  \n",
      "     |  Methods defined here:\n",
      "     |  \n",
      "     |  __init__(self, /, *args, **kwargs)\n",
      "     |      Initialize self.  See help(type(self)) for accurate signature.\n",
      "     |  \n",
      "     |  __reduce__(...)\n",
      "     |      Helper for pickle.\n",
      "     |  \n",
      "     |  __str__(self, /)\n",
      "     |      Return str(self).\n",
      "     |  \n",
      "     |  ----------------------------------------------------------------------\n",
      "     |  Static methods defined here:\n",
      "     |  \n",
      "     |  __new__(*args, **kwargs) from type\n",
      "     |      Create and return a new object.  See help(type) for accurate signature.\n",
      "     |  \n",
      "     |  ----------------------------------------------------------------------\n",
      "     |  Data descriptors defined here:\n",
      "     |  \n",
      "     |  characters_written\n",
      "     |  \n",
      "     |  errno\n",
      "     |      POSIX exception code\n",
      "     |  \n",
      "     |  filename\n",
      "     |      exception filename\n",
      "     |  \n",
      "     |  filename2\n",
      "     |      second exception filename\n",
      "     |  \n",
      "     |  strerror\n",
      "     |      exception strerror\n",
      "     |  \n",
      "     |  winerror\n",
      "     |      Win32 exception code\n",
      "     |  \n",
      "     |  ----------------------------------------------------------------------\n",
      "     |  Methods inherited from BaseException:\n",
      "     |  \n",
      "     |  __delattr__(self, name, /)\n",
      "     |      Implement delattr(self, name).\n",
      "     |  \n",
      "     |  __getattribute__(self, name, /)\n",
      "     |      Return getattr(self, name).\n",
      "     |  \n",
      "     |  __repr__(self, /)\n",
      "     |      Return repr(self).\n",
      "     |  \n",
      "     |  __setattr__(self, name, value, /)\n",
      "     |      Implement setattr(self, name, value).\n",
      "     |  \n",
      "     |  __setstate__(...)\n",
      "     |  \n",
      "     |  with_traceback(...)\n",
      "     |      Exception.with_traceback(tb) --\n",
      "     |      set self.__traceback__ to tb and return self.\n",
      "     |  \n",
      "     |  ----------------------------------------------------------------------\n",
      "     |  Data descriptors inherited from BaseException:\n",
      "     |  \n",
      "     |  __cause__\n",
      "     |      exception cause\n",
      "     |  \n",
      "     |  __context__\n",
      "     |      exception context\n",
      "     |  \n",
      "     |  __dict__\n",
      "     |  \n",
      "     |  __suppress_context__\n",
      "     |  \n",
      "     |  __traceback__\n",
      "     |  \n",
      "     |  args\n",
      "    \n",
      "    class ZeroDivisionError(ArithmeticError)\n",
      "     |  Second argument to a division or modulo operation was zero.\n",
      "     |  \n",
      "     |  Method resolution order:\n",
      "     |      ZeroDivisionError\n",
      "     |      ArithmeticError\n",
      "     |      Exception\n",
      "     |      BaseException\n",
      "     |      object\n",
      "     |  \n",
      "     |  Methods defined here:\n",
      "     |  \n",
      "     |  __init__(self, /, *args, **kwargs)\n",
      "     |      Initialize self.  See help(type(self)) for accurate signature.\n",
      "     |  \n",
      "     |  ----------------------------------------------------------------------\n",
      "     |  Static methods defined here:\n",
      "     |  \n",
      "     |  __new__(*args, **kwargs) from type\n",
      "     |      Create and return a new object.  See help(type) for accurate signature.\n",
      "     |  \n",
      "     |  ----------------------------------------------------------------------\n",
      "     |  Methods inherited from BaseException:\n",
      "     |  \n",
      "     |  __delattr__(self, name, /)\n",
      "     |      Implement delattr(self, name).\n",
      "     |  \n",
      "     |  __getattribute__(self, name, /)\n",
      "     |      Return getattr(self, name).\n",
      "     |  \n",
      "     |  __reduce__(...)\n",
      "     |      Helper for pickle.\n",
      "     |  \n",
      "     |  __repr__(self, /)\n",
      "     |      Return repr(self).\n",
      "     |  \n",
      "     |  __setattr__(self, name, value, /)\n",
      "     |      Implement setattr(self, name, value).\n",
      "     |  \n",
      "     |  __setstate__(...)\n",
      "     |  \n",
      "     |  __str__(self, /)\n",
      "     |      Return str(self).\n",
      "     |  \n",
      "     |  with_traceback(...)\n",
      "     |      Exception.with_traceback(tb) --\n",
      "     |      set self.__traceback__ to tb and return self.\n",
      "     |  \n",
      "     |  ----------------------------------------------------------------------\n",
      "     |  Data descriptors inherited from BaseException:\n",
      "     |  \n",
      "     |  __cause__\n",
      "     |      exception cause\n",
      "     |  \n",
      "     |  __context__\n",
      "     |      exception context\n",
      "     |  \n",
      "     |  __dict__\n",
      "     |  \n",
      "     |  __suppress_context__\n",
      "     |  \n",
      "     |  __traceback__\n",
      "     |  \n",
      "     |  args\n",
      "    \n",
      "    class bool(int)\n",
      "     |  bool(x) -> bool\n",
      "     |  \n",
      "     |  Returns True when the argument x is true, False otherwise.\n",
      "     |  The builtins True and False are the only two instances of the class bool.\n",
      "     |  The class bool is a subclass of the class int, and cannot be subclassed.\n",
      "     |  \n",
      "     |  Method resolution order:\n",
      "     |      bool\n",
      "     |      int\n",
      "     |      object\n",
      "     |  \n",
      "     |  Methods defined here:\n",
      "     |  \n",
      "     |  __and__(self, value, /)\n",
      "     |      Return self&value.\n",
      "     |  \n",
      "     |  __or__(self, value, /)\n",
      "     |      Return self|value.\n",
      "     |  \n",
      "     |  __rand__(self, value, /)\n",
      "     |      Return value&self.\n",
      "     |  \n",
      "     |  __repr__(self, /)\n",
      "     |      Return repr(self).\n",
      "     |  \n",
      "     |  __ror__(self, value, /)\n",
      "     |      Return value|self.\n",
      "     |  \n",
      "     |  __rxor__(self, value, /)\n",
      "     |      Return value^self.\n",
      "     |  \n",
      "     |  __xor__(self, value, /)\n",
      "     |      Return self^value.\n",
      "     |  \n",
      "     |  ----------------------------------------------------------------------\n",
      "     |  Static methods defined here:\n",
      "     |  \n",
      "     |  __new__(*args, **kwargs) from type\n",
      "     |      Create and return a new object.  See help(type) for accurate signature.\n",
      "     |  \n",
      "     |  ----------------------------------------------------------------------\n",
      "     |  Methods inherited from int:\n",
      "     |  \n",
      "     |  __abs__(self, /)\n",
      "     |      abs(self)\n",
      "     |  \n",
      "     |  __add__(self, value, /)\n",
      "     |      Return self+value.\n",
      "     |  \n",
      "     |  __bool__(self, /)\n",
      "     |      self != 0\n",
      "     |  \n",
      "     |  __ceil__(...)\n",
      "     |      Ceiling of an Integral returns itself.\n",
      "     |  \n",
      "     |  __divmod__(self, value, /)\n",
      "     |      Return divmod(self, value).\n",
      "     |  \n",
      "     |  __eq__(self, value, /)\n",
      "     |      Return self==value.\n",
      "     |  \n",
      "     |  __float__(self, /)\n",
      "     |      float(self)\n",
      "     |  \n",
      "     |  __floor__(...)\n",
      "     |      Flooring an Integral returns itself.\n",
      "     |  \n",
      "     |  __floordiv__(self, value, /)\n",
      "     |      Return self//value.\n",
      "     |  \n",
      "     |  __format__(self, format_spec, /)\n",
      "     |      Default object formatter.\n",
      "     |  \n",
      "     |  __ge__(self, value, /)\n",
      "     |      Return self>=value.\n",
      "     |  \n",
      "     |  __getattribute__(self, name, /)\n",
      "     |      Return getattr(self, name).\n",
      "     |  \n",
      "     |  __getnewargs__(self, /)\n",
      "     |  \n",
      "     |  __gt__(self, value, /)\n",
      "     |      Return self>value.\n",
      "     |  \n",
      "     |  __hash__(self, /)\n",
      "     |      Return hash(self).\n",
      "     |  \n",
      "     |  __index__(self, /)\n",
      "     |      Return self converted to an integer, if self is suitable for use as an index into a list.\n",
      "     |  \n",
      "     |  __int__(self, /)\n",
      "     |      int(self)\n",
      "     |  \n",
      "     |  __invert__(self, /)\n",
      "     |      ~self\n",
      "     |  \n",
      "     |  __le__(self, value, /)\n",
      "     |      Return self<=value.\n",
      "     |  \n",
      "     |  __lshift__(self, value, /)\n",
      "     |      Return self<<value.\n",
      "     |  \n",
      "     |  __lt__(self, value, /)\n",
      "     |      Return self<value.\n",
      "     |  \n",
      "     |  __mod__(self, value, /)\n",
      "     |      Return self%value.\n",
      "     |  \n",
      "     |  __mul__(self, value, /)\n",
      "     |      Return self*value.\n",
      "     |  \n",
      "     |  __ne__(self, value, /)\n",
      "     |      Return self!=value.\n",
      "     |  \n",
      "     |  __neg__(self, /)\n",
      "     |      -self\n",
      "     |  \n",
      "     |  __pos__(self, /)\n",
      "     |      +self\n",
      "     |  \n",
      "     |  __pow__(self, value, mod=None, /)\n",
      "     |      Return pow(self, value, mod).\n",
      "     |  \n",
      "     |  __radd__(self, value, /)\n",
      "     |      Return value+self.\n",
      "     |  \n",
      "     |  __rdivmod__(self, value, /)\n",
      "     |      Return divmod(value, self).\n",
      "     |  \n",
      "     |  __rfloordiv__(self, value, /)\n",
      "     |      Return value//self.\n",
      "     |  \n",
      "     |  __rlshift__(self, value, /)\n",
      "     |      Return value<<self.\n",
      "     |  \n",
      "     |  __rmod__(self, value, /)\n",
      "     |      Return value%self.\n",
      "     |  \n",
      "     |  __rmul__(self, value, /)\n",
      "     |      Return value*self.\n",
      "     |  \n",
      "     |  __round__(...)\n",
      "     |      Rounding an Integral returns itself.\n",
      "     |      Rounding with an ndigits argument also returns an integer.\n",
      "     |  \n",
      "     |  __rpow__(self, value, mod=None, /)\n",
      "     |      Return pow(value, self, mod).\n",
      "     |  \n",
      "     |  __rrshift__(self, value, /)\n",
      "     |      Return value>>self.\n",
      "     |  \n",
      "     |  __rshift__(self, value, /)\n",
      "     |      Return self>>value.\n",
      "     |  \n",
      "     |  __rsub__(self, value, /)\n",
      "     |      Return value-self.\n",
      "     |  \n",
      "     |  __rtruediv__(self, value, /)\n",
      "     |      Return value/self.\n",
      "     |  \n",
      "     |  __sizeof__(self, /)\n",
      "     |      Returns size in memory, in bytes.\n",
      "     |  \n",
      "     |  __sub__(self, value, /)\n",
      "     |      Return self-value.\n",
      "     |  \n",
      "     |  __truediv__(self, value, /)\n",
      "     |      Return self/value.\n",
      "     |  \n",
      "     |  __trunc__(...)\n",
      "     |      Truncating an Integral returns itself.\n",
      "     |  \n",
      "     |  as_integer_ratio(self, /)\n",
      "     |      Return integer ratio.\n",
      "     |      \n",
      "     |      Return a pair of integers, whose ratio is exactly equal to the original int\n",
      "     |      and with a positive denominator.\n",
      "     |      \n",
      "     |      >>> (10).as_integer_ratio()\n",
      "     |      (10, 1)\n",
      "     |      >>> (-10).as_integer_ratio()\n",
      "     |      (-10, 1)\n",
      "     |      >>> (0).as_integer_ratio()\n",
      "     |      (0, 1)\n",
      "     |  \n",
      "     |  bit_length(self, /)\n",
      "     |      Number of bits necessary to represent self in binary.\n",
      "     |      \n",
      "     |      >>> bin(37)\n",
      "     |      '0b100101'\n",
      "     |      >>> (37).bit_length()\n",
      "     |      6\n",
      "     |  \n",
      "     |  conjugate(...)\n",
      "     |      Returns self, the complex conjugate of any int.\n",
      "     |  \n",
      "     |  to_bytes(self, /, length, byteorder, *, signed=False)\n",
      "     |      Return an array of bytes representing an integer.\n",
      "     |      \n",
      "     |      length\n",
      "     |        Length of bytes object to use.  An OverflowError is raised if the\n",
      "     |        integer is not representable with the given number of bytes.\n",
      "     |      byteorder\n",
      "     |        The byte order used to represent the integer.  If byteorder is 'big',\n",
      "     |        the most significant byte is at the beginning of the byte array.  If\n",
      "     |        byteorder is 'little', the most significant byte is at the end of the\n",
      "     |        byte array.  To request the native byte order of the host system, use\n",
      "     |        `sys.byteorder' as the byte order value.\n",
      "     |      signed\n",
      "     |        Determines whether two's complement is used to represent the integer.\n",
      "     |        If signed is False and a negative integer is given, an OverflowError\n",
      "     |        is raised.\n",
      "     |  \n",
      "     |  ----------------------------------------------------------------------\n",
      "     |  Class methods inherited from int:\n",
      "     |  \n",
      "     |  from_bytes(bytes, byteorder, *, signed=False) from type\n",
      "     |      Return the integer represented by the given array of bytes.\n",
      "     |      \n",
      "     |      bytes\n",
      "     |        Holds the array of bytes to convert.  The argument must either\n",
      "     |        support the buffer protocol or be an iterable object producing bytes.\n",
      "     |        Bytes and bytearray are examples of built-in objects that support the\n",
      "     |        buffer protocol.\n",
      "     |      byteorder\n",
      "     |        The byte order used to represent the integer.  If byteorder is 'big',\n",
      "     |        the most significant byte is at the beginning of the byte array.  If\n",
      "     |        byteorder is 'little', the most significant byte is at the end of the\n",
      "     |        byte array.  To request the native byte order of the host system, use\n",
      "     |        `sys.byteorder' as the byte order value.\n",
      "     |      signed\n",
      "     |        Indicates whether two's complement is used to represent the integer.\n",
      "     |  \n",
      "     |  ----------------------------------------------------------------------\n",
      "     |  Data descriptors inherited from int:\n",
      "     |  \n",
      "     |  denominator\n",
      "     |      the denominator of a rational number in lowest terms\n",
      "     |  \n",
      "     |  imag\n",
      "     |      the imaginary part of a complex number\n",
      "     |  \n",
      "     |  numerator\n",
      "     |      the numerator of a rational number in lowest terms\n",
      "     |  \n",
      "     |  real\n",
      "     |      the real part of a complex number\n",
      "    \n",
      "    class bytearray(object)\n",
      "     |  bytearray(iterable_of_ints) -> bytearray\n",
      "     |  bytearray(string, encoding[, errors]) -> bytearray\n",
      "     |  bytearray(bytes_or_buffer) -> mutable copy of bytes_or_buffer\n",
      "     |  bytearray(int) -> bytes array of size given by the parameter initialized with null bytes\n",
      "     |  bytearray() -> empty bytes array\n",
      "     |  \n",
      "     |  Construct a mutable bytearray object from:\n",
      "     |    - an iterable yielding integers in range(256)\n",
      "     |    - a text string encoded using the specified encoding\n",
      "     |    - a bytes or a buffer object\n",
      "     |    - any object implementing the buffer API.\n",
      "     |    - an integer\n",
      "     |  \n",
      "     |  Methods defined here:\n",
      "     |  \n",
      "     |  __add__(self, value, /)\n",
      "     |      Return self+value.\n",
      "     |  \n",
      "     |  __alloc__(...)\n",
      "     |      B.__alloc__() -> int\n",
      "     |      \n",
      "     |      Return the number of bytes actually allocated.\n",
      "     |  \n",
      "     |  __contains__(self, key, /)\n",
      "     |      Return key in self.\n",
      "     |  \n",
      "     |  __delitem__(self, key, /)\n",
      "     |      Delete self[key].\n",
      "     |  \n",
      "     |  __eq__(self, value, /)\n",
      "     |      Return self==value.\n",
      "     |  \n",
      "     |  __ge__(self, value, /)\n",
      "     |      Return self>=value.\n",
      "     |  \n",
      "     |  __getattribute__(self, name, /)\n",
      "     |      Return getattr(self, name).\n",
      "     |  \n",
      "     |  __getitem__(self, key, /)\n",
      "     |      Return self[key].\n",
      "     |  \n",
      "     |  __gt__(self, value, /)\n",
      "     |      Return self>value.\n",
      "     |  \n",
      "     |  __iadd__(self, value, /)\n",
      "     |      Implement self+=value.\n",
      "     |  \n",
      "     |  __imul__(self, value, /)\n",
      "     |      Implement self*=value.\n",
      "     |  \n",
      "     |  __init__(self, /, *args, **kwargs)\n",
      "     |      Initialize self.  See help(type(self)) for accurate signature.\n",
      "     |  \n",
      "     |  __iter__(self, /)\n",
      "     |      Implement iter(self).\n",
      "     |  \n",
      "     |  __le__(self, value, /)\n",
      "     |      Return self<=value.\n",
      "     |  \n",
      "     |  __len__(self, /)\n",
      "     |      Return len(self).\n",
      "     |  \n",
      "     |  __lt__(self, value, /)\n",
      "     |      Return self<value.\n",
      "     |  \n",
      "     |  __mod__(self, value, /)\n",
      "     |      Return self%value.\n",
      "     |  \n",
      "     |  __mul__(self, value, /)\n",
      "     |      Return self*value.\n",
      "     |  \n",
      "     |  __ne__(self, value, /)\n",
      "     |      Return self!=value.\n",
      "     |  \n",
      "     |  __reduce__(self, /)\n",
      "     |      Return state information for pickling.\n",
      "     |  \n",
      "     |  __reduce_ex__(self, proto=0, /)\n",
      "     |      Return state information for pickling.\n",
      "     |  \n",
      "     |  __repr__(self, /)\n",
      "     |      Return repr(self).\n",
      "     |  \n",
      "     |  __rmod__(self, value, /)\n",
      "     |      Return value%self.\n",
      "     |  \n",
      "     |  __rmul__(self, value, /)\n",
      "     |      Return value*self.\n",
      "     |  \n",
      "     |  __setitem__(self, key, value, /)\n",
      "     |      Set self[key] to value.\n",
      "     |  \n",
      "     |  __sizeof__(self, /)\n",
      "     |      Returns the size of the bytearray object in memory, in bytes.\n",
      "     |  \n",
      "     |  __str__(self, /)\n",
      "     |      Return str(self).\n",
      "     |  \n",
      "     |  append(self, item, /)\n",
      "     |      Append a single item to the end of the bytearray.\n",
      "     |      \n",
      "     |      item\n",
      "     |        The item to be appended.\n",
      "     |  \n",
      "     |  capitalize(...)\n",
      "     |      B.capitalize() -> copy of B\n",
      "     |      \n",
      "     |      Return a copy of B with only its first character capitalized (ASCII)\n",
      "     |      and the rest lower-cased.\n",
      "     |  \n",
      "     |  center(self, width, fillchar=b' ', /)\n",
      "     |      Return a centered string of length width.\n",
      "     |      \n",
      "     |      Padding is done using the specified fill character.\n",
      "     |  \n",
      "     |  clear(self, /)\n",
      "     |      Remove all items from the bytearray.\n",
      "     |  \n",
      "     |  copy(self, /)\n",
      "     |      Return a copy of B.\n",
      "     |  \n",
      "     |  count(...)\n",
      "     |      B.count(sub[, start[, end]]) -> int\n",
      "     |      \n",
      "     |      Return the number of non-overlapping occurrences of subsection sub in\n",
      "     |      bytes B[start:end].  Optional arguments start and end are interpreted\n",
      "     |      as in slice notation.\n",
      "     |  \n",
      "     |  decode(self, /, encoding='utf-8', errors='strict')\n",
      "     |      Decode the bytearray using the codec registered for encoding.\n",
      "     |      \n",
      "     |      encoding\n",
      "     |        The encoding with which to decode the bytearray.\n",
      "     |      errors\n",
      "     |        The error handling scheme to use for the handling of decoding errors.\n",
      "     |        The default is 'strict' meaning that decoding errors raise a\n",
      "     |        UnicodeDecodeError. Other possible values are 'ignore' and 'replace'\n",
      "     |        as well as any other name registered with codecs.register_error that\n",
      "     |        can handle UnicodeDecodeErrors.\n",
      "     |  \n",
      "     |  endswith(...)\n",
      "     |      B.endswith(suffix[, start[, end]]) -> bool\n",
      "     |      \n",
      "     |      Return True if B ends with the specified suffix, False otherwise.\n",
      "     |      With optional start, test B beginning at that position.\n",
      "     |      With optional end, stop comparing B at that position.\n",
      "     |      suffix can also be a tuple of bytes to try.\n",
      "     |  \n",
      "     |  expandtabs(self, /, tabsize=8)\n",
      "     |      Return a copy where all tab characters are expanded using spaces.\n",
      "     |      \n",
      "     |      If tabsize is not given, a tab size of 8 characters is assumed.\n",
      "     |  \n",
      "     |  extend(self, iterable_of_ints, /)\n",
      "     |      Append all the items from the iterator or sequence to the end of the bytearray.\n",
      "     |      \n",
      "     |      iterable_of_ints\n",
      "     |        The iterable of items to append.\n",
      "     |  \n",
      "     |  find(...)\n",
      "     |      B.find(sub[, start[, end]]) -> int\n",
      "     |      \n",
      "     |      Return the lowest index in B where subsection sub is found,\n",
      "     |      such that sub is contained within B[start,end].  Optional\n",
      "     |      arguments start and end are interpreted as in slice notation.\n",
      "     |      \n",
      "     |      Return -1 on failure.\n",
      "     |  \n",
      "     |  hex(...)\n",
      "     |      Create a str of hexadecimal numbers from a bytearray object.\n",
      "     |      \n",
      "     |        sep\n",
      "     |          An optional single character or byte to separate hex bytes.\n",
      "     |        bytes_per_sep\n",
      "     |          How many bytes between separators.  Positive values count from the\n",
      "     |          right, negative values count from the left.\n",
      "     |      \n",
      "     |      Example:\n",
      "     |      >>> value = bytearray([0xb9, 0x01, 0xef])\n",
      "     |      >>> value.hex()\n",
      "     |      'b901ef'\n",
      "     |      >>> value.hex(':')\n",
      "     |      'b9:01:ef'\n",
      "     |      >>> value.hex(':', 2)\n",
      "     |      'b9:01ef'\n",
      "     |      >>> value.hex(':', -2)\n",
      "     |      'b901:ef'\n",
      "     |  \n",
      "     |  index(...)\n",
      "     |      B.index(sub[, start[, end]]) -> int\n",
      "     |      \n",
      "     |      Return the lowest index in B where subsection sub is found,\n",
      "     |      such that sub is contained within B[start,end].  Optional\n",
      "     |      arguments start and end are interpreted as in slice notation.\n",
      "     |      \n",
      "     |      Raises ValueError when the subsection is not found.\n",
      "     |  \n",
      "     |  insert(self, index, item, /)\n",
      "     |      Insert a single item into the bytearray before the given index.\n",
      "     |      \n",
      "     |      index\n",
      "     |        The index where the value is to be inserted.\n",
      "     |      item\n",
      "     |        The item to be inserted.\n",
      "     |  \n",
      "     |  isalnum(...)\n",
      "     |      B.isalnum() -> bool\n",
      "     |      \n",
      "     |      Return True if all characters in B are alphanumeric\n",
      "     |      and there is at least one character in B, False otherwise.\n",
      "     |  \n",
      "     |  isalpha(...)\n",
      "     |      B.isalpha() -> bool\n",
      "     |      \n",
      "     |      Return True if all characters in B are alphabetic\n",
      "     |      and there is at least one character in B, False otherwise.\n",
      "     |  \n",
      "     |  isascii(...)\n",
      "     |      B.isascii() -> bool\n",
      "     |      \n",
      "     |      Return True if B is empty or all characters in B are ASCII,\n",
      "     |      False otherwise.\n",
      "     |  \n",
      "     |  isdigit(...)\n",
      "     |      B.isdigit() -> bool\n",
      "     |      \n",
      "     |      Return True if all characters in B are digits\n",
      "     |      and there is at least one character in B, False otherwise.\n",
      "     |  \n",
      "     |  islower(...)\n",
      "     |      B.islower() -> bool\n",
      "     |      \n",
      "     |      Return True if all cased characters in B are lowercase and there is\n",
      "     |      at least one cased character in B, False otherwise.\n",
      "     |  \n",
      "     |  isspace(...)\n",
      "     |      B.isspace() -> bool\n",
      "     |      \n",
      "     |      Return True if all characters in B are whitespace\n",
      "     |      and there is at least one character in B, False otherwise.\n",
      "     |  \n",
      "     |  istitle(...)\n",
      "     |      B.istitle() -> bool\n",
      "     |      \n",
      "     |      Return True if B is a titlecased string and there is at least one\n",
      "     |      character in B, i.e. uppercase characters may only follow uncased\n",
      "     |      characters and lowercase characters only cased ones. Return False\n",
      "     |      otherwise.\n",
      "     |  \n",
      "     |  isupper(...)\n",
      "     |      B.isupper() -> bool\n",
      "     |      \n",
      "     |      Return True if all cased characters in B are uppercase and there is\n",
      "     |      at least one cased character in B, False otherwise.\n",
      "     |  \n",
      "     |  join(self, iterable_of_bytes, /)\n",
      "     |      Concatenate any number of bytes/bytearray objects.\n",
      "     |      \n",
      "     |      The bytearray whose method is called is inserted in between each pair.\n",
      "     |      \n",
      "     |      The result is returned as a new bytearray object.\n",
      "     |  \n",
      "     |  ljust(self, width, fillchar=b' ', /)\n",
      "     |      Return a left-justified string of length width.\n",
      "     |      \n",
      "     |      Padding is done using the specified fill character.\n",
      "     |  \n",
      "     |  lower(...)\n",
      "     |      B.lower() -> copy of B\n",
      "     |      \n",
      "     |      Return a copy of B with all ASCII characters converted to lowercase.\n",
      "     |  \n",
      "     |  lstrip(self, bytes=None, /)\n",
      "     |      Strip leading bytes contained in the argument.\n",
      "     |      \n",
      "     |      If the argument is omitted or None, strip leading ASCII whitespace.\n",
      "     |  \n",
      "     |  partition(self, sep, /)\n",
      "     |      Partition the bytearray into three parts using the given separator.\n",
      "     |      \n",
      "     |      This will search for the separator sep in the bytearray. If the separator is\n",
      "     |      found, returns a 3-tuple containing the part before the separator, the\n",
      "     |      separator itself, and the part after it as new bytearray objects.\n",
      "     |      \n",
      "     |      If the separator is not found, returns a 3-tuple containing the copy of the\n",
      "     |      original bytearray object and two empty bytearray objects.\n",
      "     |  \n",
      "     |  pop(self, index=-1, /)\n",
      "     |      Remove and return a single item from B.\n",
      "     |      \n",
      "     |        index\n",
      "     |          The index from where to remove the item.\n",
      "     |          -1 (the default value) means remove the last item.\n",
      "     |      \n",
      "     |      If no index argument is given, will pop the last item.\n",
      "     |  \n",
      "     |  remove(self, value, /)\n",
      "     |      Remove the first occurrence of a value in the bytearray.\n",
      "     |      \n",
      "     |      value\n",
      "     |        The value to remove.\n",
      "     |  \n",
      "     |  removeprefix(self, prefix, /)\n",
      "     |      Return a bytearray with the given prefix string removed if present.\n",
      "     |      \n",
      "     |      If the bytearray starts with the prefix string, return\n",
      "     |      bytearray[len(prefix):].  Otherwise, return a copy of the original\n",
      "     |      bytearray.\n",
      "     |  \n",
      "     |  removesuffix(self, suffix, /)\n",
      "     |      Return a bytearray with the given suffix string removed if present.\n",
      "     |      \n",
      "     |      If the bytearray ends with the suffix string and that suffix is not\n",
      "     |      empty, return bytearray[:-len(suffix)].  Otherwise, return a copy of\n",
      "     |      the original bytearray.\n",
      "     |  \n",
      "     |  replace(self, old, new, count=-1, /)\n",
      "     |      Return a copy with all occurrences of substring old replaced by new.\n",
      "     |      \n",
      "     |        count\n",
      "     |          Maximum number of occurrences to replace.\n",
      "     |          -1 (the default value) means replace all occurrences.\n",
      "     |      \n",
      "     |      If the optional argument count is given, only the first count occurrences are\n",
      "     |      replaced.\n",
      "     |  \n",
      "     |  reverse(self, /)\n",
      "     |      Reverse the order of the values in B in place.\n",
      "     |  \n",
      "     |  rfind(...)\n",
      "     |      B.rfind(sub[, start[, end]]) -> int\n",
      "     |      \n",
      "     |      Return the highest index in B where subsection sub is found,\n",
      "     |      such that sub is contained within B[start,end].  Optional\n",
      "     |      arguments start and end are interpreted as in slice notation.\n",
      "     |      \n",
      "     |      Return -1 on failure.\n",
      "     |  \n",
      "     |  rindex(...)\n",
      "     |      B.rindex(sub[, start[, end]]) -> int\n",
      "     |      \n",
      "     |      Return the highest index in B where subsection sub is found,\n",
      "     |      such that sub is contained within B[start,end].  Optional\n",
      "     |      arguments start and end are interpreted as in slice notation.\n",
      "     |      \n",
      "     |      Raise ValueError when the subsection is not found.\n",
      "     |  \n",
      "     |  rjust(self, width, fillchar=b' ', /)\n",
      "     |      Return a right-justified string of length width.\n",
      "     |      \n",
      "     |      Padding is done using the specified fill character.\n",
      "     |  \n",
      "     |  rpartition(self, sep, /)\n",
      "     |      Partition the bytearray into three parts using the given separator.\n",
      "     |      \n",
      "     |      This will search for the separator sep in the bytearray, starting at the end.\n",
      "     |      If the separator is found, returns a 3-tuple containing the part before the\n",
      "     |      separator, the separator itself, and the part after it as new bytearray\n",
      "     |      objects.\n",
      "     |      \n",
      "     |      If the separator is not found, returns a 3-tuple containing two empty bytearray\n",
      "     |      objects and the copy of the original bytearray object.\n",
      "     |  \n",
      "     |  rsplit(self, /, sep=None, maxsplit=-1)\n",
      "     |      Return a list of the sections in the bytearray, using sep as the delimiter.\n",
      "     |      \n",
      "     |        sep\n",
      "     |          The delimiter according which to split the bytearray.\n",
      "     |          None (the default value) means split on ASCII whitespace characters\n",
      "     |          (space, tab, return, newline, formfeed, vertical tab).\n",
      "     |        maxsplit\n",
      "     |          Maximum number of splits to do.\n",
      "     |          -1 (the default value) means no limit.\n",
      "     |      \n",
      "     |      Splitting is done starting at the end of the bytearray and working to the front.\n",
      "     |  \n",
      "     |  rstrip(self, bytes=None, /)\n",
      "     |      Strip trailing bytes contained in the argument.\n",
      "     |      \n",
      "     |      If the argument is omitted or None, strip trailing ASCII whitespace.\n",
      "     |  \n",
      "     |  split(self, /, sep=None, maxsplit=-1)\n",
      "     |      Return a list of the sections in the bytearray, using sep as the delimiter.\n",
      "     |      \n",
      "     |      sep\n",
      "     |        The delimiter according which to split the bytearray.\n",
      "     |        None (the default value) means split on ASCII whitespace characters\n",
      "     |        (space, tab, return, newline, formfeed, vertical tab).\n",
      "     |      maxsplit\n",
      "     |        Maximum number of splits to do.\n",
      "     |        -1 (the default value) means no limit.\n",
      "     |  \n",
      "     |  splitlines(self, /, keepends=False)\n",
      "     |      Return a list of the lines in the bytearray, breaking at line boundaries.\n",
      "     |      \n",
      "     |      Line breaks are not included in the resulting list unless keepends is given and\n",
      "     |      true.\n",
      "     |  \n",
      "     |  startswith(...)\n",
      "     |      B.startswith(prefix[, start[, end]]) -> bool\n",
      "     |      \n",
      "     |      Return True if B starts with the specified prefix, False otherwise.\n",
      "     |      With optional start, test B beginning at that position.\n",
      "     |      With optional end, stop comparing B at that position.\n",
      "     |      prefix can also be a tuple of bytes to try.\n",
      "     |  \n",
      "     |  strip(self, bytes=None, /)\n",
      "     |      Strip leading and trailing bytes contained in the argument.\n",
      "     |      \n",
      "     |      If the argument is omitted or None, strip leading and trailing ASCII whitespace.\n",
      "     |  \n",
      "     |  swapcase(...)\n",
      "     |      B.swapcase() -> copy of B\n",
      "     |      \n",
      "     |      Return a copy of B with uppercase ASCII characters converted\n",
      "     |      to lowercase ASCII and vice versa.\n",
      "     |  \n",
      "     |  title(...)\n",
      "     |      B.title() -> copy of B\n",
      "     |      \n",
      "     |      Return a titlecased version of B, i.e. ASCII words start with uppercase\n",
      "     |      characters, all remaining cased characters have lowercase.\n",
      "     |  \n",
      "     |  translate(self, table, /, delete=b'')\n",
      "     |      Return a copy with each character mapped by the given translation table.\n",
      "     |      \n",
      "     |        table\n",
      "     |          Translation table, which must be a bytes object of length 256.\n",
      "     |      \n",
      "     |      All characters occurring in the optional argument delete are removed.\n",
      "     |      The remaining characters are mapped through the given translation table.\n",
      "     |  \n",
      "     |  upper(...)\n",
      "     |      B.upper() -> copy of B\n",
      "     |      \n",
      "     |      Return a copy of B with all ASCII characters converted to uppercase.\n",
      "     |  \n",
      "     |  zfill(self, width, /)\n",
      "     |      Pad a numeric string with zeros on the left, to fill a field of the given width.\n",
      "     |      \n",
      "     |      The original string is never truncated.\n",
      "     |  \n",
      "     |  ----------------------------------------------------------------------\n",
      "     |  Class methods defined here:\n",
      "     |  \n",
      "     |  fromhex(string, /) from type\n",
      "     |      Create a bytearray object from a string of hexadecimal numbers.\n",
      "     |      \n",
      "     |      Spaces between two numbers are accepted.\n",
      "     |      Example: bytearray.fromhex('B9 01EF') -> bytearray(b'\\\\xb9\\\\x01\\\\xef')\n",
      "     |  \n",
      "     |  ----------------------------------------------------------------------\n",
      "     |  Static methods defined here:\n",
      "     |  \n",
      "     |  __new__(*args, **kwargs) from type\n",
      "     |      Create and return a new object.  See help(type) for accurate signature.\n",
      "     |  \n",
      "     |  maketrans(frm, to, /)\n",
      "     |      Return a translation table useable for the bytes or bytearray translate method.\n",
      "     |      \n",
      "     |      The returned table will be one where each byte in frm is mapped to the byte at\n",
      "     |      the same position in to.\n",
      "     |      \n",
      "     |      The bytes objects frm and to must be of the same length.\n",
      "     |  \n",
      "     |  ----------------------------------------------------------------------\n",
      "     |  Data and other attributes defined here:\n",
      "     |  \n",
      "     |  __hash__ = None\n",
      "    \n",
      "    class bytes(object)\n",
      "     |  bytes(iterable_of_ints) -> bytes\n",
      "     |  bytes(string, encoding[, errors]) -> bytes\n",
      "     |  bytes(bytes_or_buffer) -> immutable copy of bytes_or_buffer\n",
      "     |  bytes(int) -> bytes object of size given by the parameter initialized with null bytes\n",
      "     |  bytes() -> empty bytes object\n",
      "     |  \n",
      "     |  Construct an immutable array of bytes from:\n",
      "     |    - an iterable yielding integers in range(256)\n",
      "     |    - a text string encoded using the specified encoding\n",
      "     |    - any object implementing the buffer API.\n",
      "     |    - an integer\n",
      "     |  \n",
      "     |  Methods defined here:\n",
      "     |  \n",
      "     |  __add__(self, value, /)\n",
      "     |      Return self+value.\n",
      "     |  \n",
      "     |  __contains__(self, key, /)\n",
      "     |      Return key in self.\n",
      "     |  \n",
      "     |  __eq__(self, value, /)\n",
      "     |      Return self==value.\n",
      "     |  \n",
      "     |  __ge__(self, value, /)\n",
      "     |      Return self>=value.\n",
      "     |  \n",
      "     |  __getattribute__(self, name, /)\n",
      "     |      Return getattr(self, name).\n",
      "     |  \n",
      "     |  __getitem__(self, key, /)\n",
      "     |      Return self[key].\n",
      "     |  \n",
      "     |  __getnewargs__(...)\n",
      "     |  \n",
      "     |  __gt__(self, value, /)\n",
      "     |      Return self>value.\n",
      "     |  \n",
      "     |  __hash__(self, /)\n",
      "     |      Return hash(self).\n",
      "     |  \n",
      "     |  __iter__(self, /)\n",
      "     |      Implement iter(self).\n",
      "     |  \n",
      "     |  __le__(self, value, /)\n",
      "     |      Return self<=value.\n",
      "     |  \n",
      "     |  __len__(self, /)\n",
      "     |      Return len(self).\n",
      "     |  \n",
      "     |  __lt__(self, value, /)\n",
      "     |      Return self<value.\n",
      "     |  \n",
      "     |  __mod__(self, value, /)\n",
      "     |      Return self%value.\n",
      "     |  \n",
      "     |  __mul__(self, value, /)\n",
      "     |      Return self*value.\n",
      "     |  \n",
      "     |  __ne__(self, value, /)\n",
      "     |      Return self!=value.\n",
      "     |  \n",
      "     |  __repr__(self, /)\n",
      "     |      Return repr(self).\n",
      "     |  \n",
      "     |  __rmod__(self, value, /)\n",
      "     |      Return value%self.\n",
      "     |  \n",
      "     |  __rmul__(self, value, /)\n",
      "     |      Return value*self.\n",
      "     |  \n",
      "     |  __str__(self, /)\n",
      "     |      Return str(self).\n",
      "     |  \n",
      "     |  capitalize(...)\n",
      "     |      B.capitalize() -> copy of B\n",
      "     |      \n",
      "     |      Return a copy of B with only its first character capitalized (ASCII)\n",
      "     |      and the rest lower-cased.\n",
      "     |  \n",
      "     |  center(self, width, fillchar=b' ', /)\n",
      "     |      Return a centered string of length width.\n",
      "     |      \n",
      "     |      Padding is done using the specified fill character.\n",
      "     |  \n",
      "     |  count(...)\n",
      "     |      B.count(sub[, start[, end]]) -> int\n",
      "     |      \n",
      "     |      Return the number of non-overlapping occurrences of subsection sub in\n",
      "     |      bytes B[start:end].  Optional arguments start and end are interpreted\n",
      "     |      as in slice notation.\n",
      "     |  \n",
      "     |  decode(self, /, encoding='utf-8', errors='strict')\n",
      "     |      Decode the bytes using the codec registered for encoding.\n",
      "     |      \n",
      "     |      encoding\n",
      "     |        The encoding with which to decode the bytes.\n",
      "     |      errors\n",
      "     |        The error handling scheme to use for the handling of decoding errors.\n",
      "     |        The default is 'strict' meaning that decoding errors raise a\n",
      "     |        UnicodeDecodeError. Other possible values are 'ignore' and 'replace'\n",
      "     |        as well as any other name registered with codecs.register_error that\n",
      "     |        can handle UnicodeDecodeErrors.\n",
      "     |  \n",
      "     |  endswith(...)\n",
      "     |      B.endswith(suffix[, start[, end]]) -> bool\n",
      "     |      \n",
      "     |      Return True if B ends with the specified suffix, False otherwise.\n",
      "     |      With optional start, test B beginning at that position.\n",
      "     |      With optional end, stop comparing B at that position.\n",
      "     |      suffix can also be a tuple of bytes to try.\n",
      "     |  \n",
      "     |  expandtabs(self, /, tabsize=8)\n",
      "     |      Return a copy where all tab characters are expanded using spaces.\n",
      "     |      \n",
      "     |      If tabsize is not given, a tab size of 8 characters is assumed.\n",
      "     |  \n",
      "     |  find(...)\n",
      "     |      B.find(sub[, start[, end]]) -> int\n",
      "     |      \n",
      "     |      Return the lowest index in B where subsection sub is found,\n",
      "     |      such that sub is contained within B[start,end].  Optional\n",
      "     |      arguments start and end are interpreted as in slice notation.\n",
      "     |      \n",
      "     |      Return -1 on failure.\n",
      "     |  \n",
      "     |  hex(...)\n",
      "     |      Create a str of hexadecimal numbers from a bytes object.\n",
      "     |      \n",
      "     |        sep\n",
      "     |          An optional single character or byte to separate hex bytes.\n",
      "     |        bytes_per_sep\n",
      "     |          How many bytes between separators.  Positive values count from the\n",
      "     |          right, negative values count from the left.\n",
      "     |      \n",
      "     |      Example:\n",
      "     |      >>> value = b'\\xb9\\x01\\xef'\n",
      "     |      >>> value.hex()\n",
      "     |      'b901ef'\n",
      "     |      >>> value.hex(':')\n",
      "     |      'b9:01:ef'\n",
      "     |      >>> value.hex(':', 2)\n",
      "     |      'b9:01ef'\n",
      "     |      >>> value.hex(':', -2)\n",
      "     |      'b901:ef'\n",
      "     |  \n",
      "     |  index(...)\n",
      "     |      B.index(sub[, start[, end]]) -> int\n",
      "     |      \n",
      "     |      Return the lowest index in B where subsection sub is found,\n",
      "     |      such that sub is contained within B[start,end].  Optional\n",
      "     |      arguments start and end are interpreted as in slice notation.\n",
      "     |      \n",
      "     |      Raises ValueError when the subsection is not found.\n",
      "     |  \n",
      "     |  isalnum(...)\n",
      "     |      B.isalnum() -> bool\n",
      "     |      \n",
      "     |      Return True if all characters in B are alphanumeric\n",
      "     |      and there is at least one character in B, False otherwise.\n",
      "     |  \n",
      "     |  isalpha(...)\n",
      "     |      B.isalpha() -> bool\n",
      "     |      \n",
      "     |      Return True if all characters in B are alphabetic\n",
      "     |      and there is at least one character in B, False otherwise.\n",
      "     |  \n",
      "     |  isascii(...)\n",
      "     |      B.isascii() -> bool\n",
      "     |      \n",
      "     |      Return True if B is empty or all characters in B are ASCII,\n",
      "     |      False otherwise.\n",
      "     |  \n",
      "     |  isdigit(...)\n",
      "     |      B.isdigit() -> bool\n",
      "     |      \n",
      "     |      Return True if all characters in B are digits\n",
      "     |      and there is at least one character in B, False otherwise.\n",
      "     |  \n",
      "     |  islower(...)\n",
      "     |      B.islower() -> bool\n",
      "     |      \n",
      "     |      Return True if all cased characters in B are lowercase and there is\n",
      "     |      at least one cased character in B, False otherwise.\n",
      "     |  \n",
      "     |  isspace(...)\n",
      "     |      B.isspace() -> bool\n",
      "     |      \n",
      "     |      Return True if all characters in B are whitespace\n",
      "     |      and there is at least one character in B, False otherwise.\n",
      "     |  \n",
      "     |  istitle(...)\n",
      "     |      B.istitle() -> bool\n",
      "     |      \n",
      "     |      Return True if B is a titlecased string and there is at least one\n",
      "     |      character in B, i.e. uppercase characters may only follow uncased\n",
      "     |      characters and lowercase characters only cased ones. Return False\n",
      "     |      otherwise.\n",
      "     |  \n",
      "     |  isupper(...)\n",
      "     |      B.isupper() -> bool\n",
      "     |      \n",
      "     |      Return True if all cased characters in B are uppercase and there is\n",
      "     |      at least one cased character in B, False otherwise.\n",
      "     |  \n",
      "     |  join(self, iterable_of_bytes, /)\n",
      "     |      Concatenate any number of bytes objects.\n",
      "     |      \n",
      "     |      The bytes whose method is called is inserted in between each pair.\n",
      "     |      \n",
      "     |      The result is returned as a new bytes object.\n",
      "     |      \n",
      "     |      Example: b'.'.join([b'ab', b'pq', b'rs']) -> b'ab.pq.rs'.\n",
      "     |  \n",
      "     |  ljust(self, width, fillchar=b' ', /)\n",
      "     |      Return a left-justified string of length width.\n",
      "     |      \n",
      "     |      Padding is done using the specified fill character.\n",
      "     |  \n",
      "     |  lower(...)\n",
      "     |      B.lower() -> copy of B\n",
      "     |      \n",
      "     |      Return a copy of B with all ASCII characters converted to lowercase.\n",
      "     |  \n",
      "     |  lstrip(self, bytes=None, /)\n",
      "     |      Strip leading bytes contained in the argument.\n",
      "     |      \n",
      "     |      If the argument is omitted or None, strip leading  ASCII whitespace.\n",
      "     |  \n",
      "     |  partition(self, sep, /)\n",
      "     |      Partition the bytes into three parts using the given separator.\n",
      "     |      \n",
      "     |      This will search for the separator sep in the bytes. If the separator is found,\n",
      "     |      returns a 3-tuple containing the part before the separator, the separator\n",
      "     |      itself, and the part after it.\n",
      "     |      \n",
      "     |      If the separator is not found, returns a 3-tuple containing the original bytes\n",
      "     |      object and two empty bytes objects.\n",
      "     |  \n",
      "     |  removeprefix(self, prefix, /)\n",
      "     |      Return a bytes object with the given prefix string removed if present.\n",
      "     |      \n",
      "     |      If the bytes starts with the prefix string, return bytes[len(prefix):].\n",
      "     |      Otherwise, return a copy of the original bytes.\n",
      "     |  \n",
      "     |  removesuffix(self, suffix, /)\n",
      "     |      Return a bytes object with the given suffix string removed if present.\n",
      "     |      \n",
      "     |      If the bytes ends with the suffix string and that suffix is not empty,\n",
      "     |      return bytes[:-len(prefix)].  Otherwise, return a copy of the original\n",
      "     |      bytes.\n",
      "     |  \n",
      "     |  replace(self, old, new, count=-1, /)\n",
      "     |      Return a copy with all occurrences of substring old replaced by new.\n",
      "     |      \n",
      "     |        count\n",
      "     |          Maximum number of occurrences to replace.\n",
      "     |          -1 (the default value) means replace all occurrences.\n",
      "     |      \n",
      "     |      If the optional argument count is given, only the first count occurrences are\n",
      "     |      replaced.\n",
      "     |  \n",
      "     |  rfind(...)\n",
      "     |      B.rfind(sub[, start[, end]]) -> int\n",
      "     |      \n",
      "     |      Return the highest index in B where subsection sub is found,\n",
      "     |      such that sub is contained within B[start,end].  Optional\n",
      "     |      arguments start and end are interpreted as in slice notation.\n",
      "     |      \n",
      "     |      Return -1 on failure.\n",
      "     |  \n",
      "     |  rindex(...)\n",
      "     |      B.rindex(sub[, start[, end]]) -> int\n",
      "     |      \n",
      "     |      Return the highest index in B where subsection sub is found,\n",
      "     |      such that sub is contained within B[start,end].  Optional\n",
      "     |      arguments start and end are interpreted as in slice notation.\n",
      "     |      \n",
      "     |      Raise ValueError when the subsection is not found.\n",
      "     |  \n",
      "     |  rjust(self, width, fillchar=b' ', /)\n",
      "     |      Return a right-justified string of length width.\n",
      "     |      \n",
      "     |      Padding is done using the specified fill character.\n",
      "     |  \n",
      "     |  rpartition(self, sep, /)\n",
      "     |      Partition the bytes into three parts using the given separator.\n",
      "     |      \n",
      "     |      This will search for the separator sep in the bytes, starting at the end. If\n",
      "     |      the separator is found, returns a 3-tuple containing the part before the\n",
      "     |      separator, the separator itself, and the part after it.\n",
      "     |      \n",
      "     |      If the separator is not found, returns a 3-tuple containing two empty bytes\n",
      "     |      objects and the original bytes object.\n",
      "     |  \n",
      "     |  rsplit(self, /, sep=None, maxsplit=-1)\n",
      "     |      Return a list of the sections in the bytes, using sep as the delimiter.\n",
      "     |      \n",
      "     |        sep\n",
      "     |          The delimiter according which to split the bytes.\n",
      "     |          None (the default value) means split on ASCII whitespace characters\n",
      "     |          (space, tab, return, newline, formfeed, vertical tab).\n",
      "     |        maxsplit\n",
      "     |          Maximum number of splits to do.\n",
      "     |          -1 (the default value) means no limit.\n",
      "     |      \n",
      "     |      Splitting is done starting at the end of the bytes and working to the front.\n",
      "     |  \n",
      "     |  rstrip(self, bytes=None, /)\n",
      "     |      Strip trailing bytes contained in the argument.\n",
      "     |      \n",
      "     |      If the argument is omitted or None, strip trailing ASCII whitespace.\n",
      "     |  \n",
      "     |  split(self, /, sep=None, maxsplit=-1)\n",
      "     |      Return a list of the sections in the bytes, using sep as the delimiter.\n",
      "     |      \n",
      "     |      sep\n",
      "     |        The delimiter according which to split the bytes.\n",
      "     |        None (the default value) means split on ASCII whitespace characters\n",
      "     |        (space, tab, return, newline, formfeed, vertical tab).\n",
      "     |      maxsplit\n",
      "     |        Maximum number of splits to do.\n",
      "     |        -1 (the default value) means no limit.\n",
      "     |  \n",
      "     |  splitlines(self, /, keepends=False)\n",
      "     |      Return a list of the lines in the bytes, breaking at line boundaries.\n",
      "     |      \n",
      "     |      Line breaks are not included in the resulting list unless keepends is given and\n",
      "     |      true.\n",
      "     |  \n",
      "     |  startswith(...)\n",
      "     |      B.startswith(prefix[, start[, end]]) -> bool\n",
      "     |      \n",
      "     |      Return True if B starts with the specified prefix, False otherwise.\n",
      "     |      With optional start, test B beginning at that position.\n",
      "     |      With optional end, stop comparing B at that position.\n",
      "     |      prefix can also be a tuple of bytes to try.\n",
      "     |  \n",
      "     |  strip(self, bytes=None, /)\n",
      "     |      Strip leading and trailing bytes contained in the argument.\n",
      "     |      \n",
      "     |      If the argument is omitted or None, strip leading and trailing ASCII whitespace.\n",
      "     |  \n",
      "     |  swapcase(...)\n",
      "     |      B.swapcase() -> copy of B\n",
      "     |      \n",
      "     |      Return a copy of B with uppercase ASCII characters converted\n",
      "     |      to lowercase ASCII and vice versa.\n",
      "     |  \n",
      "     |  title(...)\n",
      "     |      B.title() -> copy of B\n",
      "     |      \n",
      "     |      Return a titlecased version of B, i.e. ASCII words start with uppercase\n",
      "     |      characters, all remaining cased characters have lowercase.\n",
      "     |  \n",
      "     |  translate(self, table, /, delete=b'')\n",
      "     |      Return a copy with each character mapped by the given translation table.\n",
      "     |      \n",
      "     |        table\n",
      "     |          Translation table, which must be a bytes object of length 256.\n",
      "     |      \n",
      "     |      All characters occurring in the optional argument delete are removed.\n",
      "     |      The remaining characters are mapped through the given translation table.\n",
      "     |  \n",
      "     |  upper(...)\n",
      "     |      B.upper() -> copy of B\n",
      "     |      \n",
      "     |      Return a copy of B with all ASCII characters converted to uppercase.\n",
      "     |  \n",
      "     |  zfill(self, width, /)\n",
      "     |      Pad a numeric string with zeros on the left, to fill a field of the given width.\n",
      "     |      \n",
      "     |      The original string is never truncated.\n",
      "     |  \n",
      "     |  ----------------------------------------------------------------------\n",
      "     |  Class methods defined here:\n",
      "     |  \n",
      "     |  fromhex(string, /) from type\n",
      "     |      Create a bytes object from a string of hexadecimal numbers.\n",
      "     |      \n",
      "     |      Spaces between two numbers are accepted.\n",
      "     |      Example: bytes.fromhex('B9 01EF') -> b'\\\\xb9\\\\x01\\\\xef'.\n",
      "     |  \n",
      "     |  ----------------------------------------------------------------------\n",
      "     |  Static methods defined here:\n",
      "     |  \n",
      "     |  __new__(*args, **kwargs) from type\n",
      "     |      Create and return a new object.  See help(type) for accurate signature.\n",
      "     |  \n",
      "     |  maketrans(frm, to, /)\n",
      "     |      Return a translation table useable for the bytes or bytearray translate method.\n",
      "     |      \n",
      "     |      The returned table will be one where each byte in frm is mapped to the byte at\n",
      "     |      the same position in to.\n",
      "     |      \n",
      "     |      The bytes objects frm and to must be of the same length.\n",
      "    \n",
      "    class classmethod(object)\n",
      "     |  classmethod(function) -> method\n",
      "     |  \n",
      "     |  Convert a function to be a class method.\n",
      "     |  \n",
      "     |  A class method receives the class as implicit first argument,\n",
      "     |  just like an instance method receives the instance.\n",
      "     |  To declare a class method, use this idiom:\n",
      "     |  \n",
      "     |    class C:\n",
      "     |        @classmethod\n",
      "     |        def f(cls, arg1, arg2, ...):\n",
      "     |            ...\n",
      "     |  \n",
      "     |  It can be called either on the class (e.g. C.f()) or on an instance\n",
      "     |  (e.g. C().f()).  The instance is ignored except for its class.\n",
      "     |  If a class method is called for a derived class, the derived class\n",
      "     |  object is passed as the implied first argument.\n",
      "     |  \n",
      "     |  Class methods are different than C++ or Java static methods.\n",
      "     |  If you want those, see the staticmethod builtin.\n",
      "     |  \n",
      "     |  Methods defined here:\n",
      "     |  \n",
      "     |  __get__(self, instance, owner, /)\n",
      "     |      Return an attribute of instance, which is of type owner.\n",
      "     |  \n",
      "     |  __init__(self, /, *args, **kwargs)\n",
      "     |      Initialize self.  See help(type(self)) for accurate signature.\n",
      "     |  \n",
      "     |  ----------------------------------------------------------------------\n",
      "     |  Static methods defined here:\n",
      "     |  \n",
      "     |  __new__(*args, **kwargs) from type\n",
      "     |      Create and return a new object.  See help(type) for accurate signature.\n",
      "     |  \n",
      "     |  ----------------------------------------------------------------------\n",
      "     |  Data descriptors defined here:\n",
      "     |  \n",
      "     |  __dict__\n",
      "     |  \n",
      "     |  __func__\n",
      "     |  \n",
      "     |  __isabstractmethod__\n",
      "    \n",
      "    class complex(object)\n",
      "     |  complex(real=0, imag=0)\n",
      "     |  \n",
      "     |  Create a complex number from a real part and an optional imaginary part.\n",
      "     |  \n",
      "     |  This is equivalent to (real + imag*1j) where imag defaults to 0.\n",
      "     |  \n",
      "     |  Methods defined here:\n",
      "     |  \n",
      "     |  __abs__(self, /)\n",
      "     |      abs(self)\n",
      "     |  \n",
      "     |  __add__(self, value, /)\n",
      "     |      Return self+value.\n",
      "     |  \n",
      "     |  __bool__(self, /)\n",
      "     |      self != 0\n",
      "     |  \n",
      "     |  __divmod__(self, value, /)\n",
      "     |      Return divmod(self, value).\n",
      "     |  \n",
      "     |  __eq__(self, value, /)\n",
      "     |      Return self==value.\n",
      "     |  \n",
      "     |  __float__(self, /)\n",
      "     |      float(self)\n",
      "     |  \n",
      "     |  __floordiv__(self, value, /)\n",
      "     |      Return self//value.\n",
      "     |  \n",
      "     |  __format__(...)\n",
      "     |      complex.__format__() -> str\n",
      "     |      \n",
      "     |      Convert to a string according to format_spec.\n",
      "     |  \n",
      "     |  __ge__(self, value, /)\n",
      "     |      Return self>=value.\n",
      "     |  \n",
      "     |  __getattribute__(self, name, /)\n",
      "     |      Return getattr(self, name).\n",
      "     |  \n",
      "     |  __getnewargs__(...)\n",
      "     |  \n",
      "     |  __gt__(self, value, /)\n",
      "     |      Return self>value.\n",
      "     |  \n",
      "     |  __hash__(self, /)\n",
      "     |      Return hash(self).\n",
      "     |  \n",
      "     |  __int__(self, /)\n",
      "     |      int(self)\n",
      "     |  \n",
      "     |  __le__(self, value, /)\n",
      "     |      Return self<=value.\n",
      "     |  \n",
      "     |  __lt__(self, value, /)\n",
      "     |      Return self<value.\n",
      "     |  \n",
      "     |  __mod__(self, value, /)\n",
      "     |      Return self%value.\n",
      "     |  \n",
      "     |  __mul__(self, value, /)\n",
      "     |      Return self*value.\n",
      "     |  \n",
      "     |  __ne__(self, value, /)\n",
      "     |      Return self!=value.\n",
      "     |  \n",
      "     |  __neg__(self, /)\n",
      "     |      -self\n",
      "     |  \n",
      "     |  __pos__(self, /)\n",
      "     |      +self\n",
      "     |  \n",
      "     |  __pow__(self, value, mod=None, /)\n",
      "     |      Return pow(self, value, mod).\n",
      "     |  \n",
      "     |  __radd__(self, value, /)\n",
      "     |      Return value+self.\n",
      "     |  \n",
      "     |  __rdivmod__(self, value, /)\n",
      "     |      Return divmod(value, self).\n",
      "     |  \n",
      "     |  __repr__(self, /)\n",
      "     |      Return repr(self).\n",
      "     |  \n",
      "     |  __rfloordiv__(self, value, /)\n",
      "     |      Return value//self.\n",
      "     |  \n",
      "     |  __rmod__(self, value, /)\n",
      "     |      Return value%self.\n",
      "     |  \n",
      "     |  __rmul__(self, value, /)\n",
      "     |      Return value*self.\n",
      "     |  \n",
      "     |  __rpow__(self, value, mod=None, /)\n",
      "     |      Return pow(value, self, mod).\n",
      "     |  \n",
      "     |  __rsub__(self, value, /)\n",
      "     |      Return value-self.\n",
      "     |  \n",
      "     |  __rtruediv__(self, value, /)\n",
      "     |      Return value/self.\n",
      "     |  \n",
      "     |  __sub__(self, value, /)\n",
      "     |      Return self-value.\n",
      "     |  \n",
      "     |  __truediv__(self, value, /)\n",
      "     |      Return self/value.\n",
      "     |  \n",
      "     |  conjugate(...)\n",
      "     |      complex.conjugate() -> complex\n",
      "     |      \n",
      "     |      Return the complex conjugate of its argument. (3-4j).conjugate() == 3+4j.\n",
      "     |  \n",
      "     |  ----------------------------------------------------------------------\n",
      "     |  Static methods defined here:\n",
      "     |  \n",
      "     |  __new__(*args, **kwargs) from type\n",
      "     |      Create and return a new object.  See help(type) for accurate signature.\n",
      "     |  \n",
      "     |  ----------------------------------------------------------------------\n",
      "     |  Data descriptors defined here:\n",
      "     |  \n",
      "     |  imag\n",
      "     |      the imaginary part of a complex number\n",
      "     |  \n",
      "     |  real\n",
      "     |      the real part of a complex number\n",
      "    \n",
      "    class dict(object)\n",
      "     |  dict() -> new empty dictionary\n",
      "     |  dict(mapping) -> new dictionary initialized from a mapping object's\n",
      "     |      (key, value) pairs\n",
      "     |  dict(iterable) -> new dictionary initialized as if via:\n",
      "     |      d = {}\n",
      "     |      for k, v in iterable:\n",
      "     |          d[k] = v\n",
      "     |  dict(**kwargs) -> new dictionary initialized with the name=value pairs\n",
      "     |      in the keyword argument list.  For example:  dict(one=1, two=2)\n",
      "     |  \n",
      "     |  Built-in subclasses:\n",
      "     |      StgDict\n",
      "     |  \n",
      "     |  Methods defined here:\n",
      "     |  \n",
      "     |  __contains__(self, key, /)\n",
      "     |      True if the dictionary has the specified key, else False.\n",
      "     |  \n",
      "     |  __delitem__(self, key, /)\n",
      "     |      Delete self[key].\n",
      "     |  \n",
      "     |  __eq__(self, value, /)\n",
      "     |      Return self==value.\n",
      "     |  \n",
      "     |  __ge__(self, value, /)\n",
      "     |      Return self>=value.\n",
      "     |  \n",
      "     |  __getattribute__(self, name, /)\n",
      "     |      Return getattr(self, name).\n",
      "     |  \n",
      "     |  __getitem__(...)\n",
      "     |      x.__getitem__(y) <==> x[y]\n",
      "     |  \n",
      "     |  __gt__(self, value, /)\n",
      "     |      Return self>value.\n",
      "     |  \n",
      "     |  __init__(self, /, *args, **kwargs)\n",
      "     |      Initialize self.  See help(type(self)) for accurate signature.\n",
      "     |  \n",
      "     |  __ior__(self, value, /)\n",
      "     |      Return self|=value.\n",
      "     |  \n",
      "     |  __iter__(self, /)\n",
      "     |      Implement iter(self).\n",
      "     |  \n",
      "     |  __le__(self, value, /)\n",
      "     |      Return self<=value.\n",
      "     |  \n",
      "     |  __len__(self, /)\n",
      "     |      Return len(self).\n",
      "     |  \n",
      "     |  __lt__(self, value, /)\n",
      "     |      Return self<value.\n",
      "     |  \n",
      "     |  __ne__(self, value, /)\n",
      "     |      Return self!=value.\n",
      "     |  \n",
      "     |  __or__(self, value, /)\n",
      "     |      Return self|value.\n",
      "     |  \n",
      "     |  __repr__(self, /)\n",
      "     |      Return repr(self).\n",
      "     |  \n",
      "     |  __reversed__(self, /)\n",
      "     |      Return a reverse iterator over the dict keys.\n",
      "     |  \n",
      "     |  __ror__(self, value, /)\n",
      "     |      Return value|self.\n",
      "     |  \n",
      "     |  __setitem__(self, key, value, /)\n",
      "     |      Set self[key] to value.\n",
      "     |  \n",
      "     |  __sizeof__(...)\n",
      "     |      D.__sizeof__() -> size of D in memory, in bytes\n",
      "     |  \n",
      "     |  clear(...)\n",
      "     |      D.clear() -> None.  Remove all items from D.\n",
      "     |  \n",
      "     |  copy(...)\n",
      "     |      D.copy() -> a shallow copy of D\n",
      "     |  \n",
      "     |  get(self, key, default=None, /)\n",
      "     |      Return the value for key if key is in the dictionary, else default.\n",
      "     |  \n",
      "     |  items(...)\n",
      "     |      D.items() -> a set-like object providing a view on D's items\n",
      "     |  \n",
      "     |  keys(...)\n",
      "     |      D.keys() -> a set-like object providing a view on D's keys\n",
      "     |  \n",
      "     |  pop(...)\n",
      "     |      D.pop(k[,d]) -> v, remove specified key and return the corresponding value.\n",
      "     |      \n",
      "     |      If key is not found, default is returned if given, otherwise KeyError is raised\n",
      "     |  \n",
      "     |  popitem(self, /)\n",
      "     |      Remove and return a (key, value) pair as a 2-tuple.\n",
      "     |      \n",
      "     |      Pairs are returned in LIFO (last-in, first-out) order.\n",
      "     |      Raises KeyError if the dict is empty.\n",
      "     |  \n",
      "     |  setdefault(self, key, default=None, /)\n",
      "     |      Insert key with a value of default if key is not in the dictionary.\n",
      "     |      \n",
      "     |      Return the value for key if key is in the dictionary, else default.\n",
      "     |  \n",
      "     |  update(...)\n",
      "     |      D.update([E, ]**F) -> None.  Update D from dict/iterable E and F.\n",
      "     |      If E is present and has a .keys() method, then does:  for k in E: D[k] = E[k]\n",
      "     |      If E is present and lacks a .keys() method, then does:  for k, v in E: D[k] = v\n",
      "     |      In either case, this is followed by: for k in F:  D[k] = F[k]\n",
      "     |  \n",
      "     |  values(...)\n",
      "     |      D.values() -> an object providing a view on D's values\n",
      "     |  \n",
      "     |  ----------------------------------------------------------------------\n",
      "     |  Class methods defined here:\n",
      "     |  \n",
      "     |  __class_getitem__(...) from type\n",
      "     |      See PEP 585\n",
      "     |  \n",
      "     |  fromkeys(iterable, value=None, /) from type\n",
      "     |      Create a new dictionary with keys from iterable and values set to value.\n",
      "     |  \n",
      "     |  ----------------------------------------------------------------------\n",
      "     |  Static methods defined here:\n",
      "     |  \n",
      "     |  __new__(*args, **kwargs) from type\n",
      "     |      Create and return a new object.  See help(type) for accurate signature.\n",
      "     |  \n",
      "     |  ----------------------------------------------------------------------\n",
      "     |  Data and other attributes defined here:\n",
      "     |  \n",
      "     |  __hash__ = None\n",
      "    \n",
      "    class enumerate(object)\n",
      "     |  enumerate(iterable, start=0)\n",
      "     |  \n",
      "     |  Return an enumerate object.\n",
      "     |  \n",
      "     |    iterable\n",
      "     |      an object supporting iteration\n",
      "     |  \n",
      "     |  The enumerate object yields pairs containing a count (from start, which\n",
      "     |  defaults to zero) and a value yielded by the iterable argument.\n",
      "     |  \n",
      "     |  enumerate is useful for obtaining an indexed list:\n",
      "     |      (0, seq[0]), (1, seq[1]), (2, seq[2]), ...\n",
      "     |  \n",
      "     |  Methods defined here:\n",
      "     |  \n",
      "     |  __getattribute__(self, name, /)\n",
      "     |      Return getattr(self, name).\n",
      "     |  \n",
      "     |  __iter__(self, /)\n",
      "     |      Implement iter(self).\n",
      "     |  \n",
      "     |  __next__(self, /)\n",
      "     |      Implement next(self).\n",
      "     |  \n",
      "     |  __reduce__(...)\n",
      "     |      Return state information for pickling.\n",
      "     |  \n",
      "     |  ----------------------------------------------------------------------\n",
      "     |  Class methods defined here:\n",
      "     |  \n",
      "     |  __class_getitem__(...) from type\n",
      "     |      See PEP 585\n",
      "     |  \n",
      "     |  ----------------------------------------------------------------------\n",
      "     |  Static methods defined here:\n",
      "     |  \n",
      "     |  __new__(*args, **kwargs) from type\n",
      "     |      Create and return a new object.  See help(type) for accurate signature.\n",
      "    \n",
      "    class filter(object)\n",
      "     |  filter(function or None, iterable) --> filter object\n",
      "     |  \n",
      "     |  Return an iterator yielding those items of iterable for which function(item)\n",
      "     |  is true. If function is None, return the items that are true.\n",
      "     |  \n",
      "     |  Methods defined here:\n",
      "     |  \n",
      "     |  __getattribute__(self, name, /)\n",
      "     |      Return getattr(self, name).\n",
      "     |  \n",
      "     |  __iter__(self, /)\n",
      "     |      Implement iter(self).\n",
      "     |  \n",
      "     |  __next__(self, /)\n",
      "     |      Implement next(self).\n",
      "     |  \n",
      "     |  __reduce__(...)\n",
      "     |      Return state information for pickling.\n",
      "     |  \n",
      "     |  ----------------------------------------------------------------------\n",
      "     |  Static methods defined here:\n",
      "     |  \n",
      "     |  __new__(*args, **kwargs) from type\n",
      "     |      Create and return a new object.  See help(type) for accurate signature.\n",
      "    \n",
      "    class float(object)\n",
      "     |  float(x=0, /)\n",
      "     |  \n",
      "     |  Convert a string or number to a floating point number, if possible.\n",
      "     |  \n",
      "     |  Methods defined here:\n",
      "     |  \n",
      "     |  __abs__(self, /)\n",
      "     |      abs(self)\n",
      "     |  \n",
      "     |  __add__(self, value, /)\n",
      "     |      Return self+value.\n",
      "     |  \n",
      "     |  __bool__(self, /)\n",
      "     |      self != 0\n",
      "     |  \n",
      "     |  __ceil__(self, /)\n",
      "     |      Return the ceiling as an Integral.\n",
      "     |  \n",
      "     |  __divmod__(self, value, /)\n",
      "     |      Return divmod(self, value).\n",
      "     |  \n",
      "     |  __eq__(self, value, /)\n",
      "     |      Return self==value.\n",
      "     |  \n",
      "     |  __float__(self, /)\n",
      "     |      float(self)\n",
      "     |  \n",
      "     |  __floor__(self, /)\n",
      "     |      Return the floor as an Integral.\n",
      "     |  \n",
      "     |  __floordiv__(self, value, /)\n",
      "     |      Return self//value.\n",
      "     |  \n",
      "     |  __format__(self, format_spec, /)\n",
      "     |      Formats the float according to format_spec.\n",
      "     |  \n",
      "     |  __ge__(self, value, /)\n",
      "     |      Return self>=value.\n",
      "     |  \n",
      "     |  __getattribute__(self, name, /)\n",
      "     |      Return getattr(self, name).\n",
      "     |  \n",
      "     |  __getnewargs__(self, /)\n",
      "     |  \n",
      "     |  __gt__(self, value, /)\n",
      "     |      Return self>value.\n",
      "     |  \n",
      "     |  __hash__(self, /)\n",
      "     |      Return hash(self).\n",
      "     |  \n",
      "     |  __int__(self, /)\n",
      "     |      int(self)\n",
      "     |  \n",
      "     |  __le__(self, value, /)\n",
      "     |      Return self<=value.\n",
      "     |  \n",
      "     |  __lt__(self, value, /)\n",
      "     |      Return self<value.\n",
      "     |  \n",
      "     |  __mod__(self, value, /)\n",
      "     |      Return self%value.\n",
      "     |  \n",
      "     |  __mul__(self, value, /)\n",
      "     |      Return self*value.\n",
      "     |  \n",
      "     |  __ne__(self, value, /)\n",
      "     |      Return self!=value.\n",
      "     |  \n",
      "     |  __neg__(self, /)\n",
      "     |      -self\n",
      "     |  \n",
      "     |  __pos__(self, /)\n",
      "     |      +self\n",
      "     |  \n",
      "     |  __pow__(self, value, mod=None, /)\n",
      "     |      Return pow(self, value, mod).\n",
      "     |  \n",
      "     |  __radd__(self, value, /)\n",
      "     |      Return value+self.\n",
      "     |  \n",
      "     |  __rdivmod__(self, value, /)\n",
      "     |      Return divmod(value, self).\n",
      "     |  \n",
      "     |  __repr__(self, /)\n",
      "     |      Return repr(self).\n",
      "     |  \n",
      "     |  __rfloordiv__(self, value, /)\n",
      "     |      Return value//self.\n",
      "     |  \n",
      "     |  __rmod__(self, value, /)\n",
      "     |      Return value%self.\n",
      "     |  \n",
      "     |  __rmul__(self, value, /)\n",
      "     |      Return value*self.\n",
      "     |  \n",
      "     |  __round__(self, ndigits=None, /)\n",
      "     |      Return the Integral closest to x, rounding half toward even.\n",
      "     |      \n",
      "     |      When an argument is passed, work like built-in round(x, ndigits).\n",
      "     |  \n",
      "     |  __rpow__(self, value, mod=None, /)\n",
      "     |      Return pow(value, self, mod).\n",
      "     |  \n",
      "     |  __rsub__(self, value, /)\n",
      "     |      Return value-self.\n",
      "     |  \n",
      "     |  __rtruediv__(self, value, /)\n",
      "     |      Return value/self.\n",
      "     |  \n",
      "     |  __sub__(self, value, /)\n",
      "     |      Return self-value.\n",
      "     |  \n",
      "     |  __truediv__(self, value, /)\n",
      "     |      Return self/value.\n",
      "     |  \n",
      "     |  __trunc__(self, /)\n",
      "     |      Return the Integral closest to x between 0 and x.\n",
      "     |  \n",
      "     |  as_integer_ratio(self, /)\n",
      "     |      Return integer ratio.\n",
      "     |      \n",
      "     |      Return a pair of integers, whose ratio is exactly equal to the original float\n",
      "     |      and with a positive denominator.\n",
      "     |      \n",
      "     |      Raise OverflowError on infinities and a ValueError on NaNs.\n",
      "     |      \n",
      "     |      >>> (10.0).as_integer_ratio()\n",
      "     |      (10, 1)\n",
      "     |      >>> (0.0).as_integer_ratio()\n",
      "     |      (0, 1)\n",
      "     |      >>> (-.25).as_integer_ratio()\n",
      "     |      (-1, 4)\n",
      "     |  \n",
      "     |  conjugate(self, /)\n",
      "     |      Return self, the complex conjugate of any float.\n",
      "     |  \n",
      "     |  hex(self, /)\n",
      "     |      Return a hexadecimal representation of a floating-point number.\n",
      "     |      \n",
      "     |      >>> (-0.1).hex()\n",
      "     |      '-0x1.999999999999ap-4'\n",
      "     |      >>> 3.14159.hex()\n",
      "     |      '0x1.921f9f01b866ep+1'\n",
      "     |  \n",
      "     |  is_integer(self, /)\n",
      "     |      Return True if the float is an integer.\n",
      "     |  \n",
      "     |  ----------------------------------------------------------------------\n",
      "     |  Class methods defined here:\n",
      "     |  \n",
      "     |  __getformat__(typestr, /) from type\n",
      "     |      You probably don't want to use this function.\n",
      "     |      \n",
      "     |        typestr\n",
      "     |          Must be 'double' or 'float'.\n",
      "     |      \n",
      "     |      It exists mainly to be used in Python's test suite.\n",
      "     |      \n",
      "     |      This function returns whichever of 'unknown', 'IEEE, big-endian' or 'IEEE,\n",
      "     |      little-endian' best describes the format of floating point numbers used by the\n",
      "     |      C type named by typestr.\n",
      "     |  \n",
      "     |  __set_format__(typestr, fmt, /) from type\n",
      "     |      You probably don't want to use this function.\n",
      "     |      \n",
      "     |        typestr\n",
      "     |          Must be 'double' or 'float'.\n",
      "     |        fmt\n",
      "     |          Must be one of 'unknown', 'IEEE, big-endian' or 'IEEE, little-endian',\n",
      "     |          and in addition can only be one of the latter two if it appears to\n",
      "     |          match the underlying C reality.\n",
      "     |      \n",
      "     |      It exists mainly to be used in Python's test suite.\n",
      "     |      \n",
      "     |      Override the automatic determination of C-level floating point type.\n",
      "     |      This affects how floats are converted to and from binary strings.\n",
      "     |  \n",
      "     |  fromhex(string, /) from type\n",
      "     |      Create a floating-point number from a hexadecimal string.\n",
      "     |      \n",
      "     |      >>> float.fromhex('0x1.ffffp10')\n",
      "     |      2047.984375\n",
      "     |      >>> float.fromhex('-0x1p-1074')\n",
      "     |      -5e-324\n",
      "     |  \n",
      "     |  ----------------------------------------------------------------------\n",
      "     |  Static methods defined here:\n",
      "     |  \n",
      "     |  __new__(*args, **kwargs) from type\n",
      "     |      Create and return a new object.  See help(type) for accurate signature.\n",
      "     |  \n",
      "     |  ----------------------------------------------------------------------\n",
      "     |  Data descriptors defined here:\n",
      "     |  \n",
      "     |  imag\n",
      "     |      the imaginary part of a complex number\n",
      "     |  \n",
      "     |  real\n",
      "     |      the real part of a complex number\n",
      "    \n",
      "    class frozenset(object)\n",
      "     |  frozenset() -> empty frozenset object\n",
      "     |  frozenset(iterable) -> frozenset object\n",
      "     |  \n",
      "     |  Build an immutable unordered collection of unique elements.\n",
      "     |  \n",
      "     |  Methods defined here:\n",
      "     |  \n",
      "     |  __and__(self, value, /)\n",
      "     |      Return self&value.\n",
      "     |  \n",
      "     |  __contains__(...)\n",
      "     |      x.__contains__(y) <==> y in x.\n",
      "     |  \n",
      "     |  __eq__(self, value, /)\n",
      "     |      Return self==value.\n",
      "     |  \n",
      "     |  __ge__(self, value, /)\n",
      "     |      Return self>=value.\n",
      "     |  \n",
      "     |  __getattribute__(self, name, /)\n",
      "     |      Return getattr(self, name).\n",
      "     |  \n",
      "     |  __gt__(self, value, /)\n",
      "     |      Return self>value.\n",
      "     |  \n",
      "     |  __hash__(self, /)\n",
      "     |      Return hash(self).\n",
      "     |  \n",
      "     |  __iter__(self, /)\n",
      "     |      Implement iter(self).\n",
      "     |  \n",
      "     |  __le__(self, value, /)\n",
      "     |      Return self<=value.\n",
      "     |  \n",
      "     |  __len__(self, /)\n",
      "     |      Return len(self).\n",
      "     |  \n",
      "     |  __lt__(self, value, /)\n",
      "     |      Return self<value.\n",
      "     |  \n",
      "     |  __ne__(self, value, /)\n",
      "     |      Return self!=value.\n",
      "     |  \n",
      "     |  __or__(self, value, /)\n",
      "     |      Return self|value.\n",
      "     |  \n",
      "     |  __rand__(self, value, /)\n",
      "     |      Return value&self.\n",
      "     |  \n",
      "     |  __reduce__(...)\n",
      "     |      Return state information for pickling.\n",
      "     |  \n",
      "     |  __repr__(self, /)\n",
      "     |      Return repr(self).\n",
      "     |  \n",
      "     |  __ror__(self, value, /)\n",
      "     |      Return value|self.\n",
      "     |  \n",
      "     |  __rsub__(self, value, /)\n",
      "     |      Return value-self.\n",
      "     |  \n",
      "     |  __rxor__(self, value, /)\n",
      "     |      Return value^self.\n",
      "     |  \n",
      "     |  __sizeof__(...)\n",
      "     |      S.__sizeof__() -> size of S in memory, in bytes\n",
      "     |  \n",
      "     |  __sub__(self, value, /)\n",
      "     |      Return self-value.\n",
      "     |  \n",
      "     |  __xor__(self, value, /)\n",
      "     |      Return self^value.\n",
      "     |  \n",
      "     |  copy(...)\n",
      "     |      Return a shallow copy of a set.\n",
      "     |  \n",
      "     |  difference(...)\n",
      "     |      Return the difference of two or more sets as a new set.\n",
      "     |      \n",
      "     |      (i.e. all elements that are in this set but not the others.)\n",
      "     |  \n",
      "     |  intersection(...)\n",
      "     |      Return the intersection of two sets as a new set.\n",
      "     |      \n",
      "     |      (i.e. all elements that are in both sets.)\n",
      "     |  \n",
      "     |  isdisjoint(...)\n",
      "     |      Return True if two sets have a null intersection.\n",
      "     |  \n",
      "     |  issubset(...)\n",
      "     |      Report whether another set contains this set.\n",
      "     |  \n",
      "     |  issuperset(...)\n",
      "     |      Report whether this set contains another set.\n",
      "     |  \n",
      "     |  symmetric_difference(...)\n",
      "     |      Return the symmetric difference of two sets as a new set.\n",
      "     |      \n",
      "     |      (i.e. all elements that are in exactly one of the sets.)\n",
      "     |  \n",
      "     |  union(...)\n",
      "     |      Return the union of sets as a new set.\n",
      "     |      \n",
      "     |      (i.e. all elements that are in either set.)\n",
      "     |  \n",
      "     |  ----------------------------------------------------------------------\n",
      "     |  Class methods defined here:\n",
      "     |  \n",
      "     |  __class_getitem__(...) from type\n",
      "     |      See PEP 585\n",
      "     |  \n",
      "     |  ----------------------------------------------------------------------\n",
      "     |  Static methods defined here:\n",
      "     |  \n",
      "     |  __new__(*args, **kwargs) from type\n",
      "     |      Create and return a new object.  See help(type) for accurate signature.\n",
      "    \n",
      "    class int(object)\n",
      "     |  int([x]) -> integer\n",
      "     |  int(x, base=10) -> integer\n",
      "     |  \n",
      "     |  Convert a number or string to an integer, or return 0 if no arguments\n",
      "     |  are given.  If x is a number, return x.__int__().  For floating point\n",
      "     |  numbers, this truncates towards zero.\n",
      "     |  \n",
      "     |  If x is not a number or if base is given, then x must be a string,\n",
      "     |  bytes, or bytearray instance representing an integer literal in the\n",
      "     |  given base.  The literal can be preceded by '+' or '-' and be surrounded\n",
      "     |  by whitespace.  The base defaults to 10.  Valid bases are 0 and 2-36.\n",
      "     |  Base 0 means to interpret the base from the string as an integer literal.\n",
      "     |  >>> int('0b100', base=0)\n",
      "     |  4\n",
      "     |  \n",
      "     |  Built-in subclasses:\n",
      "     |      bool\n",
      "     |  \n",
      "     |  Methods defined here:\n",
      "     |  \n",
      "     |  __abs__(self, /)\n",
      "     |      abs(self)\n",
      "     |  \n",
      "     |  __add__(self, value, /)\n",
      "     |      Return self+value.\n",
      "     |  \n",
      "     |  __and__(self, value, /)\n",
      "     |      Return self&value.\n",
      "     |  \n",
      "     |  __bool__(self, /)\n",
      "     |      self != 0\n",
      "     |  \n",
      "     |  __ceil__(...)\n",
      "     |      Ceiling of an Integral returns itself.\n",
      "     |  \n",
      "     |  __divmod__(self, value, /)\n",
      "     |      Return divmod(self, value).\n",
      "     |  \n",
      "     |  __eq__(self, value, /)\n",
      "     |      Return self==value.\n",
      "     |  \n",
      "     |  __float__(self, /)\n",
      "     |      float(self)\n",
      "     |  \n",
      "     |  __floor__(...)\n",
      "     |      Flooring an Integral returns itself.\n",
      "     |  \n",
      "     |  __floordiv__(self, value, /)\n",
      "     |      Return self//value.\n",
      "     |  \n",
      "     |  __format__(self, format_spec, /)\n",
      "     |      Default object formatter.\n",
      "     |  \n",
      "     |  __ge__(self, value, /)\n",
      "     |      Return self>=value.\n",
      "     |  \n",
      "     |  __getattribute__(self, name, /)\n",
      "     |      Return getattr(self, name).\n",
      "     |  \n",
      "     |  __getnewargs__(self, /)\n",
      "     |  \n",
      "     |  __gt__(self, value, /)\n",
      "     |      Return self>value.\n",
      "     |  \n",
      "     |  __hash__(self, /)\n",
      "     |      Return hash(self).\n",
      "     |  \n",
      "     |  __index__(self, /)\n",
      "     |      Return self converted to an integer, if self is suitable for use as an index into a list.\n",
      "     |  \n",
      "     |  __int__(self, /)\n",
      "     |      int(self)\n",
      "     |  \n",
      "     |  __invert__(self, /)\n",
      "     |      ~self\n",
      "     |  \n",
      "     |  __le__(self, value, /)\n",
      "     |      Return self<=value.\n",
      "     |  \n",
      "     |  __lshift__(self, value, /)\n",
      "     |      Return self<<value.\n",
      "     |  \n",
      "     |  __lt__(self, value, /)\n",
      "     |      Return self<value.\n",
      "     |  \n",
      "     |  __mod__(self, value, /)\n",
      "     |      Return self%value.\n",
      "     |  \n",
      "     |  __mul__(self, value, /)\n",
      "     |      Return self*value.\n",
      "     |  \n",
      "     |  __ne__(self, value, /)\n",
      "     |      Return self!=value.\n",
      "     |  \n",
      "     |  __neg__(self, /)\n",
      "     |      -self\n",
      "     |  \n",
      "     |  __or__(self, value, /)\n",
      "     |      Return self|value.\n",
      "     |  \n",
      "     |  __pos__(self, /)\n",
      "     |      +self\n",
      "     |  \n",
      "     |  __pow__(self, value, mod=None, /)\n",
      "     |      Return pow(self, value, mod).\n",
      "     |  \n",
      "     |  __radd__(self, value, /)\n",
      "     |      Return value+self.\n",
      "     |  \n",
      "     |  __rand__(self, value, /)\n",
      "     |      Return value&self.\n",
      "     |  \n",
      "     |  __rdivmod__(self, value, /)\n",
      "     |      Return divmod(value, self).\n",
      "     |  \n",
      "     |  __repr__(self, /)\n",
      "     |      Return repr(self).\n",
      "     |  \n",
      "     |  __rfloordiv__(self, value, /)\n",
      "     |      Return value//self.\n",
      "     |  \n",
      "     |  __rlshift__(self, value, /)\n",
      "     |      Return value<<self.\n",
      "     |  \n",
      "     |  __rmod__(self, value, /)\n",
      "     |      Return value%self.\n",
      "     |  \n",
      "     |  __rmul__(self, value, /)\n",
      "     |      Return value*self.\n",
      "     |  \n",
      "     |  __ror__(self, value, /)\n",
      "     |      Return value|self.\n",
      "     |  \n",
      "     |  __round__(...)\n",
      "     |      Rounding an Integral returns itself.\n",
      "     |      Rounding with an ndigits argument also returns an integer.\n",
      "     |  \n",
      "     |  __rpow__(self, value, mod=None, /)\n",
      "     |      Return pow(value, self, mod).\n",
      "     |  \n",
      "     |  __rrshift__(self, value, /)\n",
      "     |      Return value>>self.\n",
      "     |  \n",
      "     |  __rshift__(self, value, /)\n",
      "     |      Return self>>value.\n",
      "     |  \n",
      "     |  __rsub__(self, value, /)\n",
      "     |      Return value-self.\n",
      "     |  \n",
      "     |  __rtruediv__(self, value, /)\n",
      "     |      Return value/self.\n",
      "     |  \n",
      "     |  __rxor__(self, value, /)\n",
      "     |      Return value^self.\n",
      "     |  \n",
      "     |  __sizeof__(self, /)\n",
      "     |      Returns size in memory, in bytes.\n",
      "     |  \n",
      "     |  __sub__(self, value, /)\n",
      "     |      Return self-value.\n",
      "     |  \n",
      "     |  __truediv__(self, value, /)\n",
      "     |      Return self/value.\n",
      "     |  \n",
      "     |  __trunc__(...)\n",
      "     |      Truncating an Integral returns itself.\n",
      "     |  \n",
      "     |  __xor__(self, value, /)\n",
      "     |      Return self^value.\n",
      "     |  \n",
      "     |  as_integer_ratio(self, /)\n",
      "     |      Return integer ratio.\n",
      "     |      \n",
      "     |      Return a pair of integers, whose ratio is exactly equal to the original int\n",
      "     |      and with a positive denominator.\n",
      "     |      \n",
      "     |      >>> (10).as_integer_ratio()\n",
      "     |      (10, 1)\n",
      "     |      >>> (-10).as_integer_ratio()\n",
      "     |      (-10, 1)\n",
      "     |      >>> (0).as_integer_ratio()\n",
      "     |      (0, 1)\n",
      "     |  \n",
      "     |  bit_length(self, /)\n",
      "     |      Number of bits necessary to represent self in binary.\n",
      "     |      \n",
      "     |      >>> bin(37)\n",
      "     |      '0b100101'\n",
      "     |      >>> (37).bit_length()\n",
      "     |      6\n",
      "     |  \n",
      "     |  conjugate(...)\n",
      "     |      Returns self, the complex conjugate of any int.\n",
      "     |  \n",
      "     |  to_bytes(self, /, length, byteorder, *, signed=False)\n",
      "     |      Return an array of bytes representing an integer.\n",
      "     |      \n",
      "     |      length\n",
      "     |        Length of bytes object to use.  An OverflowError is raised if the\n",
      "     |        integer is not representable with the given number of bytes.\n",
      "     |      byteorder\n",
      "     |        The byte order used to represent the integer.  If byteorder is 'big',\n",
      "     |        the most significant byte is at the beginning of the byte array.  If\n",
      "     |        byteorder is 'little', the most significant byte is at the end of the\n",
      "     |        byte array.  To request the native byte order of the host system, use\n",
      "     |        `sys.byteorder' as the byte order value.\n",
      "     |      signed\n",
      "     |        Determines whether two's complement is used to represent the integer.\n",
      "     |        If signed is False and a negative integer is given, an OverflowError\n",
      "     |        is raised.\n",
      "     |  \n",
      "     |  ----------------------------------------------------------------------\n",
      "     |  Class methods defined here:\n",
      "     |  \n",
      "     |  from_bytes(bytes, byteorder, *, signed=False) from type\n",
      "     |      Return the integer represented by the given array of bytes.\n",
      "     |      \n",
      "     |      bytes\n",
      "     |        Holds the array of bytes to convert.  The argument must either\n",
      "     |        support the buffer protocol or be an iterable object producing bytes.\n",
      "     |        Bytes and bytearray are examples of built-in objects that support the\n",
      "     |        buffer protocol.\n",
      "     |      byteorder\n",
      "     |        The byte order used to represent the integer.  If byteorder is 'big',\n",
      "     |        the most significant byte is at the beginning of the byte array.  If\n",
      "     |        byteorder is 'little', the most significant byte is at the end of the\n",
      "     |        byte array.  To request the native byte order of the host system, use\n",
      "     |        `sys.byteorder' as the byte order value.\n",
      "     |      signed\n",
      "     |        Indicates whether two's complement is used to represent the integer.\n",
      "     |  \n",
      "     |  ----------------------------------------------------------------------\n",
      "     |  Static methods defined here:\n",
      "     |  \n",
      "     |  __new__(*args, **kwargs) from type\n",
      "     |      Create and return a new object.  See help(type) for accurate signature.\n",
      "     |  \n",
      "     |  ----------------------------------------------------------------------\n",
      "     |  Data descriptors defined here:\n",
      "     |  \n",
      "     |  denominator\n",
      "     |      the denominator of a rational number in lowest terms\n",
      "     |  \n",
      "     |  imag\n",
      "     |      the imaginary part of a complex number\n",
      "     |  \n",
      "     |  numerator\n",
      "     |      the numerator of a rational number in lowest terms\n",
      "     |  \n",
      "     |  real\n",
      "     |      the real part of a complex number\n",
      "    \n",
      "    class list(object)\n",
      "     |  list(iterable=(), /)\n",
      "     |  \n",
      "     |  Built-in mutable sequence.\n",
      "     |  \n",
      "     |  If no argument is given, the constructor creates a new empty list.\n",
      "     |  The argument must be an iterable if specified.\n",
      "     |  \n",
      "     |  Methods defined here:\n",
      "     |  \n",
      "     |  __add__(self, value, /)\n",
      "     |      Return self+value.\n",
      "     |  \n",
      "     |  __contains__(self, key, /)\n",
      "     |      Return key in self.\n",
      "     |  \n",
      "     |  __delitem__(self, key, /)\n",
      "     |      Delete self[key].\n",
      "     |  \n",
      "     |  __eq__(self, value, /)\n",
      "     |      Return self==value.\n",
      "     |  \n",
      "     |  __ge__(self, value, /)\n",
      "     |      Return self>=value.\n",
      "     |  \n",
      "     |  __getattribute__(self, name, /)\n",
      "     |      Return getattr(self, name).\n",
      "     |  \n",
      "     |  __getitem__(...)\n",
      "     |      x.__getitem__(y) <==> x[y]\n",
      "     |  \n",
      "     |  __gt__(self, value, /)\n",
      "     |      Return self>value.\n",
      "     |  \n",
      "     |  __iadd__(self, value, /)\n",
      "     |      Implement self+=value.\n",
      "     |  \n",
      "     |  __imul__(self, value, /)\n",
      "     |      Implement self*=value.\n",
      "     |  \n",
      "     |  __init__(self, /, *args, **kwargs)\n",
      "     |      Initialize self.  See help(type(self)) for accurate signature.\n",
      "     |  \n",
      "     |  __iter__(self, /)\n",
      "     |      Implement iter(self).\n",
      "     |  \n",
      "     |  __le__(self, value, /)\n",
      "     |      Return self<=value.\n",
      "     |  \n",
      "     |  __len__(self, /)\n",
      "     |      Return len(self).\n",
      "     |  \n",
      "     |  __lt__(self, value, /)\n",
      "     |      Return self<value.\n",
      "     |  \n",
      "     |  __mul__(self, value, /)\n",
      "     |      Return self*value.\n",
      "     |  \n",
      "     |  __ne__(self, value, /)\n",
      "     |      Return self!=value.\n",
      "     |  \n",
      "     |  __repr__(self, /)\n",
      "     |      Return repr(self).\n",
      "     |  \n",
      "     |  __reversed__(self, /)\n",
      "     |      Return a reverse iterator over the list.\n",
      "     |  \n",
      "     |  __rmul__(self, value, /)\n",
      "     |      Return value*self.\n",
      "     |  \n",
      "     |  __setitem__(self, key, value, /)\n",
      "     |      Set self[key] to value.\n",
      "     |  \n",
      "     |  __sizeof__(self, /)\n",
      "     |      Return the size of the list in memory, in bytes.\n",
      "     |  \n",
      "     |  append(self, object, /)\n",
      "     |      Append object to the end of the list.\n",
      "     |  \n",
      "     |  clear(self, /)\n",
      "     |      Remove all items from list.\n",
      "     |  \n",
      "     |  copy(self, /)\n",
      "     |      Return a shallow copy of the list.\n",
      "     |  \n",
      "     |  count(self, value, /)\n",
      "     |      Return number of occurrences of value.\n",
      "     |  \n",
      "     |  extend(self, iterable, /)\n",
      "     |      Extend list by appending elements from the iterable.\n",
      "     |  \n",
      "     |  index(self, value, start=0, stop=9223372036854775807, /)\n",
      "     |      Return first index of value.\n",
      "     |      \n",
      "     |      Raises ValueError if the value is not present.\n",
      "     |  \n",
      "     |  insert(self, index, object, /)\n",
      "     |      Insert object before index.\n",
      "     |  \n",
      "     |  pop(self, index=-1, /)\n",
      "     |      Remove and return item at index (default last).\n",
      "     |      \n",
      "     |      Raises IndexError if list is empty or index is out of range.\n",
      "     |  \n",
      "     |  remove(self, value, /)\n",
      "     |      Remove first occurrence of value.\n",
      "     |      \n",
      "     |      Raises ValueError if the value is not present.\n",
      "     |  \n",
      "     |  reverse(self, /)\n",
      "     |      Reverse *IN PLACE*.\n",
      "     |  \n",
      "     |  sort(self, /, *, key=None, reverse=False)\n",
      "     |      Sort the list in ascending order and return None.\n",
      "     |      \n",
      "     |      The sort is in-place (i.e. the list itself is modified) and stable (i.e. the\n",
      "     |      order of two equal elements is maintained).\n",
      "     |      \n",
      "     |      If a key function is given, apply it once to each list item and sort them,\n",
      "     |      ascending or descending, according to their function values.\n",
      "     |      \n",
      "     |      The reverse flag can be set to sort in descending order.\n",
      "     |  \n",
      "     |  ----------------------------------------------------------------------\n",
      "     |  Class methods defined here:\n",
      "     |  \n",
      "     |  __class_getitem__(...) from type\n",
      "     |      See PEP 585\n",
      "     |  \n",
      "     |  ----------------------------------------------------------------------\n",
      "     |  Static methods defined here:\n",
      "     |  \n",
      "     |  __new__(*args, **kwargs) from type\n",
      "     |      Create and return a new object.  See help(type) for accurate signature.\n",
      "     |  \n",
      "     |  ----------------------------------------------------------------------\n",
      "     |  Data and other attributes defined here:\n",
      "     |  \n",
      "     |  __hash__ = None\n",
      "    \n",
      "    class map(object)\n",
      "     |  map(func, *iterables) --> map object\n",
      "     |  \n",
      "     |  Make an iterator that computes the function using arguments from\n",
      "     |  each of the iterables.  Stops when the shortest iterable is exhausted.\n",
      "     |  \n",
      "     |  Methods defined here:\n",
      "     |  \n",
      "     |  __getattribute__(self, name, /)\n",
      "     |      Return getattr(self, name).\n",
      "     |  \n",
      "     |  __iter__(self, /)\n",
      "     |      Implement iter(self).\n",
      "     |  \n",
      "     |  __next__(self, /)\n",
      "     |      Implement next(self).\n",
      "     |  \n",
      "     |  __reduce__(...)\n",
      "     |      Return state information for pickling.\n",
      "     |  \n",
      "     |  ----------------------------------------------------------------------\n",
      "     |  Static methods defined here:\n",
      "     |  \n",
      "     |  __new__(*args, **kwargs) from type\n",
      "     |      Create and return a new object.  See help(type) for accurate signature.\n",
      "    \n",
      "    class memoryview(object)\n",
      "     |  memoryview(object)\n",
      "     |  \n",
      "     |  Create a new memoryview object which references the given object.\n",
      "     |  \n",
      "     |  Methods defined here:\n",
      "     |  \n",
      "     |  __delitem__(self, key, /)\n",
      "     |      Delete self[key].\n",
      "     |  \n",
      "     |  __enter__(...)\n",
      "     |  \n",
      "     |  __eq__(self, value, /)\n",
      "     |      Return self==value.\n",
      "     |  \n",
      "     |  __exit__(...)\n",
      "     |  \n",
      "     |  __ge__(self, value, /)\n",
      "     |      Return self>=value.\n",
      "     |  \n",
      "     |  __getattribute__(self, name, /)\n",
      "     |      Return getattr(self, name).\n",
      "     |  \n",
      "     |  __getitem__(self, key, /)\n",
      "     |      Return self[key].\n",
      "     |  \n",
      "     |  __gt__(self, value, /)\n",
      "     |      Return self>value.\n",
      "     |  \n",
      "     |  __hash__(self, /)\n",
      "     |      Return hash(self).\n",
      "     |  \n",
      "     |  __le__(self, value, /)\n",
      "     |      Return self<=value.\n",
      "     |  \n",
      "     |  __len__(self, /)\n",
      "     |      Return len(self).\n",
      "     |  \n",
      "     |  __lt__(self, value, /)\n",
      "     |      Return self<value.\n",
      "     |  \n",
      "     |  __ne__(self, value, /)\n",
      "     |      Return self!=value.\n",
      "     |  \n",
      "     |  __repr__(self, /)\n",
      "     |      Return repr(self).\n",
      "     |  \n",
      "     |  __setitem__(self, key, value, /)\n",
      "     |      Set self[key] to value.\n",
      "     |  \n",
      "     |  cast(self, /, format, *, shape)\n",
      "     |      Cast a memoryview to a new format or shape.\n",
      "     |  \n",
      "     |  hex(...)\n",
      "     |      Return the data in the buffer as a str of hexadecimal numbers.\n",
      "     |      \n",
      "     |        sep\n",
      "     |          An optional single character or byte to separate hex bytes.\n",
      "     |        bytes_per_sep\n",
      "     |          How many bytes between separators.  Positive values count from the\n",
      "     |          right, negative values count from the left.\n",
      "     |      \n",
      "     |      Example:\n",
      "     |      >>> value = memoryview(b'\\xb9\\x01\\xef')\n",
      "     |      >>> value.hex()\n",
      "     |      'b901ef'\n",
      "     |      >>> value.hex(':')\n",
      "     |      'b9:01:ef'\n",
      "     |      >>> value.hex(':', 2)\n",
      "     |      'b9:01ef'\n",
      "     |      >>> value.hex(':', -2)\n",
      "     |      'b901:ef'\n",
      "     |  \n",
      "     |  release(self, /)\n",
      "     |      Release the underlying buffer exposed by the memoryview object.\n",
      "     |  \n",
      "     |  tobytes(self, /, order=None)\n",
      "     |      Return the data in the buffer as a byte string. Order can be {'C', 'F', 'A'}.\n",
      "     |      When order is 'C' or 'F', the data of the original array is converted to C or\n",
      "     |      Fortran order. For contiguous views, 'A' returns an exact copy of the physical\n",
      "     |      memory. In particular, in-memory Fortran order is preserved. For non-contiguous\n",
      "     |      views, the data is converted to C first. order=None is the same as order='C'.\n",
      "     |  \n",
      "     |  tolist(self, /)\n",
      "     |      Return the data in the buffer as a list of elements.\n",
      "     |  \n",
      "     |  toreadonly(self, /)\n",
      "     |      Return a readonly version of the memoryview.\n",
      "     |  \n",
      "     |  ----------------------------------------------------------------------\n",
      "     |  Static methods defined here:\n",
      "     |  \n",
      "     |  __new__(*args, **kwargs) from type\n",
      "     |      Create and return a new object.  See help(type) for accurate signature.\n",
      "     |  \n",
      "     |  ----------------------------------------------------------------------\n",
      "     |  Data descriptors defined here:\n",
      "     |  \n",
      "     |  c_contiguous\n",
      "     |      A bool indicating whether the memory is C contiguous.\n",
      "     |  \n",
      "     |  contiguous\n",
      "     |      A bool indicating whether the memory is contiguous.\n",
      "     |  \n",
      "     |  f_contiguous\n",
      "     |      A bool indicating whether the memory is Fortran contiguous.\n",
      "     |  \n",
      "     |  format\n",
      "     |      A string containing the format (in struct module style)\n",
      "     |      for each element in the view.\n",
      "     |  \n",
      "     |  itemsize\n",
      "     |      The size in bytes of each element of the memoryview.\n",
      "     |  \n",
      "     |  nbytes\n",
      "     |      The amount of space in bytes that the array would use in\n",
      "     |      a contiguous representation.\n",
      "     |  \n",
      "     |  ndim\n",
      "     |      An integer indicating how many dimensions of a multi-dimensional\n",
      "     |      array the memory represents.\n",
      "     |  \n",
      "     |  obj\n",
      "     |      The underlying object of the memoryview.\n",
      "     |  \n",
      "     |  readonly\n",
      "     |      A bool indicating whether the memory is read only.\n",
      "     |  \n",
      "     |  shape\n",
      "     |      A tuple of ndim integers giving the shape of the memory\n",
      "     |      as an N-dimensional array.\n",
      "     |  \n",
      "     |  strides\n",
      "     |      A tuple of ndim integers giving the size in bytes to access\n",
      "     |      each element for each dimension of the array.\n",
      "     |  \n",
      "     |  suboffsets\n",
      "     |      A tuple of integers used internally for PIL-style arrays.\n",
      "    \n",
      "    class object\n",
      "     |  The base class of the class hierarchy.\n",
      "     |  \n",
      "     |  When called, it accepts no arguments and returns a new featureless\n",
      "     |  instance that has no instance attributes and cannot be given any.\n",
      "     |  \n",
      "     |  Built-in subclasses:\n",
      "     |      ArgNotFound\n",
      "     |      async_generator\n",
      "     |      BaseException\n",
      "     |      builtin_function_or_method\n",
      "     |      ... and 127 other subclasses\n",
      "     |  \n",
      "     |  Methods defined here:\n",
      "     |  \n",
      "     |  __delattr__(self, name, /)\n",
      "     |      Implement delattr(self, name).\n",
      "     |  \n",
      "     |  __dir__(self, /)\n",
      "     |      Default dir() implementation.\n",
      "     |  \n",
      "     |  __eq__(self, value, /)\n",
      "     |      Return self==value.\n",
      "     |  \n",
      "     |  __format__(self, format_spec, /)\n",
      "     |      Default object formatter.\n",
      "     |  \n",
      "     |  __ge__(self, value, /)\n",
      "     |      Return self>=value.\n",
      "     |  \n",
      "     |  __getattribute__(self, name, /)\n",
      "     |      Return getattr(self, name).\n",
      "     |  \n",
      "     |  __gt__(self, value, /)\n",
      "     |      Return self>value.\n",
      "     |  \n",
      "     |  __hash__(self, /)\n",
      "     |      Return hash(self).\n",
      "     |  \n",
      "     |  __init__(self, /, *args, **kwargs)\n",
      "     |      Initialize self.  See help(type(self)) for accurate signature.\n",
      "     |  \n",
      "     |  __le__(self, value, /)\n",
      "     |      Return self<=value.\n",
      "     |  \n",
      "     |  __lt__(self, value, /)\n",
      "     |      Return self<value.\n",
      "     |  \n",
      "     |  __ne__(self, value, /)\n",
      "     |      Return self!=value.\n",
      "     |  \n",
      "     |  __reduce__(self, /)\n",
      "     |      Helper for pickle.\n",
      "     |  \n",
      "     |  __reduce_ex__(self, protocol, /)\n",
      "     |      Helper for pickle.\n",
      "     |  \n",
      "     |  __repr__(self, /)\n",
      "     |      Return repr(self).\n",
      "     |  \n",
      "     |  __setattr__(self, name, value, /)\n",
      "     |      Implement setattr(self, name, value).\n",
      "     |  \n",
      "     |  __sizeof__(self, /)\n",
      "     |      Size of object in memory, in bytes.\n",
      "     |  \n",
      "     |  __str__(self, /)\n",
      "     |      Return str(self).\n",
      "     |  \n",
      "     |  ----------------------------------------------------------------------\n",
      "     |  Class methods defined here:\n",
      "     |  \n",
      "     |  __init_subclass__(...) from type\n",
      "     |      This method is called when a class is subclassed.\n",
      "     |      \n",
      "     |      The default implementation does nothing. It may be\n",
      "     |      overridden to extend subclasses.\n",
      "     |  \n",
      "     |  __subclasshook__(...) from type\n",
      "     |      Abstract classes can override this to customize issubclass().\n",
      "     |      \n",
      "     |      This is invoked early on by abc.ABCMeta.__subclasscheck__().\n",
      "     |      It should return True, False or NotImplemented.  If it returns\n",
      "     |      NotImplemented, the normal algorithm is used.  Otherwise, it\n",
      "     |      overrides the normal algorithm (and the outcome is cached).\n",
      "     |  \n",
      "     |  ----------------------------------------------------------------------\n",
      "     |  Static methods defined here:\n",
      "     |  \n",
      "     |  __new__(*args, **kwargs) from type\n",
      "     |      Create and return a new object.  See help(type) for accurate signature.\n",
      "     |  \n",
      "     |  ----------------------------------------------------------------------\n",
      "     |  Data and other attributes defined here:\n",
      "     |  \n",
      "     |  __class__ = <class 'type'>\n",
      "     |      type(object_or_name, bases, dict)\n",
      "     |      type(object) -> the object's type\n",
      "     |      type(name, bases, dict) -> a new type\n",
      "    \n",
      "    class property(object)\n",
      "     |  property(fget=None, fset=None, fdel=None, doc=None)\n",
      "     |  \n",
      "     |  Property attribute.\n",
      "     |  \n",
      "     |    fget\n",
      "     |      function to be used for getting an attribute value\n",
      "     |    fset\n",
      "     |      function to be used for setting an attribute value\n",
      "     |    fdel\n",
      "     |      function to be used for del'ing an attribute\n",
      "     |    doc\n",
      "     |      docstring\n",
      "     |  \n",
      "     |  Typical use is to define a managed attribute x:\n",
      "     |  \n",
      "     |  class C(object):\n",
      "     |      def getx(self): return self._x\n",
      "     |      def setx(self, value): self._x = value\n",
      "     |      def delx(self): del self._x\n",
      "     |      x = property(getx, setx, delx, \"I'm the 'x' property.\")\n",
      "     |  \n",
      "     |  Decorators make defining new properties or modifying existing ones easy:\n",
      "     |  \n",
      "     |  class C(object):\n",
      "     |      @property\n",
      "     |      def x(self):\n",
      "     |          \"I am the 'x' property.\"\n",
      "     |          return self._x\n",
      "     |      @x.setter\n",
      "     |      def x(self, value):\n",
      "     |          self._x = value\n",
      "     |      @x.deleter\n",
      "     |      def x(self):\n",
      "     |          del self._x\n",
      "     |  \n",
      "     |  Methods defined here:\n",
      "     |  \n",
      "     |  __delete__(self, instance, /)\n",
      "     |      Delete an attribute of instance.\n",
      "     |  \n",
      "     |  __get__(self, instance, owner, /)\n",
      "     |      Return an attribute of instance, which is of type owner.\n",
      "     |  \n",
      "     |  __getattribute__(self, name, /)\n",
      "     |      Return getattr(self, name).\n",
      "     |  \n",
      "     |  __init__(self, /, *args, **kwargs)\n",
      "     |      Initialize self.  See help(type(self)) for accurate signature.\n",
      "     |  \n",
      "     |  __set__(self, instance, value, /)\n",
      "     |      Set an attribute of instance to value.\n",
      "     |  \n",
      "     |  deleter(...)\n",
      "     |      Descriptor to change the deleter on a property.\n",
      "     |  \n",
      "     |  getter(...)\n",
      "     |      Descriptor to change the getter on a property.\n",
      "     |  \n",
      "     |  setter(...)\n",
      "     |      Descriptor to change the setter on a property.\n",
      "     |  \n",
      "     |  ----------------------------------------------------------------------\n",
      "     |  Static methods defined here:\n",
      "     |  \n",
      "     |  __new__(*args, **kwargs) from type\n",
      "     |      Create and return a new object.  See help(type) for accurate signature.\n",
      "     |  \n",
      "     |  ----------------------------------------------------------------------\n",
      "     |  Data descriptors defined here:\n",
      "     |  \n",
      "     |  __isabstractmethod__\n",
      "     |  \n",
      "     |  fdel\n",
      "     |  \n",
      "     |  fget\n",
      "     |  \n",
      "     |  fset\n",
      "    \n",
      "    class range(object)\n",
      "     |  range(stop) -> range object\n",
      "     |  range(start, stop[, step]) -> range object\n",
      "     |  \n",
      "     |  Return an object that produces a sequence of integers from start (inclusive)\n",
      "     |  to stop (exclusive) by step.  range(i, j) produces i, i+1, i+2, ..., j-1.\n",
      "     |  start defaults to 0, and stop is omitted!  range(4) produces 0, 1, 2, 3.\n",
      "     |  These are exactly the valid indices for a list of 4 elements.\n",
      "     |  When step is given, it specifies the increment (or decrement).\n",
      "     |  \n",
      "     |  Methods defined here:\n",
      "     |  \n",
      "     |  __bool__(self, /)\n",
      "     |      self != 0\n",
      "     |  \n",
      "     |  __contains__(self, key, /)\n",
      "     |      Return key in self.\n",
      "     |  \n",
      "     |  __eq__(self, value, /)\n",
      "     |      Return self==value.\n",
      "     |  \n",
      "     |  __ge__(self, value, /)\n",
      "     |      Return self>=value.\n",
      "     |  \n",
      "     |  __getattribute__(self, name, /)\n",
      "     |      Return getattr(self, name).\n",
      "     |  \n",
      "     |  __getitem__(self, key, /)\n",
      "     |      Return self[key].\n",
      "     |  \n",
      "     |  __gt__(self, value, /)\n",
      "     |      Return self>value.\n",
      "     |  \n",
      "     |  __hash__(self, /)\n",
      "     |      Return hash(self).\n",
      "     |  \n",
      "     |  __iter__(self, /)\n",
      "     |      Implement iter(self).\n",
      "     |  \n",
      "     |  __le__(self, value, /)\n",
      "     |      Return self<=value.\n",
      "     |  \n",
      "     |  __len__(self, /)\n",
      "     |      Return len(self).\n",
      "     |  \n",
      "     |  __lt__(self, value, /)\n",
      "     |      Return self<value.\n",
      "     |  \n",
      "     |  __ne__(self, value, /)\n",
      "     |      Return self!=value.\n",
      "     |  \n",
      "     |  __reduce__(...)\n",
      "     |      Helper for pickle.\n",
      "     |  \n",
      "     |  __repr__(self, /)\n",
      "     |      Return repr(self).\n",
      "     |  \n",
      "     |  __reversed__(...)\n",
      "     |      Return a reverse iterator.\n",
      "     |  \n",
      "     |  count(...)\n",
      "     |      rangeobject.count(value) -> integer -- return number of occurrences of value\n",
      "     |  \n",
      "     |  index(...)\n",
      "     |      rangeobject.index(value) -> integer -- return index of value.\n",
      "     |      Raise ValueError if the value is not present.\n",
      "     |  \n",
      "     |  ----------------------------------------------------------------------\n",
      "     |  Static methods defined here:\n",
      "     |  \n",
      "     |  __new__(*args, **kwargs) from type\n",
      "     |      Create and return a new object.  See help(type) for accurate signature.\n",
      "     |  \n",
      "     |  ----------------------------------------------------------------------\n",
      "     |  Data descriptors defined here:\n",
      "     |  \n",
      "     |  start\n",
      "     |  \n",
      "     |  step\n",
      "     |  \n",
      "     |  stop\n",
      "    \n",
      "    class reversed(object)\n",
      "     |  reversed(sequence, /)\n",
      "     |  \n",
      "     |  Return a reverse iterator over the values of the given sequence.\n",
      "     |  \n",
      "     |  Methods defined here:\n",
      "     |  \n",
      "     |  __getattribute__(self, name, /)\n",
      "     |      Return getattr(self, name).\n",
      "     |  \n",
      "     |  __iter__(self, /)\n",
      "     |      Implement iter(self).\n",
      "     |  \n",
      "     |  __length_hint__(...)\n",
      "     |      Private method returning an estimate of len(list(it)).\n",
      "     |  \n",
      "     |  __next__(self, /)\n",
      "     |      Implement next(self).\n",
      "     |  \n",
      "     |  __reduce__(...)\n",
      "     |      Return state information for pickling.\n",
      "     |  \n",
      "     |  __setstate__(...)\n",
      "     |      Set state information for unpickling.\n",
      "     |  \n",
      "     |  ----------------------------------------------------------------------\n",
      "     |  Static methods defined here:\n",
      "     |  \n",
      "     |  __new__(*args, **kwargs) from type\n",
      "     |      Create and return a new object.  See help(type) for accurate signature.\n",
      "    \n",
      "    class set(object)\n",
      "     |  set() -> new empty set object\n",
      "     |  set(iterable) -> new set object\n",
      "     |  \n",
      "     |  Build an unordered collection of unique elements.\n",
      "     |  \n",
      "     |  Methods defined here:\n",
      "     |  \n",
      "     |  __and__(self, value, /)\n",
      "     |      Return self&value.\n",
      "     |  \n",
      "     |  __contains__(...)\n",
      "     |      x.__contains__(y) <==> y in x.\n",
      "     |  \n",
      "     |  __eq__(self, value, /)\n",
      "     |      Return self==value.\n",
      "     |  \n",
      "     |  __ge__(self, value, /)\n",
      "     |      Return self>=value.\n",
      "     |  \n",
      "     |  __getattribute__(self, name, /)\n",
      "     |      Return getattr(self, name).\n",
      "     |  \n",
      "     |  __gt__(self, value, /)\n",
      "     |      Return self>value.\n",
      "     |  \n",
      "     |  __iand__(self, value, /)\n",
      "     |      Return self&=value.\n",
      "     |  \n",
      "     |  __init__(self, /, *args, **kwargs)\n",
      "     |      Initialize self.  See help(type(self)) for accurate signature.\n",
      "     |  \n",
      "     |  __ior__(self, value, /)\n",
      "     |      Return self|=value.\n",
      "     |  \n",
      "     |  __isub__(self, value, /)\n",
      "     |      Return self-=value.\n",
      "     |  \n",
      "     |  __iter__(self, /)\n",
      "     |      Implement iter(self).\n",
      "     |  \n",
      "     |  __ixor__(self, value, /)\n",
      "     |      Return self^=value.\n",
      "     |  \n",
      "     |  __le__(self, value, /)\n",
      "     |      Return self<=value.\n",
      "     |  \n",
      "     |  __len__(self, /)\n",
      "     |      Return len(self).\n",
      "     |  \n",
      "     |  __lt__(self, value, /)\n",
      "     |      Return self<value.\n",
      "     |  \n",
      "     |  __ne__(self, value, /)\n",
      "     |      Return self!=value.\n",
      "     |  \n",
      "     |  __or__(self, value, /)\n",
      "     |      Return self|value.\n",
      "     |  \n",
      "     |  __rand__(self, value, /)\n",
      "     |      Return value&self.\n",
      "     |  \n",
      "     |  __reduce__(...)\n",
      "     |      Return state information for pickling.\n",
      "     |  \n",
      "     |  __repr__(self, /)\n",
      "     |      Return repr(self).\n",
      "     |  \n",
      "     |  __ror__(self, value, /)\n",
      "     |      Return value|self.\n",
      "     |  \n",
      "     |  __rsub__(self, value, /)\n",
      "     |      Return value-self.\n",
      "     |  \n",
      "     |  __rxor__(self, value, /)\n",
      "     |      Return value^self.\n",
      "     |  \n",
      "     |  __sizeof__(...)\n",
      "     |      S.__sizeof__() -> size of S in memory, in bytes\n",
      "     |  \n",
      "     |  __sub__(self, value, /)\n",
      "     |      Return self-value.\n",
      "     |  \n",
      "     |  __xor__(self, value, /)\n",
      "     |      Return self^value.\n",
      "     |  \n",
      "     |  add(...)\n",
      "     |      Add an element to a set.\n",
      "     |      \n",
      "     |      This has no effect if the element is already present.\n",
      "     |  \n",
      "     |  clear(...)\n",
      "     |      Remove all elements from this set.\n",
      "     |  \n",
      "     |  copy(...)\n",
      "     |      Return a shallow copy of a set.\n",
      "     |  \n",
      "     |  difference(...)\n",
      "     |      Return the difference of two or more sets as a new set.\n",
      "     |      \n",
      "     |      (i.e. all elements that are in this set but not the others.)\n",
      "     |  \n",
      "     |  difference_update(...)\n",
      "     |      Remove all elements of another set from this set.\n",
      "     |  \n",
      "     |  discard(...)\n",
      "     |      Remove an element from a set if it is a member.\n",
      "     |      \n",
      "     |      If the element is not a member, do nothing.\n",
      "     |  \n",
      "     |  intersection(...)\n",
      "     |      Return the intersection of two sets as a new set.\n",
      "     |      \n",
      "     |      (i.e. all elements that are in both sets.)\n",
      "     |  \n",
      "     |  intersection_update(...)\n",
      "     |      Update a set with the intersection of itself and another.\n",
      "     |  \n",
      "     |  isdisjoint(...)\n",
      "     |      Return True if two sets have a null intersection.\n",
      "     |  \n",
      "     |  issubset(...)\n",
      "     |      Report whether another set contains this set.\n",
      "     |  \n",
      "     |  issuperset(...)\n",
      "     |      Report whether this set contains another set.\n",
      "     |  \n",
      "     |  pop(...)\n",
      "     |      Remove and return an arbitrary set element.\n",
      "     |      Raises KeyError if the set is empty.\n",
      "     |  \n",
      "     |  remove(...)\n",
      "     |      Remove an element from a set; it must be a member.\n",
      "     |      \n",
      "     |      If the element is not a member, raise a KeyError.\n",
      "     |  \n",
      "     |  symmetric_difference(...)\n",
      "     |      Return the symmetric difference of two sets as a new set.\n",
      "     |      \n",
      "     |      (i.e. all elements that are in exactly one of the sets.)\n",
      "     |  \n",
      "     |  symmetric_difference_update(...)\n",
      "     |      Update a set with the symmetric difference of itself and another.\n",
      "     |  \n",
      "     |  union(...)\n",
      "     |      Return the union of sets as a new set.\n",
      "     |      \n",
      "     |      (i.e. all elements that are in either set.)\n",
      "     |  \n",
      "     |  update(...)\n",
      "     |      Update a set with the union of itself and others.\n",
      "     |  \n",
      "     |  ----------------------------------------------------------------------\n",
      "     |  Class methods defined here:\n",
      "     |  \n",
      "     |  __class_getitem__(...) from type\n",
      "     |      See PEP 585\n",
      "     |  \n",
      "     |  ----------------------------------------------------------------------\n",
      "     |  Static methods defined here:\n",
      "     |  \n",
      "     |  __new__(*args, **kwargs) from type\n",
      "     |      Create and return a new object.  See help(type) for accurate signature.\n",
      "     |  \n",
      "     |  ----------------------------------------------------------------------\n",
      "     |  Data and other attributes defined here:\n",
      "     |  \n",
      "     |  __hash__ = None\n",
      "    \n",
      "    class slice(object)\n",
      "     |  slice(stop)\n",
      "     |  slice(start, stop[, step])\n",
      "     |  \n",
      "     |  Create a slice object.  This is used for extended slicing (e.g. a[0:10:2]).\n",
      "     |  \n",
      "     |  Methods defined here:\n",
      "     |  \n",
      "     |  __eq__(self, value, /)\n",
      "     |      Return self==value.\n",
      "     |  \n",
      "     |  __ge__(self, value, /)\n",
      "     |      Return self>=value.\n",
      "     |  \n",
      "     |  __getattribute__(self, name, /)\n",
      "     |      Return getattr(self, name).\n",
      "     |  \n",
      "     |  __gt__(self, value, /)\n",
      "     |      Return self>value.\n",
      "     |  \n",
      "     |  __le__(self, value, /)\n",
      "     |      Return self<=value.\n",
      "     |  \n",
      "     |  __lt__(self, value, /)\n",
      "     |      Return self<value.\n",
      "     |  \n",
      "     |  __ne__(self, value, /)\n",
      "     |      Return self!=value.\n",
      "     |  \n",
      "     |  __reduce__(...)\n",
      "     |      Return state information for pickling.\n",
      "     |  \n",
      "     |  __repr__(self, /)\n",
      "     |      Return repr(self).\n",
      "     |  \n",
      "     |  indices(...)\n",
      "     |      S.indices(len) -> (start, stop, stride)\n",
      "     |      \n",
      "     |      Assuming a sequence of length len, calculate the start and stop\n",
      "     |      indices, and the stride length of the extended slice described by\n",
      "     |      S. Out of bounds indices are clipped in a manner consistent with the\n",
      "     |      handling of normal slices.\n",
      "     |  \n",
      "     |  ----------------------------------------------------------------------\n",
      "     |  Static methods defined here:\n",
      "     |  \n",
      "     |  __new__(*args, **kwargs) from type\n",
      "     |      Create and return a new object.  See help(type) for accurate signature.\n",
      "     |  \n",
      "     |  ----------------------------------------------------------------------\n",
      "     |  Data descriptors defined here:\n",
      "     |  \n",
      "     |  start\n",
      "     |  \n",
      "     |  step\n",
      "     |  \n",
      "     |  stop\n",
      "     |  \n",
      "     |  ----------------------------------------------------------------------\n",
      "     |  Data and other attributes defined here:\n",
      "     |  \n",
      "     |  __hash__ = None\n",
      "    \n",
      "    class staticmethod(object)\n",
      "     |  staticmethod(function) -> method\n",
      "     |  \n",
      "     |  Convert a function to be a static method.\n",
      "     |  \n",
      "     |  A static method does not receive an implicit first argument.\n",
      "     |  To declare a static method, use this idiom:\n",
      "     |  \n",
      "     |       class C:\n",
      "     |           @staticmethod\n",
      "     |           def f(arg1, arg2, ...):\n",
      "     |               ...\n",
      "     |  \n",
      "     |  It can be called either on the class (e.g. C.f()) or on an instance\n",
      "     |  (e.g. C().f()). Both the class and the instance are ignored, and\n",
      "     |  neither is passed implicitly as the first argument to the method.\n",
      "     |  \n",
      "     |  Static methods in Python are similar to those found in Java or C++.\n",
      "     |  For a more advanced concept, see the classmethod builtin.\n",
      "     |  \n",
      "     |  Methods defined here:\n",
      "     |  \n",
      "     |  __get__(self, instance, owner, /)\n",
      "     |      Return an attribute of instance, which is of type owner.\n",
      "     |  \n",
      "     |  __init__(self, /, *args, **kwargs)\n",
      "     |      Initialize self.  See help(type(self)) for accurate signature.\n",
      "     |  \n",
      "     |  ----------------------------------------------------------------------\n",
      "     |  Static methods defined here:\n",
      "     |  \n",
      "     |  __new__(*args, **kwargs) from type\n",
      "     |      Create and return a new object.  See help(type) for accurate signature.\n",
      "     |  \n",
      "     |  ----------------------------------------------------------------------\n",
      "     |  Data descriptors defined here:\n",
      "     |  \n",
      "     |  __dict__\n",
      "     |  \n",
      "     |  __func__\n",
      "     |  \n",
      "     |  __isabstractmethod__\n",
      "    \n",
      "    class str(object)\n",
      "     |  str(object='') -> str\n",
      "     |  str(bytes_or_buffer[, encoding[, errors]]) -> str\n",
      "     |  \n",
      "     |  Create a new string object from the given object. If encoding or\n",
      "     |  errors is specified, then the object must expose a data buffer\n",
      "     |  that will be decoded using the given encoding and error handler.\n",
      "     |  Otherwise, returns the result of object.__str__() (if defined)\n",
      "     |  or repr(object).\n",
      "     |  encoding defaults to sys.getdefaultencoding().\n",
      "     |  errors defaults to 'strict'.\n",
      "     |  \n",
      "     |  Methods defined here:\n",
      "     |  \n",
      "     |  __add__(self, value, /)\n",
      "     |      Return self+value.\n",
      "     |  \n",
      "     |  __contains__(self, key, /)\n",
      "     |      Return key in self.\n",
      "     |  \n",
      "     |  __eq__(self, value, /)\n",
      "     |      Return self==value.\n",
      "     |  \n",
      "     |  __format__(self, format_spec, /)\n",
      "     |      Return a formatted version of the string as described by format_spec.\n",
      "     |  \n",
      "     |  __ge__(self, value, /)\n",
      "     |      Return self>=value.\n",
      "     |  \n",
      "     |  __getattribute__(self, name, /)\n",
      "     |      Return getattr(self, name).\n",
      "     |  \n",
      "     |  __getitem__(self, key, /)\n",
      "     |      Return self[key].\n",
      "     |  \n",
      "     |  __getnewargs__(...)\n",
      "     |  \n",
      "     |  __gt__(self, value, /)\n",
      "     |      Return self>value.\n",
      "     |  \n",
      "     |  __hash__(self, /)\n",
      "     |      Return hash(self).\n",
      "     |  \n",
      "     |  __iter__(self, /)\n",
      "     |      Implement iter(self).\n",
      "     |  \n",
      "     |  __le__(self, value, /)\n",
      "     |      Return self<=value.\n",
      "     |  \n",
      "     |  __len__(self, /)\n",
      "     |      Return len(self).\n",
      "     |  \n",
      "     |  __lt__(self, value, /)\n",
      "     |      Return self<value.\n",
      "     |  \n",
      "     |  __mod__(self, value, /)\n",
      "     |      Return self%value.\n",
      "     |  \n",
      "     |  __mul__(self, value, /)\n",
      "     |      Return self*value.\n",
      "     |  \n",
      "     |  __ne__(self, value, /)\n",
      "     |      Return self!=value.\n",
      "     |  \n",
      "     |  __repr__(self, /)\n",
      "     |      Return repr(self).\n",
      "     |  \n",
      "     |  __rmod__(self, value, /)\n",
      "     |      Return value%self.\n",
      "     |  \n",
      "     |  __rmul__(self, value, /)\n",
      "     |      Return value*self.\n",
      "     |  \n",
      "     |  __sizeof__(self, /)\n",
      "     |      Return the size of the string in memory, in bytes.\n",
      "     |  \n",
      "     |  __str__(self, /)\n",
      "     |      Return str(self).\n",
      "     |  \n",
      "     |  capitalize(self, /)\n",
      "     |      Return a capitalized version of the string.\n",
      "     |      \n",
      "     |      More specifically, make the first character have upper case and the rest lower\n",
      "     |      case.\n",
      "     |  \n",
      "     |  casefold(self, /)\n",
      "     |      Return a version of the string suitable for caseless comparisons.\n",
      "     |  \n",
      "     |  center(self, width, fillchar=' ', /)\n",
      "     |      Return a centered string of length width.\n",
      "     |      \n",
      "     |      Padding is done using the specified fill character (default is a space).\n",
      "     |  \n",
      "     |  count(...)\n",
      "     |      S.count(sub[, start[, end]]) -> int\n",
      "     |      \n",
      "     |      Return the number of non-overlapping occurrences of substring sub in\n",
      "     |      string S[start:end].  Optional arguments start and end are\n",
      "     |      interpreted as in slice notation.\n",
      "     |  \n",
      "     |  encode(self, /, encoding='utf-8', errors='strict')\n",
      "     |      Encode the string using the codec registered for encoding.\n",
      "     |      \n",
      "     |      encoding\n",
      "     |        The encoding in which to encode the string.\n",
      "     |      errors\n",
      "     |        The error handling scheme to use for encoding errors.\n",
      "     |        The default is 'strict' meaning that encoding errors raise a\n",
      "     |        UnicodeEncodeError.  Other possible values are 'ignore', 'replace' and\n",
      "     |        'xmlcharrefreplace' as well as any other name registered with\n",
      "     |        codecs.register_error that can handle UnicodeEncodeErrors.\n",
      "     |  \n",
      "     |  endswith(...)\n",
      "     |      S.endswith(suffix[, start[, end]]) -> bool\n",
      "     |      \n",
      "     |      Return True if S ends with the specified suffix, False otherwise.\n",
      "     |      With optional start, test S beginning at that position.\n",
      "     |      With optional end, stop comparing S at that position.\n",
      "     |      suffix can also be a tuple of strings to try.\n",
      "     |  \n",
      "     |  expandtabs(self, /, tabsize=8)\n",
      "     |      Return a copy where all tab characters are expanded using spaces.\n",
      "     |      \n",
      "     |      If tabsize is not given, a tab size of 8 characters is assumed.\n",
      "     |  \n",
      "     |  find(...)\n",
      "     |      S.find(sub[, start[, end]]) -> int\n",
      "     |      \n",
      "     |      Return the lowest index in S where substring sub is found,\n",
      "     |      such that sub is contained within S[start:end].  Optional\n",
      "     |      arguments start and end are interpreted as in slice notation.\n",
      "     |      \n",
      "     |      Return -1 on failure.\n",
      "     |  \n",
      "     |  format(...)\n",
      "     |      S.format(*args, **kwargs) -> str\n",
      "     |      \n",
      "     |      Return a formatted version of S, using substitutions from args and kwargs.\n",
      "     |      The substitutions are identified by braces ('{' and '}').\n",
      "     |  \n",
      "     |  format_map(...)\n",
      "     |      S.format_map(mapping) -> str\n",
      "     |      \n",
      "     |      Return a formatted version of S, using substitutions from mapping.\n",
      "     |      The substitutions are identified by braces ('{' and '}').\n",
      "     |  \n",
      "     |  index(...)\n",
      "     |      S.index(sub[, start[, end]]) -> int\n",
      "     |      \n",
      "     |      Return the lowest index in S where substring sub is found,\n",
      "     |      such that sub is contained within S[start:end].  Optional\n",
      "     |      arguments start and end are interpreted as in slice notation.\n",
      "     |      \n",
      "     |      Raises ValueError when the substring is not found.\n",
      "     |  \n",
      "     |  isalnum(self, /)\n",
      "     |      Return True if the string is an alpha-numeric string, False otherwise.\n",
      "     |      \n",
      "     |      A string is alpha-numeric if all characters in the string are alpha-numeric and\n",
      "     |      there is at least one character in the string.\n",
      "     |  \n",
      "     |  isalpha(self, /)\n",
      "     |      Return True if the string is an alphabetic string, False otherwise.\n",
      "     |      \n",
      "     |      A string is alphabetic if all characters in the string are alphabetic and there\n",
      "     |      is at least one character in the string.\n",
      "     |  \n",
      "     |  isascii(self, /)\n",
      "     |      Return True if all characters in the string are ASCII, False otherwise.\n",
      "     |      \n",
      "     |      ASCII characters have code points in the range U+0000-U+007F.\n",
      "     |      Empty string is ASCII too.\n",
      "     |  \n",
      "     |  isdecimal(self, /)\n",
      "     |      Return True if the string is a decimal string, False otherwise.\n",
      "     |      \n",
      "     |      A string is a decimal string if all characters in the string are decimal and\n",
      "     |      there is at least one character in the string.\n",
      "     |  \n",
      "     |  isdigit(self, /)\n",
      "     |      Return True if the string is a digit string, False otherwise.\n",
      "     |      \n",
      "     |      A string is a digit string if all characters in the string are digits and there\n",
      "     |      is at least one character in the string.\n",
      "     |  \n",
      "     |  isidentifier(self, /)\n",
      "     |      Return True if the string is a valid Python identifier, False otherwise.\n",
      "     |      \n",
      "     |      Call keyword.iskeyword(s) to test whether string s is a reserved identifier,\n",
      "     |      such as \"def\" or \"class\".\n",
      "     |  \n",
      "     |  islower(self, /)\n",
      "     |      Return True if the string is a lowercase string, False otherwise.\n",
      "     |      \n",
      "     |      A string is lowercase if all cased characters in the string are lowercase and\n",
      "     |      there is at least one cased character in the string.\n",
      "     |  \n",
      "     |  isnumeric(self, /)\n",
      "     |      Return True if the string is a numeric string, False otherwise.\n",
      "     |      \n",
      "     |      A string is numeric if all characters in the string are numeric and there is at\n",
      "     |      least one character in the string.\n",
      "     |  \n",
      "     |  isprintable(self, /)\n",
      "     |      Return True if the string is printable, False otherwise.\n",
      "     |      \n",
      "     |      A string is printable if all of its characters are considered printable in\n",
      "     |      repr() or if it is empty.\n",
      "     |  \n",
      "     |  isspace(self, /)\n",
      "     |      Return True if the string is a whitespace string, False otherwise.\n",
      "     |      \n",
      "     |      A string is whitespace if all characters in the string are whitespace and there\n",
      "     |      is at least one character in the string.\n",
      "     |  \n",
      "     |  istitle(self, /)\n",
      "     |      Return True if the string is a title-cased string, False otherwise.\n",
      "     |      \n",
      "     |      In a title-cased string, upper- and title-case characters may only\n",
      "     |      follow uncased characters and lowercase characters only cased ones.\n",
      "     |  \n",
      "     |  isupper(self, /)\n",
      "     |      Return True if the string is an uppercase string, False otherwise.\n",
      "     |      \n",
      "     |      A string is uppercase if all cased characters in the string are uppercase and\n",
      "     |      there is at least one cased character in the string.\n",
      "     |  \n",
      "     |  join(self, iterable, /)\n",
      "     |      Concatenate any number of strings.\n",
      "     |      \n",
      "     |      The string whose method is called is inserted in between each given string.\n",
      "     |      The result is returned as a new string.\n",
      "     |      \n",
      "     |      Example: '.'.join(['ab', 'pq', 'rs']) -> 'ab.pq.rs'\n",
      "     |  \n",
      "     |  ljust(self, width, fillchar=' ', /)\n",
      "     |      Return a left-justified string of length width.\n",
      "     |      \n",
      "     |      Padding is done using the specified fill character (default is a space).\n",
      "     |  \n",
      "     |  lower(self, /)\n",
      "     |      Return a copy of the string converted to lowercase.\n",
      "     |  \n",
      "     |  lstrip(self, chars=None, /)\n",
      "     |      Return a copy of the string with leading whitespace removed.\n",
      "     |      \n",
      "     |      If chars is given and not None, remove characters in chars instead.\n",
      "     |  \n",
      "     |  partition(self, sep, /)\n",
      "     |      Partition the string into three parts using the given separator.\n",
      "     |      \n",
      "     |      This will search for the separator in the string.  If the separator is found,\n",
      "     |      returns a 3-tuple containing the part before the separator, the separator\n",
      "     |      itself, and the part after it.\n",
      "     |      \n",
      "     |      If the separator is not found, returns a 3-tuple containing the original string\n",
      "     |      and two empty strings.\n",
      "     |  \n",
      "     |  removeprefix(self, prefix, /)\n",
      "     |      Return a str with the given prefix string removed if present.\n",
      "     |      \n",
      "     |      If the string starts with the prefix string, return string[len(prefix):].\n",
      "     |      Otherwise, return a copy of the original string.\n",
      "     |  \n",
      "     |  removesuffix(self, suffix, /)\n",
      "     |      Return a str with the given suffix string removed if present.\n",
      "     |      \n",
      "     |      If the string ends with the suffix string and that suffix is not empty,\n",
      "     |      return string[:-len(suffix)]. Otherwise, return a copy of the original\n",
      "     |      string.\n",
      "     |  \n",
      "     |  replace(self, old, new, count=-1, /)\n",
      "     |      Return a copy with all occurrences of substring old replaced by new.\n",
      "     |      \n",
      "     |        count\n",
      "     |          Maximum number of occurrences to replace.\n",
      "     |          -1 (the default value) means replace all occurrences.\n",
      "     |      \n",
      "     |      If the optional argument count is given, only the first count occurrences are\n",
      "     |      replaced.\n",
      "     |  \n",
      "     |  rfind(...)\n",
      "     |      S.rfind(sub[, start[, end]]) -> int\n",
      "     |      \n",
      "     |      Return the highest index in S where substring sub is found,\n",
      "     |      such that sub is contained within S[start:end].  Optional\n",
      "     |      arguments start and end are interpreted as in slice notation.\n",
      "     |      \n",
      "     |      Return -1 on failure.\n",
      "     |  \n",
      "     |  rindex(...)\n",
      "     |      S.rindex(sub[, start[, end]]) -> int\n",
      "     |      \n",
      "     |      Return the highest index in S where substring sub is found,\n",
      "     |      such that sub is contained within S[start:end].  Optional\n",
      "     |      arguments start and end are interpreted as in slice notation.\n",
      "     |      \n",
      "     |      Raises ValueError when the substring is not found.\n",
      "     |  \n",
      "     |  rjust(self, width, fillchar=' ', /)\n",
      "     |      Return a right-justified string of length width.\n",
      "     |      \n",
      "     |      Padding is done using the specified fill character (default is a space).\n",
      "     |  \n",
      "     |  rpartition(self, sep, /)\n",
      "     |      Partition the string into three parts using the given separator.\n",
      "     |      \n",
      "     |      This will search for the separator in the string, starting at the end. If\n",
      "     |      the separator is found, returns a 3-tuple containing the part before the\n",
      "     |      separator, the separator itself, and the part after it.\n",
      "     |      \n",
      "     |      If the separator is not found, returns a 3-tuple containing two empty strings\n",
      "     |      and the original string.\n",
      "     |  \n",
      "     |  rsplit(self, /, sep=None, maxsplit=-1)\n",
      "     |      Return a list of the words in the string, using sep as the delimiter string.\n",
      "     |      \n",
      "     |        sep\n",
      "     |          The delimiter according which to split the string.\n",
      "     |          None (the default value) means split according to any whitespace,\n",
      "     |          and discard empty strings from the result.\n",
      "     |        maxsplit\n",
      "     |          Maximum number of splits to do.\n",
      "     |          -1 (the default value) means no limit.\n",
      "     |      \n",
      "     |      Splits are done starting at the end of the string and working to the front.\n",
      "     |  \n",
      "     |  rstrip(self, chars=None, /)\n",
      "     |      Return a copy of the string with trailing whitespace removed.\n",
      "     |      \n",
      "     |      If chars is given and not None, remove characters in chars instead.\n",
      "     |  \n",
      "     |  split(self, /, sep=None, maxsplit=-1)\n",
      "     |      Return a list of the words in the string, using sep as the delimiter string.\n",
      "     |      \n",
      "     |      sep\n",
      "     |        The delimiter according which to split the string.\n",
      "     |        None (the default value) means split according to any whitespace,\n",
      "     |        and discard empty strings from the result.\n",
      "     |      maxsplit\n",
      "     |        Maximum number of splits to do.\n",
      "     |        -1 (the default value) means no limit.\n",
      "     |  \n",
      "     |  splitlines(self, /, keepends=False)\n",
      "     |      Return a list of the lines in the string, breaking at line boundaries.\n",
      "     |      \n",
      "     |      Line breaks are not included in the resulting list unless keepends is given and\n",
      "     |      true.\n",
      "     |  \n",
      "     |  startswith(...)\n",
      "     |      S.startswith(prefix[, start[, end]]) -> bool\n",
      "     |      \n",
      "     |      Return True if S starts with the specified prefix, False otherwise.\n",
      "     |      With optional start, test S beginning at that position.\n",
      "     |      With optional end, stop comparing S at that position.\n",
      "     |      prefix can also be a tuple of strings to try.\n",
      "     |  \n",
      "     |  strip(self, chars=None, /)\n",
      "     |      Return a copy of the string with leading and trailing whitespace removed.\n",
      "     |      \n",
      "     |      If chars is given and not None, remove characters in chars instead.\n",
      "     |  \n",
      "     |  swapcase(self, /)\n",
      "     |      Convert uppercase characters to lowercase and lowercase characters to uppercase.\n",
      "     |  \n",
      "     |  title(self, /)\n",
      "     |      Return a version of the string where each word is titlecased.\n",
      "     |      \n",
      "     |      More specifically, words start with uppercased characters and all remaining\n",
      "     |      cased characters have lower case.\n",
      "     |  \n",
      "     |  translate(self, table, /)\n",
      "     |      Replace each character in the string using the given translation table.\n",
      "     |      \n",
      "     |        table\n",
      "     |          Translation table, which must be a mapping of Unicode ordinals to\n",
      "     |          Unicode ordinals, strings, or None.\n",
      "     |      \n",
      "     |      The table must implement lookup/indexing via __getitem__, for instance a\n",
      "     |      dictionary or list.  If this operation raises LookupError, the character is\n",
      "     |      left untouched.  Characters mapped to None are deleted.\n",
      "     |  \n",
      "     |  upper(self, /)\n",
      "     |      Return a copy of the string converted to uppercase.\n",
      "     |  \n",
      "     |  zfill(self, width, /)\n",
      "     |      Pad a numeric string with zeros on the left, to fill a field of the given width.\n",
      "     |      \n",
      "     |      The string is never truncated.\n",
      "     |  \n",
      "     |  ----------------------------------------------------------------------\n",
      "     |  Static methods defined here:\n",
      "     |  \n",
      "     |  __new__(*args, **kwargs) from type\n",
      "     |      Create and return a new object.  See help(type) for accurate signature.\n",
      "     |  \n",
      "     |  maketrans(...)\n",
      "     |      Return a translation table usable for str.translate().\n",
      "     |      \n",
      "     |      If there is only one argument, it must be a dictionary mapping Unicode\n",
      "     |      ordinals (integers) or characters to Unicode ordinals, strings or None.\n",
      "     |      Character keys will be then converted to ordinals.\n",
      "     |      If there are two arguments, they must be strings of equal length, and\n",
      "     |      in the resulting dictionary, each character in x will be mapped to the\n",
      "     |      character at the same position in y. If there is a third argument, it\n",
      "     |      must be a string, whose characters will be mapped to None in the result.\n",
      "    \n",
      "    class super(object)\n",
      "     |  super() -> same as super(__class__, <first argument>)\n",
      "     |  super(type) -> unbound super object\n",
      "     |  super(type, obj) -> bound super object; requires isinstance(obj, type)\n",
      "     |  super(type, type2) -> bound super object; requires issubclass(type2, type)\n",
      "     |  Typical use to call a cooperative superclass method:\n",
      "     |  class C(B):\n",
      "     |      def meth(self, arg):\n",
      "     |          super().meth(arg)\n",
      "     |  This works for class methods too:\n",
      "     |  class C(B):\n",
      "     |      @classmethod\n",
      "     |      def cmeth(cls, arg):\n",
      "     |          super().cmeth(arg)\n",
      "     |  \n",
      "     |  Methods defined here:\n",
      "     |  \n",
      "     |  __get__(self, instance, owner, /)\n",
      "     |      Return an attribute of instance, which is of type owner.\n",
      "     |  \n",
      "     |  __getattribute__(self, name, /)\n",
      "     |      Return getattr(self, name).\n",
      "     |  \n",
      "     |  __init__(self, /, *args, **kwargs)\n",
      "     |      Initialize self.  See help(type(self)) for accurate signature.\n",
      "     |  \n",
      "     |  __repr__(self, /)\n",
      "     |      Return repr(self).\n",
      "     |  \n",
      "     |  ----------------------------------------------------------------------\n",
      "     |  Static methods defined here:\n",
      "     |  \n",
      "     |  __new__(*args, **kwargs) from type\n",
      "     |      Create and return a new object.  See help(type) for accurate signature.\n",
      "     |  \n",
      "     |  ----------------------------------------------------------------------\n",
      "     |  Data descriptors defined here:\n",
      "     |  \n",
      "     |  __self__\n",
      "     |      the instance invoking super(); may be None\n",
      "     |  \n",
      "     |  __self_class__\n",
      "     |      the type of the instance invoking super(); may be None\n",
      "     |  \n",
      "     |  __thisclass__\n",
      "     |      the class invoking super()\n",
      "    \n",
      "    class tuple(object)\n",
      "     |  tuple(iterable=(), /)\n",
      "     |  \n",
      "     |  Built-in immutable sequence.\n",
      "     |  \n",
      "     |  If no argument is given, the constructor returns an empty tuple.\n",
      "     |  If iterable is specified the tuple is initialized from iterable's items.\n",
      "     |  \n",
      "     |  If the argument is a tuple, the return value is the same object.\n",
      "     |  \n",
      "     |  Built-in subclasses:\n",
      "     |      asyncgen_hooks\n",
      "     |      UnraisableHookArgs\n",
      "     |  \n",
      "     |  Methods defined here:\n",
      "     |  \n",
      "     |  __add__(self, value, /)\n",
      "     |      Return self+value.\n",
      "     |  \n",
      "     |  __contains__(self, key, /)\n",
      "     |      Return key in self.\n",
      "     |  \n",
      "     |  __eq__(self, value, /)\n",
      "     |      Return self==value.\n",
      "     |  \n",
      "     |  __ge__(self, value, /)\n",
      "     |      Return self>=value.\n",
      "     |  \n",
      "     |  __getattribute__(self, name, /)\n",
      "     |      Return getattr(self, name).\n",
      "     |  \n",
      "     |  __getitem__(self, key, /)\n",
      "     |      Return self[key].\n",
      "     |  \n",
      "     |  __getnewargs__(self, /)\n",
      "     |  \n",
      "     |  __gt__(self, value, /)\n",
      "     |      Return self>value.\n",
      "     |  \n",
      "     |  __hash__(self, /)\n",
      "     |      Return hash(self).\n",
      "     |  \n",
      "     |  __iter__(self, /)\n",
      "     |      Implement iter(self).\n",
      "     |  \n",
      "     |  __le__(self, value, /)\n",
      "     |      Return self<=value.\n",
      "     |  \n",
      "     |  __len__(self, /)\n",
      "     |      Return len(self).\n",
      "     |  \n",
      "     |  __lt__(self, value, /)\n",
      "     |      Return self<value.\n",
      "     |  \n",
      "     |  __mul__(self, value, /)\n",
      "     |      Return self*value.\n",
      "     |  \n",
      "     |  __ne__(self, value, /)\n",
      "     |      Return self!=value.\n",
      "     |  \n",
      "     |  __repr__(self, /)\n",
      "     |      Return repr(self).\n",
      "     |  \n",
      "     |  __rmul__(self, value, /)\n",
      "     |      Return value*self.\n",
      "     |  \n",
      "     |  count(self, value, /)\n",
      "     |      Return number of occurrences of value.\n",
      "     |  \n",
      "     |  index(self, value, start=0, stop=9223372036854775807, /)\n",
      "     |      Return first index of value.\n",
      "     |      \n",
      "     |      Raises ValueError if the value is not present.\n",
      "     |  \n",
      "     |  ----------------------------------------------------------------------\n",
      "     |  Class methods defined here:\n",
      "     |  \n",
      "     |  __class_getitem__(...) from type\n",
      "     |      See PEP 585\n",
      "     |  \n",
      "     |  ----------------------------------------------------------------------\n",
      "     |  Static methods defined here:\n",
      "     |  \n",
      "     |  __new__(*args, **kwargs) from type\n",
      "     |      Create and return a new object.  See help(type) for accurate signature.\n",
      "    \n",
      "    class type(object)\n",
      "     |  type(object_or_name, bases, dict)\n",
      "     |  type(object) -> the object's type\n",
      "     |  type(name, bases, dict) -> a new type\n",
      "     |  \n",
      "     |  Methods defined here:\n",
      "     |  \n",
      "     |  __call__(self, /, *args, **kwargs)\n",
      "     |      Call self as a function.\n",
      "     |  \n",
      "     |  __delattr__(self, name, /)\n",
      "     |      Implement delattr(self, name).\n",
      "     |  \n",
      "     |  __dir__(self, /)\n",
      "     |      Specialized __dir__ implementation for types.\n",
      "     |  \n",
      "     |  __getattribute__(self, name, /)\n",
      "     |      Return getattr(self, name).\n",
      "     |  \n",
      "     |  __init__(self, /, *args, **kwargs)\n",
      "     |      Initialize self.  See help(type(self)) for accurate signature.\n",
      "     |  \n",
      "     |  __instancecheck__(self, instance, /)\n",
      "     |      Check if an object is an instance.\n",
      "     |  \n",
      "     |  __repr__(self, /)\n",
      "     |      Return repr(self).\n",
      "     |  \n",
      "     |  __setattr__(self, name, value, /)\n",
      "     |      Implement setattr(self, name, value).\n",
      "     |  \n",
      "     |  __sizeof__(self, /)\n",
      "     |      Return memory consumption of the type object.\n",
      "     |  \n",
      "     |  __subclasscheck__(self, subclass, /)\n",
      "     |      Check if a class is a subclass.\n",
      "     |  \n",
      "     |  __subclasses__(self, /)\n",
      "     |      Return a list of immediate subclasses.\n",
      "     |  \n",
      "     |  mro(self, /)\n",
      "     |      Return a type's method resolution order.\n",
      "     |  \n",
      "     |  ----------------------------------------------------------------------\n",
      "     |  Class methods defined here:\n",
      "     |  \n",
      "     |  __prepare__(...)\n",
      "     |      __prepare__() -> dict\n",
      "     |      used to create the namespace for the class statement\n",
      "     |  \n",
      "     |  ----------------------------------------------------------------------\n",
      "     |  Static methods defined here:\n",
      "     |  \n",
      "     |  __new__(*args, **kwargs)\n",
      "     |      Create and return a new object.  See help(type) for accurate signature.\n",
      "     |  \n",
      "     |  ----------------------------------------------------------------------\n",
      "     |  Data descriptors defined here:\n",
      "     |  \n",
      "     |  __abstractmethods__\n",
      "     |  \n",
      "     |  __dict__\n",
      "     |  \n",
      "     |  __text_signature__\n",
      "     |  \n",
      "     |  ----------------------------------------------------------------------\n",
      "     |  Data and other attributes defined here:\n",
      "     |  \n",
      "     |  __base__ = <class 'object'>\n",
      "     |      The base class of the class hierarchy.\n",
      "     |      \n",
      "     |      When called, it accepts no arguments and returns a new featureless\n",
      "     |      instance that has no instance attributes and cannot be given any.\n",
      "     |  \n",
      "     |  \n",
      "     |  __bases__ = (<class 'object'>,)\n",
      "     |  \n",
      "     |  __basicsize__ = 880\n",
      "     |  \n",
      "     |  __dictoffset__ = 264\n",
      "     |  \n",
      "     |  __flags__ = 2148293632\n",
      "     |  \n",
      "     |  __itemsize__ = 40\n",
      "     |  \n",
      "     |  __mro__ = (<class 'type'>, <class 'object'>)\n",
      "     |  \n",
      "     |  __weakrefoffset__ = 368\n",
      "    \n",
      "    class zip(object)\n",
      "     |  zip(*iterables) --> A zip object yielding tuples until an input is exhausted.\n",
      "     |  \n",
      "     |     >>> list(zip('abcdefg', range(3), range(4)))\n",
      "     |     [('a', 0, 0), ('b', 1, 1), ('c', 2, 2)]\n",
      "     |  \n",
      "     |  The zip object yields n-length tuples, where n is the number of iterables\n",
      "     |  passed as positional arguments to zip().  The i-th element in every tuple\n",
      "     |  comes from the i-th iterable argument to zip().  This continues until the\n",
      "     |  shortest argument is exhausted.\n",
      "     |  \n",
      "     |  Methods defined here:\n",
      "     |  \n",
      "     |  __getattribute__(self, name, /)\n",
      "     |      Return getattr(self, name).\n",
      "     |  \n",
      "     |  __iter__(self, /)\n",
      "     |      Implement iter(self).\n",
      "     |  \n",
      "     |  __next__(self, /)\n",
      "     |      Implement next(self).\n",
      "     |  \n",
      "     |  __reduce__(...)\n",
      "     |      Return state information for pickling.\n",
      "     |  \n",
      "     |  ----------------------------------------------------------------------\n",
      "     |  Static methods defined here:\n",
      "     |  \n",
      "     |  __new__(*args, **kwargs) from type\n",
      "     |      Create and return a new object.  See help(type) for accurate signature.\n",
      "\n",
      "FUNCTIONS\n",
      "    __build_class__(...)\n",
      "        __build_class__(func, name, /, *bases, [metaclass], **kwds) -> class\n",
      "        \n",
      "        Internal helper function used by the class statement.\n",
      "    \n",
      "    __import__(...)\n",
      "        __import__(name, globals=None, locals=None, fromlist=(), level=0) -> module\n",
      "        \n",
      "        Import a module. Because this function is meant for use by the Python\n",
      "        interpreter and not for general use, it is better to use\n",
      "        importlib.import_module() to programmatically import a module.\n",
      "        \n",
      "        The globals argument is only used to determine the context;\n",
      "        they are not modified.  The locals argument is unused.  The fromlist\n",
      "        should be a list of names to emulate ``from name import ...'', or an\n",
      "        empty list to emulate ``import name''.\n",
      "        When importing a module from a package, note that __import__('A.B', ...)\n",
      "        returns package A when fromlist is empty, but its submodule B when\n",
      "        fromlist is not empty.  The level argument is used to determine whether to\n",
      "        perform absolute or relative imports: 0 is absolute, while a positive number\n",
      "        is the number of parent directories to search relative to the current module.\n",
      "    \n",
      "    abs(x, /)\n",
      "        Return the absolute value of the argument.\n",
      "    \n",
      "    all(iterable, /)\n",
      "        Return True if bool(x) is True for all values x in the iterable.\n",
      "        \n",
      "        If the iterable is empty, return True.\n",
      "    \n",
      "    any(iterable, /)\n",
      "        Return True if bool(x) is True for any x in the iterable.\n",
      "        \n",
      "        If the iterable is empty, return False.\n",
      "    \n",
      "    ascii(obj, /)\n",
      "        Return an ASCII-only representation of an object.\n",
      "        \n",
      "        As repr(), return a string containing a printable representation of an\n",
      "        object, but escape the non-ASCII characters in the string returned by\n",
      "        repr() using \\\\x, \\\\u or \\\\U escapes. This generates a string similar\n",
      "        to that returned by repr() in Python 2.\n",
      "    \n",
      "    bin(number, /)\n",
      "        Return the binary representation of an integer.\n",
      "        \n",
      "        >>> bin(2796202)\n",
      "        '0b1010101010101010101010'\n",
      "    \n",
      "    breakpoint(...)\n",
      "        breakpoint(*args, **kws)\n",
      "        \n",
      "        Call sys.breakpointhook(*args, **kws).  sys.breakpointhook() must accept\n",
      "        whatever arguments are passed.\n",
      "        \n",
      "        By default, this drops you into the pdb debugger.\n",
      "    \n",
      "    callable(obj, /)\n",
      "        Return whether the object is callable (i.e., some kind of function).\n",
      "        \n",
      "        Note that classes are callable, as are instances of classes with a\n",
      "        __call__() method.\n",
      "    \n",
      "    chr(i, /)\n",
      "        Return a Unicode string of one character with ordinal i; 0 <= i <= 0x10ffff.\n",
      "    \n",
      "    compile(source, filename, mode, flags=0, dont_inherit=False, optimize=-1, *, _feature_version=-1)\n",
      "        Compile source into a code object that can be executed by exec() or eval().\n",
      "        \n",
      "        The source code may represent a Python module, statement or expression.\n",
      "        The filename will be used for run-time error messages.\n",
      "        The mode must be 'exec' to compile a module, 'single' to compile a\n",
      "        single (interactive) statement, or 'eval' to compile an expression.\n",
      "        The flags argument, if present, controls which future statements influence\n",
      "        the compilation of the code.\n",
      "        The dont_inherit argument, if true, stops the compilation inheriting\n",
      "        the effects of any future statements in effect in the code calling\n",
      "        compile; if absent or false these statements do influence the compilation,\n",
      "        in addition to any features explicitly specified.\n",
      "    \n",
      "    delattr(obj, name, /)\n",
      "        Deletes the named attribute from the given object.\n",
      "        \n",
      "        delattr(x, 'y') is equivalent to ``del x.y''\n",
      "    \n",
      "    dir(...)\n",
      "        dir([object]) -> list of strings\n",
      "        \n",
      "        If called without an argument, return the names in the current scope.\n",
      "        Else, return an alphabetized list of names comprising (some of) the attributes\n",
      "        of the given object, and of attributes reachable from it.\n",
      "        If the object supplies a method named __dir__, it will be used; otherwise\n",
      "        the default dir() logic is used and returns:\n",
      "          for a module object: the module's attributes.\n",
      "          for a class object:  its attributes, and recursively the attributes\n",
      "            of its bases.\n",
      "          for any other object: its attributes, its class's attributes, and\n",
      "            recursively the attributes of its class's base classes.\n",
      "    \n",
      "    divmod(x, y, /)\n",
      "        Return the tuple (x//y, x%y).  Invariant: div*y + mod == x.\n",
      "    \n",
      "    eval(source, globals=None, locals=None, /)\n",
      "        Evaluate the given source in the context of globals and locals.\n",
      "        \n",
      "        The source may be a string representing a Python expression\n",
      "        or a code object as returned by compile().\n",
      "        The globals must be a dictionary and locals can be any mapping,\n",
      "        defaulting to the current globals and locals.\n",
      "        If only globals is given, locals defaults to it.\n",
      "    \n",
      "    exec(source, globals=None, locals=None, /)\n",
      "        Execute the given source in the context of globals and locals.\n",
      "        \n",
      "        The source may be a string representing one or more Python statements\n",
      "        or a code object as returned by compile().\n",
      "        The globals must be a dictionary and locals can be any mapping,\n",
      "        defaulting to the current globals and locals.\n",
      "        If only globals is given, locals defaults to it.\n",
      "    \n",
      "    format(value, format_spec='', /)\n",
      "        Return value.__format__(format_spec)\n",
      "        \n",
      "        format_spec defaults to the empty string.\n",
      "        See the Format Specification Mini-Language section of help('FORMATTING') for\n",
      "        details.\n",
      "    \n",
      "    getattr(...)\n",
      "        getattr(object, name[, default]) -> value\n",
      "        \n",
      "        Get a named attribute from an object; getattr(x, 'y') is equivalent to x.y.\n",
      "        When a default argument is given, it is returned when the attribute doesn't\n",
      "        exist; without it, an exception is raised in that case.\n",
      "    \n",
      "    globals()\n",
      "        Return the dictionary containing the current scope's global variables.\n",
      "        \n",
      "        NOTE: Updates to this dictionary *will* affect name lookups in the current\n",
      "        global scope and vice-versa.\n",
      "    \n",
      "    hasattr(obj, name, /)\n",
      "        Return whether the object has an attribute with the given name.\n",
      "        \n",
      "        This is done by calling getattr(obj, name) and catching AttributeError.\n",
      "    \n",
      "    hash(obj, /)\n",
      "        Return the hash value for the given object.\n",
      "        \n",
      "        Two objects that compare equal must also have the same hash value, but the\n",
      "        reverse is not necessarily true.\n",
      "    \n",
      "    hex(number, /)\n",
      "        Return the hexadecimal representation of an integer.\n",
      "        \n",
      "        >>> hex(12648430)\n",
      "        '0xc0ffee'\n",
      "    \n",
      "    id(obj, /)\n",
      "        Return the identity of an object.\n",
      "        \n",
      "        This is guaranteed to be unique among simultaneously existing objects.\n",
      "        (CPython uses the object's memory address.)\n",
      "    \n",
      "    isinstance(obj, class_or_tuple, /)\n",
      "        Return whether an object is an instance of a class or of a subclass thereof.\n",
      "        \n",
      "        A tuple, as in ``isinstance(x, (A, B, ...))``, may be given as the target to\n",
      "        check against. This is equivalent to ``isinstance(x, A) or isinstance(x, B)\n",
      "        or ...`` etc.\n",
      "    \n",
      "    issubclass(cls, class_or_tuple, /)\n",
      "        Return whether 'cls' is a derived from another class or is the same class.\n",
      "        \n",
      "        A tuple, as in ``issubclass(x, (A, B, ...))``, may be given as the target to\n",
      "        check against. This is equivalent to ``issubclass(x, A) or issubclass(x, B)\n",
      "        or ...`` etc.\n",
      "    \n",
      "    iter(...)\n",
      "        iter(iterable) -> iterator\n",
      "        iter(callable, sentinel) -> iterator\n",
      "        \n",
      "        Get an iterator from an object.  In the first form, the argument must\n",
      "        supply its own iterator, or be a sequence.\n",
      "        In the second form, the callable is called until it returns the sentinel.\n",
      "    \n",
      "    len(obj, /)\n",
      "        Return the number of items in a container.\n",
      "    \n",
      "    locals()\n",
      "        Return a dictionary containing the current scope's local variables.\n",
      "        \n",
      "        NOTE: Whether or not updates to this dictionary will affect name lookups in\n",
      "        the local scope and vice-versa is *implementation dependent* and not\n",
      "        covered by any backwards compatibility guarantees.\n",
      "    \n",
      "    max(...)\n",
      "        max(iterable, *[, default=obj, key=func]) -> value\n",
      "        max(arg1, arg2, *args, *[, key=func]) -> value\n",
      "        \n",
      "        With a single iterable argument, return its biggest item. The\n",
      "        default keyword-only argument specifies an object to return if\n",
      "        the provided iterable is empty.\n",
      "        With two or more arguments, return the largest argument.\n",
      "    \n",
      "    min(...)\n",
      "        min(iterable, *[, default=obj, key=func]) -> value\n",
      "        min(arg1, arg2, *args, *[, key=func]) -> value\n",
      "        \n",
      "        With a single iterable argument, return its smallest item. The\n",
      "        default keyword-only argument specifies an object to return if\n",
      "        the provided iterable is empty.\n",
      "        With two or more arguments, return the smallest argument.\n",
      "    \n",
      "    next(...)\n",
      "        next(iterator[, default])\n",
      "        \n",
      "        Return the next item from the iterator. If default is given and the iterator\n",
      "        is exhausted, it is returned instead of raising StopIteration.\n",
      "    \n",
      "    oct(number, /)\n",
      "        Return the octal representation of an integer.\n",
      "        \n",
      "        >>> oct(342391)\n",
      "        '0o1234567'\n",
      "    \n",
      "    open(file, mode='r', buffering=-1, encoding=None, errors=None, newline=None, closefd=True, opener=None)\n",
      "        Open file and return a stream.  Raise OSError upon failure.\n",
      "        \n",
      "        file is either a text or byte string giving the name (and the path\n",
      "        if the file isn't in the current working directory) of the file to\n",
      "        be opened or an integer file descriptor of the file to be\n",
      "        wrapped. (If a file descriptor is given, it is closed when the\n",
      "        returned I/O object is closed, unless closefd is set to False.)\n",
      "        \n",
      "        mode is an optional string that specifies the mode in which the file\n",
      "        is opened. It defaults to 'r' which means open for reading in text\n",
      "        mode.  Other common values are 'w' for writing (truncating the file if\n",
      "        it already exists), 'x' for creating and writing to a new file, and\n",
      "        'a' for appending (which on some Unix systems, means that all writes\n",
      "        append to the end of the file regardless of the current seek position).\n",
      "        In text mode, if encoding is not specified the encoding used is platform\n",
      "        dependent: locale.getpreferredencoding(False) is called to get the\n",
      "        current locale encoding. (For reading and writing raw bytes use binary\n",
      "        mode and leave encoding unspecified.) The available modes are:\n",
      "        \n",
      "        ========= ===============================================================\n",
      "        Character Meaning\n",
      "        --------- ---------------------------------------------------------------\n",
      "        'r'       open for reading (default)\n",
      "        'w'       open for writing, truncating the file first\n",
      "        'x'       create a new file and open it for writing\n",
      "        'a'       open for writing, appending to the end of the file if it exists\n",
      "        'b'       binary mode\n",
      "        't'       text mode (default)\n",
      "        '+'       open a disk file for updating (reading and writing)\n",
      "        'U'       universal newline mode (deprecated)\n",
      "        ========= ===============================================================\n",
      "        \n",
      "        The default mode is 'rt' (open for reading text). For binary random\n",
      "        access, the mode 'w+b' opens and truncates the file to 0 bytes, while\n",
      "        'r+b' opens the file without truncation. The 'x' mode implies 'w' and\n",
      "        raises an `FileExistsError` if the file already exists.\n",
      "        \n",
      "        Python distinguishes between files opened in binary and text modes,\n",
      "        even when the underlying operating system doesn't. Files opened in\n",
      "        binary mode (appending 'b' to the mode argument) return contents as\n",
      "        bytes objects without any decoding. In text mode (the default, or when\n",
      "        't' is appended to the mode argument), the contents of the file are\n",
      "        returned as strings, the bytes having been first decoded using a\n",
      "        platform-dependent encoding or using the specified encoding if given.\n",
      "        \n",
      "        'U' mode is deprecated and will raise an exception in future versions\n",
      "        of Python.  It has no effect in Python 3.  Use newline to control\n",
      "        universal newlines mode.\n",
      "        \n",
      "        buffering is an optional integer used to set the buffering policy.\n",
      "        Pass 0 to switch buffering off (only allowed in binary mode), 1 to select\n",
      "        line buffering (only usable in text mode), and an integer > 1 to indicate\n",
      "        the size of a fixed-size chunk buffer.  When no buffering argument is\n",
      "        given, the default buffering policy works as follows:\n",
      "        \n",
      "        * Binary files are buffered in fixed-size chunks; the size of the buffer\n",
      "          is chosen using a heuristic trying to determine the underlying device's\n",
      "          \"block size\" and falling back on `io.DEFAULT_BUFFER_SIZE`.\n",
      "          On many systems, the buffer will typically be 4096 or 8192 bytes long.\n",
      "        \n",
      "        * \"Interactive\" text files (files for which isatty() returns True)\n",
      "          use line buffering.  Other text files use the policy described above\n",
      "          for binary files.\n",
      "        \n",
      "        encoding is the name of the encoding used to decode or encode the\n",
      "        file. This should only be used in text mode. The default encoding is\n",
      "        platform dependent, but any encoding supported by Python can be\n",
      "        passed.  See the codecs module for the list of supported encodings.\n",
      "        \n",
      "        errors is an optional string that specifies how encoding errors are to\n",
      "        be handled---this argument should not be used in binary mode. Pass\n",
      "        'strict' to raise a ValueError exception if there is an encoding error\n",
      "        (the default of None has the same effect), or pass 'ignore' to ignore\n",
      "        errors. (Note that ignoring encoding errors can lead to data loss.)\n",
      "        See the documentation for codecs.register or run 'help(codecs.Codec)'\n",
      "        for a list of the permitted encoding error strings.\n",
      "        \n",
      "        newline controls how universal newlines works (it only applies to text\n",
      "        mode). It can be None, '', '\\n', '\\r', and '\\r\\n'.  It works as\n",
      "        follows:\n",
      "        \n",
      "        * On input, if newline is None, universal newlines mode is\n",
      "          enabled. Lines in the input can end in '\\n', '\\r', or '\\r\\n', and\n",
      "          these are translated into '\\n' before being returned to the\n",
      "          caller. If it is '', universal newline mode is enabled, but line\n",
      "          endings are returned to the caller untranslated. If it has any of\n",
      "          the other legal values, input lines are only terminated by the given\n",
      "          string, and the line ending is returned to the caller untranslated.\n",
      "        \n",
      "        * On output, if newline is None, any '\\n' characters written are\n",
      "          translated to the system default line separator, os.linesep. If\n",
      "          newline is '' or '\\n', no translation takes place. If newline is any\n",
      "          of the other legal values, any '\\n' characters written are translated\n",
      "          to the given string.\n",
      "        \n",
      "        If closefd is False, the underlying file descriptor will be kept open\n",
      "        when the file is closed. This does not work when a file name is given\n",
      "        and must be True in that case.\n",
      "        \n",
      "        A custom opener can be used by passing a callable as *opener*. The\n",
      "        underlying file descriptor for the file object is then obtained by\n",
      "        calling *opener* with (*file*, *flags*). *opener* must return an open\n",
      "        file descriptor (passing os.open as *opener* results in functionality\n",
      "        similar to passing None).\n",
      "        \n",
      "        open() returns a file object whose type depends on the mode, and\n",
      "        through which the standard file operations such as reading and writing\n",
      "        are performed. When open() is used to open a file in a text mode ('w',\n",
      "        'r', 'wt', 'rt', etc.), it returns a TextIOWrapper. When used to open\n",
      "        a file in a binary mode, the returned class varies: in read binary\n",
      "        mode, it returns a BufferedReader; in write binary and append binary\n",
      "        modes, it returns a BufferedWriter, and in read/write mode, it returns\n",
      "        a BufferedRandom.\n",
      "        \n",
      "        It is also possible to use a string or bytearray as a file for both\n",
      "        reading and writing. For strings StringIO can be used like a file\n",
      "        opened in a text mode, and for bytes a BytesIO can be used like a file\n",
      "        opened in a binary mode.\n",
      "    \n",
      "    ord(c, /)\n",
      "        Return the Unicode code point for a one-character string.\n",
      "    \n",
      "    pow(base, exp, mod=None)\n",
      "        Equivalent to base**exp with 2 arguments or base**exp % mod with 3 arguments\n",
      "        \n",
      "        Some types, such as ints, are able to use a more efficient algorithm when\n",
      "        invoked using the three argument form.\n",
      "    \n",
      "    print(...)\n",
      "        print(value, ..., sep=' ', end='\\n', file=sys.stdout, flush=False)\n",
      "        \n",
      "        Prints the values to a stream, or to sys.stdout by default.\n",
      "        Optional keyword arguments:\n",
      "        file:  a file-like object (stream); defaults to the current sys.stdout.\n",
      "        sep:   string inserted between values, default a space.\n",
      "        end:   string appended after the last value, default a newline.\n",
      "        flush: whether to forcibly flush the stream.\n",
      "    \n",
      "    repr(obj, /)\n",
      "        Return the canonical string representation of the object.\n",
      "        \n",
      "        For many object types, including most builtins, eval(repr(obj)) == obj.\n",
      "    \n",
      "    round(number, ndigits=None)\n",
      "        Round a number to a given precision in decimal digits.\n",
      "        \n",
      "        The return value is an integer if ndigits is omitted or None.  Otherwise\n",
      "        the return value has the same type as the number.  ndigits may be negative.\n",
      "    \n",
      "    setattr(obj, name, value, /)\n",
      "        Sets the named attribute on the given object to the specified value.\n",
      "        \n",
      "        setattr(x, 'y', v) is equivalent to ``x.y = v''\n",
      "    \n",
      "    sorted(iterable, /, *, key=None, reverse=False)\n",
      "        Return a new list containing all items from the iterable in ascending order.\n",
      "        \n",
      "        A custom key function can be supplied to customize the sort order, and the\n",
      "        reverse flag can be set to request the result in descending order.\n",
      "    \n",
      "    sum(iterable, /, start=0)\n",
      "        Return the sum of a 'start' value (default: 0) plus an iterable of numbers\n",
      "        \n",
      "        When the iterable is empty, return the start value.\n",
      "        This function is intended specifically for use with numeric values and may\n",
      "        reject non-numeric types.\n",
      "    \n",
      "    vars(...)\n",
      "        vars([object]) -> dictionary\n",
      "        \n",
      "        Without arguments, equivalent to locals().\n",
      "        With an argument, equivalent to object.__dict__.\n",
      "\n",
      "DATA\n",
      "    Ellipsis = Ellipsis\n",
      "    False = False\n",
      "    None = None\n",
      "    NotImplemented = NotImplemented\n",
      "    True = True\n",
      "    __IPYTHON__ = True\n",
      "    __debug__ = True\n",
      "    __pybind11_internals_v4_msvc__ = <capsule object NULL>\n",
      "    copyright = Copyright (c) 2001-2021 Python Software Foundati...ematisc...\n",
      "    credits =     Thanks to CWI, CNRI, BeOpen.com, Zope Corpor...opment.  ...\n",
      "    help = Type help() for interactive help, or help(object) for help abou...\n",
      "    license = See https://www.python.org/psf/license/\n",
      "\n",
      "FILE\n",
      "    (built-in)\n",
      "\n",
      "\n"
     ]
    }
   ],
   "source": [
    "help(builtins) #como obter informções sobre as biblioteca "
   ]
  },
  {
   "cell_type": "markdown",
   "id": "5c526d41",
   "metadata": {},
   "source": [
    "### Lição 2: Blocos try e except\n"
   ]
  },
  {
   "cell_type": "markdown",
   "id": "3179d797",
   "metadata": {},
   "source": [
    "Para lidar com essas exceções o Python possiu a estrutura **try / except**. "
   ]
  },
  {
   "cell_type": "code",
   "execution_count": 30,
   "id": "8249cd19",
   "metadata": {},
   "outputs": [
    {
     "name": "stdout",
     "output_type": "stream",
     "text": [
      "Numerador: 1\n",
      "Denominador: 10\n",
      "Resultado:  0.1\n",
      "Fim\n"
     ]
    }
   ],
   "source": [
    "#criando um função para calcular divisão \n",
    "\n",
    "resultado = None\n",
    "\n",
    "a = float(input(\"Numerador: \"))\n",
    "b = float(input(\"Denominador: \"))\n",
    "\n",
    "try:\n",
    "  resultado = a / b\n",
    "except:\n",
    "  print(\"Divisão por zero, favor digitar outro número\")\n",
    "\n",
    "print(\"Resultado: \", resultado)\n",
    "print(\"Fim\")"
   ]
  },
  {
   "cell_type": "markdown",
   "id": "811c80f9",
   "metadata": {},
   "source": [
    "Uma das facilidades do except é que podemos especificar qual exceção será direcionada em cada um dos blocos de instruções"
   ]
  },
  {
   "cell_type": "code",
   "execution_count": 31,
   "id": "d84f9383",
   "metadata": {},
   "outputs": [
    {
     "name": "stdout",
     "output_type": "stream",
     "text": [
      "Numerador: 1\n",
      "Denominador: 10\n",
      "Resultado:  0.1\n"
     ]
    }
   ],
   "source": [
    "resultado = None\n",
    "\n",
    "try:\n",
    "  a = int(input(\"Numerador: \"))\n",
    "  b = int(input(\"Denominador: \"))\n",
    "  resultado = a / b\n",
    "except ZeroDivisionError:\n",
    "  print(\"Divisão por zero, favor digitar outro número\")\n",
    "except:\n",
    "  print(\"Outro erro ocorreu\")\n",
    "\n",
    "print(\"Resultado: \", resultado)"
   ]
  },
  {
   "cell_type": "markdown",
   "id": "123f6341",
   "metadata": {},
   "source": [
    "E, além disso, o Python permite que um except lide com um ou mais erros"
   ]
  },
  {
   "cell_type": "code",
   "execution_count": 32,
   "id": "eb638bd0",
   "metadata": {},
   "outputs": [
    {
     "name": "stdout",
     "output_type": "stream",
     "text": [
      "Numerador: 3\n",
      "Denominador: 4\n",
      "Resultado:  0.75\n"
     ]
    }
   ],
   "source": [
    "resultado = None\n",
    "\n",
    "try:\n",
    "  a = int(input(\"Numerador: \"))\n",
    "  b = int(input(\"Denominador: \"))\n",
    "  resultado = a / b\n",
    "except (ZeroDivisionError, ValueError):\n",
    "  print(\"Digite outro denominador\")\n",
    "\n",
    "print(\"Resultado: \", resultado)"
   ]
  },
  {
   "cell_type": "markdown",
   "id": "ee7dd240",
   "metadata": {},
   "source": [
    "### Lição 3: Blocos else e finally"
   ]
  },
  {
   "cell_type": "markdown",
   "id": "8e2fb787",
   "metadata": {},
   "source": [
    "Junto com o try / except podemos utilizar a estrutura **else** que será executada quando não houver nenhum tipo de erro a ser lidado no except"
   ]
  },
  {
   "cell_type": "code",
   "execution_count": 34,
   "id": "f6ff7180",
   "metadata": {},
   "outputs": [
    {
     "name": "stdout",
     "output_type": "stream",
     "text": [
      "Digite sua idade:15\n",
      "Você é menor de idade, não posso permitir a entrada\n"
     ]
    }
   ],
   "source": [
    "try:\n",
    "    idade = int(input('Digite sua idade:'))\n",
    "except:\n",
    "    print ('Um valor inválido foi digitado.')\n",
    "else:\n",
    "    if idade <= 18:\n",
    "        print('Você é menor de idade, não posso permitir a entrada')\n",
    "    else:\n",
    "        print('Bem-vindo! Aproveite o máximo possível.')"
   ]
  },
  {
   "cell_type": "markdown",
   "id": "e70869aa",
   "metadata": {},
   "source": [
    "Já o **finally** será sempre executado no final."
   ]
  },
  {
   "cell_type": "code",
   "execution_count": 36,
   "id": "624ad8ca",
   "metadata": {},
   "outputs": [
    {
     "name": "stdout",
     "output_type": "stream",
     "text": [
      "Digite sua idade:15\n",
      "Você é menor de idade, não posso permitir a entrada\n",
      "Próximo da fila, por favor!\n"
     ]
    }
   ],
   "source": [
    "try:\n",
    "    idade = int(input('Digite sua idade:'))\n",
    "except:\n",
    "    print ('Um valor inválido foi digitado.')\n",
    "else:\n",
    "    if idade <= 18:\n",
    "        print('Você é menor de idade, não posso permitir a entrada')\n",
    "    else:\n",
    "        print('Bem-vindo! Aproveite o máximo possível.')\n",
    "finally:\n",
    "  print('Próximo da fila, por favor!')"
   ]
  },
  {
   "cell_type": "markdown",
   "id": "a6c58980",
   "metadata": {},
   "source": [
    "## Módulo 4: Manipulação de arquivos"
   ]
  },
  {
   "cell_type": "markdown",
   "id": "8b09d25e",
   "metadata": {},
   "source": [
    "### Lição 2: Abrindo e fechando arquivos .txt"
   ]
  },
  {
   "cell_type": "markdown",
   "id": "b3c07b7d",
   "metadata": {},
   "source": [
    "<center>O Python oferece diveras maneira de abrimos um arquivo: <center>\n",
    "\n",
    "| Caractere | Funcionalidade   |\n",
    "|:------:|:------:|\n",
    "|   'r'  | Leitura|\n",
    "|   'w'  | Escrita, substituindo o conteúdo já existente do arquivo|\n",
    "|   'x'  | Escrita, retornando erro quando já existe conteúdo no arquivo|\n",
    "|   'a'  | Escrita, inserindo dados no final do arquivo|\n",
    "|   'b'  | Modo binário|\n",
    "|   't'  | Modo texto (padrão)|\n",
    "|   '+' | Leitura e escrita|\n"
   ]
  },
  {
   "cell_type": "code",
   "execution_count": 66,
   "id": "3082a249",
   "metadata": {},
   "outputs": [],
   "source": [
    "arquivo = open('palavras.txt') # o arquivo deve está dentro do diretorio do script \n",
    "type(arquivo)\n",
    "arquivo.close()"
   ]
  },
  {
   "cell_type": "code",
   "execution_count": 67,
   "id": "16702682",
   "metadata": {},
   "outputs": [],
   "source": [
    "arquivo = open(\"texto.txt\", \"a\")\n",
    "\n",
    "frases = list()\n",
    "frases.append(\"Curso intermediario \\n\")\n",
    "frases.append(\"Python \\n\")\n",
    "frases.append(\"Para\\n\")\n",
    "frases.append(\"Analise\\n\")\n",
    "frases.append(\"De dados\\n\")\n",
    "\n",
    "arquivo.writelines(frases)\n"
   ]
  },
  {
   "cell_type": "markdown",
   "id": "453d328c",
   "metadata": {},
   "source": [
    "Como falamos, é super importante lembrar de fechar um arquivo logo após terminar de utilizá-lo"
   ]
  },
  {
   "cell_type": "markdown",
   "id": "72c8d7f2",
   "metadata": {},
   "source": [
    "### Lição 3: Escrevendo em arquivos .txt"
   ]
  },
  {
   "cell_type": "markdown",
   "id": "0720a2fc",
   "metadata": {},
   "source": [
    "Para escrevermos em um arquivo devemos abrí-lo com 'w', 'x' ou 'a', por serem opções de escrita. Como nosso arquivo palavras já possui conteudo, vamos utilizar o caractere 'a' para escrever no final do arquiuvo"
   ]
  },
  {
   "cell_type": "code",
   "execution_count": 68,
   "id": "293e9dc0",
   "metadata": {},
   "outputs": [],
   "source": [
    "arquivo = open('palavras.txt', 'a')"
   ]
  },
  {
   "cell_type": "markdown",
   "id": "59b18c0d",
   "metadata": {},
   "source": [
    "**Write()**"
   ]
  },
  {
   "cell_type": "code",
   "execution_count": 69,
   "id": "7bbb84ff",
   "metadata": {},
   "outputs": [
    {
     "data": {
      "text/plain": [
       "10"
      ]
     },
     "execution_count": 69,
     "metadata": {},
     "output_type": "execute_result"
    }
   ],
   "source": [
    "arquivo.write(\"Curso Python\\n\") # adicionando informações ao arquivo\n",
    "arquivo.write(\"Da Voitto\\n\")"
   ]
  },
  {
   "cell_type": "code",
   "execution_count": 70,
   "id": "461afcdb",
   "metadata": {},
   "outputs": [],
   "source": [
    "arquivo.close() # fechando o arquivo para escrever as informações a mais "
   ]
  },
  {
   "cell_type": "markdown",
   "id": "e134ed1a",
   "metadata": {},
   "source": [
    "**Writelines()**"
   ]
  },
  {
   "cell_type": "code",
   "execution_count": 71,
   "id": "62385dff",
   "metadata": {},
   "outputs": [],
   "source": [
    "arquivo = open('palavras.txt', 'a' )"
   ]
  },
  {
   "cell_type": "code",
   "execution_count": 72,
   "id": "94102e3f",
   "metadata": {},
   "outputs": [],
   "source": [
    "lista = ['texto', 'valor', '10']  # todos os valores devem ser srtings\n",
    "arquivo.writelines(lista)"
   ]
  },
  {
   "cell_type": "markdown",
   "id": "9fa59157",
   "metadata": {},
   "source": [
    "### Lição 4: Lendo arquivos .txt\n"
   ]
  },
  {
   "cell_type": "markdown",
   "id": "e6f3282f",
   "metadata": {},
   "source": [
    "Das opções de caracteres mostradas na tabela a que está voltada para leitura é o caractere 'r', então vamos utilizá-lo para ler o arquivo que queremos.\n",
    "\n",
    "É importante ressaltar que para usar o caractere 'r' o arquivo deve existir previamente. Caso contrário o Python retornará um erro do tipo *FileNotFound*"
   ]
  },
  {
   "cell_type": "code",
   "execution_count": 73,
   "id": "c180bbb6",
   "metadata": {},
   "outputs": [],
   "source": [
    "#Arquivo ja existente\n",
    "arquivo = open(\"palavras.txt\", 'r')"
   ]
  },
  {
   "cell_type": "code",
   "execution_count": 75,
   "id": "66ad4d24",
   "metadata": {},
   "outputs": [
    {
     "ename": "FileNotFoundError",
     "evalue": "[Errno 2] No such file or directory: 'arquivo_qualquer'",
     "output_type": "error",
     "traceback": [
      "\u001b[1;31m---------------------------------------------------------------------------\u001b[0m",
      "\u001b[1;31mFileNotFoundError\u001b[0m                         Traceback (most recent call last)",
      "\u001b[1;32m~\\AppData\\Local\\Temp/ipykernel_1964/3480068746.py\u001b[0m in \u001b[0;36m<module>\u001b[1;34m\u001b[0m\n\u001b[0;32m      1\u001b[0m \u001b[1;31m#Arquivo inexistente\u001b[0m\u001b[1;33m\u001b[0m\u001b[1;33m\u001b[0m\u001b[0m\n\u001b[1;32m----> 2\u001b[1;33m \u001b[0marquivo2\u001b[0m \u001b[1;33m=\u001b[0m \u001b[0mopen\u001b[0m\u001b[1;33m(\u001b[0m\u001b[1;34m'arquivo_qualquer'\u001b[0m\u001b[1;33m,\u001b[0m \u001b[1;34m'r'\u001b[0m\u001b[1;33m)\u001b[0m\u001b[1;33m\u001b[0m\u001b[1;33m\u001b[0m\u001b[0m\n\u001b[0m",
      "\u001b[1;31mFileNotFoundError\u001b[0m: [Errno 2] No such file or directory: 'arquivo_qualquer'"
     ]
    }
   ],
   "source": [
    "#Arquivo inexistente \n",
    "arquivo2 = open('arquivo_qualquer', 'r')"
   ]
  },
  {
   "cell_type": "markdown",
   "id": "45e46743",
   "metadata": {},
   "source": [
    "**Read()**"
   ]
  },
  {
   "cell_type": "code",
   "execution_count": 76,
   "id": "4b728445",
   "metadata": {},
   "outputs": [
    {
     "data": {
      "text/plain": [
       "'Curso\\nPython\\nIntermediario\\nPara\\nAnalise\\nDe \\nDados\\nPor\\nGrupo Voittocurso Python\\nDa voitto\\ntextovalor10texto\\nvalor\\n10\\n\\nola mundo\\nCurso Python\\nDa Voitto\\ntextovalor10'"
      ]
     },
     "execution_count": 76,
     "metadata": {},
     "output_type": "execute_result"
    }
   ],
   "source": [
    "arquivo.read()"
   ]
  },
  {
   "cell_type": "code",
   "execution_count": 77,
   "id": "46c7700f",
   "metadata": {},
   "outputs": [],
   "source": [
    "arquivo.close()"
   ]
  },
  {
   "cell_type": "markdown",
   "id": "e3aa9b4f",
   "metadata": {},
   "source": [
    "Percebemos que ao imprimir o *arquivo.read()* o Python mostrou o \\n (que indica mudança de linha). O código abaixo mostra uma estratégia de como ajustar isso"
   ]
  },
  {
   "cell_type": "code",
   "execution_count": 78,
   "id": "e2a71021",
   "metadata": {},
   "outputs": [
    {
     "name": "stdout",
     "output_type": "stream",
     "text": [
      "['Curso', 'Python', 'Intermediario', 'Para', 'Analise', 'De ', 'Dados', 'Por', 'Grupo Voittocurso Python', 'Da voitto', 'textovalor10texto', 'valor', '10', '', 'ola mundo', 'Curso Python', 'Da Voitto', 'textovalor10']\n"
     ]
    }
   ],
   "source": [
    "arquivo = open(\"palavras.txt\", \"r\")\n",
    "arq = arquivo.read()\n",
    "arq = arq.split(\"\\n\")  \n",
    "print(arq)\n",
    "arquivo.close()"
   ]
  },
  {
   "cell_type": "markdown",
   "id": "b4eb00cf",
   "metadata": {},
   "source": [
    "Cada linha do arquivo se transformou em um item da lista. Isso possibilita trabalharmos com cada item de forma separada"
   ]
  },
  {
   "cell_type": "markdown",
   "id": "ffe4f650",
   "metadata": {},
   "source": [
    "Uma forma alternativa de acessarmos linha por linha de uma arquivo é através de loops. Veja como é possível utilizando o for"
   ]
  },
  {
   "cell_type": "code",
   "execution_count": 79,
   "id": "276de22b",
   "metadata": {},
   "outputs": [
    {
     "name": "stdout",
     "output_type": "stream",
     "text": [
      "Curso\n",
      "\n",
      "Python\n",
      "\n",
      "Intermediario\n",
      "\n",
      "Para\n",
      "\n",
      "Analise\n",
      "\n",
      "De \n",
      "\n",
      "Dados\n",
      "\n",
      "Por\n",
      "\n",
      "Grupo Voittocurso Python\n",
      "\n",
      "Da voitto\n",
      "\n",
      "textovalor10texto\n",
      "\n",
      "valor\n",
      "\n",
      "10\n",
      "\n",
      "\n",
      "\n",
      "ola mundo\n",
      "\n",
      "Curso Python\n",
      "\n",
      "Da Voitto\n",
      "\n",
      "textovalor10\n"
     ]
    }
   ],
   "source": [
    "arquivo = open(\"palavras.txt\", \"r\")\n",
    "for linha in arquivo:\n",
    "  print(linha)\n",
    "arquivo.close()"
   ]
  },
  {
   "cell_type": "markdown",
   "id": "4abded07",
   "metadata": {},
   "source": [
    "**Readline()**"
   ]
  },
  {
   "cell_type": "code",
   "execution_count": 80,
   "id": "2454b539",
   "metadata": {},
   "outputs": [
    {
     "data": {
      "text/plain": [
       "'Curso\\n'"
      ]
     },
     "execution_count": 80,
     "metadata": {},
     "output_type": "execute_result"
    }
   ],
   "source": [
    "arquivo = open(\"palavras.txt\", 'r')\n",
    "linha = arquivo.readline()\n",
    "linha"
   ]
  },
  {
   "cell_type": "markdown",
   "id": "5a872ff7",
   "metadata": {},
   "source": [
    "A cada vez que chamamos o método *readline()* ele lê uma nova linha"
   ]
  },
  {
   "cell_type": "code",
   "execution_count": 81,
   "id": "9f05fb84",
   "metadata": {},
   "outputs": [
    {
     "data": {
      "text/plain": [
       "'Python\\n'"
      ]
     },
     "execution_count": 81,
     "metadata": {},
     "output_type": "execute_result"
    }
   ],
   "source": [
    "linha2 = arquivo.readline()\n",
    "linha2"
   ]
  },
  {
   "cell_type": "code",
   "execution_count": 82,
   "id": "6ab08754",
   "metadata": {},
   "outputs": [
    {
     "data": {
      "text/plain": [
       "'Intermediario\\n'"
      ]
     },
     "execution_count": 82,
     "metadata": {},
     "output_type": "execute_result"
    }
   ],
   "source": [
    "arquivo.readline()"
   ]
  },
  {
   "cell_type": "code",
   "execution_count": 83,
   "id": "621c99e5",
   "metadata": {},
   "outputs": [],
   "source": [
    "arquivo.close()"
   ]
  },
  {
   "cell_type": "markdown",
   "id": "06a08905",
   "metadata": {},
   "source": [
    "**Readlines()**"
   ]
  },
  {
   "cell_type": "code",
   "execution_count": 84,
   "id": "015854f3",
   "metadata": {},
   "outputs": [
    {
     "data": {
      "text/plain": [
       "['Curso\\n',\n",
       " 'Python\\n',\n",
       " 'Intermediario\\n',\n",
       " 'Para\\n',\n",
       " 'Analise\\n',\n",
       " 'De \\n',\n",
       " 'Dados\\n',\n",
       " 'Por\\n',\n",
       " 'Grupo Voittocurso Python\\n',\n",
       " 'Da voitto\\n',\n",
       " 'textovalor10texto\\n',\n",
       " 'valor\\n',\n",
       " '10\\n',\n",
       " '\\n',\n",
       " 'ola mundo\\n',\n",
       " 'Curso Python\\n',\n",
       " 'Da Voitto\\n',\n",
       " 'textovalor10']"
      ]
     },
     "execution_count": 84,
     "metadata": {},
     "output_type": "execute_result"
    }
   ],
   "source": [
    "arquivo = open(\"palavras.txt\", 'r')\n",
    "arquivo.readlines()"
   ]
  },
  {
   "cell_type": "code",
   "execution_count": 85,
   "id": "61f6ab81",
   "metadata": {},
   "outputs": [],
   "source": [
    "arquivo.close()"
   ]
  },
  {
   "cell_type": "markdown",
   "id": "e58cba99",
   "metadata": {},
   "source": [
    "### Lição 5: O comando with"
   ]
  },
  {
   "cell_type": "markdown",
   "id": "60d43f6f",
   "metadata": {},
   "source": [
    "**Sem with**"
   ]
  },
  {
   "cell_type": "code",
   "execution_count": 86,
   "id": "01431bdb",
   "metadata": {},
   "outputs": [],
   "source": [
    "arquivo = open('palavras.txt', 'a')\n",
    "arquivo.write('Ola mundo\\n')\n",
    "arquivo.close()"
   ]
  },
  {
   "cell_type": "code",
   "execution_count": 87,
   "id": "f6ada334",
   "metadata": {},
   "outputs": [],
   "source": [
    "arquivo = open('palavras.txt', 'a')\n",
    "try:\n",
    "  arquivo.write('Ola mundo\\n')\n",
    "finally:\n",
    "  arquivo.close()"
   ]
  },
  {
   "cell_type": "markdown",
   "id": "95c23bab",
   "metadata": {},
   "source": [
    "**Com with**"
   ]
  },
  {
   "cell_type": "code",
   "execution_count": 88,
   "id": "3a188c97",
   "metadata": {},
   "outputs": [
    {
     "name": "stdout",
     "output_type": "stream",
     "text": [
      "Curso\n",
      "\n",
      "Python\n",
      "\n",
      "Intermediario\n",
      "\n",
      "Para\n",
      "\n",
      "Analise\n",
      "\n",
      "De \n",
      "\n",
      "Dados\n",
      "\n",
      "Por\n",
      "\n",
      "Grupo Voittocurso Python\n",
      "\n",
      "Da voitto\n",
      "\n",
      "textovalor10texto\n",
      "\n",
      "valor\n",
      "\n",
      "10\n",
      "\n",
      "\n",
      "\n",
      "ola mundo\n",
      "\n",
      "Curso Python\n",
      "\n",
      "Da Voitto\n",
      "\n",
      "textovalor10Ola mundo\n",
      "\n",
      "Ola mundo\n",
      "\n"
     ]
    }
   ],
   "source": [
    "with open('palavras.txt', \"r\") as arquivo:\n",
    "    for linha in arquivo:\n",
    "        print(linha)"
   ]
  },
  {
   "cell_type": "markdown",
   "id": "c5aac5d3",
   "metadata": {},
   "source": [
    "### Lição 7: Importando e lendo arquivos .csv"
   ]
  },
  {
   "cell_type": "markdown",
   "id": "b381b517",
   "metadata": {},
   "source": [
    "Para tratar com arquivos .csv o Python oferece uma biblioteca especial, chamda csv."
   ]
  },
  {
   "cell_type": "code",
   "execution_count": 89,
   "id": "72bd7d92",
   "metadata": {},
   "outputs": [],
   "source": [
    "import csv\n"
   ]
  },
  {
   "cell_type": "markdown",
   "id": "94597aaa",
   "metadata": {},
   "source": [
    "O tratamento desse tipo de arquivo normalmente é feito através do comando with, em que indicamos qual arquivo queremos abrir e, em seguida, usamos os métodos **reader** e **DictReader** para carregar o conteúdo do arquivo. "
   ]
  },
  {
   "cell_type": "markdown",
   "id": "3dc91115",
   "metadata": {},
   "source": [
    "**Reader()**"
   ]
  },
  {
   "cell_type": "markdown",
   "id": "ac2f758b",
   "metadata": {},
   "source": [
    "No *Reader* cada linha do arquivo csv é carregada em uma lista considerando os delimitadores que passamos como parâmetro."
   ]
  },
  {
   "cell_type": "code",
   "execution_count": 90,
   "id": "bdc42abe",
   "metadata": {},
   "outputs": [
    {
     "name": "stdout",
     "output_type": "stream",
     "text": [
      "['setor', 'responsavel', 'idade', 'id']\n",
      "['Comercial', 'Maria', '22', '1']\n",
      "['RH', 'Luiz', '34', '2']\n",
      "['Financeiro', 'Joao', '42', '3']\n",
      "['Adm', 'Luisa', '39', '4']\n",
      "['Operacional', 'Ana', '26', '5']\n"
     ]
    }
   ],
   "source": [
    "with open('setores.csv') as csvfile:  # é importante que o arquivo setores esteja dentro do diretorio \n",
    "    arq = csv.reader(csvfile, delimiter=',', lineterminator='\\n')\n",
    "    X = list(arq)\n",
    "    \n",
    "    for l in X:\n",
    "        print(l)"
   ]
  },
  {
   "cell_type": "markdown",
   "id": "c00a8ac1",
   "metadata": {},
   "source": [
    "Uma maneira útil de carregar um arquivo csv é armazená-lo em uma lista. Como cada linha do arquivo é reconhecido como uma lista, teremos, então, uma lista de listas."
   ]
  },
  {
   "cell_type": "code",
   "execution_count": 91,
   "id": "6df85638",
   "metadata": {},
   "outputs": [
    {
     "data": {
      "text/plain": [
       "[['setor', 'responsavel', 'idade', 'id'],\n",
       " ['Comercial', 'Maria', '22', '1'],\n",
       " ['RH', 'Luiz', '34', '2'],\n",
       " ['Financeiro', 'Joao', '42', '3'],\n",
       " ['Adm', 'Luisa', '39', '4'],\n",
       " ['Operacional', 'Ana', '26', '5']]"
      ]
     },
     "execution_count": 91,
     "metadata": {},
     "output_type": "execute_result"
    }
   ],
   "source": [
    "with open('setores.csv', newline='\\n') as csvfile:\n",
    "    arq = csv.reader(csvfile, delimiter=',')\n",
    "    X = list(arq)\n",
    "X"
   ]
  },
  {
   "cell_type": "code",
   "execution_count": 94,
   "id": "508c4e03",
   "metadata": {},
   "outputs": [
    {
     "data": {
      "text/plain": [
       "['Comercial', 'Maria', '22', '1']"
      ]
     },
     "execution_count": 94,
     "metadata": {},
     "output_type": "execute_result"
    }
   ],
   "source": [
    "X[1] # linha 2 corresponde  a x[1], a linha 1 é x[0]"
   ]
  },
  {
   "cell_type": "code",
   "execution_count": 95,
   "id": "49322f82",
   "metadata": {},
   "outputs": [
    {
     "data": {
      "text/plain": [
       "'22'"
      ]
     },
     "execution_count": 95,
     "metadata": {},
     "output_type": "execute_result"
    }
   ],
   "source": [
    "X[1][2] #na linha 1 pegue a informação da coluna 2\n",
    "\n",
    "#sempre começa a contar por zero "
   ]
  },
  {
   "cell_type": "markdown",
   "id": "9df1258a",
   "metadata": {},
   "source": [
    "**DictReader()**"
   ]
  },
  {
   "cell_type": "markdown",
   "id": "3f5c9c80",
   "metadata": {},
   "source": [
    "O *csv* também permite carregarmos as informações diretamente em um dicionário, através do **DictReader()**, em que as chaves são os valores da primeira linha do arquivo e os valores são uma lista com as colunas de cada chave criada. "
   ]
  },
  {
   "cell_type": "code",
   "execution_count": 98,
   "id": "5c148cf7",
   "metadata": {},
   "outputs": [
    {
     "data": {
      "text/plain": [
       "[{'setor': 'Comercial', 'responsavel': 'Maria', 'idade': '22', 'id': '1'},\n",
       " {'setor': 'RH', 'responsavel': 'Luiz', 'idade': '34', 'id': '2'},\n",
       " {'setor': 'Financeiro', 'responsavel': 'Joao', 'idade': '42', 'id': '3'},\n",
       " {'setor': 'Adm', 'responsavel': 'Luisa', 'idade': '39', 'id': '4'},\n",
       " {'setor': 'Operacional', 'responsavel': 'Ana', 'idade': '26', 'id': '5'}]"
      ]
     },
     "execution_count": 98,
     "metadata": {},
     "output_type": "execute_result"
    }
   ],
   "source": [
    "with open('setores.csv', newline='\\n') as csvfile:\n",
    "    arq = csv.DictReader(csvfile, delimiter=',')\n",
    "    X = list(arq)\n",
    "    \n",
    "X"
   ]
  },
  {
   "cell_type": "markdown",
   "id": "c1614bf3",
   "metadata": {},
   "source": [
    "Podemos notar que ao realizar um cast para lista, temos um tipo _OrderedDict_, que é _quase_ um dicionário. Os comandos que utilizamos para os dicionários também funcionarão para esse tipo de dado. Portanto, faremos a seguinte manipulação para transformá-lo em dicionário de fato:"
   ]
  },
  {
   "cell_type": "code",
   "execution_count": 99,
   "id": "c8a52c33",
   "metadata": {},
   "outputs": [
    {
     "data": {
      "text/plain": [
       "{'setor': ['Comercial', 'RH', 'Financeiro', 'Adm', 'Operacional'],\n",
       " 'responsavel': ['Maria', 'Luiz', 'Joao', 'Luisa', 'Ana'],\n",
       " 'idade': ['22', '34', '42', '39', '26'],\n",
       " 'id': ['1', '2', '3', '4', '5']}"
      ]
     },
     "execution_count": 99,
     "metadata": {},
     "output_type": "execute_result"
    }
   ],
   "source": [
    "with open('setores.csv', newline='\\n') as csvfile:\n",
    "    arq = csv.DictReader(csvfile, delimiter=',')\n",
    "    X = {}\n",
    "    for l in arq:\n",
    "        for chave, valor in l.items():\n",
    "            try:\n",
    "                X[chave].append(valor)\n",
    "            except:            # mostras a exceção e o tipo\n",
    "                X[chave] = [valor]\n",
    "X"
   ]
  },
  {
   "cell_type": "markdown",
   "id": "8e0b5c98",
   "metadata": {},
   "source": [
    "### Lição 8: Escrevendo em arquivos .csv"
   ]
  },
  {
   "cell_type": "markdown",
   "id": "d838d4f9",
   "metadata": {},
   "source": [
    "Para escrever em arquivos .csv, a biblioteca oferece métodos com **Writerow()** e **Writerows()**"
   ]
  },
  {
   "cell_type": "markdown",
   "id": "144f3803",
   "metadata": {},
   "source": [
    "Para conseguirmos escrever devemos fazer o seguinte:"
   ]
  },
  {
   "cell_type": "code",
   "execution_count": 100,
   "id": "20f75037",
   "metadata": {},
   "outputs": [],
   "source": [
    "with open('setores.csv', 'w') as csvfile:\n",
    "    arq = csv.writer(csvfile, delimiter=',')"
   ]
  },
  {
   "cell_type": "markdown",
   "id": "77078d61",
   "metadata": {},
   "source": [
    "**Writerow()**\n",
    " > No comando writerow podemos escrever um conjunto de informações diretamene em uma linha do arquivo de destino a partir de um objeto iterável."
   ]
  },
  {
   "cell_type": "code",
   "execution_count": 101,
   "id": "dfb71afe",
   "metadata": {},
   "outputs": [],
   "source": [
    "cabecalho = ['nome', 'sobrenome', 'email', 'nota']\n",
    "with open('infs.csv', 'w') as csvfile:\n",
    "    arq = csv.writer(csvfile, delimiter=',')\n",
    "    arq.writerow(cabecalho)"
   ]
  },
  {
   "cell_type": "markdown",
   "id": "29100612",
   "metadata": {},
   "source": [
    "> Para adicionarmos um conteúdo referente ao cabeçalho que construímos, basta passarmos uma lista contendo as informações de acordo com o cabeçalho."
   ]
  },
  {
   "cell_type": "code",
   "execution_count": 102,
   "id": "b92dfbf4",
   "metadata": {},
   "outputs": [],
   "source": [
    "inf1 = ['João', 'Silva', 'joaosilva@email.com', 10]\n",
    "with open('infs.csv', 'w') as csvfile:\n",
    "    arq = csv.writer(csvfile, delimiter=',')\n",
    "    arq.writerow(cabecalho)\n",
    "    arq.writerow(inf1)"
   ]
  },
  {
   "cell_type": "markdown",
   "id": "ad6af5c7",
   "metadata": {},
   "source": [
    "**Writerows()**"
   ]
  },
  {
   "cell_type": "markdown",
   "id": "02f31abf",
   "metadata": {},
   "source": [
    "> Com o writerows podemos escrever um conjunto de linhas no arquivo, ao invés de ter que criar um objeto (lista, tupla, etc) e ir adicionando um por um. "
   ]
  },
  {
   "cell_type": "code",
   "execution_count": 103,
   "id": "a4226419",
   "metadata": {},
   "outputs": [],
   "source": [
    "inf = [['João', 'Silva', 'joaosilva@email.com', 9], ['Maria', 'Souza', 'mariasouza@email.com', 10]]\n",
    "with open('infs.csv', 'w') as csvfile:\n",
    "    arq = csv.writer(csvfile, delimiter=',')\n",
    "    arq.writerow(cabecalho)\n",
    "    arq.writerows(inf)"
   ]
  },
  {
   "cell_type": "code",
   "execution_count": 104,
   "id": "43c44609",
   "metadata": {},
   "outputs": [],
   "source": [
    "with open('setores_dict.csv', 'w') as csvfile:\n",
    "    arq = csv.writer(csvfile, delimiter=',')\n",
    "    arq.writerows(X.keys())\n",
    "    arq.writerows(X.values())"
   ]
  },
  {
   "cell_type": "code",
   "execution_count": 105,
   "id": "9e4da01c",
   "metadata": {},
   "outputs": [
    {
     "data": {
      "text/plain": [
       "[['Comercial', 'RH', 'Financeiro', 'Adm', 'Operacional'],\n",
       " ['Maria', 'Luiz', 'Joao', 'Luisa', 'Ana'],\n",
       " ['22', '34', '42', '39', '26'],\n",
       " ['1', '2', '3', '4', '5']]"
      ]
     },
     "execution_count": 105,
     "metadata": {},
     "output_type": "execute_result"
    }
   ],
   "source": [
    "list(X.values())"
   ]
  },
  {
   "cell_type": "markdown",
   "id": "02c8d47b",
   "metadata": {},
   "source": [
    "Apesar de termos escrito em nosso arquivo csv o resultado ainda não é o esperado. Isso acontece pois temos uma lista para cada chave do dicionário. Como o resultado escrito no arquivo é cada linha da lista, não salvaremos o arquivo da forma correta. Para melhorar a escrita de informações em nosso arquivo podemos fazer o seguinte:"
   ]
  },
  {
   "cell_type": "code",
   "execution_count": 106,
   "id": "7f1e140b",
   "metadata": {},
   "outputs": [
    {
     "data": {
      "text/plain": [
       "[['Comercial', 'Maria', '22', '1'],\n",
       " ['RH', 'Luiz', '34', '2'],\n",
       " ['Financeiro', 'Joao', '42', '3'],\n",
       " ['Adm', 'Luisa', '39', '4'],\n",
       " ['Operacional', 'Ana', '26', '5']]"
      ]
     },
     "execution_count": 106,
     "metadata": {},
     "output_type": "execute_result"
    }
   ],
   "source": [
    "with open('setores_dict.csv', 'w') as csvfile:\n",
    "    arq = csv.writer(csvfile, delimiter=',')\n",
    "    arq.writerow(X.keys())\n",
    "    Y = list(X.values())\n",
    "\n",
    "    data = []\n",
    "    for i in range(len(Y[0])):\n",
    "      data.append([])\n",
    "      for j in range(len(Y)):\n",
    "        data[-1].append(Y[j][i])\n",
    "\n",
    "    arq.writerows(data)\n",
    "\n",
    "data"
   ]
  },
  {
   "cell_type": "markdown",
   "id": "85c2f9ee",
   "metadata": {},
   "source": [
    "Melhorando com o list comprehension dentro de um **loop for**"
   ]
  },
  {
   "cell_type": "code",
   "execution_count": 107,
   "id": "b1da72b9",
   "metadata": {},
   "outputs": [
    {
     "data": {
      "text/plain": [
       "[['Comercial', 'Maria', '22', '1'],\n",
       " ['RH', 'Luiz', '34', '2'],\n",
       " ['Financeiro', 'Joao', '42', '3'],\n",
       " ['Adm', 'Luisa', '39', '4'],\n",
       " ['Operacional', 'Ana', '26', '5']]"
      ]
     },
     "execution_count": 107,
     "metadata": {},
     "output_type": "execute_result"
    }
   ],
   "source": [
    "with open('setores_dict1.csv', 'w') as csvfile:\n",
    "    arq = csv.writer(csvfile, delimiter=',')\n",
    "    arq.writerow(X.keys())\n",
    "    Y = list(X.values())\n",
    "\n",
    "    data = []\n",
    "    for i in range(len(Y[0])):\n",
    "      data.append( [Y[j][i] for j in range(len(Y))]  )\n",
    "\n",
    "    arq.writerows(data)\n",
    "\n",
    "data"
   ]
  },
  {
   "cell_type": "markdown",
   "id": "53f16f02",
   "metadata": {},
   "source": [
    "Por último, podemos ainda usa apenas o *list comprehension*"
   ]
  },
  {
   "cell_type": "code",
   "execution_count": 109,
   "id": "3c5f95c9",
   "metadata": {},
   "outputs": [
    {
     "data": {
      "text/plain": [
       "[['Comercial', 'Maria', '22', '1'],\n",
       " ['RH', 'Luiz', '34', '2'],\n",
       " ['Financeiro', 'Joao', '42', '3'],\n",
       " ['Adm', 'Luisa', '39', '4'],\n",
       " ['Operacional', 'Ana', '26', '5']]"
      ]
     },
     "execution_count": 109,
     "metadata": {},
     "output_type": "execute_result"
    }
   ],
   "source": [
    "with open('setores_dict2.csv', 'w') as csvfile:\n",
    "    arq = csv.writer(csvfile, delimiter=',')\n",
    "    arq.writerow(X.keys())\n",
    "    Y = list(X.values())\n",
    "\n",
    "    data = [[Y[j][i] for j in range(len(Y))] for i in range(len(Y[0]))]\n",
    "\n",
    "    arq.writerows(data)\n",
    "\n",
    "data"
   ]
  },
  {
   "cell_type": "markdown",
   "id": "3f127bfd",
   "metadata": {},
   "source": [
    "Porém, a função **Zip** que vimos anteriormente pode simplificar todo esse processo"
   ]
  },
  {
   "cell_type": "code",
   "execution_count": 110,
   "id": "fc01f023",
   "metadata": {},
   "outputs": [],
   "source": [
    "with open('setores_dict.csv', 'w') as csvfile:\n",
    "    arq = csv.writer(csvfile, delimiter=',')\n",
    "    arq.writerow(X.keys())\n",
    "    arq.writerows(zip(*X.values()))"
   ]
  },
  {
   "cell_type": "markdown",
   "id": "e102d748",
   "metadata": {},
   "source": [
    "**DictWriter()**"
   ]
  },
  {
   "cell_type": "markdown",
   "id": "452bd20d",
   "metadata": {},
   "source": [
    "É um método usado para criar um objeto que funciona como um gravador comum, mas mapeia dicionários em linhas de saída."
   ]
  },
  {
   "cell_type": "code",
   "execution_count": 111,
   "id": "bd35523f",
   "metadata": {},
   "outputs": [],
   "source": [
    "with open('nomes.csv', 'w', newline='') as csvfile:\n",
    "    fieldnames = ['primeiro_nome', 'ultimo_nome']\n",
    "    writer = csv.DictWriter(csvfile, fieldnames=fieldnames)\n",
    "\n",
    "    writer.writeheader()\n",
    "    writer.writerow({'primeiro_nome': 'João', 'ultimo_nome': 'Silva'})\n",
    "    writer.writerow({'primeiro_nome': 'Maria', 'ultimo_nome': 'Souza'})\n",
    "    writer.writerow({'primeiro_nome': 'José', 'ultimo_nome': 'Santos'})"
   ]
  },
  {
   "cell_type": "markdown",
   "id": "0da969d9",
   "metadata": {},
   "source": [
    "## Módulo 5: Conhecendo os Arrays\n",
    "\n"
   ]
  },
  {
   "cell_type": "markdown",
   "id": "11c7d60a",
   "metadata": {},
   "source": [
    "### Lição 2: Relação entre listas e arrays"
   ]
  },
  {
   "cell_type": "markdown",
   "id": "51c5f807",
   "metadata": {},
   "source": [
    "#### Parte 1: Tempo de processamento"
   ]
  },
  {
   "cell_type": "markdown",
   "id": "eb2a8cdc",
   "metadata": {},
   "source": [
    "Assim como as bibliotecas que vimos anteriormente, como *math*, *csv*, antes de usar o **Numpy** devemos importá-lo para nosso código. É um consenso usarmos o \"apelido\" np ao importarmos a biblioteca"
   ]
  },
  {
   "cell_type": "code",
   "execution_count": 7,
   "id": "d7885a9e",
   "metadata": {},
   "outputs": [],
   "source": [
    "import numpy as np #importar a biblioteca "
   ]
  },
  {
   "cell_type": "markdown",
   "id": "a9719ebc",
   "metadata": {},
   "source": [
    "Vejamos, na prática, como o ndarray consegue ser mais eficiente do que as listas:"
   ]
  },
  {
   "cell_type": "code",
   "execution_count": 8,
   "id": "fcd2cc53",
   "metadata": {},
   "outputs": [],
   "source": [
    "#Importa a biblioteca time\n",
    "import time\n",
    "#Tamanho da lista e do array\n",
    "tam = 10000000"
   ]
  },
  {
   "cell_type": "markdown",
   "id": "2366a4b3",
   "metadata": {},
   "source": [
    "> Usando listas nativas do Python"
   ]
  },
  {
   "cell_type": "code",
   "execution_count": 9,
   "id": "7e99e59d",
   "metadata": {},
   "outputs": [
    {
     "name": "stdout",
     "output_type": "stream",
     "text": [
      "Tempo: 4.14734148979187\n"
     ]
    }
   ],
   "source": [
    "start = time.time() # tempo que começou o start\n",
    "a, b = range(tam), range(tam) #listas de tamanho 10000000\n",
    "c = []  #lista vazia \n",
    "\n",
    "for i in a:  #percorrendo cada valor de a      \n",
    "  c.append(a[i] * b[i])  #multiplicar cada posição a com b e salvar esses resultados em c \n",
    "\n",
    "t = time.time() - start  #tempo total do processamento \n",
    "\n",
    "print(\"Tempo: {}\".format(t))\n",
    "\n",
    "#vai responder o tempo que gastou para calcular essas informações "
   ]
  },
  {
   "cell_type": "markdown",
   "id": "5c674c40",
   "metadata": {},
   "source": [
    "> Usando o Numpy array"
   ]
  },
  {
   "cell_type": "code",
   "execution_count": 10,
   "id": "19df4d61",
   "metadata": {},
   "outputs": [
    {
     "name": "stdout",
     "output_type": "stream",
     "text": [
      "Tempo: 0.18105626106262207\n"
     ]
    }
   ],
   "source": [
    "start = time.time() #foi definido anteriormente \n",
    "a = np.arange(tam) #listas de tamanho 10000000\n",
    "b = np.arange(tam)\n",
    "\n",
    "c = a * b #multiplicando cada valor de a com b \n",
    "\n",
    "t = time.time() - start #tempo total \n",
    "\n",
    "print(\"Tempo: {}\".format(t)) \n",
    "\n",
    "#observe que op numpy é mais eficiente que as listas "
   ]
  },
  {
   "cell_type": "markdown",
   "id": "5d0607f2",
   "metadata": {},
   "source": [
    "Com isso, podemos perceber que o tempo de processamento usando o Numpy Array é muito menor do que usando a lista nativa do Python."
   ]
  },
  {
   "cell_type": "markdown",
   "id": "ba5f0846",
   "metadata": {},
   "source": [
    "#### Parte 2: Semelhanças entre listas e arrays"
   ]
  },
  {
   "cell_type": "markdown",
   "id": "0e4b8fb5",
   "metadata": {},
   "source": [
    "Antes de vermos as diferenças e semelhanças entre listas e arrays, vamos ver como transformar uma lista em um array. Para isso vamos usar o método *array* do Numpy. \n",
    "\n",
    "Com esse método podemos passar tanto uma variável que guarda uma lista, quanto uma lista propriamente dita. "
   ]
  },
  {
   "cell_type": "code",
   "execution_count": 11,
   "id": "5cce1081",
   "metadata": {},
   "outputs": [],
   "source": [
    "lista = [5,6,7,8,9]"
   ]
  },
  {
   "cell_type": "code",
   "execution_count": 12,
   "id": "5cd7f9ea",
   "metadata": {},
   "outputs": [
    {
     "data": {
      "text/plain": [
       "array([0, 1, 2, 3, 4])"
      ]
     },
     "execution_count": 12,
     "metadata": {},
     "output_type": "execute_result"
    }
   ],
   "source": [
    "array = np.array([0,1,2,3,4])\n",
    "array"
   ]
  },
  {
   "cell_type": "code",
   "execution_count": 13,
   "id": "db959105",
   "metadata": {},
   "outputs": [
    {
     "data": {
      "text/plain": [
       "array([5, 6, 7, 8, 9])"
      ]
     },
     "execution_count": 13,
     "metadata": {},
     "output_type": "execute_result"
    }
   ],
   "source": [
    "array2 = np.array(lista)\n",
    "array2"
   ]
  },
  {
   "cell_type": "markdown",
   "id": "d2ac4439",
   "metadata": {},
   "source": [
    "O acesso das listas e dos arrays é praticamente igual. Ambos são feitos através de **objeto [índice]**"
   ]
  },
  {
   "cell_type": "code",
   "execution_count": 14,
   "id": "236b0422",
   "metadata": {},
   "outputs": [
    {
     "name": "stdout",
     "output_type": "stream",
     "text": [
      "5\n",
      "8\n"
     ]
    }
   ],
   "source": [
    "print(lista[0])\n",
    "print(lista[3])"
   ]
  },
  {
   "cell_type": "code",
   "execution_count": 15,
   "id": "8cd52e6a",
   "metadata": {},
   "outputs": [
    {
     "name": "stdout",
     "output_type": "stream",
     "text": [
      "0\n",
      "4\n"
     ]
    }
   ],
   "source": [
    "print(array[0])\n",
    "print(array[-1])"
   ]
  },
  {
   "cell_type": "markdown",
   "id": "833057b2",
   "metadata": {},
   "source": [
    "Além do acesso, podemos usar as funções nativas em cima desses arrays, como *type* e *len*"
   ]
  },
  {
   "cell_type": "code",
   "execution_count": 16,
   "id": "ba0f4097",
   "metadata": {},
   "outputs": [
    {
     "name": "stdout",
     "output_type": "stream",
     "text": [
      "5\n",
      "<class 'numpy.ndarray'>\n"
     ]
    }
   ],
   "source": [
    "print(len(array))\n",
    "print(type(array))"
   ]
  },
  {
   "cell_type": "markdown",
   "id": "f3cc034b",
   "metadata": {},
   "source": [
    "#### Parte 3: Operadores"
   ]
  },
  {
   "cell_type": "markdown",
   "id": "c9994389",
   "metadata": {},
   "source": [
    "A principal diferença entre essas duas estruturas é a forma que eles são manipulados. Devido a característica de *vetorização* dos arrays, quando fazemos uma operação essa é aplicada em cada item do array.\n",
    "\n",
    "Observe, abaixo, que os itens do array não são separados por vírgulas"
   ]
  },
  {
   "cell_type": "code",
   "execution_count": 17,
   "id": "ef83d9b2",
   "metadata": {},
   "outputs": [
    {
     "name": "stdout",
     "output_type": "stream",
     "text": [
      "[10, 4, 16, 15, 100]\n",
      "[ 10   4  16  15 100]\n"
     ]
    }
   ],
   "source": [
    "lista = [10, 4, 16, 15, 100]\n",
    "array = np.array(lista)\n",
    "\n",
    "print(lista)\n",
    "print(array)"
   ]
  },
  {
   "cell_type": "markdown",
   "id": "230c1897",
   "metadata": {},
   "source": [
    "**Operadores de soma (+) e subtração (-)**"
   ]
  },
  {
   "cell_type": "markdown",
   "id": "bfe45868",
   "metadata": {},
   "source": [
    " > Lista"
   ]
  },
  {
   "cell_type": "markdown",
   "id": "b358bf82",
   "metadata": {},
   "source": [
    "Nas listas, o operador **+** traz a a ideia de concatenação, quando feito entre duas listas, e o operador **-** não pode ser executado."
   ]
  },
  {
   "cell_type": "code",
   "execution_count": 18,
   "id": "9425b1de",
   "metadata": {},
   "outputs": [
    {
     "data": {
      "text/plain": [
       "[1, 2, 3, 4, 5, 6, 7, 8, 9, 10]"
      ]
     },
     "execution_count": 18,
     "metadata": {},
     "output_type": "execute_result"
    }
   ],
   "source": [
    "lista1 = [1,2,3,4,5]\n",
    "lista2 = [6,7,8,9,10]\n",
    "\n",
    "lista1 + lista2"
   ]
  },
  {
   "cell_type": "code",
   "execution_count": 19,
   "id": "d2cfdd39",
   "metadata": {},
   "outputs": [
    {
     "ename": "TypeError",
     "evalue": "unsupported operand type(s) for -: 'list' and 'list'",
     "output_type": "error",
     "traceback": [
      "\u001b[1;31m---------------------------------------------------------------------------\u001b[0m",
      "\u001b[1;31mTypeError\u001b[0m                                 Traceback (most recent call last)",
      "\u001b[1;32m~\\AppData\\Local\\Temp/ipykernel_7608/1293817360.py\u001b[0m in \u001b[0;36m<module>\u001b[1;34m\u001b[0m\n\u001b[1;32m----> 1\u001b[1;33m \u001b[0mlista1\u001b[0m \u001b[1;33m-\u001b[0m \u001b[0mlista2\u001b[0m\u001b[1;33m\u001b[0m\u001b[1;33m\u001b[0m\u001b[0m\n\u001b[0m",
      "\u001b[1;31mTypeError\u001b[0m: unsupported operand type(s) for -: 'list' and 'list'"
     ]
    }
   ],
   "source": [
    "lista1 - lista2"
   ]
  },
  {
   "cell_type": "markdown",
   "id": "c85f6c93",
   "metadata": {},
   "source": [
    "A estrutura lista também não suporta a soma com um escalar"
   ]
  },
  {
   "cell_type": "code",
   "execution_count": 20,
   "id": "027a1fd0",
   "metadata": {},
   "outputs": [
    {
     "ename": "TypeError",
     "evalue": "can only concatenate list (not \"int\") to list",
     "output_type": "error",
     "traceback": [
      "\u001b[1;31m---------------------------------------------------------------------------\u001b[0m",
      "\u001b[1;31mTypeError\u001b[0m                                 Traceback (most recent call last)",
      "\u001b[1;32m~\\AppData\\Local\\Temp/ipykernel_7608/2236478646.py\u001b[0m in \u001b[0;36m<module>\u001b[1;34m\u001b[0m\n\u001b[1;32m----> 1\u001b[1;33m \u001b[0mlista1\u001b[0m \u001b[1;33m+\u001b[0m \u001b[1;36m3\u001b[0m\u001b[1;33m\u001b[0m\u001b[1;33m\u001b[0m\u001b[0m\n\u001b[0m",
      "\u001b[1;31mTypeError\u001b[0m: can only concatenate list (not \"int\") to list"
     ]
    }
   ],
   "source": [
    "lista1 + 3"
   ]
  },
  {
   "cell_type": "markdown",
   "id": "fea22b5d",
   "metadata": {},
   "source": [
    "> Array"
   ]
  },
  {
   "cell_type": "markdown",
   "id": "f4b79ddd",
   "metadata": {},
   "source": [
    "Ao contrário das listas, os arrays enxergam os operadores **+** e **-** como soma e subtração. "
   ]
  },
  {
   "cell_type": "code",
   "execution_count": 21,
   "id": "bb78a5d0",
   "metadata": {},
   "outputs": [
    {
     "name": "stdout",
     "output_type": "stream",
     "text": [
      "[1 2 3 4 5]\n",
      "[ 6  7  8  9 10]\n"
     ]
    },
    {
     "data": {
      "text/plain": [
       "array([ 7,  9, 11, 13, 15])"
      ]
     },
     "execution_count": 21,
     "metadata": {},
     "output_type": "execute_result"
    }
   ],
   "source": [
    "array1 = np.array(lista1)\n",
    "array2 = np.array(lista2)\n",
    "\n",
    "print(array1)\n",
    "print(array2)\n",
    "array1 + array2"
   ]
  },
  {
   "cell_type": "code",
   "execution_count": 22,
   "id": "30285da0",
   "metadata": {},
   "outputs": [
    {
     "data": {
      "text/plain": [
       "array([-5, -5, -5, -5, -5])"
      ]
     },
     "execution_count": 22,
     "metadata": {},
     "output_type": "execute_result"
    }
   ],
   "source": [
    "array1 - array2"
   ]
  },
  {
   "cell_type": "markdown",
   "id": "7e0b63db",
   "metadata": {},
   "source": [
    "Também podemos usar essas operações para somar ou subtrair um escalar em cada elemento"
   ]
  },
  {
   "cell_type": "code",
   "execution_count": 23,
   "id": "3f923531",
   "metadata": {},
   "outputs": [
    {
     "data": {
      "text/plain": [
       "array([11, 12, 13, 14, 15])"
      ]
     },
     "execution_count": 23,
     "metadata": {},
     "output_type": "execute_result"
    }
   ],
   "source": [
    "array1 + 10"
   ]
  },
  {
   "cell_type": "code",
   "execution_count": 24,
   "id": "ebf56dbb",
   "metadata": {},
   "outputs": [
    {
     "data": {
      "text/plain": [
       "array([3, 4, 5, 6, 7])"
      ]
     },
     "execution_count": 24,
     "metadata": {},
     "output_type": "execute_result"
    }
   ],
   "source": [
    "array2 - 3"
   ]
  },
  {
   "cell_type": "markdown",
   "id": "b3bd775e",
   "metadata": {},
   "source": [
    "**Operadores de multiplicação (*) e divisao (/)**"
   ]
  },
  {
   "cell_type": "markdown",
   "id": "173d63d0",
   "metadata": {},
   "source": [
    "> Lista"
   ]
  },
  {
   "cell_type": "markdown",
   "id": "77d7b5cd",
   "metadata": {},
   "source": [
    "Nas listas o operador * traz a ideia de repeticão, enquanto o operador **/** não pode ser executado"
   ]
  },
  {
   "cell_type": "code",
   "execution_count": 25,
   "id": "5f54243e",
   "metadata": {},
   "outputs": [
    {
     "data": {
      "text/plain": [
       "[1, 2, 3, 4, 5, 1, 2, 3, 4, 5, 1, 2, 3, 4, 5]"
      ]
     },
     "execution_count": 25,
     "metadata": {},
     "output_type": "execute_result"
    }
   ],
   "source": [
    "lista1 * 3"
   ]
  },
  {
   "cell_type": "code",
   "execution_count": 26,
   "id": "b70d154c",
   "metadata": {},
   "outputs": [
    {
     "ename": "TypeError",
     "evalue": "unsupported operand type(s) for /: 'list' and 'int'",
     "output_type": "error",
     "traceback": [
      "\u001b[1;31m---------------------------------------------------------------------------\u001b[0m",
      "\u001b[1;31mTypeError\u001b[0m                                 Traceback (most recent call last)",
      "\u001b[1;32m~\\AppData\\Local\\Temp/ipykernel_7608/268360649.py\u001b[0m in \u001b[0;36m<module>\u001b[1;34m\u001b[0m\n\u001b[1;32m----> 1\u001b[1;33m \u001b[0mlista2\u001b[0m \u001b[1;33m/\u001b[0m \u001b[1;36m3\u001b[0m\u001b[1;33m\u001b[0m\u001b[1;33m\u001b[0m\u001b[0m\n\u001b[0m",
      "\u001b[1;31mTypeError\u001b[0m: unsupported operand type(s) for /: 'list' and 'int'"
     ]
    }
   ],
   "source": [
    "lista2 / 3"
   ]
  },
  {
   "cell_type": "code",
   "execution_count": 27,
   "id": "38e5600a",
   "metadata": {},
   "outputs": [
    {
     "ename": "TypeError",
     "evalue": "can't multiply sequence by non-int of type 'list'",
     "output_type": "error",
     "traceback": [
      "\u001b[1;31m---------------------------------------------------------------------------\u001b[0m",
      "\u001b[1;31mTypeError\u001b[0m                                 Traceback (most recent call last)",
      "\u001b[1;32m~\\AppData\\Local\\Temp/ipykernel_7608/815866155.py\u001b[0m in \u001b[0;36m<module>\u001b[1;34m\u001b[0m\n\u001b[1;32m----> 1\u001b[1;33m \u001b[0mlista1\u001b[0m \u001b[1;33m*\u001b[0m \u001b[0mlista2\u001b[0m\u001b[1;33m\u001b[0m\u001b[1;33m\u001b[0m\u001b[0m\n\u001b[0m",
      "\u001b[1;31mTypeError\u001b[0m: can't multiply sequence by non-int of type 'list'"
     ]
    }
   ],
   "source": [
    "lista1 * lista2"
   ]
  },
  {
   "cell_type": "markdown",
   "id": "65e738d9",
   "metadata": {},
   "source": [
    "> Array"
   ]
  },
  {
   "cell_type": "code",
   "execution_count": 28,
   "id": "a9498bf1",
   "metadata": {},
   "outputs": [
    {
     "data": {
      "text/plain": [
       "array([ 2,  4,  6,  8, 10])"
      ]
     },
     "execution_count": 28,
     "metadata": {},
     "output_type": "execute_result"
    }
   ],
   "source": [
    "array1 * 2"
   ]
  },
  {
   "cell_type": "code",
   "execution_count": 29,
   "id": "16c612d3",
   "metadata": {},
   "outputs": [
    {
     "data": {
      "text/plain": [
       "array([0.25, 0.5 , 0.75, 1.  , 1.25])"
      ]
     },
     "execution_count": 29,
     "metadata": {},
     "output_type": "execute_result"
    }
   ],
   "source": [
    "array1 / 4"
   ]
  },
  {
   "cell_type": "code",
   "execution_count": 30,
   "id": "58eabd5d",
   "metadata": {},
   "outputs": [
    {
     "data": {
      "text/plain": [
       "array([ 6, 14, 24, 36, 50])"
      ]
     },
     "execution_count": 30,
     "metadata": {},
     "output_type": "execute_result"
    }
   ],
   "source": [
    "array1 * array2"
   ]
  },
  {
   "cell_type": "markdown",
   "id": "488c60a7",
   "metadata": {},
   "source": [
    "**Operador exponencial e função lambda**"
   ]
  },
  {
   "cell_type": "markdown",
   "id": "6817f126",
   "metadata": {},
   "source": [
    "Podemos, também, a função nativa *pow* ou o operador ** "
   ]
  },
  {
   "cell_type": "code",
   "execution_count": 31,
   "id": "3425d131",
   "metadata": {},
   "outputs": [
    {
     "name": "stdout",
     "output_type": "stream",
     "text": [
      "[1 2 3 4 5]\n",
      "[ 1  4  9 16 25]\n"
     ]
    },
    {
     "ename": "TypeError",
     "evalue": "unsupported operand type(s) for ** or pow(): 'list' and 'int'",
     "output_type": "error",
     "traceback": [
      "\u001b[1;31m---------------------------------------------------------------------------\u001b[0m",
      "\u001b[1;31mTypeError\u001b[0m                                 Traceback (most recent call last)",
      "\u001b[1;32m~\\AppData\\Local\\Temp/ipykernel_7608/2162107996.py\u001b[0m in \u001b[0;36m<module>\u001b[1;34m\u001b[0m\n\u001b[0;32m      1\u001b[0m \u001b[0mprint\u001b[0m\u001b[1;33m(\u001b[0m\u001b[0marray1\u001b[0m\u001b[1;33m)\u001b[0m\u001b[1;33m\u001b[0m\u001b[1;33m\u001b[0m\u001b[0m\n\u001b[0;32m      2\u001b[0m \u001b[0mprint\u001b[0m\u001b[1;33m(\u001b[0m\u001b[0marray1\u001b[0m \u001b[1;33m**\u001b[0m\u001b[1;36m2\u001b[0m\u001b[1;33m)\u001b[0m\u001b[1;33m\u001b[0m\u001b[1;33m\u001b[0m\u001b[0m\n\u001b[1;32m----> 3\u001b[1;33m \u001b[0mprint\u001b[0m\u001b[1;33m(\u001b[0m\u001b[0mlista1\u001b[0m \u001b[1;33m**\u001b[0m \u001b[1;36m2\u001b[0m\u001b[1;33m)\u001b[0m\u001b[1;33m\u001b[0m\u001b[1;33m\u001b[0m\u001b[0m\n\u001b[0m",
      "\u001b[1;31mTypeError\u001b[0m: unsupported operand type(s) for ** or pow(): 'list' and 'int'"
     ]
    }
   ],
   "source": [
    "print(array1)\n",
    "print(array1 **2)\n",
    "print(lista1 ** 2)"
   ]
  },
  {
   "cell_type": "markdown",
   "id": "81e0407c",
   "metadata": {},
   "source": [
    "Por último devemos ressaltar a facilidade que o array traz por podermos utilizar uma função *lambda* diretamente no seus elementos, dispensando estruturas de repetição"
   ]
  },
  {
   "cell_type": "code",
   "execution_count": 32,
   "id": "e33e9f80",
   "metadata": {},
   "outputs": [
    {
     "name": "stdout",
     "output_type": "stream",
     "text": [
      "[ 2  6 12 20 30]\n",
      "[ 42  56  72  90 110]\n"
     ]
    },
    {
     "ename": "TypeError",
     "evalue": "unsupported operand type(s) for ** or pow(): 'list' and 'int'",
     "output_type": "error",
     "traceback": [
      "\u001b[1;31m---------------------------------------------------------------------------\u001b[0m",
      "\u001b[1;31mTypeError\u001b[0m                                 Traceback (most recent call last)",
      "\u001b[1;32m~\\AppData\\Local\\Temp/ipykernel_7608/907234469.py\u001b[0m in \u001b[0;36m<module>\u001b[1;34m\u001b[0m\n\u001b[0;32m      3\u001b[0m \u001b[0mprint\u001b[0m\u001b[1;33m(\u001b[0m\u001b[0mf\u001b[0m\u001b[1;33m(\u001b[0m\u001b[0marray1\u001b[0m\u001b[1;33m)\u001b[0m\u001b[1;33m)\u001b[0m\u001b[1;33m\u001b[0m\u001b[1;33m\u001b[0m\u001b[0m\n\u001b[0;32m      4\u001b[0m \u001b[0mprint\u001b[0m\u001b[1;33m(\u001b[0m\u001b[0mf\u001b[0m\u001b[1;33m(\u001b[0m\u001b[0marray2\u001b[0m\u001b[1;33m)\u001b[0m\u001b[1;33m)\u001b[0m\u001b[1;33m\u001b[0m\u001b[1;33m\u001b[0m\u001b[0m\n\u001b[1;32m----> 5\u001b[1;33m \u001b[0mprint\u001b[0m\u001b[1;33m(\u001b[0m\u001b[0mf\u001b[0m\u001b[1;33m(\u001b[0m\u001b[0mlista1\u001b[0m\u001b[1;33m)\u001b[0m\u001b[1;33m)\u001b[0m \u001b[1;31m#gera um erro de execução\u001b[0m\u001b[1;33m\u001b[0m\u001b[1;33m\u001b[0m\u001b[0m\n\u001b[0m",
      "\u001b[1;32m~\\AppData\\Local\\Temp/ipykernel_7608/907234469.py\u001b[0m in \u001b[0;36m<lambda>\u001b[1;34m(x)\u001b[0m\n\u001b[1;32m----> 1\u001b[1;33m \u001b[0mf\u001b[0m \u001b[1;33m=\u001b[0m \u001b[1;32mlambda\u001b[0m \u001b[0mx\u001b[0m\u001b[1;33m:\u001b[0m \u001b[0mx\u001b[0m\u001b[1;33m**\u001b[0m\u001b[1;33m(\u001b[0m\u001b[1;36m2\u001b[0m\u001b[1;33m)\u001b[0m \u001b[1;33m+\u001b[0m \u001b[1;36m2\u001b[0m\u001b[1;33m*\u001b[0m\u001b[0mx\u001b[0m \u001b[1;33m-\u001b[0m \u001b[0mx\u001b[0m\u001b[1;33m\u001b[0m\u001b[1;33m\u001b[0m\u001b[0m\n\u001b[0m\u001b[0;32m      2\u001b[0m \u001b[1;33m\u001b[0m\u001b[0m\n\u001b[0;32m      3\u001b[0m \u001b[0mprint\u001b[0m\u001b[1;33m(\u001b[0m\u001b[0mf\u001b[0m\u001b[1;33m(\u001b[0m\u001b[0marray1\u001b[0m\u001b[1;33m)\u001b[0m\u001b[1;33m)\u001b[0m\u001b[1;33m\u001b[0m\u001b[1;33m\u001b[0m\u001b[0m\n\u001b[0;32m      4\u001b[0m \u001b[0mprint\u001b[0m\u001b[1;33m(\u001b[0m\u001b[0mf\u001b[0m\u001b[1;33m(\u001b[0m\u001b[0marray2\u001b[0m\u001b[1;33m)\u001b[0m\u001b[1;33m)\u001b[0m\u001b[1;33m\u001b[0m\u001b[1;33m\u001b[0m\u001b[0m\n\u001b[0;32m      5\u001b[0m \u001b[0mprint\u001b[0m\u001b[1;33m(\u001b[0m\u001b[0mf\u001b[0m\u001b[1;33m(\u001b[0m\u001b[0mlista1\u001b[0m\u001b[1;33m)\u001b[0m\u001b[1;33m)\u001b[0m \u001b[1;31m#gera um erro de execução\u001b[0m\u001b[1;33m\u001b[0m\u001b[1;33m\u001b[0m\u001b[0m\n",
      "\u001b[1;31mTypeError\u001b[0m: unsupported operand type(s) for ** or pow(): 'list' and 'int'"
     ]
    }
   ],
   "source": [
    "f = lambda x: x**(2) + 2*x - x\n",
    "\n",
    "print(f(array1))\n",
    "print(f(array2))\n",
    "print(f(lista1)) #gera um erro de execução"
   ]
  },
  {
   "cell_type": "markdown",
   "id": "4ac007a1",
   "metadata": {},
   "source": [
    "Repare que para aplicar a função lambda f em uma lista, poderíamos utilizar o *map* que estudamos anteriormente. "
   ]
  },
  {
   "cell_type": "code",
   "execution_count": 33,
   "id": "18371a73",
   "metadata": {},
   "outputs": [
    {
     "name": "stdout",
     "output_type": "stream",
     "text": [
      "[2, 6, 12, 20, 30]\n"
     ]
    }
   ],
   "source": [
    "m = map(f, lista1)\n",
    "print(list(m))"
   ]
  },
  {
   "cell_type": "markdown",
   "id": "cfd4937f",
   "metadata": {},
   "source": [
    "### Lição 3: O Numpy array"
   ]
  },
  {
   "cell_type": "markdown",
   "id": "370fe17d",
   "metadata": {},
   "source": [
    "#### Parte 1: Introdução ao Array"
   ]
  },
  {
   "cell_type": "markdown",
   "id": "510ea7c0",
   "metadata": {},
   "source": [
    "Como falamos os arrays podem ter *N* dimensões. Por agora, veremos como construir e lidar apenas com arrays de uma dimensão"
   ]
  },
  {
   "cell_type": "markdown",
   "id": "73aec66f",
   "metadata": {},
   "source": [
    "Como vimos anteriormente, podemos criar arrays a partir de listas e tuplas com a ajuda do método **array()**. Através dele, vamos criar o array com os preços das blusa"
   ]
  },
  {
   "cell_type": "markdown",
   "id": "b469cd30",
   "metadata": {},
   "source": [
    "<style type=\"text/css\">\n",
    ".tg  {border-collapse:collapse;border-spacing:0;}\n",
    ".tg td{border-color:black;border-style:solid;border-width:1px;font-family:Arial, sans-serif;font-size:14px;\n",
    "  overflow:hidden;padding:10px 5px;word-break:normal;}\n",
    ".tg th{border-color:black;border-style:solid;border-width:1px;font-family:Arial, sans-serif;font-size:14px;\n",
    "  font-weight:normal;overflow:hidden;padding:10px 5px;word-break:normal;}\n",
    ".tg .tg-c3ow{border-color:inherit;text-align:center;vertical-align:top}\n",
    "</style>\n",
    "<table class=\"tg\">\n",
    "<tbody>\n",
    "  <tr>\n",
    "    <td class=\"tg-c3ow\">149,99</td>\n",
    "    <td class=\"tg-c3ow\">79,90</td>\n",
    "    <td class=\"tg-c3ow\">39,99</td>\n",
    "    <td class=\"tg-c3ow\">250,0</td>\n",
    "    <td class=\"tg-c3ow\">99,90</td>\n",
    "  </tr>\n",
    "</tbody>\n",
    "</table>"
   ]
  },
  {
   "cell_type": "code",
   "execution_count": 34,
   "id": "c9d8bc8f",
   "metadata": {},
   "outputs": [
    {
     "data": {
      "text/plain": [
       "array([149.99,  79.9 ,  39.99, 250.  ,  99.9 ])"
      ]
     },
     "execution_count": 34,
     "metadata": {},
     "output_type": "execute_result"
    }
   ],
   "source": [
    "precos = np.array([149.99,79.90,39.99,250,99.90])\n",
    "precos"
   ]
  },
  {
   "cell_type": "markdown",
   "id": "f67e088d",
   "metadata": {},
   "source": [
    "Com esse método np.array podemos definir qual o tipo de dados que queremos no nosso array a partir do dtype. Se quiséssemos, por exemplo, apenas preços inteiros podemos fazer o seguinte"
   ]
  },
  {
   "cell_type": "code",
   "execution_count": 35,
   "id": "a9738982",
   "metadata": {},
   "outputs": [
    {
     "data": {
      "text/plain": [
       "array([149,  79,  39, 250,  99])"
      ]
     },
     "execution_count": 35,
     "metadata": {},
     "output_type": "execute_result"
    }
   ],
   "source": [
    "precos2 = np.array([149.99,79.90,39.99,250,99.90], dtype=int)\n",
    "precos2"
   ]
  },
  {
   "cell_type": "markdown",
   "id": "c953f1ec",
   "metadata": {},
   "source": [
    "Além do dtype int que mostramos acima, podemos colocar tipos de dados *'int32'*, *'float64'*, etc. Esse tipos demarcam o tamanho dos tipos das variáveis que estarão dentro do nosso array."
   ]
  },
  {
   "cell_type": "code",
   "execution_count": 36,
   "id": "3afa5b0a",
   "metadata": {},
   "outputs": [
    {
     "name": "stdout",
     "output_type": "stream",
     "text": [
      "int32\n"
     ]
    },
    {
     "data": {
      "text/plain": [
       "array([149,  79,  39, 250,  99])"
      ]
     },
     "execution_count": 36,
     "metadata": {},
     "output_type": "execute_result"
    }
   ],
   "source": [
    "precos3 = np.array([149.99,79.90,39.99,250,99.90], dtype = 'int32')\n",
    "print(precos3.dtype)\n",
    "precos3"
   ]
  },
  {
   "cell_type": "markdown",
   "id": "eedb5f61",
   "metadata": {},
   "source": [
    "Se quisessemos acessar apenas um dos valores presentes no array *precos* basta acessar da mesma forma que acessamos em listas"
   ]
  },
  {
   "cell_type": "code",
   "execution_count": 37,
   "id": "6950b95b",
   "metadata": {},
   "outputs": [
    {
     "name": "stdout",
     "output_type": "stream",
     "text": [
      "250.0\n",
      "[149.99  79.9   39.99]\n",
      "99.9\n"
     ]
    }
   ],
   "source": [
    "print(precos[3])\n",
    "print(precos[:3])\n",
    "print(precos[-1])"
   ]
  },
  {
   "cell_type": "markdown",
   "id": "3ef06b88",
   "metadata": {},
   "source": [
    "Podemos, também, inserir novos elementos no array assim como fizemos em listas através de todas as formas de acesso"
   ]
  },
  {
   "cell_type": "code",
   "execution_count": 38,
   "id": "cec6bd7c",
   "metadata": {},
   "outputs": [
    {
     "data": {
      "text/plain": [
       "array([149.99,  79.9 ,  39.99,  34.9 ,  99.9 ])"
      ]
     },
     "execution_count": 38,
     "metadata": {},
     "output_type": "execute_result"
    }
   ],
   "source": [
    "precos[3] = 34.90\n",
    "precos"
   ]
  },
  {
   "cell_type": "code",
   "execution_count": 39,
   "id": "a8efe368",
   "metadata": {},
   "outputs": [
    {
     "data": {
      "text/plain": [
       "array([149.99,  79.9 ,  39.99,  25.8 , 179.9 ])"
      ]
     },
     "execution_count": 39,
     "metadata": {},
     "output_type": "execute_result"
    }
   ],
   "source": [
    "precos [3:5] = 25.8, 179.90\n",
    "precos"
   ]
  },
  {
   "cell_type": "markdown",
   "id": "461f7be8",
   "metadata": {},
   "source": [
    "Quando criamos um array dessa forma, passando uma lista como parâmetro, se tivermos uma lista heterogênea como o Numpy a transforma em um array homogêneo?"
   ]
  },
  {
   "cell_type": "code",
   "execution_count": 40,
   "id": "1ddfbce8",
   "metadata": {},
   "outputs": [
    {
     "data": {
      "text/plain": [
       "array(['precos', 'das blusas', '149.99', '79.9', '40', '250', '99.9'],\n",
       "      dtype='<U32')"
      ]
     },
     "execution_count": 40,
     "metadata": {},
     "output_type": "execute_result"
    }
   ],
   "source": [
    "lista_heterogenea = ['precos', 'das blusas',149.99,79.90, 40,250,99.90]\n",
    "array_heterogeneo = np.array(lista_heterogenea)\n",
    "array_heterogeneo"
   ]
  },
  {
   "cell_type": "markdown",
   "id": "4023a742",
   "metadata": {},
   "source": [
    "Observe que o array identificou que todos os elementos da lista são strings, já que passamos uma lista com objetos string, int e float. O dtype U10 significa que o *Numpy* pega a string de maior tamanho e define como tipo padrão de todos os elementos da string"
   ]
  },
  {
   "cell_type": "markdown",
   "id": "7661975c",
   "metadata": {},
   "source": [
    "#### Parte 2: Consultas em arrays"
   ]
  },
  {
   "cell_type": "markdown",
   "id": "1660ae59",
   "metadata": {},
   "source": [
    "Uma das grandes utilidades que o arrays nos proporciona é a possibilidade de **consulta**. Através dela, podemos ver como se comportam os dados do nosso array"
   ]
  },
  {
   "cell_type": "markdown",
   "id": "7955be4c",
   "metadata": {},
   "source": [
    "Se quisessemos consultar, por exemplo, quais as blusas tem preço maior que R$50,00 "
   ]
  },
  {
   "cell_type": "code",
   "execution_count": 41,
   "id": "269dea5f",
   "metadata": {},
   "outputs": [
    {
     "data": {
      "text/plain": [
       "array([ True,  True, False, False,  True])"
      ]
     },
     "execution_count": 41,
     "metadata": {},
     "output_type": "execute_result"
    }
   ],
   "source": [
    "precos > 50"
   ]
  },
  {
   "cell_type": "markdown",
   "id": "23a4dc28",
   "metadata": {},
   "source": [
    "Poderíamos também, ver quais são menores ou iguais a R$ 40,00"
   ]
  },
  {
   "cell_type": "code",
   "execution_count": 42,
   "id": "4405b9b7",
   "metadata": {},
   "outputs": [
    {
     "data": {
      "text/plain": [
       "array([False, False,  True,  True, False])"
      ]
     },
     "execution_count": 42,
     "metadata": {},
     "output_type": "execute_result"
    }
   ],
   "source": [
    "precos <= 40"
   ]
  },
  {
   "cell_type": "markdown",
   "id": "f20af0cd",
   "metadata": {},
   "source": [
    "O exemplo mostrado acima apenas retorna True, se o valor obedece a condição, e False se ela não obedece. Mas e se quisessemos saber quais são os valores que obedecem a condição? "
   ]
  },
  {
   "cell_type": "code",
   "execution_count": 43,
   "id": "2ed7e87e",
   "metadata": {},
   "outputs": [
    {
     "data": {
      "text/plain": [
       "array([39.99, 25.8 ])"
      ]
     },
     "execution_count": 43,
     "metadata": {},
     "output_type": "execute_result"
    }
   ],
   "source": [
    "precos[precos <= 40]"
   ]
  },
  {
   "cell_type": "markdown",
   "id": "8bd3f8fa",
   "metadata": {},
   "source": [
    "Além disso, também é poossível criarmos expressões relacionais com os operadores and, or e not através dos símbolos &, | e ~"
   ]
  },
  {
   "cell_type": "code",
   "execution_count": 44,
   "id": "08511f32",
   "metadata": {},
   "outputs": [
    {
     "data": {
      "text/plain": [
       "array([149.99])"
      ]
     },
     "execution_count": 44,
     "metadata": {},
     "output_type": "execute_result"
    }
   ],
   "source": [
    "precos[(precos >= 80) & (precos <= 150)]"
   ]
  },
  {
   "cell_type": "code",
   "execution_count": 45,
   "id": "b30fd505",
   "metadata": {},
   "outputs": [
    {
     "data": {
      "text/plain": [
       "array([149.99,  39.99,  25.8 , 179.9 ])"
      ]
     },
     "execution_count": 45,
     "metadata": {},
     "output_type": "execute_result"
    }
   ],
   "source": [
    "precos[(precos < 50) | (precos > 100)]"
   ]
  },
  {
   "cell_type": "code",
   "execution_count": 46,
   "id": "f1dc8cc7",
   "metadata": {},
   "outputs": [
    {
     "data": {
      "text/plain": [
       "array([79.9 , 39.99, 25.8 ])"
      ]
     },
     "execution_count": 46,
     "metadata": {},
     "output_type": "execute_result"
    }
   ],
   "source": [
    "precos[~(precos > 100)]"
   ]
  },
  {
   "cell_type": "markdown",
   "id": "96001da2",
   "metadata": {},
   "source": [
    "#### Parte 3: Atributos"
   ]
  },
  {
   "cell_type": "markdown",
   "id": "4b6bf5b1",
   "metadata": {},
   "source": [
    "O Numpy, por ser uma vasta biblioteca, possui atributos interressantes que devemos conhecer"
   ]
  },
  {
   "cell_type": "markdown",
   "id": "ff51ca19",
   "metadata": {},
   "source": [
    "**Ndim** : esse atributo retorna o número de dimensões do nosso array. Como estamos trabalhando, por enquanto, apenas com arrays de uma dimensão, ele retornará apenas 1."
   ]
  },
  {
   "cell_type": "code",
   "execution_count": 47,
   "id": "51ad706e",
   "metadata": {},
   "outputs": [
    {
     "data": {
      "text/plain": [
       "1"
      ]
     },
     "execution_count": 47,
     "metadata": {},
     "output_type": "execute_result"
    }
   ],
   "source": [
    "precos.ndim"
   ]
  },
  {
   "cell_type": "markdown",
   "id": "f5e75c21",
   "metadata": {},
   "source": [
    "**Shape** : retorna uma tupla com a quantidade de elementos em cada dimensão do array"
   ]
  },
  {
   "cell_type": "code",
   "execution_count": 48,
   "id": "e0ef04c9",
   "metadata": {},
   "outputs": [
    {
     "data": {
      "text/plain": [
       "(5,)"
      ]
     },
     "execution_count": 48,
     "metadata": {},
     "output_type": "execute_result"
    }
   ],
   "source": [
    "precos.shape"
   ]
  },
  {
   "cell_type": "markdown",
   "id": "f6d6af68",
   "metadata": {},
   "source": [
    "**Size** : se quisermos saber a quantidade total de elementos presentes usamos esse atributo."
   ]
  },
  {
   "cell_type": "code",
   "execution_count": 49,
   "id": "bf897831",
   "metadata": {},
   "outputs": [
    {
     "data": {
      "text/plain": [
       "5"
      ]
     },
     "execution_count": 49,
     "metadata": {},
     "output_type": "execute_result"
    }
   ],
   "source": [
    "precos.size"
   ]
  },
  {
   "cell_type": "markdown",
   "id": "c814e973",
   "metadata": {},
   "source": [
    "**Dtype** : assim como podemos criar arrays passando o tipo de dados que queremos, podemos ver o tipo desses dados se não soubermos quais os dados dentro do array"
   ]
  },
  {
   "cell_type": "code",
   "execution_count": 50,
   "id": "f0d0848f",
   "metadata": {},
   "outputs": [
    {
     "data": {
      "text/plain": [
       "dtype('float64')"
      ]
     },
     "execution_count": 50,
     "metadata": {},
     "output_type": "execute_result"
    }
   ],
   "source": [
    "precos.dtype"
   ]
  },
  {
   "cell_type": "code",
   "execution_count": 51,
   "id": "d49c8296",
   "metadata": {},
   "outputs": [
    {
     "data": {
      "text/plain": [
       "dtype('<U32')"
      ]
     },
     "execution_count": 51,
     "metadata": {},
     "output_type": "execute_result"
    }
   ],
   "source": [
    "array_heterogeneo.dtype"
   ]
  },
  {
   "cell_type": "markdown",
   "id": "e4447cfa",
   "metadata": {},
   "source": [
    "#### Parte 4: Métodos"
   ]
  },
  {
   "cell_type": "markdown",
   "id": "dcbee17d",
   "metadata": {},
   "source": [
    "Além dos atributos, temos métodos importantes que nos ajudarão a manipular os arrays "
   ]
  },
  {
   "cell_type": "markdown",
   "id": "146ee51e",
   "metadata": {},
   "source": [
    "O **ndarray** tem métodos matemáticos e estatísticos que são muito utilizados, como somatório, mínimo, máximo, média, desvio padrão, variância, etc. "
   ]
  },
  {
   "cell_type": "markdown",
   "id": "4bdd137e",
   "metadata": {},
   "source": [
    "**Somatório** : digamos que queremos saber qual o somatório total dos preços dos produtos que vendemos. Para isso o array apresenta o método *sum()*"
   ]
  },
  {
   "cell_type": "markdown",
   "id": "7e4f7066",
   "metadata": {},
   "source": [
    "precos.sum()"
   ]
  },
  {
   "cell_type": "markdown",
   "id": "7850aac0",
   "metadata": {},
   "source": [
    "**Mínimo e máximo** : se quissesemos saber qual o produto de maior valor e qual o produto de menor valor usaremos os métodos *min()* e *max()*"
   ]
  },
  {
   "cell_type": "code",
   "execution_count": 52,
   "id": "c6971503",
   "metadata": {},
   "outputs": [
    {
     "data": {
      "text/plain": [
       "25.8"
      ]
     },
     "execution_count": 52,
     "metadata": {},
     "output_type": "execute_result"
    }
   ],
   "source": [
    "precos.min()"
   ]
  },
  {
   "cell_type": "code",
   "execution_count": 53,
   "id": "2dabd3b9",
   "metadata": {},
   "outputs": [
    {
     "data": {
      "text/plain": [
       "179.9"
      ]
     },
     "execution_count": 53,
     "metadata": {},
     "output_type": "execute_result"
    }
   ],
   "source": [
    "precos.max()"
   ]
  },
  {
   "cell_type": "markdown",
   "id": "cba7e8f7",
   "metadata": {},
   "source": [
    "**Média, desvio padrão e variância** : o array também oferece funções para calcularmos qual a média, qual o desvio padrão e qual a variância dos preços dos produtos"
   ]
  },
  {
   "cell_type": "code",
   "execution_count": 54,
   "id": "4887649b",
   "metadata": {},
   "outputs": [
    {
     "data": {
      "text/plain": [
       "95.11600000000001"
      ]
     },
     "execution_count": 54,
     "metadata": {},
     "output_type": "execute_result"
    }
   ],
   "source": [
    "#Média\n",
    "precos.mean()"
   ]
  },
  {
   "cell_type": "code",
   "execution_count": 55,
   "id": "2bef1d53",
   "metadata": {},
   "outputs": [
    {
     "data": {
      "text/plain": [
       "60.45592265444305"
      ]
     },
     "execution_count": 55,
     "metadata": {},
     "output_type": "execute_result"
    }
   ],
   "source": [
    "#Desvio padrão\n",
    "precos.std()"
   ]
  },
  {
   "cell_type": "code",
   "execution_count": 56,
   "id": "ed3def74",
   "metadata": {},
   "outputs": [
    {
     "data": {
      "text/plain": [
       "3654.9185840000005"
      ]
     },
     "execution_count": 56,
     "metadata": {},
     "output_type": "execute_result"
    }
   ],
   "source": [
    "#Variância\n",
    "precos.var()"
   ]
  },
  {
   "cell_type": "markdown",
   "id": "a62b7aed",
   "metadata": {},
   "source": [
    "Além desses, temos métodos úteis para manipular arrays, como ordenar, mudar forma ou tamanho, etc."
   ]
  },
  {
   "cell_type": "markdown",
   "id": "2d517ae4",
   "metadata": {},
   "source": [
    "**Sort**: se quisermos ordenar os preços dos produtos, usamos o *sort()*. Com ele, podemos ordenar de forma crescente."
   ]
  },
  {
   "cell_type": "code",
   "execution_count": 57,
   "id": "9ce629d7",
   "metadata": {},
   "outputs": [
    {
     "data": {
      "text/plain": [
       "array([ 25.8 ,  39.99,  79.9 , 149.99, 179.9 ])"
      ]
     },
     "execution_count": 57,
     "metadata": {},
     "output_type": "execute_result"
    }
   ],
   "source": [
    "precos.sort()\n",
    "precos"
   ]
  },
  {
   "cell_type": "markdown",
   "id": "837d9797",
   "metadata": {},
   "source": [
    "**Copy** : se quisermos criar uma cópia do array usamos o método *copy()*"
   ]
  },
  {
   "cell_type": "code",
   "execution_count": 58,
   "id": "f3f27ca5",
   "metadata": {},
   "outputs": [
    {
     "data": {
      "text/plain": [
       "array([ 25.8 ,  39.99,  79.9 , 149.99, 179.9 ])"
      ]
     },
     "execution_count": 58,
     "metadata": {},
     "output_type": "execute_result"
    }
   ],
   "source": [
    "precos_copia = precos.copy()\n",
    "precos_copia"
   ]
  },
  {
   "cell_type": "code",
   "execution_count": 59,
   "id": "327aeab7",
   "metadata": {},
   "outputs": [
    {
     "name": "stdout",
     "output_type": "stream",
     "text": [
      "False\n",
      "True\n"
     ]
    }
   ],
   "source": [
    "pc = precos_copia\n",
    "print(pc is precos)\n",
    "print(pc is precos_copia)"
   ]
  },
  {
   "cell_type": "markdown",
   "id": "37dd7971",
   "metadata": {},
   "source": [
    "### Lição 4: Procedimentos e funções para arrays"
   ]
  },
  {
   "cell_type": "markdown",
   "id": "024ffaec",
   "metadata": {},
   "source": [
    "#### Parte 1: Criação de arrays especiais"
   ]
  },
  {
   "cell_type": "markdown",
   "id": "4946b967",
   "metadata": {},
   "source": [
    "Além das formas de criação que vimos anteriormente, o *Numpy* oferece funções para criar alguns tipos específicos de arrays"
   ]
  },
  {
   "cell_type": "markdown",
   "id": "dabd8503",
   "metadata": {},
   "source": [
    "**Zeros** :  Se precisarmos criar um ndarray preenchido apenas por \"zeros\" o Numpy oferece a função *zeros()*, passando, em forma de tupla as dimensões do array"
   ]
  },
  {
   "cell_type": "code",
   "execution_count": 60,
   "id": "3da367cc",
   "metadata": {},
   "outputs": [
    {
     "data": {
      "text/plain": [
       "array([0., 0., 0., 0., 0., 0., 0., 0.])"
      ]
     },
     "execution_count": 60,
     "metadata": {},
     "output_type": "execute_result"
    }
   ],
   "source": [
    "array_com_zeros = np.zeros(8)\n",
    "array_com_zeros"
   ]
  },
  {
   "cell_type": "markdown",
   "id": "828981b9",
   "metadata": {},
   "source": [
    "**Ones** : Muito parecido com o *zeros()* temos a função para criar array preenchido apenas com \"uns\", a *ones()*, que também devemos passar como parâmetro uma tupla com as dimensões do array"
   ]
  },
  {
   "cell_type": "code",
   "execution_count": 61,
   "id": "54890828",
   "metadata": {},
   "outputs": [
    {
     "data": {
      "text/plain": [
       "array([1., 1., 1., 1., 1., 1., 1., 1.])"
      ]
     },
     "execution_count": 61,
     "metadata": {},
     "output_type": "execute_result"
    }
   ],
   "source": [
    "array_com_uns = np.ones(8)\n",
    "array_com_uns"
   ]
  },
  {
   "cell_type": "markdown",
   "id": "2aed1727",
   "metadata": {},
   "source": [
    "**Empty** : Um método que precisamos tomar cuidado é o *empty()*, que cria um ndarray vazio. Ao contrário do que pensamos ele não cria uma estrutura cheia de zeros, mas sim uma estrutura vazia, normalmente preenchida com lixo de memória."
   ]
  },
  {
   "cell_type": "code",
   "execution_count": 62,
   "id": "bf49dd87",
   "metadata": {},
   "outputs": [
    {
     "data": {
      "text/plain": [
       "array([1., 1., 1., 1., 1., 1., 1., 1.])"
      ]
     },
     "execution_count": 62,
     "metadata": {},
     "output_type": "execute_result"
    }
   ],
   "source": [
    "array_vazio = np.empty(8)\n",
    "array_vazio"
   ]
  },
  {
   "cell_type": "markdown",
   "id": "b3fbb748",
   "metadata": {},
   "source": [
    "**Full**: O método *full()* preenche todo array com o elemento que passarmos como parâmetro"
   ]
  },
  {
   "cell_type": "code",
   "execution_count": 63,
   "id": "714ba6a0",
   "metadata": {},
   "outputs": [
    {
     "data": {
      "text/plain": [
       "array([2, 2, 2, 2, 2, 2, 2, 2])"
      ]
     },
     "execution_count": 63,
     "metadata": {},
     "output_type": "execute_result"
    }
   ],
   "source": [
    "array_completo = np.full(8,2)\n",
    "array_completo"
   ]
  },
  {
   "cell_type": "markdown",
   "id": "89e5631a",
   "metadata": {},
   "source": [
    "O Numpy também possui um método para gerar arrays aleatórios, o **Random**. Com ele, podemos criar vetores de números aleatórios de inteiros, reais e muito mais. A [documentação oficial](https://docs.scipy.org/doc/numpy-1.16.0/reference/routines.random.html) mostra todas as opções que temos com o random."
   ]
  },
  {
   "cell_type": "markdown",
   "id": "98e3eedc",
   "metadata": {},
   "source": [
    "**Random** : Para criar um array de inteiros aleatórios usamos o *random.randint()*"
   ]
  },
  {
   "cell_type": "code",
   "execution_count": 64,
   "id": "2e1d7e88",
   "metadata": {},
   "outputs": [
    {
     "data": {
      "text/plain": [
       "array([3, 3, 2, 1, 6, 6, 9, 9])"
      ]
     },
     "execution_count": 64,
     "metadata": {},
     "output_type": "execute_result"
    }
   ],
   "source": [
    "array_aleatorio_inteiros = np.random.randint(1,10, size=8)\n",
    "array_aleatorio_inteiros"
   ]
  },
  {
   "cell_type": "markdown",
   "id": "22151f44",
   "metadata": {},
   "source": [
    "> O random.random cria um array de floats aleatórios dentro do intervalo [0,1)"
   ]
  },
  {
   "cell_type": "code",
   "execution_count": 65,
   "id": "1601202d",
   "metadata": {},
   "outputs": [
    {
     "data": {
      "text/plain": [
       "array([0.03314383, 0.49266728, 0.55388207, 0.25595501, 0.98666961,\n",
       "       0.00339237, 0.0547054 , 0.28006023, 0.7502368 , 0.70322101,\n",
       "       0.48188952, 0.68113087, 0.1921272 , 0.78080776, 0.33059782,\n",
       "       0.91654027, 0.28066073, 0.66038244, 0.87254612, 0.31313069])"
      ]
     },
     "execution_count": 65,
     "metadata": {},
     "output_type": "execute_result"
    }
   ],
   "source": [
    "array_aleatorio_floats = np.random.random(20)\n",
    "array_aleatorio_floats"
   ]
  },
  {
   "cell_type": "markdown",
   "id": "b011e660",
   "metadata": {},
   "source": [
    "O Numpy também permite criarmos arrays aleatórios seguindo distribuições normais e uniformes. Veremos no módulo 8 como representar esses arrays gráficamente."
   ]
  },
  {
   "cell_type": "markdown",
   "id": "9a36aa00",
   "metadata": {},
   "source": [
    "**Arange**: Essa função retorna um array com valores igualmente espaçados quando passamos um dado intervalo. Ela funciona de forma muito parecida com o *range()* nativo do python"
   ]
  },
  {
   "cell_type": "code",
   "execution_count": 66,
   "id": "eb4bb37d",
   "metadata": {},
   "outputs": [
    {
     "data": {
      "text/plain": [
       "array([0, 1, 2, 3, 4, 5, 6, 7])"
      ]
     },
     "execution_count": 66,
     "metadata": {},
     "output_type": "execute_result"
    }
   ],
   "source": [
    "array_range1 = np.arange(8)\n",
    "array_range1"
   ]
  },
  {
   "cell_type": "code",
   "execution_count": 67,
   "id": "ed627a96",
   "metadata": {},
   "outputs": [
    {
     "data": {
      "text/plain": [
       "array([10, 11, 12, 13, 14, 15, 16, 17, 18, 19])"
      ]
     },
     "execution_count": 67,
     "metadata": {},
     "output_type": "execute_result"
    }
   ],
   "source": [
    "array_range2 = np.arange(10,20)\n",
    "array_range2"
   ]
  },
  {
   "cell_type": "code",
   "execution_count": 68,
   "id": "2fad4e33",
   "metadata": {},
   "outputs": [
    {
     "data": {
      "text/plain": [
       "array([ 0,  2,  4,  6,  8, 10, 12, 14, 16, 18])"
      ]
     },
     "execution_count": 68,
     "metadata": {},
     "output_type": "execute_result"
    }
   ],
   "source": [
    "array_range3 = np.arange(0,20,2)\n",
    "array_range3"
   ]
  },
  {
   "cell_type": "markdown",
   "id": "f288be61",
   "metadata": {},
   "source": [
    "**Linspace**: A última forma de criação de arrays que vale a pena comentarmos é a *linspace()*, que cria um ndarray em um intervalo que podemos especificar e informar a quantidade de pontos (igualmente espaçados) dentro desse intervalo."
   ]
  },
  {
   "cell_type": "markdown",
   "id": "8a532adf",
   "metadata": {},
   "source": [
    "<center> linspace(início, fim, [num, ...]) <center>"
   ]
  },
  {
   "cell_type": "markdown",
   "id": "56eedfcd",
   "metadata": {},
   "source": [
    "Em que inicio e fim são parâmetros obrigatórios para determinar o intervalo em que o array será criado e num é parâmetro opcionai que determina a quantidade de elementos que queremos"
   ]
  },
  {
   "cell_type": "code",
   "execution_count": 69,
   "id": "161fb3db",
   "metadata": {},
   "outputs": [
    {
     "data": {
      "text/plain": [
       "array([ 0.        ,  1.11111111,  2.22222222,  3.33333333,  4.44444444,\n",
       "        5.55555556,  6.66666667,  7.77777778,  8.88888889, 10.        ])"
      ]
     },
     "execution_count": 69,
     "metadata": {},
     "output_type": "execute_result"
    }
   ],
   "source": [
    "import numpy as np\n",
    "np.linspace(0, 10, 10)"
   ]
  },
  {
   "cell_type": "markdown",
   "id": "618e1ca1",
   "metadata": {},
   "source": [
    "#### Parte 2: Manipulação de elementos"
   ]
  },
  {
   "cell_type": "markdown",
   "id": "560403ae",
   "metadata": {},
   "source": [
    "**Concatenate**: Digamos que, por um acidente, salvamos os preços das novas mercadorias em um array diferente. Um método útil para juntar essas duas informações em apenas um só é o *concatenate*."
   ]
  },
  {
   "cell_type": "code",
   "execution_count": 70,
   "id": "3e9d6527",
   "metadata": {},
   "outputs": [
    {
     "data": {
      "text/plain": [
       "array([ 25.8 ,  39.99,  79.9 , 149.99, 179.9 ,  59.9 ,  29.99, 179.8 ,\n",
       "       249.9 ])"
      ]
     },
     "execution_count": 70,
     "metadata": {},
     "output_type": "execute_result"
    }
   ],
   "source": [
    "precos_novas_mercadorias = np.array([59.90, 29.99, 179.80, 249.90])\n",
    "novos_precos = np.concatenate((precos,precos_novas_mercadorias))\n",
    "novos_precos"
   ]
  },
  {
   "cell_type": "markdown",
   "id": "a19b9598",
   "metadata": {},
   "source": [
    "**Split**: Além de concatenar, podemos também separar arrays com a ajuda com *split*. Podemos, por exemplo,  separar o preço como as 3 primeiras sendo blusas casuais, as 3 do meio como blusas sociais e as 3 últimas como blusas esportivas."
   ]
  },
  {
   "cell_type": "markdown",
   "id": "73086175",
   "metadata": {},
   "source": [
    "<center> np.split(array, indices_ou_seção) <center>"
   ]
  },
  {
   "cell_type": "markdown",
   "id": "d1c5eef6",
   "metadata": {},
   "source": [
    "Para isso, precisamos passar como parâmetros o array que queremos e em quais ou quantas seções queremos dividí-lo"
   ]
  },
  {
   "cell_type": "code",
   "execution_count": 71,
   "id": "f28847b3",
   "metadata": {},
   "outputs": [
    {
     "data": {
      "text/plain": [
       "[array([25.8 , 39.99, 79.9 ]),\n",
       " array([149.99, 179.9 ,  59.9 ]),\n",
       " array([ 29.99, 179.8 , 249.9 ])]"
      ]
     },
     "execution_count": 71,
     "metadata": {},
     "output_type": "execute_result"
    }
   ],
   "source": [
    "np.split(novos_precos, 3)"
   ]
  },
  {
   "cell_type": "code",
   "execution_count": 72,
   "id": "d6add4dc",
   "metadata": {},
   "outputs": [
    {
     "data": {
      "text/plain": [
       "array([ 25.8 ,  29.99,  39.99,  59.9 ,  79.9 , 149.99, 179.8 , 179.9 ,\n",
       "       249.9 ])"
      ]
     },
     "execution_count": 72,
     "metadata": {},
     "output_type": "execute_result"
    }
   ],
   "source": [
    "np.unique(novos_precos)"
   ]
  },
  {
   "cell_type": "markdown",
   "id": "58ee9765",
   "metadata": {},
   "source": [
    "**Delete**: Se uma blusa for vendida, por exemplo, não faz sentido o preço dela continuar em nosso array. Para isso, podemos usar o *np.delete()*"
   ]
  },
  {
   "cell_type": "code",
   "execution_count": 73,
   "id": "41096ff1",
   "metadata": {},
   "outputs": [
    {
     "data": {
      "text/plain": [
       "array([ 25.8 ,  39.99,  79.9 , 149.99, 179.9 ,  59.9 ,  29.99, 179.8 ])"
      ]
     },
     "execution_count": 73,
     "metadata": {},
     "output_type": "execute_result"
    }
   ],
   "source": [
    "np.delete(novos_precos, 8)"
   ]
  },
  {
   "cell_type": "markdown",
   "id": "fdb9b23d",
   "metadata": {},
   "source": [
    "#### Parte 3: Funções matemática no *Numpy*"
   ]
  },
  {
   "cell_type": "markdown",
   "id": "f3971f19",
   "metadata": {},
   "source": [
    "Como já falamos, o Numpy é uma biblioteca muito usada para cálculos matemáticos, então vamos ver em que situações podemos usar essas ferramentas que ele oferece."
   ]
  },
  {
   "cell_type": "markdown",
   "id": "d297dc8b",
   "metadata": {},
   "source": [
    "> Dentro das funções matemáticas do Numpy temos as *funções trigonométricas*: "
   ]
  },
  {
   "cell_type": "markdown",
   "id": "dd3179bf",
   "metadata": {},
   "source": [
    "| Método | Funcionalidade   |\n",
    "|:------:|:------:|\n",
    "|   Sin  | Calcula o seno de um dado angulo (em radianos)|\n",
    "|   Cos  | Calcula o cosseno de um dado angulo (em radianos)|\n",
    "|   Tan  | Calcula a tangente de um dado angulo (em radianos)|\n",
    "|   Arccos  | Calcula o arco cosseno de um dado angulo (em radianos)|\n",
    "|   Arcsin | Calcula o arco seno de um dado angulo (em radianos)|\n",
    "|   ...  | ...|"
   ]
  },
  {
   "cell_type": "code",
   "execution_count": 74,
   "id": "e6fdd4c0",
   "metadata": {},
   "outputs": [
    {
     "data": {
      "text/plain": [
       "array([ 0.00000000e+00,  1.00000000e+00,  1.22464680e-16,  8.66025404e-01,\n",
       "       -2.44929360e-16])"
      ]
     },
     "execution_count": 74,
     "metadata": {},
     "output_type": "execute_result"
    }
   ],
   "source": [
    "graus = np.array([0, np.pi / 2, np.pi, (2* np.pi)/3, 2*np.pi])\n",
    "np.sin(graus)"
   ]
  },
  {
   "cell_type": "code",
   "execution_count": 75,
   "id": "e9aaa73b",
   "metadata": {},
   "outputs": [
    {
     "data": {
      "text/plain": [
       "array([ 1.000000e+00,  6.123234e-17, -1.000000e+00, -5.000000e-01,\n",
       "        1.000000e+00])"
      ]
     },
     "execution_count": 75,
     "metadata": {},
     "output_type": "execute_result"
    }
   ],
   "source": [
    "np.cos(graus)"
   ]
  },
  {
   "cell_type": "code",
   "execution_count": 76,
   "id": "5e4d5506",
   "metadata": {},
   "outputs": [
    {
     "data": {
      "text/plain": [
       "array([ 0.00000000e+00,  1.63312394e+16, -1.22464680e-16, -1.73205081e+00,\n",
       "       -2.44929360e-16])"
      ]
     },
     "execution_count": 76,
     "metadata": {},
     "output_type": "execute_result"
    }
   ],
   "source": [
    "np.tan(graus)"
   ]
  },
  {
   "cell_type": "markdown",
   "id": "0d8adb98",
   "metadata": {},
   "source": [
    "> Além das funções trigonométricas, temos como calcular funções logarítmicas e exponenciais"
   ]
  },
  {
   "cell_type": "code",
   "execution_count": 77,
   "id": "43815513",
   "metadata": {},
   "outputs": [
    {
     "data": {
      "text/plain": [
       "array([1.00000000e+00, 2.71828183e+00, 7.38905610e+00, 2.00855369e+01,\n",
       "       5.45981500e+01, 1.48413159e+02, 4.03428793e+02, 1.09663316e+03,\n",
       "       2.98095799e+03, 8.10308393e+03])"
      ]
     },
     "execution_count": 77,
     "metadata": {},
     "output_type": "execute_result"
    }
   ],
   "source": [
    "import numpy as np\n",
    "array_exp = np.arange(10)\n",
    "array_exp = np.exp(array_exp)\n",
    "array_exp"
   ]
  },
  {
   "cell_type": "code",
   "execution_count": null,
   "id": "f95530a6",
   "metadata": {},
   "outputs": [],
   "source": [
    "array_log = np.arange(10)\n",
    "array_log = np.log(array_log)\n",
    "array_log\n"
   ]
  },
  {
   "cell_type": "markdown",
   "id": "4c333c0f",
   "metadata": {},
   "source": [
    "## Módulo 6: Arrays multimencionais e matrizes"
   ]
  },
  {
   "cell_type": "markdown",
   "id": "619075f6",
   "metadata": {},
   "source": [
    "### Lição 1: Arrays Multidimensionais"
   ]
  },
  {
   "cell_type": "markdown",
   "id": "eab5798f",
   "metadata": {},
   "source": [
    "Como já falamos, o array oferecido pelo *Numpy* pode ter *n* dimensões. Dentro delas, vamos aprofundar um pouco mais nas de 2 e 3 dimensões, as que são mais utilizadas"
   ]
  },
  {
   "cell_type": "markdown",
   "id": "209fc292",
   "metadata": {},
   "source": [
    "#### Parte 1: Arrays 2D"
   ]
  },
  {
   "cell_type": "markdown",
   "id": "99c50868",
   "metadata": {},
   "source": [
    "Como os arrays de duas dimensões são muito utilizados para guardar dados, como tabelas, vamos ver como fica o exemplo aqui na prática:"
   ]
  },
  {
   "cell_type": "markdown",
   "id": "f02df3d8",
   "metadata": {},
   "source": [
    "| Código  | Preço unitário | Quantidade | Lucro |\n",
    "|:-------:|:--------------:|:----------:|:-----:|\n",
    "|   1234  |       70       |      1     |   4   |\n",
    "|   5678  |       74       |      2     |   3   |\n",
    "|   9012  |       20       |      9     |   2   |\n",
    "|   3456  |       88       |      1     |   1   |"
   ]
  },
  {
   "cell_type": "code",
   "execution_count": 79,
   "id": "a571ce0a",
   "metadata": {},
   "outputs": [],
   "source": [
    "import numpy as np"
   ]
  },
  {
   "cell_type": "code",
   "execution_count": 80,
   "id": "1ce161b5",
   "metadata": {},
   "outputs": [
    {
     "data": {
      "text/plain": [
       "array([[1234,   70,    1,    4],\n",
       "       [5678,   74,    2,    3],\n",
       "       [9012,   20,    9,    2],\n",
       "       [3456,   88,    1,    1]])"
      ]
     },
     "execution_count": 80,
     "metadata": {},
     "output_type": "execute_result"
    }
   ],
   "source": [
    "dados_loja = np.array(([1234,70,1,4], [5678,74,2,3],[9012,20,9,2], [3456,88,1,1]))\n",
    "dados_loja"
   ]
  },
  {
   "cell_type": "markdown",
   "id": "8db489b9",
   "metadata": {},
   "source": [
    "Depois de termos guardado nossos dados em um array de duas dimensões, manipular os dados de diversas formas"
   ]
  },
  {
   "cell_type": "markdown",
   "id": "39b8fbc9",
   "metadata": {},
   "source": [
    "> **Acesso** : a forma de acesso de arrays 2D é bem similiar ao acesso do 1D, porém precisamos informar tanto a linha quanto a coluna que o elemento se encontra.\n",
    "<center> array2D [ linha ] [ coluna ] <center>\n",
    "<center> array2D [ linha , coluna ] <center>"
   ]
  },
  {
   "cell_type": "code",
   "execution_count": 81,
   "id": "c714fdff",
   "metadata": {},
   "outputs": [
    {
     "name": "stdout",
     "output_type": "stream",
     "text": [
      "20\n",
      "1\n"
     ]
    }
   ],
   "source": [
    "print(dados_loja[2][1])\n",
    "print(dados_loja[3, 2])"
   ]
  },
  {
   "cell_type": "markdown",
   "id": "b2d13c5b",
   "metadata": {},
   "source": [
    "Podemos, também, selecionar apenas linhas ou apenas colunas. Digamos que queremos trabalhar apenas com a linha dos dois primeiros produtos ou apenas com a quantidade que foi vendida"
   ]
  },
  {
   "cell_type": "code",
   "execution_count": 82,
   "id": "5b5f3187",
   "metadata": {},
   "outputs": [
    {
     "data": {
      "text/plain": [
       "array([[9012,   20,    9,    2],\n",
       "       [3456,   88,    1,    1]])"
      ]
     },
     "execution_count": 82,
     "metadata": {},
     "output_type": "execute_result"
    }
   ],
   "source": [
    "produto2 = dados_loja[2:] # opcionalmente fazer [2:, :] \n",
    "produto2"
   ]
  },
  {
   "cell_type": "code",
   "execution_count": 83,
   "id": "e40874ec",
   "metadata": {},
   "outputs": [
    {
     "data": {
      "text/plain": [
       "array([1, 2, 9, 1])"
      ]
     },
     "execution_count": 83,
     "metadata": {},
     "output_type": "execute_result"
    }
   ],
   "source": [
    "qtde_vendida = dados_loja[:,2]\n",
    "qtde_vendida"
   ]
  },
  {
   "cell_type": "markdown",
   "id": "b1f3a9f6",
   "metadata": {},
   "source": [
    "Podemos acessar pedaços dos arrays multidimensionais e, inclusive, realizar uma atribuição. Vamos acessar e substituir o meio do array dados_loja:"
   ]
  },
  {
   "cell_type": "code",
   "execution_count": 84,
   "id": "ecd68703",
   "metadata": {},
   "outputs": [
    {
     "name": "stdout",
     "output_type": "stream",
     "text": [
      "[[1234   70    1    4]\n",
      " [5678   74    2    3]\n",
      " [9012   20    9    2]\n",
      " [3456   88    1    1]] \n",
      "\n",
      "[[74  2]\n",
      " [20  9]] \n",
      "\n",
      "[[1234   70    1    4]\n",
      " [5678   80    3    3]\n",
      " [9012   25    8    2]\n",
      " [3456   88    1    1]]\n"
     ]
    }
   ],
   "source": [
    "print(dados_loja, \"\\n\")\n",
    "\n",
    "print(dados_loja[1:-1, 1:-1], \"\\n\")\n",
    "\n",
    "dados_loja[1:-1, 1:-1] = [[80, 3], [25, 8]]\n",
    "\n",
    "print(dados_loja)"
   ]
  },
  {
   "cell_type": "markdown",
   "id": "4461e79e",
   "metadata": {},
   "source": [
    "> **Consulta**: a consulta feita em arrays de uma dimensão também é possível ser feita nos arrays de duas dimensões. Se quisermos saber quais produtos tiveram vendas maiores que ou iguais a 4 unidades, podemos fazer o seguinte"
   ]
  },
  {
   "cell_type": "code",
   "execution_count": 85,
   "id": "ada3ea4d",
   "metadata": {},
   "outputs": [
    {
     "data": {
      "text/plain": [
       "array([[ True,  True, False,  True],\n",
       "       [ True,  True,  True,  True],\n",
       "       [ True,  True,  True,  True],\n",
       "       [ True,  True, False, False]])"
      ]
     },
     "execution_count": 85,
     "metadata": {},
     "output_type": "execute_result"
    }
   ],
   "source": [
    "dados_loja >= 2"
   ]
  },
  {
   "cell_type": "code",
   "execution_count": 86,
   "id": "c7c61f66",
   "metadata": {},
   "outputs": [
    {
     "data": {
      "text/plain": [
       "array([1234,   70,    4, 5678,   80,    3,    3, 9012,   25,    8,    2,\n",
       "       3456,   88])"
      ]
     },
     "execution_count": 86,
     "metadata": {},
     "output_type": "execute_result"
    }
   ],
   "source": [
    "dados_loja[dados_loja >= 2]"
   ]
  },
  {
   "cell_type": "code",
   "execution_count": 87,
   "id": "12f58456",
   "metadata": {},
   "outputs": [
    {
     "data": {
      "text/plain": [
       "array([False,  True,  True, False])"
      ]
     },
     "execution_count": 87,
     "metadata": {},
     "output_type": "execute_result"
    }
   ],
   "source": [
    "dados_loja[:,2] >= 2"
   ]
  },
  {
   "cell_type": "code",
   "execution_count": 88,
   "id": "42628eb6",
   "metadata": {},
   "outputs": [
    {
     "data": {
      "text/plain": [
       "array([[5678,   80,    3,    3],\n",
       "       [9012,   25,    8,    2]])"
      ]
     },
     "execution_count": 88,
     "metadata": {},
     "output_type": "execute_result"
    }
   ],
   "source": [
    "dados_loja[dados_loja[:,2] >= 2]"
   ]
  },
  {
   "cell_type": "markdown",
   "id": "1ea19f31",
   "metadata": {},
   "source": [
    "> **Dados estatísticos**: quando estamos trabalhando com dados, é muito importante sabermos algumas informações sobre eles, como média, desvio padrão, mínimo, máximo e a variância"
   ]
  },
  {
   "cell_type": "code",
   "execution_count": 89,
   "id": "42fee3b8",
   "metadata": {},
   "outputs": [
    {
     "data": {
      "text/plain": [
       "65.75"
      ]
     },
     "execution_count": 89,
     "metadata": {},
     "output_type": "execute_result"
    }
   ],
   "source": [
    "#Qual a média de preços dos produtos?\n",
    "dados_loja[:,1].mean()"
   ]
  },
  {
   "cell_type": "code",
   "execution_count": 90,
   "id": "5c28ac09",
   "metadata": {},
   "outputs": [
    {
     "name": "stdout",
     "output_type": "stream",
     "text": [
      "Lucro máximo: 4\n",
      "Lucro minimo: 1\n"
     ]
    }
   ],
   "source": [
    "#Qual foi o maior lucro obtido? E o mínimo?\n",
    "print('Lucro máximo:',dados_loja[:, 3].max())\n",
    "print('Lucro minimo:',dados_loja[:, 3].min())"
   ]
  },
  {
   "cell_type": "code",
   "execution_count": 91,
   "id": "9a7fd815",
   "metadata": {},
   "outputs": [
    {
     "data": {
      "text/plain": [
       "1.25"
      ]
     },
     "execution_count": 91,
     "metadata": {},
     "output_type": "execute_result"
    }
   ],
   "source": [
    "#Qual foi a variância do lucro?\n",
    "dados_loja[:, 3].var()"
   ]
  },
  {
   "cell_type": "markdown",
   "id": "13a28bf2",
   "metadata": {},
   "source": [
    "> **Split**: assim como conseguimos separar arrays de 1 dimensão, também conseguimos fazer essa separação em arrays de 2 dimensões "
   ]
  },
  {
   "cell_type": "code",
   "execution_count": 92,
   "id": "23c72d29",
   "metadata": {},
   "outputs": [
    {
     "data": {
      "text/plain": [
       "[array([[1234],\n",
       "        [5678],\n",
       "        [9012],\n",
       "        [3456]]),\n",
       " array([[70],\n",
       "        [80],\n",
       "        [25],\n",
       "        [88]]),\n",
       " array([[1],\n",
       "        [3],\n",
       "        [8],\n",
       "        [1]]),\n",
       " array([[4],\n",
       "        [3],\n",
       "        [2],\n",
       "        [1]])]"
      ]
     },
     "execution_count": 92,
     "metadata": {},
     "output_type": "execute_result"
    }
   ],
   "source": [
    "#Separando as colunas\n",
    "np.hsplit(dados_loja,4)"
   ]
  },
  {
   "cell_type": "code",
   "execution_count": 93,
   "id": "2287305e",
   "metadata": {},
   "outputs": [
    {
     "data": {
      "text/plain": [
       "[array([[1234,   70,    1,    4]]),\n",
       " array([[5678,   80,    3,    3]]),\n",
       " array([[9012,   25,    8,    2]]),\n",
       " array([[3456,   88,    1,    1]])]"
      ]
     },
     "execution_count": 93,
     "metadata": {},
     "output_type": "execute_result"
    }
   ],
   "source": [
    "#Separando as linhas\n",
    "np.vsplit(dados_loja,4)"
   ]
  },
  {
   "cell_type": "markdown",
   "id": "954312c7",
   "metadata": {},
   "source": [
    "#### Parte 2: Arrays 3D"
   ]
  },
  {
   "cell_type": "markdown",
   "id": "3b9a35dc",
   "metadata": {},
   "source": [
    "Para desenvolvermos o exemplo das franquias da nossa loja podemos criar um array de 3D dimensões. Para isso, vamos usar o **random.randint** para facilitar a criação"
   ]
  },
  {
   "cell_type": "code",
   "execution_count": 94,
   "id": "2e173065",
   "metadata": {},
   "outputs": [
    {
     "data": {
      "text/plain": [
       "array([[[8, 4, 8, 6],\n",
       "        [7, 7, 6, 3],\n",
       "        [4, 4, 3, 1],\n",
       "        [2, 6, 7, 7],\n",
       "        [2, 4, 2, 7]],\n",
       "\n",
       "       [[7, 7, 6, 9],\n",
       "        [8, 1, 8, 5],\n",
       "        [2, 7, 5, 4],\n",
       "        [2, 9, 4, 1],\n",
       "        [9, 3, 4, 3]],\n",
       "\n",
       "       [[7, 7, 9, 4],\n",
       "        [7, 6, 3, 2],\n",
       "        [8, 7, 3, 4],\n",
       "        [6, 6, 9, 9],\n",
       "        [7, 5, 3, 8]]])"
      ]
     },
     "execution_count": 94,
     "metadata": {},
     "output_type": "execute_result"
    }
   ],
   "source": [
    "import numpy as np\n",
    "array_3d = np.random.randint(1,10,size=(3,5,4))\n",
    "array_3d"
   ]
  },
  {
   "cell_type": "markdown",
   "id": "3f5a66ad",
   "metadata": {},
   "source": [
    "Como vimos, cada dimensão do array representa uma filial da nossa loja de roupas e cada coluna representa nossos dados: código, preco unitário, quantidade vendida e lucro"
   ]
  },
  {
   "cell_type": "markdown",
   "id": "99cd58b8",
   "metadata": {},
   "source": [
    "O acesso do array de 3 dimensões se da de forma parecida com o array de 2 dimensões:\n",
    "\n",
    "<center> array3D [ dimensao, linha , coluna ] <center>"
   ]
  },
  {
   "cell_type": "markdown",
   "id": "2a6e1387",
   "metadata": {},
   "source": [
    "Funcionando também os slices que vimos no array de 1 e de 2 dimensões "
   ]
  },
  {
   "cell_type": "code",
   "execution_count": 95,
   "id": "32c6477f",
   "metadata": {},
   "outputs": [
    {
     "data": {
      "text/plain": [
       "4"
      ]
     },
     "execution_count": 95,
     "metadata": {},
     "output_type": "execute_result"
    }
   ],
   "source": [
    "array_3d[1,3,2]"
   ]
  },
  {
   "cell_type": "code",
   "execution_count": 96,
   "id": "738a00a9",
   "metadata": {},
   "outputs": [
    {
     "data": {
      "text/plain": [
       "array([[4, 4, 3, 1],\n",
       "       [2, 7, 5, 4],\n",
       "       [8, 7, 3, 4]])"
      ]
     },
     "execution_count": 96,
     "metadata": {},
     "output_type": "execute_result"
    }
   ],
   "source": [
    "array_3d[:,2,: ]"
   ]
  },
  {
   "cell_type": "markdown",
   "id": "68ce72d1",
   "metadata": {},
   "source": [
    "Os processos de consultas e aplicação de métodos como somatório, mínimo e máximo também podem ser utilizados dimensão por dimensão ou em todo o array 3D"
   ]
  },
  {
   "cell_type": "code",
   "execution_count": 97,
   "id": "b54d45c5",
   "metadata": {},
   "outputs": [
    {
     "name": "stdout",
     "output_type": "stream",
     "text": [
      "[[[ True False  True  True]\n",
      "  [ True  True  True False]\n",
      "  [False False False False]\n",
      "  [False  True  True  True]\n",
      "  [False False False  True]]\n",
      "\n",
      " [[ True  True  True  True]\n",
      "  [ True False  True  True]\n",
      "  [False  True  True False]\n",
      "  [False  True False False]\n",
      "  [ True False False False]]\n",
      "\n",
      " [[ True  True  True False]\n",
      "  [ True  True False False]\n",
      "  [ True  True False False]\n",
      "  [ True  True  True  True]\n",
      "  [ True  True False  True]]]\n",
      "\n",
      "[3 3 1 2 2 2 1 2 2 1 3 3 3 2 3 3]\n"
     ]
    }
   ],
   "source": [
    "print(array_3d > 4)\n",
    "print()\n",
    "print(array_3d[array_3d <= 3])"
   ]
  },
  {
   "cell_type": "code",
   "execution_count": 98,
   "id": "1d77d68b",
   "metadata": {},
   "outputs": [
    {
     "name": "stdout",
     "output_type": "stream",
     "text": [
      "[[23 25 26 24]\n",
      " [28 27 27 22]\n",
      " [35 31 27 27]]\n",
      "[[4 3 1 2 2]\n",
      " [6 1 2 1 3]\n",
      " [4 2 3 6 3]]\n",
      "[[8 7 9 9]\n",
      " [8 7 8 5]\n",
      " [8 7 5 4]\n",
      " [6 9 9 9]\n",
      " [9 5 4 8]]\n",
      "[[4.6 5.  5.2 4.8]\n",
      " [5.6 5.4 5.4 4.4]\n",
      " [7.  6.2 5.4 5.4]]\n"
     ]
    }
   ],
   "source": [
    "print(array_3d.sum(axis=1))\n",
    "print(array_3d.min(axis=2))\n",
    "print(array_3d.max(axis=0))\n",
    "print(array_3d.mean(axis=1))"
   ]
  },
  {
   "cell_type": "markdown",
   "id": "2b85e769",
   "metadata": {},
   "source": [
    "Dessa forma, podemos perceber que os métodos e atributos para trabalhar com arrays de múltiplas dimensões funcionam de forma praticamente igual, precisamos apenas saber com quantas dimensões estamos lidando e como isso afeta as funções do nosso código!"
   ]
  },
  {
   "cell_type": "markdown",
   "id": "fcf73b38",
   "metadata": {},
   "source": [
    "### Lição 2: Estrutura *Matrix* "
   ]
  },
  {
   "cell_type": "markdown",
   "id": "c4762087",
   "metadata": {},
   "source": [
    "Além de podermos criar arrays de duas dimensões, o *Numpy* também oferece uma estrutura específica para esses casos chamada **Matrix**. "
   ]
  },
  {
   "cell_type": "code",
   "execution_count": 99,
   "id": "400fcbda",
   "metadata": {},
   "outputs": [
    {
     "name": "stdout",
     "output_type": "stream",
     "text": [
      "[[5 4]\n",
      " [5 8]]\n",
      "[[4 8]\n",
      " [6 4]]\n"
     ]
    }
   ],
   "source": [
    "a = np.random.randint(0,10,size=(2,2))\n",
    "b = np.random.randint(0,10,size=(2,2))\n",
    "print(a)\n",
    "print(b)"
   ]
  },
  {
   "cell_type": "code",
   "execution_count": 100,
   "id": "27cc9d52",
   "metadata": {},
   "outputs": [
    {
     "data": {
      "text/plain": [
       "matrix([[5, 4],\n",
       "        [5, 8]])"
      ]
     },
     "execution_count": 100,
     "metadata": {},
     "output_type": "execute_result"
    }
   ],
   "source": [
    "A = np.matrix(a)\n",
    "B = np.matrix(b)\n",
    "A "
   ]
  },
  {
   "cell_type": "code",
   "execution_count": 101,
   "id": "2dfc792a",
   "metadata": {},
   "outputs": [
    {
     "data": {
      "text/plain": [
       "matrix([[4, 8],\n",
       "        [6, 4]])"
      ]
     },
     "execution_count": 101,
     "metadata": {},
     "output_type": "execute_result"
    }
   ],
   "source": [
    "B"
   ]
  },
  {
   "cell_type": "markdown",
   "id": "4101a707",
   "metadata": {},
   "source": [
    "Apesar de parecerem estruturas iguais aos arrays 2D, o objeto *matrix* possui a vantagem de realização de operações matriciais, como multiplicação entre duas matrizes"
   ]
  },
  {
   "cell_type": "code",
   "execution_count": 102,
   "id": "ff1195d2",
   "metadata": {},
   "outputs": [
    {
     "data": {
      "text/plain": [
       "matrix([[44, 56],\n",
       "        [68, 72]])"
      ]
     },
     "execution_count": 102,
     "metadata": {},
     "output_type": "execute_result"
    }
   ],
   "source": [
    "A * B"
   ]
  },
  {
   "cell_type": "code",
   "execution_count": 103,
   "id": "4ec15c25",
   "metadata": {},
   "outputs": [
    {
     "data": {
      "text/plain": [
       "matrix([[10,  8],\n",
       "        [10, 16]])"
      ]
     },
     "execution_count": 103,
     "metadata": {},
     "output_type": "execute_result"
    }
   ],
   "source": [
    "A * 2"
   ]
  },
  {
   "cell_type": "markdown",
   "id": "4afe015f",
   "metadata": {},
   "source": [
    "O numpy oferece uma função chamada *matmul*, utilizada para multiplicação de arrays e matrizes"
   ]
  },
  {
   "cell_type": "code",
   "execution_count": 104,
   "id": "95e09d85",
   "metadata": {},
   "outputs": [
    {
     "data": {
      "text/plain": [
       "matrix([[44, 56],\n",
       "        [68, 72]])"
      ]
     },
     "execution_count": 104,
     "metadata": {},
     "output_type": "execute_result"
    }
   ],
   "source": [
    "np.matmul(A,B)"
   ]
  },
  {
   "cell_type": "markdown",
   "id": "e7e85dac",
   "metadata": {},
   "source": [
    "As matrizes possuem os mesmos atributos que os arrays, como *ndim*, *shape*, *size*, etc.\n"
   ]
  },
  {
   "cell_type": "markdown",
   "id": "f89d34cc",
   "metadata": {},
   "source": [
    "print('Ndmi:', A.ndim)\n",
    "print('Shape:', A.shape)\n",
    "print('Size:', A.size)"
   ]
  },
  {
   "cell_type": "markdown",
   "id": "3b8d40f4",
   "metadata": {},
   "source": [
    "Porém, além dos atributos em comum, as matrizes possuem outros bem interessantes"
   ]
  },
  {
   "cell_type": "markdown",
   "id": "be33afe3",
   "metadata": {},
   "source": [
    "> **A**: retorna a matriz como ndarray"
   ]
  },
  {
   "cell_type": "code",
   "execution_count": 105,
   "id": "2429b042",
   "metadata": {},
   "outputs": [
    {
     "data": {
      "text/plain": [
       "array([[5, 4],\n",
       "       [5, 8]])"
      ]
     },
     "execution_count": 105,
     "metadata": {},
     "output_type": "execute_result"
    }
   ],
   "source": [
    "array_da_matriz = A.A\n",
    "array_da_matriz"
   ]
  },
  {
   "cell_type": "markdown",
   "id": "6cc073c2",
   "metadata": {},
   "source": [
    "> **A1** : retorna a matriz como um ndarray unidimensional"
   ]
  },
  {
   "cell_type": "code",
   "execution_count": 106,
   "id": "46805aa3",
   "metadata": {},
   "outputs": [
    {
     "data": {
      "text/plain": [
       "array([5, 4, 5, 8])"
      ]
     },
     "execution_count": 106,
     "metadata": {},
     "output_type": "execute_result"
    }
   ],
   "source": [
    "A.A1"
   ]
  },
  {
   "cell_type": "markdown",
   "id": "889f8642",
   "metadata": {},
   "source": [
    "> **T** : retorna a transposta da matriz"
   ]
  },
  {
   "cell_type": "code",
   "execution_count": 107,
   "id": "daf5a4af",
   "metadata": {},
   "outputs": [
    {
     "data": {
      "text/plain": [
       "matrix([[5, 5],\n",
       "        [4, 8]])"
      ]
     },
     "execution_count": 107,
     "metadata": {},
     "output_type": "execute_result"
    }
   ],
   "source": [
    "A.T"
   ]
  },
  {
   "cell_type": "markdown",
   "id": "0e0b5d87",
   "metadata": {},
   "source": [
    "> **I** : retorna a inversa da matriz"
   ]
  },
  {
   "cell_type": "code",
   "execution_count": 109,
   "id": "db244eb4",
   "metadata": {},
   "outputs": [
    {
     "data": {
      "text/plain": [
       "matrix([[ 0.4 , -0.2 ],\n",
       "        [-0.25,  0.25]])"
      ]
     },
     "execution_count": 109,
     "metadata": {},
     "output_type": "execute_result"
    }
   ],
   "source": [
    "A.I"
   ]
  },
  {
   "cell_type": "markdown",
   "id": "6db1d54f",
   "metadata": {},
   "source": [
    "### Lição 3: Procedimentos e funções "
   ]
  },
  {
   "cell_type": "markdown",
   "id": "966ee0ea",
   "metadata": {},
   "source": [
    "Todos os métodos que foram usados em arrays podem ser, também, utilizados em matrizes, porém alguns fazem mais sentido serem usados em matrizes"
   ]
  },
  {
   "cell_type": "code",
   "execution_count": 119,
   "id": "610daa21",
   "metadata": {},
   "outputs": [],
   "source": [
    "c = np.matrix(np.random.randint(0,10,size=(3,5)))\n",
    "d = np.matrix(np.random.randint(0,10,size=(4,6)))"
   ]
  },
  {
   "cell_type": "code",
   "execution_count": 111,
   "id": "99e86a3a",
   "metadata": {},
   "outputs": [
    {
     "name": "stdout",
     "output_type": "stream",
     "text": [
      "Matrix c:\n",
      " [[1 3 8 4 1]\n",
      " [0 5 5 2 5]\n",
      " [4 1 2 3 5]]\n",
      "Matrix d:\n",
      " [[7 5 8 0 9 7]\n",
      " [0 9 6 2 6 8]\n",
      " [8 5 5 2 5 5]\n",
      " [0 8 6 5 7 8]]\n"
     ]
    }
   ],
   "source": [
    "print('Matrix c:\\n',c)\n",
    "print('Matrix d:\\n',d)"
   ]
  },
  {
   "cell_type": "markdown",
   "id": "0c286bad",
   "metadata": {},
   "source": [
    "> **Explorando os eixos**: o interessante das matrizes é que podemos explorar apenas colunas ou apenas linhas. Se passarmos o parâmetro *axis = 0* estamos falando de **colunas**, porém se usarmos *axis = 1* estamos falando de **linhas**"
   ]
  },
  {
   "cell_type": "code",
   "execution_count": 112,
   "id": "552f546d",
   "metadata": {},
   "outputs": [
    {
     "data": {
      "text/plain": [
       "matrix([[4, 5, 8, 4, 5]])"
      ]
     },
     "execution_count": 112,
     "metadata": {},
     "output_type": "execute_result"
    }
   ],
   "source": [
    "c.max(axis=0)"
   ]
  },
  {
   "cell_type": "code",
   "execution_count": 113,
   "id": "ab4ecdf7",
   "metadata": {},
   "outputs": [
    {
     "data": {
      "text/plain": [
       "matrix([[9],\n",
       "        [9],\n",
       "        [8],\n",
       "        [8]])"
      ]
     },
     "execution_count": 113,
     "metadata": {},
     "output_type": "execute_result"
    }
   ],
   "source": [
    "d.max(axis=1)"
   ]
  },
  {
   "cell_type": "code",
   "execution_count": 114,
   "id": "87a1f928",
   "metadata": {},
   "outputs": [
    {
     "data": {
      "text/plain": [
       "matrix([[ 5,  9, 15,  9, 11]])"
      ]
     },
     "execution_count": 114,
     "metadata": {},
     "output_type": "execute_result"
    }
   ],
   "source": [
    "c.sum(axis=0)"
   ]
  },
  {
   "cell_type": "markdown",
   "id": "095929bf",
   "metadata": {},
   "source": [
    "> **Reshape** e **resize**: tanto o reshape quanto o resize mudam o formato do array de acordo com o novo formato que passamos como parâmetro. A diferença é que o reshape retorna um novo array com o formato informado e o resize muda diretamente do array"
   ]
  },
  {
   "cell_type": "code",
   "execution_count": 115,
   "id": "bac2130c",
   "metadata": {},
   "outputs": [
    {
     "data": {
      "text/plain": [
       "matrix([[1, 3, 8],\n",
       "        [4, 1, 0],\n",
       "        [5, 5, 2],\n",
       "        [5, 4, 1],\n",
       "        [2, 3, 5]])"
      ]
     },
     "execution_count": 115,
     "metadata": {},
     "output_type": "execute_result"
    }
   ],
   "source": [
    "c.reshape((5,3))"
   ]
  },
  {
   "cell_type": "code",
   "execution_count": 122,
   "id": "ae4f5ce1",
   "metadata": {},
   "outputs": [
    {
     "data": {
      "text/plain": [
       "(3, 5)"
      ]
     },
     "execution_count": 122,
     "metadata": {},
     "output_type": "execute_result"
    }
   ],
   "source": [
    "c.shape"
   ]
  },
  {
   "cell_type": "code",
   "execution_count": 117,
   "id": "2af378a7",
   "metadata": {},
   "outputs": [
    {
     "data": {
      "text/plain": [
       "matrix([[7, 5, 8, 0, 9, 7, 0, 9, 6, 2, 6, 8],\n",
       "        [8, 5, 5, 2, 5, 5, 0, 8, 6, 5, 7, 8]])"
      ]
     },
     "execution_count": 117,
     "metadata": {},
     "output_type": "execute_result"
    }
   ],
   "source": [
    "d.resize((2,12))\n",
    "d"
   ]
  },
  {
   "cell_type": "code",
   "execution_count": 123,
   "id": "476a987e",
   "metadata": {},
   "outputs": [
    {
     "data": {
      "text/plain": [
       "(4, 6)"
      ]
     },
     "execution_count": 123,
     "metadata": {},
     "output_type": "execute_result"
    }
   ],
   "source": [
    "d.shape"
   ]
  },
  {
   "cell_type": "markdown",
   "id": "b4395b99",
   "metadata": {},
   "source": [
    "> **Trace()** : retorna o valor do somatório da diagonal principal da matriz"
   ]
  },
  {
   "cell_type": "code",
   "execution_count": 124,
   "id": "395cb824",
   "metadata": {},
   "outputs": [
    {
     "data": {
      "text/plain": [
       "matrix([[8, 1, 7, 8],\n",
       "        [7, 5, 2, 6],\n",
       "        [9, 4, 7, 7],\n",
       "        [1, 1, 7, 1]])"
      ]
     },
     "execution_count": 124,
     "metadata": {},
     "output_type": "execute_result"
    }
   ],
   "source": [
    "A2 = np.matrix(np.random.randint(0,10,size=(4,4)))\n",
    "A2"
   ]
  },
  {
   "cell_type": "code",
   "execution_count": 125,
   "id": "76e05f76",
   "metadata": {},
   "outputs": [
    {
     "data": {
      "text/plain": [
       "matrix([[21]])"
      ]
     },
     "execution_count": 125,
     "metadata": {},
     "output_type": "execute_result"
    }
   ],
   "source": [
    "A2.trace()"
   ]
  },
  {
   "cell_type": "markdown",
   "id": "2e29dbec",
   "metadata": {},
   "source": [
    "> **Dot()** : realiza o produto de duas matrizes (ou arrays)"
   ]
  },
  {
   "cell_type": "code",
   "execution_count": 127,
   "id": "6d795515",
   "metadata": {},
   "outputs": [
    {
     "data": {
      "text/plain": [
       "matrix([[7, 8, 5, 4],\n",
       "        [2, 3, 8, 8],\n",
       "        [4, 8, 8, 8],\n",
       "        [6, 0, 7, 2]])"
      ]
     },
     "execution_count": 127,
     "metadata": {},
     "output_type": "execute_result"
    }
   ],
   "source": [
    "B2 = np.matrix(np.random.randint(0,10,size=(4,4)))\n",
    "B2"
   ]
  },
  {
   "cell_type": "code",
   "execution_count": 128,
   "id": "b21f8527",
   "metadata": {},
   "outputs": [
    {
     "data": {
      "text/plain": [
       "matrix([[134, 123, 160, 112],\n",
       "        [103,  87, 133,  96],\n",
       "        [141, 140, 182, 138],\n",
       "        [ 43,  67,  76,  70]])"
      ]
     },
     "execution_count": 128,
     "metadata": {},
     "output_type": "execute_result"
    }
   ],
   "source": [
    "A2.dot(B2)"
   ]
  },
  {
   "cell_type": "markdown",
   "id": "72425c73",
   "metadata": {},
   "source": [
    "> **Ravel**: essa função transforma o array ou matriz de múltiplas dimensões e um array de apenas uma dimensão"
   ]
  },
  {
   "cell_type": "code",
   "execution_count": 129,
   "id": "10dfd417",
   "metadata": {},
   "outputs": [
    {
     "data": {
      "text/plain": [
       "matrix([[5, 4, 5, 8]])"
      ]
     },
     "execution_count": 129,
     "metadata": {},
     "output_type": "execute_result"
    }
   ],
   "source": [
    "A.ravel()"
   ]
  },
  {
   "cell_type": "markdown",
   "id": "6f839064",
   "metadata": {},
   "source": [
    "> **Ones_like e Zeros_like**: assim como podemos criar arrays preenchidos por zeros e uns quando passamos uma determinada forma, podemos, também, criar esse tipo de arrays a partir da forma de um array já existente"
   ]
  },
  {
   "cell_type": "code",
   "execution_count": 130,
   "id": "20609bde",
   "metadata": {},
   "outputs": [
    {
     "data": {
      "text/plain": [
       "matrix([[1, 1, 1, 1],\n",
       "        [1, 1, 1, 1],\n",
       "        [1, 1, 1, 1],\n",
       "        [1, 1, 1, 1]])"
      ]
     },
     "execution_count": 130,
     "metadata": {},
     "output_type": "execute_result"
    }
   ],
   "source": [
    "np.ones_like(A2)"
   ]
  },
  {
   "cell_type": "code",
   "execution_count": 131,
   "id": "2d4d5a2a",
   "metadata": {},
   "outputs": [
    {
     "data": {
      "text/plain": [
       "matrix([[0, 0],\n",
       "        [0, 0]])"
      ]
     },
     "execution_count": 131,
     "metadata": {},
     "output_type": "execute_result"
    }
   ],
   "source": [
    "np.zeros_like(A)"
   ]
  },
  {
   "cell_type": "markdown",
   "id": "6903bc1e",
   "metadata": {},
   "source": [
    "## Módulo 7: Cálculo numérico e álgebra linear dentro da análise de dados"
   ]
  },
  {
   "cell_type": "markdown",
   "id": "bac28c19",
   "metadata": {},
   "source": [
    "### Lição 2: Álgebra linear e Ciência de Dados"
   ]
  },
  {
   "cell_type": "markdown",
   "id": "9fd78f0c",
   "metadata": {},
   "source": [
    "A equação base para calcularmos o preço de uma blusa em nossa loja é dada pela seguinte equação: \n",
    "\n",
    "\\begin{equation}\n",
    " preco_i = 20 + 15 * tecido_i\n",
    "\\end{equation}\n",
    "\n",
    "em que *i* representa o tecido em questão"
   ]
  },
  {
   "cell_type": "markdown",
   "id": "4a4c7b47",
   "metadata": {},
   "source": [
    "Para resolvermos esse problema temos que criar duas matrizes:\n",
    "\n",
    "1. Uma matriz (5x2) com a primeira coluna preenchida por uns (1) e a segunda com o valor dos tecidos \n",
    "2. Um vetor (2x1) contendo os números da equação\n",
    "\n"
   ]
  },
  {
   "cell_type": "code",
   "execution_count": 3,
   "id": "4b342c33",
   "metadata": {},
   "outputs": [],
   "source": [
    "import numpy as np"
   ]
  },
  {
   "cell_type": "code",
   "execution_count": 4,
   "id": "ed35ec68",
   "metadata": {},
   "outputs": [],
   "source": [
    "valor_tecidos = np.matrix([[1,9],[1,9],[1,8],[1,4],[1,3]])\n",
    "valores_equacao = np.matrix([[20],[15]])"
   ]
  },
  {
   "cell_type": "code",
   "execution_count": 5,
   "id": "4f3efe1f",
   "metadata": {},
   "outputs": [
    {
     "name": "stdout",
     "output_type": "stream",
     "text": [
      "Valor dos tecidos:\n",
      " [[1 9]\n",
      " [1 9]\n",
      " [1 8]\n",
      " [1 4]\n",
      " [1 3]]\n",
      "Valores da equação:\n",
      " [[20]\n",
      " [15]]\n"
     ]
    }
   ],
   "source": [
    "print('Valor dos tecidos:\\n',valor_tecidos)\n",
    "print('Valores da equação:\\n',valores_equacao)"
   ]
  },
  {
   "cell_type": "markdown",
   "id": "83c39054",
   "metadata": {},
   "source": [
    "Quando multiplicamos a matriz com os valores e a quantidade dos tecidos pelo vetor com as constantes da equação temos, como resultado o preço final dos produtos"
   ]
  },
  {
   "cell_type": "code",
   "execution_count": 6,
   "id": "0ba167a5",
   "metadata": {},
   "outputs": [
    {
     "name": "stdout",
     "output_type": "stream",
     "text": [
      "Preço final das blusas:\n",
      " [[155]\n",
      " [155]\n",
      " [140]\n",
      " [ 80]\n",
      " [ 65]]\n"
     ]
    }
   ],
   "source": [
    "preco_final = valor_tecidos * valores_equacao\n",
    "print('Preço final das blusas:\\n',preco_final)"
   ]
  },
  {
   "cell_type": "markdown",
   "id": "986c077f",
   "metadata": {},
   "source": [
    "É interessante mostramos, também que podemos resolver sistemas lineares com o método **linalg** do *Numpy*."
   ]
  },
  {
   "cell_type": "markdown",
   "id": "bc9144a9",
   "metadata": {},
   "source": [
    "Quando construímos o sistema do problema sugerido ele fica da seguinte forma: "
   ]
  },
  {
   "cell_type": "markdown",
   "id": "5bd6f262",
   "metadata": {},
   "source": [
    "x: quantidade de Blusas do tipo 1 \\\\\n",
    "y: quantidade de Blusas do tipo 2 \\\\\n",
    "z: quantidade de Blusas do tipo 3 \\\\\n",
    "\n",
    "\\begin{equation}\n",
    "  x + 2y + 3z = 287 \\\\\n",
    "  2x + 5y + 7z = 674 \\\\\n",
    "  2x + 3y + 4z = 462\n",
    "\\end{equation}\n",
    "\n",
    "E pode ser representado de forma matricial como:\n",
    "\n",
    "\\begin{equation}\n",
    "  A X = b\n",
    "\\end{equation}"
   ]
  },
  {
   "cell_type": "markdown",
   "id": "e5f9e1b9",
   "metadata": {},
   "source": [
    "Em que: \n",
    "\\begin{equation}\n",
    "  A = \n",
    "  \\begin{bmatrix}\n",
    "    1 & 2 & 3 \\\\ \n",
    "    2 & 5 & 7 \\\\ \n",
    "    2 & 3 & 4\n",
    "  \\end{bmatrix}, \n",
    "  X = \n",
    "  \\begin{bmatrix}\n",
    "    x \\\\ \n",
    "    y \\\\ \n",
    "    z\n",
    "  \\end{bmatrix},\n",
    "  b = \n",
    "  \\begin{bmatrix}\n",
    "    287 \\\\ \n",
    "    674 \\\\ \n",
    "    462\n",
    "  \\end{bmatrix}\n",
    "\\end{equation}"
   ]
  },
  {
   "cell_type": "markdown",
   "id": "4f783fb6",
   "metadata": {},
   "source": [
    "Para usar o linalg precisamos importá-lo do *Numpy*"
   ]
  },
  {
   "cell_type": "code",
   "execution_count": 7,
   "id": "82bb830c",
   "metadata": {},
   "outputs": [],
   "source": [
    "import numpy.linalg as linalg"
   ]
  },
  {
   "cell_type": "code",
   "execution_count": 8,
   "id": "95c72478",
   "metadata": {},
   "outputs": [],
   "source": [
    "A = np.array([[1,2,3], [2,5,7], [2,3,4]])\n",
    "b = np.array([[287], [674], [462]])"
   ]
  },
  {
   "cell_type": "markdown",
   "id": "7389ea25",
   "metadata": {},
   "source": [
    "O método *solve()* do no linalg é o que usaremos para resolver o sistema."
   ]
  },
  {
   "cell_type": "code",
   "execution_count": 9,
   "id": "450d0cab",
   "metadata": {},
   "outputs": [
    {
     "data": {
      "text/plain": [
       "array([[75.],\n",
       "       [88.],\n",
       "       [12.]])"
      ]
     },
     "execution_count": 9,
     "metadata": {},
     "output_type": "execute_result"
    }
   ],
   "source": [
    "linalg.solve(A,b)"
   ]
  },
  {
   "cell_type": "markdown",
   "id": "515ddbda",
   "metadata": {},
   "source": [
    "### Lição 3: Polinômios: estruturas, operações, e aplicações ​"
   ]
  },
  {
   "cell_type": "markdown",
   "id": "cdfb85e7",
   "metadata": {},
   "source": [
    "Para estruturas polinomiais o Numpy também possui um método específico, o *poly1d()*. Com ele, podemos fazer diversas operações como soma, subtração, integração e derivação"
   ]
  },
  {
   "cell_type": "markdown",
   "id": "0007166b",
   "metadata": {},
   "source": [
    "Digamos que a nossa loja de blusas produza a B1 (blusa 1) e vende-a com um lucro total dado por:"
   ]
  },
  {
   "cell_type": "markdown",
   "id": "5ea921ea",
   "metadata": {},
   "source": [
    "\\begin{equation}\n",
    "L(x) = -x^3 + 12x^2 + 60x - 4\n",
    "\\end{equation}"
   ]
  },
  {
   "cell_type": "markdown",
   "id": "ada67f78",
   "metadata": {},
   "source": [
    "Em que x é a quantidade de B1 que foi produzida. Sabendo disso, qual o valor do lucro máximo?"
   ]
  },
  {
   "cell_type": "markdown",
   "id": "8cb05a1e",
   "metadata": {},
   "source": [
    "1. Vamos construir o nosso polinômio com a ajuda do *poly1d()*, em que passamos uma lista com os coeficientes do polinômio"
   ]
  },
  {
   "cell_type": "code",
   "execution_count": 14,
   "id": "b7bd624f",
   "metadata": {},
   "outputs": [
    {
     "name": "stdout",
     "output_type": "stream",
     "text": [
      "    3      2\n",
      "-1 x + 12 x + 60 x - 4\n"
     ]
    }
   ],
   "source": [
    "#Cria o polinômio na forma que o Numpy entenda      #problema de otimização \n",
    "L = np.poly1d([-1, 12, 60, -4])\n",
    "print(L) "
   ]
  },
  {
   "cell_type": "markdown",
   "id": "e05e49ea",
   "metadata": {},
   "source": [
    "2. Para resolver esse problema precisamos derivar a equação *L(x)*, com a ajuda do método *deriv()*"
   ]
  },
  {
   "cell_type": "code",
   "execution_count": 15,
   "id": "b9e51344",
   "metadata": {},
   "outputs": [
    {
     "name": "stdout",
     "output_type": "stream",
     "text": [
      "    2\n",
      "-3 x + 24 x + 60\n"
     ]
    }
   ],
   "source": [
    "#Deriva a equação com o método .dervi() da classe poly1d\n",
    "L_linha = L.deriv() #derivada do polinomio L\n",
    "print(L_linha)"
   ]
  },
  {
   "cell_type": "markdown",
   "id": "12311877",
   "metadata": {},
   "source": [
    "3. Agora, vamos achar as raízes do polinômio com o método *np.roots()*"
   ]
  },
  {
   "cell_type": "code",
   "execution_count": 17,
   "id": "ebaa2667",
   "metadata": {},
   "outputs": [
    {
     "data": {
      "text/plain": [
       "array([10., -2.])"
      ]
     },
     "execution_count": 17,
     "metadata": {},
     "output_type": "execute_result"
    }
   ],
   "source": [
    "raizes = np.roots(L_linha)\n",
    "raizes"
   ]
  },
  {
   "cell_type": "markdown",
   "id": "61771c43",
   "metadata": {},
   "source": [
    "Como estamos lidando com números inteiros, a raíz negativa que encontramos não faz sentido na nossa resolução. "
   ]
  },
  {
   "cell_type": "markdown",
   "id": "8c9c0a1e",
   "metadata": {},
   "source": [
    "4. Precisamos aplicar a raíz positiva na equação inicial do lucro"
   ]
  },
  {
   "cell_type": "code",
   "execution_count": 20,
   "id": "f6aa134e",
   "metadata": {},
   "outputs": [
    {
     "data": {
      "text/plain": [
       "796.0"
      ]
     },
     "execution_count": 20,
     "metadata": {},
     "output_type": "execute_result"
    }
   ],
   "source": [
    "L(raizes[0]) "
   ]
  },
  {
   "cell_type": "markdown",
   "id": "6782c54e",
   "metadata": {},
   "source": [
    "Assim, podemos concluir que o lucro máximo esperado é de R$ 804,00"
   ]
  },
  {
   "cell_type": "markdown",
   "id": "bb68e5da",
   "metadata": {},
   "source": [
    "### Lição 5: Regressão linear e polinomial"
   ]
  },
  {
   "cell_type": "markdown",
   "id": "67c923cd",
   "metadata": {},
   "source": [
    "Quando temos uma quantidade de dados e os resultados de uma função ao aplicarmos esse dados podemos encontrar a tendência que esses dados seguem. "
   ]
  },
  {
   "cell_type": "markdown",
   "id": "c9f96a92",
   "metadata": {},
   "source": [
    "Vamos supor que não sabemos qual função o preço da nossa loja segue, mas temos os resultados ao determinarmos um certo avalor para o tecido:"
   ]
  },
  {
   "cell_type": "markdown",
   "id": "33b5c3b6",
   "metadata": {},
   "source": [
    "\\begin{equation}\\begin{array}{|c||cccccc|}\n",
    "\\hline tecido & 25 & 50 & 75 & 100  \\\\\n",
    "\\hline preço & 120 & 138 & 197 & 240  \\\\\n",
    "\\hline\n",
    "\\end{array}\\end{equation}"
   ]
  },
  {
   "cell_type": "code",
   "execution_count": 27,
   "id": "079c202b",
   "metadata": {},
   "outputs": [
    {
     "name": "stdout",
     "output_type": "stream",
     "text": [
      "[ 25  50  75 100]\n",
      "[120 138 197 240]\n"
     ]
    }
   ],
   "source": [
    "x = np.array([25, 50, 75, 100])\n",
    "y = np.array([120, 138, 197, 240])\n",
    "\n",
    "print(x)\n",
    "print(y)"
   ]
  },
  {
   "cell_type": "markdown",
   "id": "213d2607",
   "metadata": {},
   "source": [
    "Com a ajuda do **np.polyfit()** podemos encontrar quais são os coeficientes da nossa função."
   ]
  },
  {
   "cell_type": "code",
   "execution_count": 28,
   "id": "026e883c",
   "metadata": {},
   "outputs": [
    {
     "name": "stdout",
     "output_type": "stream",
     "text": [
      "[ 1.676 69.   ]\n"
     ]
    }
   ],
   "source": [
    "c1 = np.polyfit(x, y, 1) #coeficiente de x e de y \n",
    "print(c1)"
   ]
  },
  {
   "cell_type": "markdown",
   "id": "a85d9136",
   "metadata": {},
   "source": [
    "No exemplo acima falamos que a nossa função segue o modelo de uma função de primeiro grau. Mas e se ela seguisse uma função quadrática, por exemplo?"
   ]
  },
  {
   "cell_type": "code",
   "execution_count": 29,
   "id": "760abca4",
   "metadata": {},
   "outputs": [
    {
     "data": {
      "text/plain": [
       "array([1.0000e-02, 4.2600e-01, 1.0025e+02])"
      ]
     },
     "execution_count": 29,
     "metadata": {},
     "output_type": "execute_result"
    }
   ],
   "source": [
    "c2 = np.polyfit(x, y, 2) #só muda o ultimo parametro \n",
    "c2"
   ]
  },
  {
   "cell_type": "markdown",
   "id": "e31dab09",
   "metadata": {},
   "source": [
    "Além disso, o método **np.poly1d()** nos mostra a função que os dados da tabela seguem."
   ]
  },
  {
   "cell_type": "code",
   "execution_count": 30,
   "id": "cb7678ff",
   "metadata": {},
   "outputs": [
    {
     "name": "stdout",
     "output_type": "stream",
     "text": [
      " \n",
      "1.676 x + 69\n"
     ]
    }
   ],
   "source": [
    "p1 = np.poly1d(c1) #mostar os coeficientes c1 aos valores de x \n",
    "print(p1)"
   ]
  },
  {
   "cell_type": "code",
   "execution_count": 44,
   "id": "83c28aaf",
   "metadata": {},
   "outputs": [
    {
     "name": "stdout",
     "output_type": "stream",
     "text": [
      "      2\n",
      "0.01 x + 0.426 x + 100.2\n"
     ]
    }
   ],
   "source": [
    "p2 = np.poly1d( c2 )\n",
    "print(p2)"
   ]
  },
  {
   "cell_type": "markdown",
   "id": "b29fbbc7",
   "metadata": {},
   "source": [
    "Com a ajuda do Matplotlib, que veremos de forma mais aprofundada no próximo módulo, podemos ver, rapidamente, como fica o gráfico das funções que geramos"
   ]
  },
  {
   "cell_type": "code",
   "execution_count": 42,
   "id": "178904fa",
   "metadata": {},
   "outputs": [
    {
     "data": {
      "image/png": "[encoded data removed]",
      "text/plain": [
       "<Figure size 432x288 with 1 Axes>"
      ]
     },
     "metadata": {
      "needs_background": "light"
     },
     "output_type": "display_data"
    }
   ],
   "source": [
    "import matplotlib.pyplot as plt #importando a biblioteca Matplotib \n",
    "\n",
    "x_ = np.linspace(x.min(), x.max(), 200) #criadno um dominio linear (usandonp.linspace), \n",
    " #x.min() é o valor minimo de x e x.max() é o valor maximo de x. se colocar um valor dentro vai forçar para aquele valor min ou max seja aquele \n",
    " # do menor valor ao maior valor, construir 200 pontos. baseado no valor inciais de x \n",
    "\n",
    "plt.plot(x_ , p1(x_)) \n",
    "# x_ é dominio com 200 pontos\n",
    "# p1() é a função criada \n",
    "# p1(x_) é a função com os 200 valores criados \n",
    "\n",
    "plt.title(\"Entendendo o gráfico\")\n",
    "plt.xlabel(\"x_ dominio com 200 pontos de x\")\n",
    "plt.ylabel(\"p(x_) função com os 200 pontos de x\")\n",
    "plt.show()\n",
    "\n",
    "#   nesse gráfico foi avaliado do menor valor ao maior valor de x (eixo x)\n",
    "#  com a função x_ foi criado 200 ponto, e colocado na função p1, ou seja p1(x_)\n",
    "# "
   ]
  },
  {
   "cell_type": "code",
   "execution_count": 51,
   "id": "b2a058c0",
   "metadata": {},
   "outputs": [
    {
     "data": {
      "image/png": "[encoded data removed]",
      "text/plain": [
       "<Figure size 432x288 with 1 Axes>"
      ]
     },
     "metadata": {
      "needs_background": "light"
     },
     "output_type": "display_data"
    }
   ],
   "source": [
    "import matplotlib.pyplot as plt \n",
    "\n",
    "x_ = np.linspace(x.min(), x.max(), 200)   \n",
    "\n",
    "# plt.plot(x, p1(x), x, p1_2(x))\n",
    "\n",
    "plt.plot(x_, p1(x_)) #linha azul \n",
    "plt.plot(x_, p2(x_)) #linha laranja\n",
    "plt.plot(x, y, '.') #pontos azul \n",
    "plt.title('ajustes das curvas azul (linear) e laranja (quadratica),\\n para os valores dos pontos reais')\n",
    "plt.show()\n",
    "\n",
    "#\\n no titulo para pular um linha "
   ]
  },
  {
   "cell_type": "markdown",
   "id": "dae744bb",
   "metadata": {},
   "source": [
    "Podemos perceber que as nossas linhas de regressão não passam diretamente nos pontos que temos, o que gera um **erro**. Existem diversas formas de calcularmos o erro da função que traçamos entre nossos pontos e uma delas é o **M**ean **S**quared **E**rror (Erro Quadrático Médio). Ele é dado pelo quadrado da diferença do y que temos pelo y previsto pela regressão."
   ]
  },
  {
   "cell_type": "markdown",
   "id": "97823a45",
   "metadata": {},
   "source": [
    "\\begin{equation}\n",
    "\\frac{1}{n}\\sum_{i=1}^{n} (Y_i - YP_i)^{2}\n",
    "\\end{equation}"
   ]
  },
  {
   "cell_type": "code",
   "execution_count": 55,
   "id": "f7d0e0d9",
   "metadata": {},
   "outputs": [],
   "source": [
    "def mse(y_real, y_pred): #criando uma função para calcular \n",
    "  erros = (y_real - y_pred)**2   \n",
    "  return erros.mean() #calcula a média da função criada "
   ]
  },
  {
   "cell_type": "code",
   "execution_count": 63,
   "id": "b1ec26c1",
   "metadata": {},
   "outputs": [
    {
     "data": {
      "text/plain": [
       "79.67499999999994"
      ]
     },
     "execution_count": 63,
     "metadata": {},
     "output_type": "execute_result"
    }
   ],
   "source": [
    "mse(y, p1(x)) #erro quadrático médio \n",
    "\n",
    "# diferença entre y e p1(x)\n",
    "# Ou seja, diferença entre entre y e a função linear \n"
   ]
  },
  {
   "cell_type": "code",
   "execution_count": 59,
   "id": "8471bc6e",
   "metadata": {},
   "outputs": [
    {
     "name": "stdout",
     "output_type": "stream",
     "text": [
      "<class 'numpy.ndarray'>\n",
      "<class 'numpy.poly1d'>\n"
     ]
    }
   ],
   "source": [
    "print(type(y))  #verifica o tipo de cada objeto \n",
    "print(type(p1))"
   ]
  },
  {
   "cell_type": "code",
   "execution_count": 61,
   "id": "cb4a9078",
   "metadata": {},
   "outputs": [
    {
     "name": "stdout",
     "output_type": "stream",
     "text": [
      "<class 'numpy.ndarray'>\n",
      "<class 'numpy.ndarray'>\n"
     ]
    }
   ],
   "source": [
    "print(type(y))  #verifica o tipo de cada objeto \n",
    "print(type(p1(x))) # agora com x dentro de p1\n",
    "\n",
    "#os dois ficam do mesmo jeito "
   ]
  },
  {
   "cell_type": "code",
   "execution_count": 64,
   "id": "cd3c0397",
   "metadata": {},
   "outputs": [
    {
     "data": {
      "text/plain": [
       "40.61249999999992"
      ]
     },
     "execution_count": 64,
     "metadata": {},
     "output_type": "execute_result"
    }
   ],
   "source": [
    "mse(y,p2(x))\n",
    "\n",
    "#aqui temos a diferença entre y e a função quadratica p2 usando os valores de x"
   ]
  },
  {
   "cell_type": "markdown",
   "id": "e60ec935",
   "metadata": {},
   "source": [
    "observamos dessa forma o Erro p2 é menor, mais isso não indica quando foi ao melhor ajuste de curva ( regressão)"
   ]
  },
  {
   "cell_type": "markdown",
   "id": "abc195ed",
   "metadata": {},
   "source": [
    "## Módulo 8: visualização de dados com Matplotlib"
   ]
  },
  {
   "cell_type": "markdown",
   "id": "d2670582",
   "metadata": {},
   "source": [
    "### Lição 1: Conhecendo o *Matplotlib*"
   ]
  },
  {
   "cell_type": "markdown",
   "id": "95153a29",
   "metadata": {},
   "source": [
    "O Matplotlib permite estilizarmos nossos gráficos como quisermos, colocando títulos e labels, escolhendo diferentes cores, escalas e tipos de linhas, além de podermos adicionar legendas que facilitam o entendimento das informações do gráfico."
   ]
  },
  {
   "cell_type": "markdown",
   "id": "170ee572",
   "metadata": {},
   "source": [
    "Para usarmos a biblioteca precisamos, primeiro, importá-la"
   ]
  },
  {
   "cell_type": "code",
   "execution_count": 91,
   "id": "e81e436b",
   "metadata": {},
   "outputs": [],
   "source": [
    "import matplotlib.pyplot as plt \n",
    "import numpy as np "
   ]
  },
  {
   "cell_type": "markdown",
   "id": "c7a32f84",
   "metadata": {},
   "source": [
    "O **matplotlib.pyplot** é uma coleção de funções de estilo de comando que fazem matplotlib funcionar parecido com o MATLAB. Cada função de pyplot faz alguma alteração em uma figura: por exemplo, cria uma figura, cria uma área de plotagem em uma figura, plota algumas linhas em uma área de plotagem, decora a plotagem com rótulos, etc. \\\\"
   ]
  },
  {
   "cell_type": "markdown",
   "id": "47be275a",
   "metadata": {},
   "source": [
    "### Lição 2: Gráfico de curvas"
   ]
  },
  {
   "cell_type": "markdown",
   "id": "84629b6d",
   "metadata": {},
   "source": [
    "No módulo anterior visualizamos, rápidamente, o gráfico do ajuste de curvas que fizemos. Nele, usamos o método **.plot()** do matplotlib. O comando plot gera um gráfico de curvas y versus x. "
   ]
  },
  {
   "cell_type": "markdown",
   "id": "47ce8f54",
   "metadata": {},
   "source": [
    "No módulo anterior vimos:"
   ]
  },
  {
   "cell_type": "code",
   "execution_count": 66,
   "id": "aa9a7de8",
   "metadata": {},
   "outputs": [],
   "source": [
    "x = np.array([25, 50, 75, 100]) # quantidade  de tecidos\n",
    "y = np.array([120, 138, 197, 240]) # valores(preço) dos tecidos \n",
    "x_ = np.linspace(x.min(), x.max(), 200) # espaço linear do min valor de x até o mmaximo de 200\n",
    "c1 = np.polyfit(x, y, 1) #ajuste das cursas de primeiro grau\n",
    "c2 = np.polyfit(x, y, 2) # ajuste das cursas de segundo grau \n",
    "p1 = np.poly1d(c1) #polinommio do ajuste da curva 1\n",
    "p2 = np.poly1d(c2) #polinomio do ajuste da curva 2"
   ]
  },
  {
   "cell_type": "markdown",
   "id": "702fd1bd",
   "metadata": {},
   "source": [
    "Se tivermos duas informações X e Y podemos demonstrá-las no grafico da seguinte forma: "
   ]
  },
  {
   "cell_type": "code",
   "execution_count": 67,
   "id": "886426e7",
   "metadata": {},
   "outputs": [
    {
     "data": {
      "text/plain": [
       "[<matplotlib.lines.Line2D at 0x29a3197ec70>]"
      ]
     },
     "execution_count": 67,
     "metadata": {},
     "output_type": "execute_result"
    },
    {
     "data": {
      "image/png": "[encoded data removed]",
      "text/plain": [
       "<Figure size 432x288 with 1 Axes>"
      ]
     },
     "metadata": {
      "needs_background": "light"
     },
     "output_type": "display_data"
    }
   ],
   "source": [
    "plt.plot(x,y)"
   ]
  },
  {
   "cell_type": "markdown",
   "id": "15f84d39",
   "metadata": {},
   "source": [
    "Podemos perceber que é um gráfico bem normal e simplista. Vamos mudar algumas coisas para conseguirmos entender melhor o que está representado do gráfico."
   ]
  },
  {
   "cell_type": "markdown",
   "id": "0b142ba4",
   "metadata": {},
   "source": [
    "Vamos ver como podemos melhorar o gráfico que fizemos no módulo anterior"
   ]
  },
  {
   "cell_type": "code",
   "execution_count": 68,
   "id": "2a7a3195",
   "metadata": {},
   "outputs": [
    {
     "data": {
      "text/plain": [
       "[<matplotlib.lines.Line2D at 0x29a31974880>]"
      ]
     },
     "execution_count": 68,
     "metadata": {},
     "output_type": "execute_result"
    },
    {
     "data": {
      "image/png": "[encoded data removed]",
      "text/plain": [
       "<Figure size 432x288 with 1 Axes>"
      ]
     },
     "metadata": {
      "needs_background": "light"
     },
     "output_type": "display_data"
    }
   ],
   "source": [
    "plt.plot(x_, p1(x_))"
   ]
  },
  {
   "cell_type": "code",
   "execution_count": 69,
   "id": "6d275c9d",
   "metadata": {},
   "outputs": [
    {
     "data": {
      "text/plain": [
       "[<matplotlib.lines.Line2D at 0x29a316c6c40>]"
      ]
     },
     "execution_count": 69,
     "metadata": {},
     "output_type": "execute_result"
    },
    {
     "data": {
      "image/png": "[encoded data removed]",
      "text/plain": [
       "<Figure size 432x288 with 1 Axes>"
      ]
     },
     "metadata": {
      "needs_background": "light"
     },
     "output_type": "display_data"
    }
   ],
   "source": [
    "plt.plot(x_, p1(x_)) # linha azul\n",
    "plt.plot(x_,p2(x_)) # linha vermelha\n",
    "plt.plot(x,y,\".\") # o '.' significa que os valores vai ser representados por pontos e não uma reta\n",
    "\n",
    "# obs: se tirar o '.', ficamos então com uma reta "
   ]
  },
  {
   "cell_type": "code",
   "execution_count": 70,
   "id": "ce099ba6",
   "metadata": {},
   "outputs": [
    {
     "data": {
      "text/plain": [
       "<matplotlib.legend.Legend at 0x29a316c6e20>"
      ]
     },
     "execution_count": 70,
     "metadata": {},
     "output_type": "execute_result"
    },
    {
     "data": {
      "image/png": "[encoded data removed]",
      "text/plain": [
       "<Figure size 432x288 with 1 Axes>"
      ]
     },
     "metadata": {
      "needs_background": "light"
     },
     "output_type": "display_data"
    }
   ],
   "source": [
    "plt.plot(x_, p1(x_), label=\"Linear\") # linha azul\n",
    "plt.plot(x_,p2(x_), label = \"Quadratica\") # linha vermelha\n",
    "plt.plot(x,y,\".\", label = \"Pontos reais\") # o '.' significa que os valores vai ser representados por pontos e não uma reta\n",
    "plt.legend() # leganda vai para o lugar automatico \n",
    "# obs: se tirar o '.', ficamos então com uma reta \n",
    "#comandos: label informação que vai na legenda \n",
    "# e plt.legend para que mostre a legenda no gráfico \n",
    "# caso contrario a legenda ñ é a tribuida no gráfico "
   ]
  },
  {
   "cell_type": "code",
   "execution_count": 71,
   "id": "068c50f1",
   "metadata": {},
   "outputs": [
    {
     "data": {
      "image/png": "[encoded data removed]",
      "text/plain": [
       "<Figure size 432x288 with 1 Axes>"
      ]
     },
     "metadata": {
      "needs_background": "light"
     },
     "output_type": "display_data"
    }
   ],
   "source": [
    "# adicionando mais informações ao gráfico \n",
    "plt.plot(x_, p1(x_), label=\"Linear\", linewidth = 3,color = \"g\") \n",
    "plt.plot(x_,p2(x_), label = \"Quadratica\",linewidth = 3, color = \"#FA6F0B\") \n",
    "plt.plot(x,y,\".\", label = \"Pontos reais\", color = \"r\", markersize = 13) \n",
    "plt.legend() # leganda vai para o lugar automatico \n",
    "plt.ylabel(\"Preço das blusas\")\n",
    "plt.xlabel(\"Quantidade de tecidos\")\n",
    "plt.title(\"Preço das blusas vs tecidos\")\n",
    "plt.grid() #coloca linhas de grade \n",
    "\n",
    "\n",
    "# linewidth expesura da linha no gráfico \n",
    "# color cor da linha\n",
    "# markersize é a cor do pontinho  \n",
    "# plt.xlabel é legenda do eixo x\n",
    "# plt.ylabel é legenda do eixo y\n",
    "# plt.title é o titulo  "
   ]
  },
  {
   "cell_type": "code",
   "execution_count": 72,
   "id": "a7dca842",
   "metadata": {},
   "outputs": [
    {
     "data": {
      "text/plain": [
       "<matplotlib.legend.Legend at 0x29a31825100>"
      ]
     },
     "execution_count": 72,
     "metadata": {},
     "output_type": "execute_result"
    },
    {
     "data": {
      "image/png": "[encoded data removed]",
      "text/plain": [
       "<Figure size 432x288 with 1 Axes>"
      ]
     },
     "metadata": {
      "needs_background": "light"
     },
     "output_type": "display_data"
    }
   ],
   "source": [
    "# adicionando mais informações ao gráfico \n",
    "plt.plot(x_, p1(x_), label=\"Linear\", linewidth = 3,color = \"g\") \n",
    "plt.plot(x_,p2(x_), label = \"Quadratica\",linewidth = 3, color = \"#FA6F0B\") \n",
    "plt.plot(x,y,\".\", label = \"Pontos reais\", color = \"r\", markersize = 13) \n",
    "\n",
    "plt.ylabel(\"Preço das blusas\")\n",
    "plt.xlabel(\"Quantidade de tecidos\")\n",
    "plt.title(\"Preço das blusas vs tecidos\")\n",
    "plt.grid() #coloca linhas de grade \n",
    "\n",
    "plt.legend(loc=\"lower left\") #a leganda vai pra baixo \n",
    "#poderia usar loc=0 ele escolher o melhor lugar \n",
    "\n",
    "# linewidth expesura da linha no gráfico \n",
    "# color cor da linha\n",
    "# markersize é a cor do pontinho  \n",
    "# plt.xlabel é legenda do eixo x\n",
    "# plt.ylabel é legenda do eixo y\n",
    "# plt.title é o titulo  "
   ]
  },
  {
   "cell_type": "code",
   "execution_count": 73,
   "id": "6391c37b",
   "metadata": {},
   "outputs": [
    {
     "data": {
      "image/png": "[encoded data removed]",
      "text/plain": [
       "<Figure size 720x432 with 1 Axes>"
      ]
     },
     "metadata": {
      "needs_background": "light"
     },
     "output_type": "display_data"
    }
   ],
   "source": [
    "# adicionando mais informações ao gráfico \n",
    "plt.figure(figsize = (10,6)) #\n",
    "\n",
    "plt.plot(x_, p1(x_), label=\"Linear\", linewidth = 3,color = \"g\") \n",
    "plt.plot(x_,p2(x_), label = \"Quadratica\",linewidth = 3, color = \"#FA6F0B\") \n",
    "plt.plot(x,y,\".\", label = \"Pontos reais\", color = \"r\", markersize = 13) \n",
    "\n",
    "plt.ylabel(\"Preço das blusas\")\n",
    "plt.xlabel(\"Quantidade de tecidos\")\n",
    "plt.title(\"Preço das blusas vs tecidos\")\n",
    "plt.grid() #coloca linhas de grade \n",
    "\n",
    "plt.legend(loc=\"best\") #a leganda vai pra baixo usando loc=\"lower left\"\n",
    "#poderia usar loc=0 ele escolher o melhor lugar \n",
    "\n",
    "plt.savefig(\"Meu_primeiro_Gráfico.png\")\n",
    "\n",
    "plt.show()\n",
    "\n",
    "# plt.figure dimensão do gráfico, precisa está na primeira linha de codigo\n",
    "# linewidth expesura da linha no gráfico \n",
    "# color cor da linha\n",
    "# markersize é a cor do pontinho  \n",
    "# plt.xlabel é legenda do eixo x\n",
    "# plt.ylabel é legenda do eixo y\n",
    "# plt.title é o titulo  \n",
    "# plt.savefig para salvar a imagem do gráfico no diretorio \n",
    "# plt.show() força que motre todas as informções \n"
   ]
  },
  {
   "cell_type": "markdown",
   "id": "ae9d55cb",
   "metadata": {},
   "source": [
    "* As cores mais usadas do Matplotlib podem ser encontradas \n",
    "[neste link](https://matplotlib.org/3.1.0/gallery/color/named_colors.html). Se quisermos uma cor diferente, podemos pegar o código Hexadecimal da cor e passar como parâmetro\n",
    "\n",
    "* Os marcadores possíveis podem ser vistos [aqui](https://matplotlib.org/api/markers_api.html)\n",
    "\n",
    "* Podemos usar diversos sites para gerarmos os códigos *hexadecimais* qe desejamos, como o site da [adobe](https://color.adobe.com/pt/create/color-wheel)\n"
   ]
  },
  {
   "cell_type": "markdown",
   "id": "5721adf0",
   "metadata": {},
   "source": [
    "### Lição 3: Gráfico de barras"
   ]
  },
  {
   "cell_type": "markdown",
   "id": "2e5e8196",
   "metadata": {},
   "source": [
    "O gráfico de barras é uma forma resumida de juntar e representar dados categóricos através de barras retangulares com pesos ou alturas proporcionais ao dados que representam. Em outras palavras, os gráficos de barras são bons se desejamos apresentar os dados de diferentes grupos que estão sendo comparados entre si."
   ]
  },
  {
   "cell_type": "markdown",
   "id": "d8e2d9de",
   "metadata": {},
   "source": [
    "Para vermos o funcionamento dos demais gráficos do módulo vamos usar uma base de dados bastante conhecida: **o conjunto de dados das flores Iris**. Esses dados contém 4 características (*features*) de 50 amostras de 3 espécies da flor Iris (Iris setosa, Iris virginica and Iris versicolor )"
   ]
  },
  {
   "cell_type": "markdown",
   "id": "b8d73c25",
   "metadata": {},
   "source": [
    "| Sepal length  | Sepal width | Petal length | Petal width | Variety |\n",
    "|---------------|-------------|--------------|-------------|---------|\n",
    "|               |             |              |             |         |"
   ]
  },
  {
   "cell_type": "code",
   "execution_count": 74,
   "id": "44f88d76",
   "metadata": {},
   "outputs": [],
   "source": [
    "import csv"
   ]
  },
  {
   "cell_type": "code",
   "execution_count": 76,
   "id": "35d49aeb",
   "metadata": {},
   "outputs": [
    {
     "name": "stdout",
     "output_type": "stream",
     "text": [
      "['sepal.length' 'sepal.width' 'petal.length' 'petal.width' 'variety']\n",
      "[['5.1' '3.5' '1.4' '.2' 'Setosa']\n",
      " ['4.9' '3' '1.4' '.2' 'Setosa']\n",
      " ['4.7' '3.2' '1.3' '.2' 'Setosa']\n",
      " ['4.6' '3.1' '1.5' '.2' 'Setosa']\n",
      " ['5' '3.6' '1.4' '.2' 'Setosa']\n",
      " ['5.4' '3.9' '1.7' '.4' 'Setosa']\n",
      " ['4.6' '3.4' '1.4' '.3' 'Setosa']\n",
      " ['5' '3.4' '1.5' '.2' 'Setosa']\n",
      " ['4.4' '2.9' '1.4' '.2' 'Setosa']\n",
      " ['4.9' '3.1' '1.5' '.1' 'Setosa']\n",
      " ['5.4' '3.7' '1.5' '.2' 'Setosa']\n",
      " ['4.8' '3.4' '1.6' '.2' 'Setosa']\n",
      " ['4.8' '3' '1.4' '.1' 'Setosa']\n",
      " ['4.3' '3' '1.1' '.1' 'Setosa']\n",
      " ['5.8' '4' '1.2' '.2' 'Setosa']\n",
      " ['5.7' '4.4' '1.5' '.4' 'Setosa']\n",
      " ['5.4' '3.9' '1.3' '.4' 'Setosa']\n",
      " ['5.1' '3.5' '1.4' '.3' 'Setosa']\n",
      " ['5.7' '3.8' '1.7' '.3' 'Setosa']\n",
      " ['5.1' '3.8' '1.5' '.3' 'Setosa']\n",
      " ['5.4' '3.4' '1.7' '.2' 'Setosa']\n",
      " ['5.1' '3.7' '1.5' '.4' 'Setosa']\n",
      " ['4.6' '3.6' '1' '.2' 'Setosa']\n",
      " ['5.1' '3.3' '1.7' '.5' 'Setosa']\n",
      " ['4.8' '3.4' '1.9' '.2' 'Setosa']\n",
      " ['5' '3' '1.6' '.2' 'Setosa']\n",
      " ['5' '3.4' '1.6' '.4' 'Setosa']\n",
      " ['5.2' '3.5' '1.5' '.2' 'Setosa']\n",
      " ['5.2' '3.4' '1.4' '.2' 'Setosa']\n",
      " ['4.7' '3.2' '1.6' '.2' 'Setosa']\n",
      " ['4.8' '3.1' '1.6' '.2' 'Setosa']\n",
      " ['5.4' '3.4' '1.5' '.4' 'Setosa']\n",
      " ['5.2' '4.1' '1.5' '.1' 'Setosa']\n",
      " ['5.5' '4.2' '1.4' '.2' 'Setosa']\n",
      " ['4.9' '3.1' '1.5' '.2' 'Setosa']\n",
      " ['5' '3.2' '1.2' '.2' 'Setosa']\n",
      " ['5.5' '3.5' '1.3' '.2' 'Setosa']\n",
      " ['4.9' '3.6' '1.4' '.1' 'Setosa']\n",
      " ['4.4' '3' '1.3' '.2' 'Setosa']\n",
      " ['5.1' '3.4' '1.5' '.2' 'Setosa']\n",
      " ['5' '3.5' '1.3' '.3' 'Setosa']\n",
      " ['4.5' '2.3' '1.3' '.3' 'Setosa']\n",
      " ['4.4' '3.2' '1.3' '.2' 'Setosa']\n",
      " ['5' '3.5' '1.6' '.6' 'Setosa']\n",
      " ['5.1' '3.8' '1.9' '.4' 'Setosa']\n",
      " ['4.8' '3' '1.4' '.3' 'Setosa']\n",
      " ['5.1' '3.8' '1.6' '.2' 'Setosa']\n",
      " ['4.6' '3.2' '1.4' '.2' 'Setosa']\n",
      " ['5.3' '3.7' '1.5' '.2' 'Setosa']\n",
      " ['5' '3.3' '1.4' '.2' 'Setosa']\n",
      " ['7' '3.2' '4.7' '1.4' 'Versicolor']\n",
      " ['6.4' '3.2' '4.5' '1.5' 'Versicolor']\n",
      " ['6.9' '3.1' '4.9' '1.5' 'Versicolor']\n",
      " ['5.5' '2.3' '4' '1.3' 'Versicolor']\n",
      " ['6.5' '2.8' '4.6' '1.5' 'Versicolor']\n",
      " ['5.7' '2.8' '4.5' '1.3' 'Versicolor']\n",
      " ['6.3' '3.3' '4.7' '1.6' 'Versicolor']\n",
      " ['4.9' '2.4' '3.3' '1' 'Versicolor']\n",
      " ['6.6' '2.9' '4.6' '1.3' 'Versicolor']\n",
      " ['5.2' '2.7' '3.9' '1.4' 'Versicolor']\n",
      " ['5' '2' '3.5' '1' 'Versicolor']\n",
      " ['5.9' '3' '4.2' '1.5' 'Versicolor']\n",
      " ['6' '2.2' '4' '1' 'Versicolor']\n",
      " ['6.1' '2.9' '4.7' '1.4' 'Versicolor']\n",
      " ['5.6' '2.9' '3.6' '1.3' 'Versicolor']\n",
      " ['6.7' '3.1' '4.4' '1.4' 'Versicolor']\n",
      " ['5.6' '3' '4.5' '1.5' 'Versicolor']\n",
      " ['5.8' '2.7' '4.1' '1' 'Versicolor']\n",
      " ['6.2' '2.2' '4.5' '1.5' 'Versicolor']\n",
      " ['5.6' '2.5' '3.9' '1.1' 'Versicolor']\n",
      " ['5.9' '3.2' '4.8' '1.8' 'Versicolor']\n",
      " ['6.1' '2.8' '4' '1.3' 'Versicolor']\n",
      " ['6.3' '2.5' '4.9' '1.5' 'Versicolor']\n",
      " ['6.1' '2.8' '4.7' '1.2' 'Versicolor']\n",
      " ['6.4' '2.9' '4.3' '1.3' 'Versicolor']\n",
      " ['6.6' '3' '4.4' '1.4' 'Versicolor']\n",
      " ['6.8' '2.8' '4.8' '1.4' 'Versicolor']\n",
      " ['6.7' '3' '5' '1.7' 'Versicolor']\n",
      " ['6' '2.9' '4.5' '1.5' 'Versicolor']\n",
      " ['5.7' '2.6' '3.5' '1' 'Versicolor']\n",
      " ['5.5' '2.4' '3.8' '1.1' 'Versicolor']\n",
      " ['5.5' '2.4' '3.7' '1' 'Versicolor']\n",
      " ['5.8' '2.7' '3.9' '1.2' 'Versicolor']\n",
      " ['6' '2.7' '5.1' '1.6' 'Versicolor']\n",
      " ['5.4' '3' '4.5' '1.5' 'Versicolor']\n",
      " ['6' '3.4' '4.5' '1.6' 'Versicolor']\n",
      " ['6.7' '3.1' '4.7' '1.5' 'Versicolor']\n",
      " ['6.3' '2.3' '4.4' '1.3' 'Versicolor']\n",
      " ['5.6' '3' '4.1' '1.3' 'Versicolor']\n",
      " ['5.5' '2.5' '4' '1.3' 'Versicolor']\n",
      " ['5.5' '2.6' '4.4' '1.2' 'Versicolor']\n",
      " ['6.1' '3' '4.6' '1.4' 'Versicolor']\n",
      " ['5.8' '2.6' '4' '1.2' 'Versicolor']\n",
      " ['5' '2.3' '3.3' '1' 'Versicolor']\n",
      " ['5.6' '2.7' '4.2' '1.3' 'Versicolor']\n",
      " ['5.7' '3' '4.2' '1.2' 'Versicolor']\n",
      " ['5.7' '2.9' '4.2' '1.3' 'Versicolor']\n",
      " ['6.2' '2.9' '4.3' '1.3' 'Versicolor']\n",
      " ['5.1' '2.5' '3' '1.1' 'Versicolor']\n",
      " ['5.7' '2.8' '4.1' '1.3' 'Versicolor']\n",
      " ['6.3' '3.3' '6' '2.5' 'Virginica']\n",
      " ['5.8' '2.7' '5.1' '1.9' 'Virginica']\n",
      " ['7.1' '3' '5.9' '2.1' 'Virginica']\n",
      " ['6.3' '2.9' '5.6' '1.8' 'Virginica']\n",
      " ['6.5' '3' '5.8' '2.2' 'Virginica']\n",
      " ['7.6' '3' '6.6' '2.1' 'Virginica']\n",
      " ['4.9' '2.5' '4.5' '1.7' 'Virginica']\n",
      " ['7.3' '2.9' '6.3' '1.8' 'Virginica']\n",
      " ['6.7' '2.5' '5.8' '1.8' 'Virginica']\n",
      " ['7.2' '3.6' '6.1' '2.5' 'Virginica']\n",
      " ['6.5' '3.2' '5.1' '2' 'Virginica']\n",
      " ['6.4' '2.7' '5.3' '1.9' 'Virginica']\n",
      " ['6.8' '3' '5.5' '2.1' 'Virginica']\n",
      " ['5.7' '2.5' '5' '2' 'Virginica']\n",
      " ['5.8' '2.8' '5.1' '2.4' 'Virginica']\n",
      " ['6.4' '3.2' '5.3' '2.3' 'Virginica']\n",
      " ['6.5' '3' '5.5' '1.8' 'Virginica']\n",
      " ['7.7' '3.8' '6.7' '2.2' 'Virginica']\n",
      " ['7.7' '2.6' '6.9' '2.3' 'Virginica']\n",
      " ['6' '2.2' '5' '1.5' 'Virginica']\n",
      " ['6.9' '3.2' '5.7' '2.3' 'Virginica']\n",
      " ['5.6' '2.8' '4.9' '2' 'Virginica']\n",
      " ['7.7' '2.8' '6.7' '2' 'Virginica']\n",
      " ['6.3' '2.7' '4.9' '1.8' 'Virginica']\n",
      " ['6.7' '3.3' '5.7' '2.1' 'Virginica']\n",
      " ['7.2' '3.2' '6' '1.8' 'Virginica']\n",
      " ['6.2' '2.8' '4.8' '1.8' 'Virginica']\n",
      " ['6.1' '3' '4.9' '1.8' 'Virginica']\n",
      " ['6.4' '2.8' '5.6' '2.1' 'Virginica']\n",
      " ['7.2' '3' '5.8' '1.6' 'Virginica']\n",
      " ['7.4' '2.8' '6.1' '1.9' 'Virginica']\n",
      " ['7.9' '3.8' '6.4' '2' 'Virginica']\n",
      " ['6.4' '2.8' '5.6' '2.2' 'Virginica']\n",
      " ['6.3' '2.8' '5.1' '1.5' 'Virginica']\n",
      " ['6.1' '2.6' '5.6' '1.4' 'Virginica']\n",
      " ['7.7' '3' '6.1' '2.3' 'Virginica']\n",
      " ['6.3' '3.4' '5.6' '2.4' 'Virginica']\n",
      " ['6.4' '3.1' '5.5' '1.8' 'Virginica']\n",
      " ['6' '3' '4.8' '1.8' 'Virginica']\n",
      " ['6.9' '3.1' '5.4' '2.1' 'Virginica']\n",
      " ['6.7' '3.1' '5.6' '2.4' 'Virginica']\n",
      " ['6.9' '3.1' '5.1' '2.3' 'Virginica']\n",
      " ['5.8' '2.7' '5.1' '1.9' 'Virginica']\n",
      " ['6.8' '3.2' '5.9' '2.3' 'Virginica']\n",
      " ['6.7' '3.3' '5.7' '2.5' 'Virginica']\n",
      " ['6.7' '3' '5.2' '2.3' 'Virginica']\n",
      " ['6.3' '2.5' '5' '1.9' 'Virginica']\n",
      " ['6.5' '3' '5.2' '2' 'Virginica']\n",
      " ['6.2' '3.4' '5.4' '2.3' 'Virginica']\n",
      " ['5.9' '3' '5.1' '1.8' 'Virginica']]\n"
     ]
    }
   ],
   "source": [
    "with open(\"iris.csv\") as file:\n",
    "    dados = csv.reader(file, delimiter = ',')\n",
    "    dados = list(dados)\n",
    "    \n",
    "dados = np.array(dados) # lembrar de usar :import numpy as np\n",
    "colunas = dados[0,:]\n",
    "dados = dados[1:,:]\n",
    "\n",
    "print(colunas)\n",
    "print(dados)"
   ]
  },
  {
   "cell_type": "code",
   "execution_count": 77,
   "id": "9c405d49",
   "metadata": {},
   "outputs": [],
   "source": [
    "# separando as colunas individualmente e transformando para os tipos de colunas corretos \n",
    "sepal_legth = dados[:,0].astype(float) #informações da primeira coluna \n",
    "sepal_wistd = dados[:,1].astype(float)\n",
    "Petal_length = dados[:,2].astype(float)\n",
    "Petal_width = dados[:,3].astype(float)\n",
    "tipo = dados[:,4] #ñ precisa transformar por os elmentos são caractere mesmo \n"
   ]
  },
  {
   "cell_type": "code",
   "execution_count": 78,
   "id": "96126e71",
   "metadata": {},
   "outputs": [
    {
     "data": {
      "text/plain": [
       "Counter({'Setosa': 50, 'Versicolor': 50, 'Virginica': 50})"
      ]
     },
     "execution_count": 78,
     "metadata": {},
     "output_type": "execute_result"
    }
   ],
   "source": [
    "import collections\n",
    "\n",
    "qtd = collections.Counter(tipo) \n",
    "qtd\n"
   ]
  },
  {
   "cell_type": "code",
   "execution_count": 79,
   "id": "b25722dc",
   "metadata": {},
   "outputs": [
    {
     "data": {
      "image/png": "[encoded data removed]",
      "text/plain": [
       "<Figure size 432x288 with 1 Axes>"
      ]
     },
     "metadata": {
      "needs_background": "light"
     },
     "output_type": "display_data"
    }
   ],
   "source": [
    "plt.bar(qtd.keys(), qtd.values())\n",
    "plt.ylabel =(\"Quantidade de uma especie\")\n",
    "plt.xlabel =(\"Especie\")\n",
    "plt.title (\"Especie de flor Iris\")\n",
    "plt.show()\n"
   ]
  },
  {
   "cell_type": "markdown",
   "id": "6fe370ab",
   "metadata": {},
   "source": [
    "Apesar de termos um gráfico visualmente bom, podemos melhorá-lo igual fizemos com o gráfico plot. Vejamos como."
   ]
  },
  {
   "cell_type": "code",
   "execution_count": 80,
   "id": "3ceded59",
   "metadata": {},
   "outputs": [
    {
     "data": {
      "text/plain": [
       "<BarContainer object of 3 artists>"
      ]
     },
     "execution_count": 80,
     "metadata": {},
     "output_type": "execute_result"
    },
    {
     "data": {
      "image/png": "[encoded data removed]",
      "text/plain": [
       "<Figure size 432x288 with 1 Axes>"
      ]
     },
     "metadata": {
      "needs_background": "light"
     },
     "output_type": "display_data"
    }
   ],
   "source": [
    "colors = ['#f1c40f', '#16a085', '#e67e22','#3498db']\n",
    "plt.bar(qtd.keys(), qtd.values(), color= colors)\n"
   ]
  },
  {
   "cell_type": "code",
   "execution_count": 81,
   "id": "94ebf26c",
   "metadata": {},
   "outputs": [
    {
     "data": {
      "image/png": "[encoded data removed]",
      "text/plain": [
       "<Figure size 432x288 with 1 Axes>"
      ]
     },
     "metadata": {
      "needs_background": "light"
     },
     "output_type": "display_data"
    }
   ],
   "source": [
    "# invertendo as barras para vertical \n",
    "\n",
    "colors = ['#f1c40f', '#16a085', '#e67e22','#3498db']\n",
    "plt.barh(list(qtd.keys()), qtd.values(), color= colors)\n",
    "plt.xlabel=(\"Quantidade de uma especie\")\n",
    "plt.ylabel=(\"Especie\")\n",
    "plt.title=(\"Especie de flor Iris\")\n",
    "plt.show()"
   ]
  },
  {
   "cell_type": "markdown",
   "id": "93e48343",
   "metadata": {},
   "source": [
    "### Lição 4: Histograma"
   ]
  },
  {
   "cell_type": "markdown",
   "id": "cfdaf7ef",
   "metadata": {},
   "source": [
    "O histograma, também conhecido como \"Diagrama de disperção de frequências, é uma das ferramentas que compõem a qualidade. \n",
    "\n",
    "Ele é basicamente uma representação gráfica, em colunas (retângulos), de um conjunto de dados previamente tabulados e divididos em classes uniformes. \n",
    "\n",
    "\n",
    "O histograma fornece um caminho para avaliar a distribuição dos dados e permite verificar o comportamento de um processo em relação a sua especificação\n",
    "\n",
    "Leia mais sobre histogramas em [nosso blog](https://www.voitto.com.br/blog/artigo/o-que-e-um-histograma)"
   ]
  },
  {
   "cell_type": "markdown",
   "id": "fa548bc0",
   "metadata": {},
   "source": [
    "![](https://lh4.googleusercontent.com/NzekatDWsWVZ2zaOppWJmNIoo0P_qr5SGht24ijutDYU6EZiNoOdIa2HenrAG-y0Sj853XTAciNWP9j3TisqmwufjVWCOid6_f3LQ3ONi_WqxM25eGRMxmBxcK9OEWX2Eg70rj0e)"
   ]
  },
  {
   "cell_type": "markdown",
   "id": "87f9fdc9",
   "metadata": {},
   "source": [
    "Para entendermos como podemos usar essa ferramenta no Python vamos ter uma ajuda do Numpy. No módulo 5 mostramos como podemos criar um array aleatório com o  método *random()*. \n",
    "\n",
    "Com o random podemos criar arrays que seguem uma distribuição normal:"
   ]
  },
  {
   "cell_type": "code",
   "execution_count": 82,
   "id": "311e0c47",
   "metadata": {},
   "outputs": [
    {
     "data": {
      "text/plain": [
       "array([-0.09258991, -0.28098485,  1.15076739, -1.2674455 , -0.06756363,\n",
       "        0.44484352,  0.99272728, -0.09775054, -0.54162378,  0.65578603,\n",
       "        0.02340262, -0.22321864,  0.1619209 , -0.28178111, -0.49210796,\n",
       "       -1.79910113, -1.52937499,  1.68623143,  0.42306542, -0.63904392,\n",
       "       -0.47716256, -1.96010001, -0.62961363,  1.0390032 ,  0.25048741,\n",
       "        1.9489787 ,  1.01509577, -0.63024155,  0.81063939,  0.36412454,\n",
       "       -0.92893582, -1.04561069,  0.03810157, -0.01714145,  0.96512253,\n",
       "       -0.80108673,  0.66780305,  1.26933601,  0.26371358, -0.62243486,\n",
       "        1.14967157,  0.27342539, -0.19506761, -0.63455664, -1.52147917,\n",
       "        0.33158971,  0.95047326,  1.24898988,  1.12263215, -0.20961298,\n",
       "       -1.75417425,  0.87635878,  0.19646494, -3.15018437, -0.27710725,\n",
       "       -0.67022232,  1.60111988, -0.99600797,  1.59995009,  0.3154759 ,\n",
       "       -0.49229541, -1.7965827 ,  0.69767745,  0.28865261, -0.10570371,\n",
       "        1.98595025,  0.46262687,  0.01234235,  0.01313278,  0.39977955,\n",
       "        1.35925608,  1.77043407,  0.79189952, -1.05799969,  0.91025234,\n",
       "       -0.61064009,  1.14220968,  1.86691577, -1.64704414,  1.3536872 ,\n",
       "        1.57522252,  1.21595583,  0.10827927,  0.47983511,  0.77827067,\n",
       "       -0.31739691, -1.25127146, -1.60264836, -0.76896725, -0.63049228,\n",
       "       -0.06988133, -1.75638094,  0.49615276,  0.48122014,  1.73596399,\n",
       "        0.06101802,  0.82442952,  1.80744687,  1.2647498 ,  2.36597107])"
      ]
     },
     "execution_count": 82,
     "metadata": {},
     "output_type": "execute_result"
    }
   ],
   "source": [
    "normal = np.random.normal(size=100)\n",
    "normal\n",
    "\n"
   ]
  },
  {
   "cell_type": "code",
   "execution_count": 83,
   "id": "d89a9205",
   "metadata": {},
   "outputs": [],
   "source": [
    "normal2 = np.random.normal(size=100)"
   ]
  },
  {
   "cell_type": "markdown",
   "id": "2445acb5",
   "metadata": {},
   "source": [
    "Para plotar o histograma usamos o método *.hist()*"
   ]
  },
  {
   "cell_type": "code",
   "execution_count": 84,
   "id": "e0facc01",
   "metadata": {},
   "outputs": [
    {
     "data": {
      "image/png": "[encoded data removed]",
      "text/plain": [
       "<Figure size 432x288 with 1 Axes>"
      ]
     },
     "metadata": {
      "needs_background": "light"
     },
     "output_type": "display_data"
    }
   ],
   "source": [
    "plt.hist(normal, color = \"b\", alpha=0.5)\n",
    "plt.hist(normal2, color= \"r\",alpha=0.5)\n",
    "plt.show()"
   ]
  },
  {
   "cell_type": "code",
   "execution_count": 85,
   "id": "b3cdbec2",
   "metadata": {},
   "outputs": [
    {
     "data": {
      "image/png": "[encoded data removed]",
      "text/plain": [
       "<Figure size 432x288 with 1 Axes>"
      ]
     },
     "metadata": {
      "needs_background": "light"
     },
     "output_type": "display_data"
    }
   ],
   "source": [
    "plt.hist(normal, color = \"b\", alpha=0.5, label = 'Normal')\n",
    "plt.hist(normal2, color= \"r\",alpha=0.5, label = 'Normal')\n",
    "plt.legend()\n",
    "plt.show()"
   ]
  },
  {
   "cell_type": "code",
   "execution_count": 95,
   "id": "46629a15",
   "metadata": {},
   "outputs": [
    {
     "ename": "TypeError",
     "evalue": "'str' object is not callable",
     "output_type": "error",
     "traceback": [
      "\u001b[1;31m---------------------------------------------------------------------------\u001b[0m",
      "\u001b[1;31mTypeError\u001b[0m                                 Traceback (most recent call last)",
      "\u001b[1;32m~\\AppData\\Local\\Temp/ipykernel_11688/2221712685.py\u001b[0m in \u001b[0;36m<module>\u001b[1;34m\u001b[0m\n\u001b[0;32m      3\u001b[0m \u001b[0mplt\u001b[0m\u001b[1;33m.\u001b[0m\u001b[0mhist\u001b[0m\u001b[1;33m(\u001b[0m\u001b[0mnormal\u001b[0m\u001b[1;33m,\u001b[0m \u001b[0mcolor\u001b[0m \u001b[1;33m=\u001b[0m \u001b[1;34m\"b\"\u001b[0m\u001b[1;33m,\u001b[0m \u001b[0malpha\u001b[0m\u001b[1;33m=\u001b[0m\u001b[1;36m0.5\u001b[0m\u001b[1;33m,\u001b[0m \u001b[0mlabel\u001b[0m \u001b[1;33m=\u001b[0m \u001b[1;34m'Normal'\u001b[0m\u001b[1;33m)\u001b[0m\u001b[1;33m\u001b[0m\u001b[1;33m\u001b[0m\u001b[0m\n\u001b[0;32m      4\u001b[0m \u001b[0mplt\u001b[0m\u001b[1;33m.\u001b[0m\u001b[0mhist\u001b[0m\u001b[1;33m(\u001b[0m\u001b[0mnormal2\u001b[0m\u001b[1;33m,\u001b[0m \u001b[0mcolor\u001b[0m\u001b[1;33m=\u001b[0m \u001b[1;34m\"r\"\u001b[0m\u001b[1;33m,\u001b[0m\u001b[0malpha\u001b[0m\u001b[1;33m=\u001b[0m\u001b[1;36m0.5\u001b[0m\u001b[1;33m,\u001b[0m \u001b[0mlabel\u001b[0m \u001b[1;33m=\u001b[0m \u001b[1;34m'Normal'\u001b[0m\u001b[1;33m)\u001b[0m\u001b[1;33m\u001b[0m\u001b[1;33m\u001b[0m\u001b[0m\n\u001b[1;32m----> 5\u001b[1;33m \u001b[0mplt\u001b[0m\u001b[1;33m.\u001b[0m\u001b[0mxlabel\u001b[0m\u001b[1;33m(\u001b[0m\u001b[1;34m\"Números\"\u001b[0m\u001b[1;33m,\u001b[0m \u001b[0mfontsize\u001b[0m \u001b[1;33m=\u001b[0m \u001b[1;36m16\u001b[0m\u001b[1;33m)\u001b[0m\u001b[1;33m\u001b[0m\u001b[1;33m\u001b[0m\u001b[0m\n\u001b[0m\u001b[0;32m      6\u001b[0m \u001b[0mplt\u001b[0m\u001b[1;33m.\u001b[0m\u001b[0mylabel\u001b[0m\u001b[1;33m(\u001b[0m\u001b[1;34m\"Frequência\"\u001b[0m\u001b[1;33m,\u001b[0m\u001b[0mfontsize\u001b[0m \u001b[1;33m=\u001b[0m \u001b[1;36m16\u001b[0m\u001b[1;33m)\u001b[0m  \u001b[1;31m#fontsize tamanho da fonte da letra\u001b[0m\u001b[1;33m\u001b[0m\u001b[1;33m\u001b[0m\u001b[0m\n\u001b[0;32m      7\u001b[0m \u001b[0mplt\u001b[0m\u001b[1;33m.\u001b[0m\u001b[0mtitle\u001b[0m\u001b[1;33m(\u001b[0m\u001b[1;34m\"histograma\"\u001b[0m\u001b[1;33m,\u001b[0m\u001b[0mfontsize\u001b[0m \u001b[1;33m=\u001b[0m \u001b[1;36m20\u001b[0m\u001b[1;33m)\u001b[0m\u001b[1;33m\u001b[0m\u001b[1;33m\u001b[0m\u001b[0m\n",
      "\u001b[1;31mTypeError\u001b[0m: 'str' object is not callable"
     ]
    },
    {
     "data": {
      "image/png": "[encoded data removed]",
      "text/plain": [
       "<Figure size 720x432 with 1 Axes>"
      ]
     },
     "metadata": {
      "needs_background": "light"
     },
     "output_type": "display_data"
    }
   ],
   "source": [
    "plt.figure(figsize = (10,6))\n",
    "\n",
    "plt.hist(normal, color = \"b\", alpha=0.5, label = 'Normal')\n",
    "plt.hist(normal2, color= \"r\",alpha=0.5, label = 'Normal')\n",
    "plt.xlabel(\"Números\", fontsize = 16)\n",
    "plt.ylabel(\"Frequência\",fontsize = 16)  #fontsize tamanho da fonte da letra\n",
    "plt.title(\"histograma\",fontsize = 20)\n",
    "plt.legend(fontsize = 12)\n",
    "plt.xticks(fontsize = 10)\n",
    "plt.yticks(fontsize = 10)\n",
    "plt.show()"
   ]
  },
  {
   "cell_type": "markdown",
   "id": "f6ece88d",
   "metadata": {},
   "source": [
    "O método hist possui parâmetros interessantes para montarmos nosso gráfico. Aqui, vamos abordar apenas os que achamos interessantes, para saber mais acesse a [documentação oficial](https://matplotlib.org/api/_as_gen/matplotlib.pyplot.hist.html)\n",
    "\n",
    "**Bins**: esse parâmetro define o tamanho de cada \"caixa\" do nosso histograma. Ele definirá o número de caixas de largura igual no intervalo, ou sequências.\n",
    "\n",
    "**Density**: esse parâmetro recebe como valor uma variável booleana (True ou False). Se verdadeira retornará uma densidade de probabilidade, ou seja, cada caixa exibirá a contagem bruta caixa dividida pelo número total de contagens"
   ]
  },
  {
   "cell_type": "code",
   "execution_count": 94,
   "id": "b53a8397",
   "metadata": {},
   "outputs": [
    {
     "ename": "TypeError",
     "evalue": "'str' object is not callable",
     "output_type": "error",
     "traceback": [
      "\u001b[1;31m---------------------------------------------------------------------------\u001b[0m",
      "\u001b[1;31mTypeError\u001b[0m                                 Traceback (most recent call last)",
      "\u001b[1;32m~\\AppData\\Local\\Temp/ipykernel_11688/3572084647.py\u001b[0m in \u001b[0;36m<module>\u001b[1;34m\u001b[0m\n\u001b[0;32m      3\u001b[0m                               bins=20, color = 'deepskyblue', density = True)\n\u001b[0;32m      4\u001b[0m \u001b[0mplt\u001b[0m\u001b[1;33m.\u001b[0m\u001b[0mlegend\u001b[0m\u001b[1;33m(\u001b[0m\u001b[1;33m)\u001b[0m\u001b[1;33m\u001b[0m\u001b[1;33m\u001b[0m\u001b[0m\n\u001b[1;32m----> 5\u001b[1;33m \u001b[0mplt\u001b[0m\u001b[1;33m.\u001b[0m\u001b[0mtitle\u001b[0m\u001b[1;33m(\u001b[0m\u001b[1;34m\"Histograma\"\u001b[0m\u001b[1;33m)\u001b[0m\u001b[1;33m\u001b[0m\u001b[1;33m\u001b[0m\u001b[0m\n\u001b[0m\u001b[0;32m      6\u001b[0m \u001b[0mplt\u001b[0m\u001b[1;33m.\u001b[0m\u001b[0mxlabel\u001b[0m\u001b[1;33m(\u001b[0m\u001b[1;34m'números'\u001b[0m\u001b[1;33m)\u001b[0m\u001b[1;33m\u001b[0m\u001b[1;33m\u001b[0m\u001b[0m\n\u001b[0;32m      7\u001b[0m \u001b[0mplt\u001b[0m\u001b[1;33m.\u001b[0m\u001b[0mylabel\u001b[0m\u001b[1;33m(\u001b[0m\u001b[1;34m'Frequência'\u001b[0m\u001b[1;33m)\u001b[0m\u001b[1;33m\u001b[0m\u001b[1;33m\u001b[0m\u001b[0m\n",
      "\u001b[1;31mTypeError\u001b[0m: 'str' object is not callable"
     ]
    },
    {
     "data": {
      "image/png": "[encoded data removed]",
      "text/plain": [
       "<Figure size 720x432 with 1 Axes>"
      ]
     },
     "metadata": {
      "needs_background": "light"
     },
     "output_type": "display_data"
    }
   ],
   "source": [
    "plt.figure(figsize=(10,6))\n",
    "n, caixas, trechos = plt.hist(normal2, label =\"normal\", ec=\"black\", \n",
    "                              bins=20, color = 'deepskyblue', density = True)\n",
    "plt.legend()\n",
    "plt.title(\"Histograma\")\n",
    "plt.title(\"Histograma\")\n",
    "plt.xlabel('números')\n",
    "plt.ylabel('Frequência')\n",
    "\n",
    "trechos[5].set_fc(\"gold\") # patches \n",
    "trechos[6].set_hatch(\"//\")\n",
    "\n",
    "plt.show()"
   ]
  },
  {
   "cell_type": "markdown",
   "id": "0837e14c",
   "metadata": {},
   "source": [
    "Para saber mais sobre os Patches, veja a [documentação oficial](https://matplotlib.org/3.1.1/api/_as_gen/matplotlib.patches.Patch.html)"
   ]
  },
  {
   "cell_type": "markdown",
   "id": "71350164",
   "metadata": {},
   "source": [
    "Uma parte interessante dos histogramas é que eles costumam seguir o padrão de uma normal. Para vermos como plotar a normal juntmente com o histograma vamos usar o módulo **stats** da biblioteca *Scipy*"
   ]
  },
  {
   "cell_type": "code",
   "execution_count": 96,
   "id": "8eddcf6c",
   "metadata": {},
   "outputs": [],
   "source": [
    "from scipy import stats"
   ]
  },
  {
   "cell_type": "code",
   "execution_count": 100,
   "id": "75521eb9",
   "metadata": {},
   "outputs": [
    {
     "ename": "TypeError",
     "evalue": "'str' object is not callable",
     "output_type": "error",
     "traceback": [
      "\u001b[1;31m---------------------------------------------------------------------------\u001b[0m",
      "\u001b[1;31mTypeError\u001b[0m                                 Traceback (most recent call last)",
      "\u001b[1;32m~\\AppData\\Local\\Temp/ipykernel_11688/635436253.py\u001b[0m in \u001b[0;36m<module>\u001b[1;34m\u001b[0m\n\u001b[0;32m     11\u001b[0m \u001b[1;33m\u001b[0m\u001b[0m\n\u001b[0;32m     12\u001b[0m \u001b[0mplt\u001b[0m\u001b[1;33m.\u001b[0m\u001b[0mlegend\u001b[0m\u001b[1;33m(\u001b[0m\u001b[1;33m)\u001b[0m\u001b[1;33m\u001b[0m\u001b[1;33m\u001b[0m\u001b[0m\n\u001b[1;32m---> 13\u001b[1;33m \u001b[0mplt\u001b[0m\u001b[1;33m.\u001b[0m\u001b[0mtitle\u001b[0m\u001b[1;33m(\u001b[0m\u001b[1;34m\"Histograma\"\u001b[0m\u001b[1;33m)\u001b[0m\u001b[1;33m\u001b[0m\u001b[1;33m\u001b[0m\u001b[0m\n\u001b[0m\u001b[0;32m     14\u001b[0m \u001b[0mplt\u001b[0m\u001b[1;33m.\u001b[0m\u001b[0mxlabel\u001b[0m\u001b[1;33m(\u001b[0m\u001b[1;34m'números'\u001b[0m\u001b[1;33m)\u001b[0m\u001b[1;33m\u001b[0m\u001b[1;33m\u001b[0m\u001b[0m\n\u001b[0;32m     15\u001b[0m \u001b[0mplt\u001b[0m\u001b[1;33m.\u001b[0m\u001b[0mylabel\u001b[0m\u001b[1;33m(\u001b[0m\u001b[1;34m'Frequência'\u001b[0m\u001b[1;33m)\u001b[0m\u001b[1;33m\u001b[0m\u001b[1;33m\u001b[0m\u001b[0m\n",
      "\u001b[1;31mTypeError\u001b[0m: 'str' object is not callable"
     ]
    },
    {
     "data": {
      "image/png": "[encoded data removed]",
      "text/plain": [
       "<Figure size 720x432 with 1 Axes>"
      ]
     },
     "metadata": {
      "needs_background": "light"
     },
     "output_type": "display_data"
    }
   ],
   "source": [
    "plt.figure(figsize=(10,6))\n",
    "n, caixas, trechos = plt.hist(normal2, label =\"normal\", ec=\"black\", \n",
    "                              bins=20, color = 'deepskyblue', density = True)\n",
    "\n",
    "#fazendo a curva da distribuição \n",
    "xmin, xmax =plt.xlim()\n",
    "x = np.linspace(xmin,xmax,100)\n",
    "norm = stats.norm.pdf(x, np.mean(normal2),np.std(normal2))     # distribuição normal com dois parametros, media e desvio padrão\n",
    "\n",
    "plt.plot(x,norm,\"-or\")\n",
    "\n",
    "plt.legend()\n",
    "plt.title(\"Histograma\")\n",
    "plt.xlabel('números')\n",
    "plt.ylabel('Frequência')\n",
    "plt.show()"
   ]
  },
  {
   "cell_type": "markdown",
   "id": "814b60f6",
   "metadata": {},
   "source": [
    "### Lição 5: Gráfico de pizza"
   ]
  },
  {
   "cell_type": "markdown",
   "id": "9c25094c",
   "metadata": {},
   "source": [
    "O gráfico de setores, ou gráfico circular, é comumente chamado de gráfico de pizza. \n",
    "Ele é um gráfico estatístico circular que pode exibir apenas uma série de dados, em que a área total do gráfico equivale a 100% dos dados fornecidos e a área dos pedaços representa a porcentagem de cada um em relação ao todo."
   ]
  },
  {
   "cell_type": "markdown",
   "id": "60e3bb45",
   "metadata": {},
   "source": [
    "Esse tipo de gráfico é muito utilizado  ​​em apresentações de negócios, como vendas, operações, resultados de pesquisas, recursos, etc., pois fornecem um resumo rápido."
   ]
  },
  {
   "cell_type": "markdown",
   "id": "87c180d5",
   "metadata": {},
   "source": [
    "Através do método *plt.pie()* precisamos passamos como parâmetro um array *x* com os valores de cada fatia. Vamos criar uma gráfico para representar a participação que cada uma das espécies da flor iris aprensentam na nossa base total"
   ]
  },
  {
   "cell_type": "code",
   "execution_count": 101,
   "id": "63478153",
   "metadata": {},
   "outputs": [
    {
     "data": {
      "text/plain": [
       "Counter({'Setosa': 50, 'Versicolor': 50, 'Virginica': 50})"
      ]
     },
     "execution_count": 101,
     "metadata": {},
     "output_type": "execute_result"
    }
   ],
   "source": [
    "qtd"
   ]
  },
  {
   "cell_type": "code",
   "execution_count": 102,
   "id": "6ccd51d3",
   "metadata": {},
   "outputs": [
    {
     "name": "stdout",
     "output_type": "stream",
     "text": [
      "[50, 50, 50]\n",
      "['Setosa', 'Versicolor', 'Virginica']\n"
     ]
    }
   ],
   "source": [
    "quantidade = qtd.values()\n",
    "quantidade = list(quantidade)\n",
    "\n",
    "chaves = qtd.keys()\n",
    "chaves = list(chaves)\n",
    "\n",
    "print(quantidade)\n",
    "print(chaves)"
   ]
  },
  {
   "cell_type": "code",
   "execution_count": 103,
   "id": "fdf16348",
   "metadata": {},
   "outputs": [
    {
     "data": {
      "image/png": "[encoded data removed]",
      "text/plain": [
       "<Figure size 432x288 with 1 Axes>"
      ]
     },
     "metadata": {},
     "output_type": "display_data"
    }
   ],
   "source": [
    "plt.pie(quantidade, labels = chaves) #gráfico de pizza\n",
    "plt.show()"
   ]
  },
  {
   "cell_type": "markdown",
   "id": "016a99f6",
   "metadata": {},
   "source": [
    "Assim como melhoramos os gráficos passados, podemos, também, melhorar nosso gráfico de pizza"
   ]
  },
  {
   "cell_type": "markdown",
   "id": "616645cd",
   "metadata": {},
   "source": [
    "Na célula abaixo, criamos um código para identificar qual a primeira maior ocorrência da quantidade de espécies para destacá-la em nosso gráfico."
   ]
  },
  {
   "cell_type": "code",
   "execution_count": 104,
   "id": "10bb6b9b",
   "metadata": {},
   "outputs": [
    {
     "name": "stdout",
     "output_type": "stream",
     "text": [
      "[0, 0, 0]\n",
      "[0.1, 0, 0]\n"
     ]
    }
   ],
   "source": [
    "index_max = quantidade.index(max(quantidade))\n",
    "\n",
    "explode = [0]*len(quantidade)\n",
    "print(explode)\n",
    "\n",
    "explode[index_max] = 0.1\n",
    "print(explode)"
   ]
  },
  {
   "cell_type": "code",
   "execution_count": 105,
   "id": "d26c2772",
   "metadata": {},
   "outputs": [
    {
     "data": {
      "image/png": "[encoded data removed]",
      "text/plain": [
       "<Figure size 432x288 with 1 Axes>"
      ]
     },
     "metadata": {},
     "output_type": "display_data"
    }
   ],
   "source": [
    "# vai dividir a variavel setosa no gráfico \n",
    "plt.pie(quantidade, labels = chaves, explode = explode)\n",
    "plt.show()"
   ]
  },
  {
   "cell_type": "code",
   "execution_count": 106,
   "id": "b002a83b",
   "metadata": {},
   "outputs": [
    {
     "data": {
      "image/png": "[encoded data removed]",
      "text/plain": [
       "<Figure size 432x288 with 1 Axes>"
      ]
     },
     "metadata": {},
     "output_type": "display_data"
    }
   ],
   "source": [
    "#acrescentando alguns comandos \n",
    "plt.pie(quantidade, labels = chaves, explode = explode, \n",
    "        autopct = '%1.1f%%', shadow = True)\n",
    "plt.show()\n",
    "\n",
    "#autopct:\n",
    "#coloca os valores refe. a cada pedaço da pizza .1f informa uma casa decimal\n",
    "# o primeiro (1).1f o q ta em parentes refere- se ao deslocamento na imagem \n",
    "\n",
    "# shadow = true\n",
    "#coloca sombra no gráfico "
   ]
  },
  {
   "cell_type": "markdown",
   "id": "d453a9e9",
   "metadata": {},
   "source": [
    "### Lição 6: Gráfico de dispersão"
   ]
  },
  {
   "cell_type": "markdown",
   "id": "67ab884d",
   "metadata": {},
   "source": [
    "O gráfico de dispersão, o diagrama de dispersão, é uma ferramenta muito útil para encontrar correlações entre os dados que temos. Nesse tipo de gráfico cada ponto dos nossos dados é representado por um ponto. \n",
    "\n",
    "Existem 3 tipos de correlação que podem ser identificadas com o gráfico de dispersão:\n",
    "\n",
    "1. Correlação positiva\n",
    "2. Correlação negativa\n",
    "3. Sem correlação"
   ]
  },
  {
   "cell_type": "markdown",
   "id": "81d095b7",
   "metadata": {},
   "source": [
    "![Tipos de correlação](https://drive.google.com/uc?export=view&id=1dK9ynKSwmvqer3A6ASLt_QzlFysYcdAT) \n",
    "\n"
   ]
  },
  {
   "cell_type": "markdown",
   "id": "05ee7fc4",
   "metadata": {},
   "source": [
    "Para ver mais detalhes sobre gráficos de dispersão leia [em nosso blog](https://www.voitto.com.br/blog/artigo/diagrama-de-dispersao)"
   ]
  },
  {
   "cell_type": "markdown",
   "id": "acd85ea9",
   "metadata": {},
   "source": [
    "Vamos ver se conseguimos achar alguma correlação entre as features que temos. Por exemplo, será que a \n",
    "largura sépala possui correlação com a largura da pétala? Se houver, essa correlação é positiva ou negativa?"
   ]
  },
  {
   "cell_type": "markdown",
   "id": "15098278",
   "metadata": {},
   "source": [
    "O método que usaremos para plotar o gráfico de dispersão é o *plt.scatter*."
   ]
  },
  {
   "cell_type": "code",
   "execution_count": 107,
   "id": "01d4c254",
   "metadata": {},
   "outputs": [
    {
     "name": "stdout",
     "output_type": "stream",
     "text": [
      "['sepal.length' 'sepal.width' 'petal.length' 'petal.width' 'variety']\n",
      "[['5.1' '3.5' '1.4' '.2' 'Setosa']\n",
      " ['4.9' '3' '1.4' '.2' 'Setosa']\n",
      " ['4.7' '3.2' '1.3' '.2' 'Setosa']\n",
      " ['4.6' '3.1' '1.5' '.2' 'Setosa']\n",
      " ['5' '3.6' '1.4' '.2' 'Setosa']\n",
      " ['5.4' '3.9' '1.7' '.4' 'Setosa']\n",
      " ['4.6' '3.4' '1.4' '.3' 'Setosa']\n",
      " ['5' '3.4' '1.5' '.2' 'Setosa']\n",
      " ['4.4' '2.9' '1.4' '.2' 'Setosa']\n",
      " ['4.9' '3.1' '1.5' '.1' 'Setosa']\n",
      " ['5.4' '3.7' '1.5' '.2' 'Setosa']\n",
      " ['4.8' '3.4' '1.6' '.2' 'Setosa']\n",
      " ['4.8' '3' '1.4' '.1' 'Setosa']\n",
      " ['4.3' '3' '1.1' '.1' 'Setosa']\n",
      " ['5.8' '4' '1.2' '.2' 'Setosa']\n",
      " ['5.7' '4.4' '1.5' '.4' 'Setosa']\n",
      " ['5.4' '3.9' '1.3' '.4' 'Setosa']\n",
      " ['5.1' '3.5' '1.4' '.3' 'Setosa']\n",
      " ['5.7' '3.8' '1.7' '.3' 'Setosa']\n",
      " ['5.1' '3.8' '1.5' '.3' 'Setosa']\n",
      " ['5.4' '3.4' '1.7' '.2' 'Setosa']\n",
      " ['5.1' '3.7' '1.5' '.4' 'Setosa']\n",
      " ['4.6' '3.6' '1' '.2' 'Setosa']\n",
      " ['5.1' '3.3' '1.7' '.5' 'Setosa']\n",
      " ['4.8' '3.4' '1.9' '.2' 'Setosa']\n",
      " ['5' '3' '1.6' '.2' 'Setosa']\n",
      " ['5' '3.4' '1.6' '.4' 'Setosa']\n",
      " ['5.2' '3.5' '1.5' '.2' 'Setosa']\n",
      " ['5.2' '3.4' '1.4' '.2' 'Setosa']\n",
      " ['4.7' '3.2' '1.6' '.2' 'Setosa']\n",
      " ['4.8' '3.1' '1.6' '.2' 'Setosa']\n",
      " ['5.4' '3.4' '1.5' '.4' 'Setosa']\n",
      " ['5.2' '4.1' '1.5' '.1' 'Setosa']\n",
      " ['5.5' '4.2' '1.4' '.2' 'Setosa']\n",
      " ['4.9' '3.1' '1.5' '.2' 'Setosa']\n",
      " ['5' '3.2' '1.2' '.2' 'Setosa']\n",
      " ['5.5' '3.5' '1.3' '.2' 'Setosa']\n",
      " ['4.9' '3.6' '1.4' '.1' 'Setosa']\n",
      " ['4.4' '3' '1.3' '.2' 'Setosa']\n",
      " ['5.1' '3.4' '1.5' '.2' 'Setosa']\n",
      " ['5' '3.5' '1.3' '.3' 'Setosa']\n",
      " ['4.5' '2.3' '1.3' '.3' 'Setosa']\n",
      " ['4.4' '3.2' '1.3' '.2' 'Setosa']\n",
      " ['5' '3.5' '1.6' '.6' 'Setosa']\n",
      " ['5.1' '3.8' '1.9' '.4' 'Setosa']\n",
      " ['4.8' '3' '1.4' '.3' 'Setosa']\n",
      " ['5.1' '3.8' '1.6' '.2' 'Setosa']\n",
      " ['4.6' '3.2' '1.4' '.2' 'Setosa']\n",
      " ['5.3' '3.7' '1.5' '.2' 'Setosa']\n",
      " ['5' '3.3' '1.4' '.2' 'Setosa']\n",
      " ['7' '3.2' '4.7' '1.4' 'Versicolor']\n",
      " ['6.4' '3.2' '4.5' '1.5' 'Versicolor']\n",
      " ['6.9' '3.1' '4.9' '1.5' 'Versicolor']\n",
      " ['5.5' '2.3' '4' '1.3' 'Versicolor']\n",
      " ['6.5' '2.8' '4.6' '1.5' 'Versicolor']\n",
      " ['5.7' '2.8' '4.5' '1.3' 'Versicolor']\n",
      " ['6.3' '3.3' '4.7' '1.6' 'Versicolor']\n",
      " ['4.9' '2.4' '3.3' '1' 'Versicolor']\n",
      " ['6.6' '2.9' '4.6' '1.3' 'Versicolor']\n",
      " ['5.2' '2.7' '3.9' '1.4' 'Versicolor']\n",
      " ['5' '2' '3.5' '1' 'Versicolor']\n",
      " ['5.9' '3' '4.2' '1.5' 'Versicolor']\n",
      " ['6' '2.2' '4' '1' 'Versicolor']\n",
      " ['6.1' '2.9' '4.7' '1.4' 'Versicolor']\n",
      " ['5.6' '2.9' '3.6' '1.3' 'Versicolor']\n",
      " ['6.7' '3.1' '4.4' '1.4' 'Versicolor']\n",
      " ['5.6' '3' '4.5' '1.5' 'Versicolor']\n",
      " ['5.8' '2.7' '4.1' '1' 'Versicolor']\n",
      " ['6.2' '2.2' '4.5' '1.5' 'Versicolor']\n",
      " ['5.6' '2.5' '3.9' '1.1' 'Versicolor']\n",
      " ['5.9' '3.2' '4.8' '1.8' 'Versicolor']\n",
      " ['6.1' '2.8' '4' '1.3' 'Versicolor']\n",
      " ['6.3' '2.5' '4.9' '1.5' 'Versicolor']\n",
      " ['6.1' '2.8' '4.7' '1.2' 'Versicolor']\n",
      " ['6.4' '2.9' '4.3' '1.3' 'Versicolor']\n",
      " ['6.6' '3' '4.4' '1.4' 'Versicolor']\n",
      " ['6.8' '2.8' '4.8' '1.4' 'Versicolor']\n",
      " ['6.7' '3' '5' '1.7' 'Versicolor']\n",
      " ['6' '2.9' '4.5' '1.5' 'Versicolor']\n",
      " ['5.7' '2.6' '3.5' '1' 'Versicolor']\n",
      " ['5.5' '2.4' '3.8' '1.1' 'Versicolor']\n",
      " ['5.5' '2.4' '3.7' '1' 'Versicolor']\n",
      " ['5.8' '2.7' '3.9' '1.2' 'Versicolor']\n",
      " ['6' '2.7' '5.1' '1.6' 'Versicolor']\n",
      " ['5.4' '3' '4.5' '1.5' 'Versicolor']\n",
      " ['6' '3.4' '4.5' '1.6' 'Versicolor']\n",
      " ['6.7' '3.1' '4.7' '1.5' 'Versicolor']\n",
      " ['6.3' '2.3' '4.4' '1.3' 'Versicolor']\n",
      " ['5.6' '3' '4.1' '1.3' 'Versicolor']\n",
      " ['5.5' '2.5' '4' '1.3' 'Versicolor']\n",
      " ['5.5' '2.6' '4.4' '1.2' 'Versicolor']\n",
      " ['6.1' '3' '4.6' '1.4' 'Versicolor']\n",
      " ['5.8' '2.6' '4' '1.2' 'Versicolor']\n",
      " ['5' '2.3' '3.3' '1' 'Versicolor']\n",
      " ['5.6' '2.7' '4.2' '1.3' 'Versicolor']\n",
      " ['5.7' '3' '4.2' '1.2' 'Versicolor']\n",
      " ['5.7' '2.9' '4.2' '1.3' 'Versicolor']\n",
      " ['6.2' '2.9' '4.3' '1.3' 'Versicolor']\n",
      " ['5.1' '2.5' '3' '1.1' 'Versicolor']\n",
      " ['5.7' '2.8' '4.1' '1.3' 'Versicolor']\n",
      " ['6.3' '3.3' '6' '2.5' 'Virginica']\n",
      " ['5.8' '2.7' '5.1' '1.9' 'Virginica']\n",
      " ['7.1' '3' '5.9' '2.1' 'Virginica']\n",
      " ['6.3' '2.9' '5.6' '1.8' 'Virginica']\n",
      " ['6.5' '3' '5.8' '2.2' 'Virginica']\n",
      " ['7.6' '3' '6.6' '2.1' 'Virginica']\n",
      " ['4.9' '2.5' '4.5' '1.7' 'Virginica']\n",
      " ['7.3' '2.9' '6.3' '1.8' 'Virginica']\n",
      " ['6.7' '2.5' '5.8' '1.8' 'Virginica']\n",
      " ['7.2' '3.6' '6.1' '2.5' 'Virginica']\n",
      " ['6.5' '3.2' '5.1' '2' 'Virginica']\n",
      " ['6.4' '2.7' '5.3' '1.9' 'Virginica']\n",
      " ['6.8' '3' '5.5' '2.1' 'Virginica']\n",
      " ['5.7' '2.5' '5' '2' 'Virginica']\n",
      " ['5.8' '2.8' '5.1' '2.4' 'Virginica']\n",
      " ['6.4' '3.2' '5.3' '2.3' 'Virginica']\n",
      " ['6.5' '3' '5.5' '1.8' 'Virginica']\n",
      " ['7.7' '3.8' '6.7' '2.2' 'Virginica']\n",
      " ['7.7' '2.6' '6.9' '2.3' 'Virginica']\n",
      " ['6' '2.2' '5' '1.5' 'Virginica']\n",
      " ['6.9' '3.2' '5.7' '2.3' 'Virginica']\n",
      " ['5.6' '2.8' '4.9' '2' 'Virginica']\n",
      " ['7.7' '2.8' '6.7' '2' 'Virginica']\n",
      " ['6.3' '2.7' '4.9' '1.8' 'Virginica']\n",
      " ['6.7' '3.3' '5.7' '2.1' 'Virginica']\n",
      " ['7.2' '3.2' '6' '1.8' 'Virginica']\n",
      " ['6.2' '2.8' '4.8' '1.8' 'Virginica']\n",
      " ['6.1' '3' '4.9' '1.8' 'Virginica']\n",
      " ['6.4' '2.8' '5.6' '2.1' 'Virginica']\n",
      " ['7.2' '3' '5.8' '1.6' 'Virginica']\n",
      " ['7.4' '2.8' '6.1' '1.9' 'Virginica']\n",
      " ['7.9' '3.8' '6.4' '2' 'Virginica']\n",
      " ['6.4' '2.8' '5.6' '2.2' 'Virginica']\n",
      " ['6.3' '2.8' '5.1' '1.5' 'Virginica']\n",
      " ['6.1' '2.6' '5.6' '1.4' 'Virginica']\n",
      " ['7.7' '3' '6.1' '2.3' 'Virginica']\n",
      " ['6.3' '3.4' '5.6' '2.4' 'Virginica']\n",
      " ['6.4' '3.1' '5.5' '1.8' 'Virginica']\n",
      " ['6' '3' '4.8' '1.8' 'Virginica']\n",
      " ['6.9' '3.1' '5.4' '2.1' 'Virginica']\n",
      " ['6.7' '3.1' '5.6' '2.4' 'Virginica']\n",
      " ['6.9' '3.1' '5.1' '2.3' 'Virginica']\n",
      " ['5.8' '2.7' '5.1' '1.9' 'Virginica']\n",
      " ['6.8' '3.2' '5.9' '2.3' 'Virginica']\n",
      " ['6.7' '3.3' '5.7' '2.5' 'Virginica']\n",
      " ['6.7' '3' '5.2' '2.3' 'Virginica']\n",
      " ['6.3' '2.5' '5' '1.9' 'Virginica']\n",
      " ['6.5' '3' '5.2' '2' 'Virginica']\n",
      " ['6.2' '3.4' '5.4' '2.3' 'Virginica']\n",
      " ['5.9' '3' '5.1' '1.8' 'Virginica']]\n"
     ]
    }
   ],
   "source": [
    "print(colunas)\n",
    "print(dados)"
   ]
  },
  {
   "cell_type": "code",
   "execution_count": 108,
   "id": "56f7410d",
   "metadata": {},
   "outputs": [
    {
     "name": "stdout",
     "output_type": "stream",
     "text": [
      "[1.4 1.4 1.3 1.5 1.4 1.7 1.4 1.5 1.4 1.5 1.5 1.6 1.4 1.1 1.2 1.5 1.3 1.4\n",
      " 1.7 1.5 1.7 1.5 1.  1.7 1.9 1.6 1.6 1.5 1.4 1.6 1.6 1.5 1.5 1.4 1.5 1.2\n",
      " 1.3 1.4 1.3 1.5 1.3 1.3 1.3 1.6 1.9 1.4 1.6 1.4 1.5 1.4 4.7 4.5 4.9 4.\n",
      " 4.6 4.5 4.7 3.3 4.6 3.9 3.5 4.2 4.  4.7 3.6 4.4 4.5 4.1 4.5 3.9 4.8 4.\n",
      " 4.9 4.7 4.3 4.4 4.8 5.  4.5 3.5 3.8 3.7 3.9 5.1 4.5 4.5 4.7 4.4 4.1 4.\n",
      " 4.4 4.6 4.  3.3 4.2 4.2 4.2 4.3 3.  4.1 6.  5.1 5.9 5.6 5.8 6.6 4.5 6.3\n",
      " 5.8 6.1 5.1 5.3 5.5 5.  5.1 5.3 5.5 6.7 6.9 5.  5.7 4.9 6.7 4.9 5.7 6.\n",
      " 4.8 4.9 5.6 5.8 6.1 6.4 5.6 5.1 5.6 6.1 5.6 5.5 4.8 5.4 5.6 5.1 5.1 5.9\n",
      " 5.7 5.2 5.  5.2 5.4 5.1]\n",
      "[5.1 4.9 4.7 4.6 5.  5.4 4.6 5.  4.4 4.9 5.4 4.8 4.8 4.3 5.8 5.7 5.4 5.1\n",
      " 5.7 5.1 5.4 5.1 4.6 5.1 4.8 5.  5.  5.2 5.2 4.7 4.8 5.4 5.2 5.5 4.9 5.\n",
      " 5.5 4.9 4.4 5.1 5.  4.5 4.4 5.  5.1 4.8 5.1 4.6 5.3 5.  7.  6.4 6.9 5.5\n",
      " 6.5 5.7 6.3 4.9 6.6 5.2 5.  5.9 6.  6.1 5.6 6.7 5.6 5.8 6.2 5.6 5.9 6.1\n",
      " 6.3 6.1 6.4 6.6 6.8 6.7 6.  5.7 5.5 5.5 5.8 6.  5.4 6.  6.7 6.3 5.6 5.5\n",
      " 5.5 6.1 5.8 5.  5.6 5.7 5.7 6.2 5.1 5.7 6.3 5.8 7.1 6.3 6.5 7.6 4.9 7.3\n",
      " 6.7 7.2 6.5 6.4 6.8 5.7 5.8 6.4 6.5 7.7 7.7 6.  6.9 5.6 7.7 6.3 6.7 7.2\n",
      " 6.2 6.1 6.4 7.2 7.4 7.9 6.4 6.3 6.1 7.7 6.3 6.4 6.  6.9 6.7 6.9 5.8 6.8\n",
      " 6.7 6.7 6.3 6.5 6.2 5.9]\n"
     ]
    }
   ],
   "source": [
    "l_sepela = dados[:, 0].astype(float)\n",
    "l_petala = dados[:, 2].astype(float)\n",
    "\n",
    "print(l_petala)\n",
    "print(l_sepela)"
   ]
  },
  {
   "cell_type": "code",
   "execution_count": 109,
   "id": "799b91cd",
   "metadata": {},
   "outputs": [
    {
     "ename": "TypeError",
     "evalue": "'str' object is not callable",
     "output_type": "error",
     "traceback": [
      "\u001b[1;31m---------------------------------------------------------------------------\u001b[0m",
      "\u001b[1;31mTypeError\u001b[0m                                 Traceback (most recent call last)",
      "\u001b[1;32m~\\AppData\\Local\\Temp/ipykernel_11688/1379730988.py\u001b[0m in \u001b[0;36m<module>\u001b[1;34m\u001b[0m\n\u001b[0;32m      1\u001b[0m \u001b[0mplt\u001b[0m\u001b[1;33m.\u001b[0m\u001b[0mfigure\u001b[0m\u001b[1;33m(\u001b[0m\u001b[0mfigsize\u001b[0m\u001b[1;33m=\u001b[0m\u001b[1;33m(\u001b[0m\u001b[1;36m10\u001b[0m\u001b[1;33m,\u001b[0m\u001b[1;36m6\u001b[0m\u001b[1;33m)\u001b[0m\u001b[1;33m)\u001b[0m\u001b[1;33m\u001b[0m\u001b[1;33m\u001b[0m\u001b[0m\n\u001b[0;32m      2\u001b[0m \u001b[0mplt\u001b[0m\u001b[1;33m.\u001b[0m\u001b[0mscatter\u001b[0m\u001b[1;33m(\u001b[0m\u001b[0ml_sepela\u001b[0m\u001b[1;33m,\u001b[0m \u001b[0ml_petala\u001b[0m\u001b[1;33m,\u001b[0m\u001b[0mc\u001b[0m\u001b[1;33m=\u001b[0m\u001b[1;34m\"b\"\u001b[0m\u001b[1;33m,\u001b[0m \u001b[0ms\u001b[0m \u001b[1;33m=\u001b[0m \u001b[1;36m50\u001b[0m\u001b[1;33m,\u001b[0m \u001b[0medgecolor\u001b[0m \u001b[1;33m=\u001b[0m \u001b[1;34m'k'\u001b[0m\u001b[1;33m)\u001b[0m\u001b[1;33m\u001b[0m\u001b[1;33m\u001b[0m\u001b[0m\n\u001b[1;32m----> 3\u001b[1;33m \u001b[0mplt\u001b[0m\u001b[1;33m.\u001b[0m\u001b[0mxlabel\u001b[0m \u001b[1;33m(\u001b[0m\u001b[1;34m\"comprimento da sepala\"\u001b[0m\u001b[1;33m)\u001b[0m\u001b[1;33m\u001b[0m\u001b[1;33m\u001b[0m\u001b[0m\n\u001b[0m\u001b[0;32m      4\u001b[0m \u001b[0mplt\u001b[0m\u001b[1;33m.\u001b[0m\u001b[0mylabel\u001b[0m\u001b[1;33m(\u001b[0m\u001b[1;34m\"comprimento da petala\"\u001b[0m\u001b[1;33m)\u001b[0m\u001b[1;33m\u001b[0m\u001b[1;33m\u001b[0m\u001b[0m\n\u001b[0;32m      5\u001b[0m \u001b[0mplt\u001b[0m\u001b[1;33m.\u001b[0m\u001b[0mtitle\u001b[0m\u001b[1;33m(\u001b[0m\u001b[1;34m\"correlação entre comprimento da sepala e comprimento da petala\"\u001b[0m\u001b[1;33m)\u001b[0m\u001b[1;33m\u001b[0m\u001b[1;33m\u001b[0m\u001b[0m\n",
      "\u001b[1;31mTypeError\u001b[0m: 'str' object is not callable"
     ]
    },
    {
     "data": {
      "image/png": "[encoded data removed]",
      "text/plain": [
       "<Figure size 720x432 with 1 Axes>"
      ]
     },
     "metadata": {
      "needs_background": "light"
     },
     "output_type": "display_data"
    }
   ],
   "source": [
    "plt.figure(figsize=(10,6))\n",
    "plt.scatter(l_sepela, l_petala,c=\"b\", s = 50, edgecolor = 'k')\n",
    "plt.xlabel (\"comprimento da sepala\")\n",
    "plt.ylabel(\"comprimento da petala\")\n",
    "plt.title(\"correlação entre comprimento da sepala e comprimento da petala\")\n",
    "plt.show()\n",
    "\n",
    "# s = 20 é o tamanho do ponto "
   ]
  },
  {
   "cell_type": "markdown",
   "id": "342022f5",
   "metadata": {},
   "source": [
    "Veja que o nosso gráfico parece com o gráfico de correlação positiva entre o comprimento da pétala e o comprimento da sépala. Vamos usar nossa ideia de regressão para vermos qual linha se adapta melhor aos dados"
   ]
  },
  {
   "cell_type": "code",
   "execution_count": 110,
   "id": "a68ed81c",
   "metadata": {},
   "outputs": [],
   "source": [
    "regressao1 = np.polyfit(l_sepela, l_petala, 1)\n",
    "regressao2 = np.polyfit(l_sepela, l_petala, 2)\n",
    "regressao3 = np.polyfit(l_sepela, l_petala, 3)\n"
   ]
  },
  {
   "cell_type": "code",
   "execution_count": 111,
   "id": "12f17728",
   "metadata": {},
   "outputs": [
    {
     "name": "stdout",
     "output_type": "stream",
     "text": [
      " \n",
      "1.858 x - 7.101\n",
      "         2\n",
      "-0.2959 x + 5.392 x - 17.45\n",
      "         3         2\n",
      "-0.1742 x + 2.877 x - 13.58 x + 19.8\n"
     ]
    }
   ],
   "source": [
    "equacao1 = np.poly1d(regressao1)\n",
    "equacao2 = np.poly1d(regressao2)\n",
    "equacao3 = np.poly1d(regressao3)\n",
    "\n",
    "print(equacao1)      #vai retornar todas as equações de 1,2 e 3graus \n",
    "print(equacao2)\n",
    "print(equacao3)"
   ]
  },
  {
   "cell_type": "code",
   "execution_count": 112,
   "id": "d67b5b10",
   "metadata": {},
   "outputs": [
    {
     "ename": "TypeError",
     "evalue": "'str' object is not callable",
     "output_type": "error",
     "traceback": [
      "\u001b[1;31m---------------------------------------------------------------------------\u001b[0m",
      "\u001b[1;31mTypeError\u001b[0m                                 Traceback (most recent call last)",
      "\u001b[1;32m~\\AppData\\Local\\Temp/ipykernel_11688/2139216753.py\u001b[0m in \u001b[0;36m<module>\u001b[1;34m\u001b[0m\n\u001b[0;32m      3\u001b[0m \u001b[0mplt\u001b[0m\u001b[1;33m.\u001b[0m\u001b[0mfigure\u001b[0m\u001b[1;33m(\u001b[0m\u001b[0mfigsize\u001b[0m\u001b[1;33m=\u001b[0m\u001b[1;33m(\u001b[0m\u001b[1;36m10\u001b[0m\u001b[1;33m,\u001b[0m\u001b[1;36m6\u001b[0m\u001b[1;33m)\u001b[0m\u001b[1;33m)\u001b[0m\u001b[1;33m\u001b[0m\u001b[1;33m\u001b[0m\u001b[0m\n\u001b[0;32m      4\u001b[0m \u001b[0mplt\u001b[0m\u001b[1;33m.\u001b[0m\u001b[0mscatter\u001b[0m\u001b[1;33m(\u001b[0m\u001b[0ml_sepela\u001b[0m\u001b[1;33m,\u001b[0m \u001b[0ml_petala\u001b[0m\u001b[1;33m,\u001b[0m\u001b[0mc\u001b[0m\u001b[1;33m=\u001b[0m\u001b[1;34m\"b\"\u001b[0m\u001b[1;33m,\u001b[0m \u001b[0ms\u001b[0m \u001b[1;33m=\u001b[0m \u001b[1;36m50\u001b[0m\u001b[1;33m,\u001b[0m \u001b[0medgecolor\u001b[0m \u001b[1;33m=\u001b[0m \u001b[1;34m'k'\u001b[0m\u001b[1;33m)\u001b[0m\u001b[1;33m\u001b[0m\u001b[1;33m\u001b[0m\u001b[0m\n\u001b[1;32m----> 5\u001b[1;33m \u001b[0mplt\u001b[0m\u001b[1;33m.\u001b[0m\u001b[0mxlabel\u001b[0m \u001b[1;33m(\u001b[0m\u001b[1;34m\"comprimento da sepala\"\u001b[0m\u001b[1;33m)\u001b[0m\u001b[1;33m\u001b[0m\u001b[1;33m\u001b[0m\u001b[0m\n\u001b[0m\u001b[0;32m      6\u001b[0m \u001b[0mplt\u001b[0m\u001b[1;33m.\u001b[0m\u001b[0mylabel\u001b[0m\u001b[1;33m(\u001b[0m\u001b[1;34m\"comprimento da petala\"\u001b[0m\u001b[1;33m)\u001b[0m\u001b[1;33m\u001b[0m\u001b[1;33m\u001b[0m\u001b[0m\n\u001b[0;32m      7\u001b[0m \u001b[0mplt\u001b[0m\u001b[1;33m.\u001b[0m\u001b[0mtitle\u001b[0m\u001b[1;33m(\u001b[0m\u001b[1;34m\"correlação entre comprimento da sepala e comprimento da petala\"\u001b[0m\u001b[1;33m)\u001b[0m\u001b[1;33m\u001b[0m\u001b[1;33m\u001b[0m\u001b[0m\n",
      "\u001b[1;31mTypeError\u001b[0m: 'str' object is not callable"
     ]
    },
    {
     "data": {
      "image/png": "[encoded data removed]",
      "text/plain": [
       "<Figure size 720x432 with 1 Axes>"
      ]
     },
     "metadata": {
      "needs_background": "light"
     },
     "output_type": "display_data"
    }
   ],
   "source": [
    "x = np.linspace(l_sepela.min(), l_sepela.max(), 150)\n",
    "\n",
    "plt.figure(figsize=(10,6))\n",
    "plt.scatter(l_sepela, l_petala,c=\"b\", s = 50, edgecolor = 'k')\n",
    "plt.xlabel (\"comprimento da sepala\")\n",
    "plt.ylabel(\"comprimento da petala\")\n",
    "plt.title(\"correlação entre comprimento da sepala e comprimento da petala\")\n",
    "\n",
    "plt.plot(x, equacao1(x), c = 'r', lw = 3, label = ' ajuste linear ')\n",
    "plt.plot(x, equacao2(x), c = 'g', lw = 3, label = ' ajuste quadratico ')\n",
    "plt.plot(x, equacao3(x), c = 'black', lw = 3, label = ' ajuste plinomial ')\n",
    "\n",
    "plt.legend()\n",
    "\n",
    "\n",
    "plt.show()\n",
    "\n",
    "# s = 20 é o tamanho do ponto "
   ]
  },
  {
   "cell_type": "code",
   "execution_count": null,
   "id": "fab1425d",
   "metadata": {},
   "outputs": [],
   "source": []
  }
 ],
 "metadata": {
  "kernelspec": {
   "display_name": "Python 3 (ipykernel)",
   "language": "python",
   "name": "python3"
  },
  "language_info": {
   "codemirror_mode": {
    "name": "ipython",
    "version": 3
   },
   "file_extension": ".py",
   "mimetype": "text/x-python",
   "name": "python",
   "nbconvert_exporter": "python",
   "pygments_lexer": "ipython3",
   "version": "3.9.7"
  }
 },
 "nbformat": 4,
 "nbformat_minor": 5
}
