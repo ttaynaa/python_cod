{
 "cells": [
  {
   "cell_type": "markdown",
   "metadata": {
    "colab_type": "text",
    "id": "N3WgEsqrZup1"
   },
   "source": [
    "<h1><center>Python Intermediário para Análise de Dados</center></h1>\n",
    "<h2><center>Aplicando e Adquirindo conhecimentos</center></h2>"
   ]
  },
  {
   "cell_type": "markdown",
   "metadata": {
    "colab_type": "text",
    "id": "ZB6_Dn3-b47H"
   },
   "source": [
    "![](https://drive.google.com/uc?export=view&id=1qCH-jlzKK1aFaTBpiTHN4qxTFrCVs720) \n"
   ]
  },
  {
   "cell_type": "markdown",
   "metadata": {
    "colab_type": "text",
    "id": "Quk0nQ0bcJfq"
   },
   "source": [
    "<center>\n",
    "<h6>\n",
    "O objetivo desse material é aplicar o que aprendemos ao longo do curso em um projeto final, em que você possa resolver as questões propostas e tirar suas dúvidas das questões finais nas aulas gravadas. Recomendamos que tente fazer essa parte antes de assistir às aulas, será um grande passo para seu aprendizado, aproveite!\n",
    "<h6>\n",
    "<center>"
   ]
  },
  {
   "cell_type": "markdown",
   "metadata": {
    "colab_type": "text",
    "id": "yTc4hIVLdBED"
   },
   "source": [
    "## Exercício 1: Funções, iteradores e iteráveis"
   ]
  },
  {
   "cell_type": "markdown",
   "metadata": {
    "colab_type": "text",
    "id": "zHjIVkBGdUab"
   },
   "source": [
    "### Questão 1"
   ]
  },
  {
   "cell_type": "markdown",
   "metadata": {
    "colab_type": "text",
    "id": "YxLeB0kae1pw"
   },
   "source": [
    "a) A nova empresa **Varejo Online Topa Tudo** aprensenta um grande problema nos preços dos produtos. Ao pesquisarmos os preços da concorrência vimos que os eletrodomésticos são muito mais baratos do que na Topa Tudo. Com o intuito de otimizar a pesquisa de preços nas concorrentes, você foi contratado para criar um programa que receba os preços de várias lojas e retorne a média e o menor preço encontrado. Para isso, você deve criar uma função *encontra_preços()* que recebe o nome do produto e todos os preços encontrados e, depois, mostra quais foram os preços encontrados, o menor deles e a média de todos. "
   ]
  },
  {
   "cell_type": "code",
   "execution_count": null,
   "metadata": {
    "colab": {},
    "colab_type": "code",
    "id": "MeDzOZ2QyO8S"
   },
   "outputs": [],
   "source": [
    "def mostra_precos(produto, *args):\n",
    "  print('Produto:', produto)\n",
    "  lista = []\n",
    "  for i in args:\n",
    "    print('Preço:',i)\n",
    "    lista.append(i)\n",
    "  print('O menor preço é:',min(args))\n",
    "  print('A média de preços de '+produto+' é: '+str(sum(lista)/len(lista)))"
   ]
  },
  {
   "cell_type": "code",
   "execution_count": null,
   "metadata": {
    "colab": {
     "base_uri": "https://localhost:8080/",
     "height": 153
    },
    "colab_type": "code",
    "executionInfo": {
     "elapsed": 1165,
     "status": "ok",
     "timestamp": 1598532277534,
     "user": {
      "displayName": "Júlia Valadares",
      "photoUrl": "https://lh3.googleusercontent.com/a-/AOh14GhaQ1kZQO_VVOwz95-P8m4T8gJZzuJDzbG9k7xpeA=s64",
      "userId": "14705877685816302988"
     },
     "user_tz": 180
    },
    "id": "K7Y6_rRp4_EV",
    "outputId": "dc22d50f-2121-49ca-8a46-3e783216e762"
   },
   "outputs": [
    {
     "name": "stdout",
     "output_type": "stream",
     "text": [
      "Produto: Iphone 11\n",
      "Preço: 5000\n",
      "Preço: 3500\n",
      "Preço: 4100\n",
      "Preço: 4000\n",
      "Preço: 3999\n",
      "O menor preço é: 3500\n",
      "A média de preços de Iphone 11 é: 4119.8\n"
     ]
    }
   ],
   "source": [
    "mostra_precos('Iphone 11',5000,3500,4100,4000,3999)"
   ]
  },
  {
   "cell_type": "markdown",
   "metadata": {
    "colab_type": "text",
    "id": "QP2QVtb8i65r"
   },
   "source": [
    "b) A Topa Tudo adorou a função criada e pediu para fazer uma melhora que ajudará, ainda mais, a entender como melhorar os preços dos produtos. Para isso você deve criar uma outra função *melhor_preco_loja()* que recebe o nome do produto e a relação loja: preço do produto, com o intuito de ver qual a loja com o melhor preço e analisar como essa loja consegue um preço tão em conta. Em seguida, você deve mostrar na tela qual é a loja do menor preço."
   ]
  },
  {
   "cell_type": "code",
   "execution_count": null,
   "metadata": {
    "colab": {},
    "colab_type": "code",
    "id": "dFJuUWGHi5mM"
   },
   "outputs": [],
   "source": [
    "def mostra_melhor_preco(produto, **kwargs):\n",
    "  print('Produto:', produto)\n",
    "  for i,j in zip(kwargs.keys(),kwargs.values()):\n",
    "    print('Loja:',i,'Preço:',j)\n",
    "  ordenado = sorted(kwargs.items(), key=lambda x: x[1])\n",
    "  print('A loja e o menor preço encontrado foram:', ordenado[0])"
   ]
  },
  {
   "cell_type": "code",
   "execution_count": null,
   "metadata": {
    "colab": {
     "base_uri": "https://localhost:8080/",
     "height": 121
    },
    "colab_type": "code",
    "executionInfo": {
     "elapsed": 595,
     "status": "ok",
     "timestamp": 1600122429604,
     "user": {
      "displayName": "Iago Rosa",
      "photoUrl": "https://lh3.googleusercontent.com/a-/AOh14Gg3q7lLSI1kuSuzSHXpY_menrp8rWOGw_hTu1J56Q=s64",
      "userId": "06411405937439573172"
     },
     "user_tz": 180
    },
    "id": "QkxV6sL1lTYT",
    "outputId": "1597c7ca-2b43-485f-90c4-2896875d4e07"
   },
   "outputs": [
    {
     "name": "stdout",
     "output_type": "stream",
     "text": [
      "Produto: Jaqueta\n",
      "Loja: magazineluiza Preço: 100\n",
      "Loja: renner Preço: 95\n",
      "Loja: youcom Preço: 89.9\n",
      "Loja: cea Preço: 109.99\n",
      "A loja e o menor preço encontrado foram: ('youcom', 89.9)\n"
     ]
    }
   ],
   "source": [
    "mostra_melhor_preco('Jaqueta', magazineluiza=100, renner=95, youcom=89.90,cea = 109.99)"
   ]
  },
  {
   "cell_type": "markdown",
   "metadata": {
    "colab_type": "text",
    "id": "jHv7qR4g9WI3"
   },
   "source": [
    "### Questão 2: "
   ]
  },
  {
   "cell_type": "markdown",
   "metadata": {
    "colab_type": "text",
    "id": "D8tDgnpZ9aq7"
   },
   "source": [
    "a) O seu gerente de projetos da **Topa Tudo** está tentando implementar uma promoção para cobrir todos os preços da concorrência e pediu para que você a implementasse. O objetivo dele é criar um programa que, com base nos preços obtidos das concorrentes, aplique um desconto de 5% em cada preço encontrado e veja qual o menor preço para decidir por quanto a **Topa Tudo** venderá o produto. Se o preço da sua loja já for menor que o menor valor obtido com o desconto, você manterá o preço, caso contrário, você deve alterar o preço para cobrir o valor da concorrência. \n"
   ]
  },
  {
   "cell_type": "markdown",
   "metadata": {
    "colab_type": "text",
    "id": "Ujr1O8-nBo2J"
   },
   "source": [
    "<center><h7>Preços Notebook Topa Tudo 2021 atual: 3885.75<h7> <center>\n",
    "\n",
    "<center> Lojas Concorrentes:  [3399.99, 3311.08, 3799, 3899.90, 4988.78, 4999.90, 3145.53] <center>"
   ]
  },
  {
   "cell_type": "code",
   "execution_count": null,
   "metadata": {
    "colab": {},
    "colab_type": "code",
    "id": "AiIWGv6h9a8q"
   },
   "outputs": [],
   "source": [
    "def cobre_oferta(precos_conc, preco_atual):\n",
    "    desconto = map(lambda x: round(x - 0.05*x,2), precos_conc)\n",
    "    desconto = list(desconto)\n",
    "    print(\"Após os descontos de 5% os preços são:\", desconto)\n",
    "    menor_valor = min(desconto)\n",
    "    if menor_valor < preco_atual:\n",
    "        preco_atual = menor_valor\n",
    "    return preco_atual"
   ]
  },
  {
   "cell_type": "code",
   "execution_count": null,
   "metadata": {
    "colab": {
     "base_uri": "https://localhost:8080/",
     "height": 89
    },
    "colab_type": "code",
    "executionInfo": {
     "elapsed": 660,
     "status": "ok",
     "timestamp": 1600124552543,
     "user": {
      "displayName": "Iago Rosa",
      "photoUrl": "https://lh3.googleusercontent.com/a-/AOh14Gg3q7lLSI1kuSuzSHXpY_menrp8rWOGw_hTu1J56Q=s64",
      "userId": "06411405937439573172"
     },
     "user_tz": 180
    },
    "id": "V9wX8qGhGO5M",
    "outputId": "7e9be670-46a0-4767-a9b4-c9ce5f78cae4"
   },
   "outputs": [
    {
     "name": "stdout",
     "output_type": "stream",
     "text": [
      "Preço inicial do Notebook na Topa Tudo: 3885.75\n",
      "Após os descontos de 5% os preços são: [3229.99, 3145.53, 3609.05, 3704.91, 4739.34, 4749.9, 2988.25]\n",
      "Preço atual do Notebook na Topa Tudo: 2988.25\n"
     ]
    }
   ],
   "source": [
    "precos_conc = [3399.99, 3311.08, 3799, 3899.90, 4988.78, 4999.90, 3145.53]\n",
    "preco_inicial = 3885.75\n",
    "print(\"Preço inicial do Notebook na Topa Tudo:\", preco_inicial)\n",
    "preco = cobre_oferta(precos_conc, preco_inicial)\n",
    "print(\"Preço atual do Notebook na Topa Tudo:\", preco)"
   ]
  },
  {
   "cell_type": "markdown",
   "metadata": {
    "colab_type": "text",
    "id": "F_ecBZ_bAHIZ"
   },
   "source": [
    "b) Outra ideia que o gerente lhe pediu para implementar é filtrar apenas as lojas que vendem a um preço menor ou igual a **Topa Tudo** antes de aplicar o deconto  de 5%. O intuito é descobrir quantas lojas vendiam mais barato e devem ter o seu valor coberto."
   ]
  },
  {
   "cell_type": "code",
   "execution_count": null,
   "metadata": {
    "colab": {
     "base_uri": "https://localhost:8080/",
     "height": 35
    },
    "colab_type": "code",
    "executionInfo": {
     "elapsed": 649,
     "status": "ok",
     "timestamp": 1600124578454,
     "user": {
      "displayName": "Iago Rosa",
      "photoUrl": "https://lh3.googleusercontent.com/a-/AOh14Gg3q7lLSI1kuSuzSHXpY_menrp8rWOGw_hTu1J56Q=s64",
      "userId": "06411405937439573172"
     },
     "user_tz": 180
    },
    "id": "l_D85is99bS0",
    "outputId": "fa577818-2232-4e6f-d3d7-ea0d779a35b7"
   },
   "outputs": [
    {
     "name": "stdout",
     "output_type": "stream",
     "text": [
      "Quantidade de lojas que vendem notebook mais barato que a Topa Tudo: 4\n"
     ]
    }
   ],
   "source": [
    "preco_not = 3885.75\n",
    "\n",
    "def verifica_menores(precos_conc, preco_not):\n",
    "    preco_filtrado = list(filter(lambda x: x <= preco_not, precos_conc))\n",
    "    return len(preco_filtrado)\n",
    "\n",
    "vm = verifica_menores(precos_conc, preco_not)\n",
    "print('Quantidade de lojas que vendem notebook mais barato que a Topa Tudo:', vm)"
   ]
  },
  {
   "cell_type": "markdown",
   "metadata": {
    "colab_type": "text",
    "id": "V-3sCYvRm98z"
   },
   "source": [
    "## Exercício 2: Orientação a Objetos"
   ]
  },
  {
   "cell_type": "markdown",
   "metadata": {
    "colab_type": "text",
    "id": "L-PVaBw5nL79"
   },
   "source": [
    "O banco **VoittoBank** nos últimos anos se tornou uma referência nacional graças a seus diversos produtos que atendem à população. Com isso, o númerio de funcionários cresceu bastante e foi necessaria a criação de um sistema para gerenciá-los. Você foi contratado para criar um modelo de sistema de gerenciamento de gerentes e clientes do **VoittoBank** usando conceitos de orientação a objetos. \\\\\n",
    "O seu sistema deve seguir o seguinte diagrama:"
   ]
  },
  {
   "cell_type": "markdown",
   "metadata": {
    "colab_type": "text",
    "id": "eLic628PtppB"
   },
   "source": [
    "![](https://drive.google.com/uc?export=view&id=1Uo4E2lZ4taaOTZ2tmwZmxVIwCJmswyJy)\n"
   ]
  },
  {
   "cell_type": "markdown",
   "metadata": {
    "colab_type": "text",
    "id": "Lv8an01o1gJy"
   },
   "source": [
    "Nesse modelo, a classe pessoa deve ser criada como uma classe abstrata. Além disso as funções das classes devem seguir a seguinte ideia:\n",
    "\n",
    "* A classe Pessoa deverá ter o método abstrato que será, posteriormente, implementado nas classes Gerente e Cliente;\n",
    "\n",
    "* O método *troca_senha* da classe Gerente será usado para o gerente mudar a senha de um cliente. Para isso ele recebe como parâmetros a *senhaAntiga* e a *novaSenha*. Se a senha antiga for validada, então deve-se alterar a senha do cliente, caso contrário imprima na tela que a senha está incorreta;\n",
    "\n",
    "* O método privado *__valida_senha* da classe Cliente é usada para verificar se a senha do cliente está correta ou não. Já os métodos *verifica_saldo* e *saca_dinheiro* devem, respctivamente, checar o saldo disponível do cliente e retirar o dinheiro desejado da conta;\n",
    "\n",
    "* Por último, os métodos *deposito* e *contatar_gerente* devem, respctivamente, depositar o valor especificado na conta informada e informar os dados do gerente do cliente."
   ]
  },
  {
   "cell_type": "markdown",
   "metadata": {
    "colab_type": "text",
    "id": "Qwp7TGOc5fio"
   },
   "source": [
    "### Questão 1: "
   ]
  },
  {
   "cell_type": "markdown",
   "metadata": {
    "colab_type": "text",
    "id": "MZgcmgzz5wCo"
   },
   "source": [
    "Faça apenas a modelagem do sistema"
   ]
  },
  {
   "cell_type": "code",
   "execution_count": null,
   "metadata": {
    "colab": {},
    "colab_type": "code",
    "id": "qYQtSX0sltQc"
   },
   "outputs": [],
   "source": [
    "import random\n",
    "import abc\n",
    "\n",
    "class Pessoa(metaclass=abc.ABCMeta):\n",
    "    def __init__(self, nome, cpf):\n",
    "      self.nome = nome\n",
    "      self.cpf = cpf\n",
    "      \n",
    "    @abc.abstractmethod\n",
    "    def informaDados():\n",
    "\n",
    "class Gerente(Pessoa):\n",
    "    \n",
    "    def __init__(self, nome, cpf, salario, agencia, contato):\n",
    "      super().__init__(nome, cpf)\n",
    "      self.__salario = salario\n",
    "      self.agencia = agencia\n",
    "      self.contato = contato\n",
    "    \n",
    "    def informaDados(self):\n",
    "      print('Nome do gerente:',self.nome)\n",
    "      print('CPF do gerente', self.cpf)\n",
    "      print(\"Gerente da agência\", self.agencia)\n",
    "    \n",
    "\n",
    "    def troca_senha(self, senhaAntiga, senhaNova):\n",
    "      if __valida_senha(senhaAntiga):\n",
    "        print(\"Acesso permitido\")\n",
    "        self.__senha = senhaNova\n",
    "        print(\"Senha alterada\")\n",
    "      else:\n",
    "        print(\"Acesso negado\")  \n",
    "    \n",
    "\n",
    "class Cliente (Pessoa):    \n",
    "  \n",
    "  def __init__(self, nome, cpf, conta, saldo_inicial, senha, gerente):\n",
    "      super().__init__(nome, cpf)\n",
    "      self.conta = conta\n",
    "      self.__saldo = saldo_inicial\n",
    "      self.__senha = senha\n",
    "      self.gerente = gerente\n",
    "  \n",
    "  def informaDados(self):\n",
    "      print('O cliente',self.nome, 'com CPF', self.cpf, 'é atendido pelo gerente', self.gerente.nome)\n",
    "  \n",
    "  def __valida_senha(self, senha): \n",
    "    if self.__senha == senha:\n",
    "        return True\n",
    "    else:            \n",
    "        return False\n",
    "  def verifica_saldo(self, senha):    # equivaente a get_saldo\n",
    "    if self.__valida_senha(senha):\n",
    "      return self.__saldo\n",
    "    else:\n",
    "      print(\"Senha inválida\")\n",
    "\n",
    "  def saca_dinheiro(self, senha, dinheiro):\n",
    "    if self.__valida_senha(senha):\n",
    "      print(\"Senha validada\")\n",
    "      if self.__saldo >= dinheiro:\n",
    "        self.__saldo = self.__saldo - dinheiro\n",
    "        print('Seu saque foi realizado')\n",
    "        return True # implementar depois\n",
    "      else:\n",
    "        print('Você não apresenta saldo suficiente, tente outro valor')\n",
    "    else:\n",
    "      print(\"Senha inválida\")\n",
    "    \n",
    "    return False # implementar depois\n",
    "  \n",
    "  def deposito(self, adicao, conta):\n",
    "    if conta == self.conta:\n",
    "      self.__saldo += adicao\n",
    "    else:\n",
    "      print(\"Verifique a conta informada!\")\n",
    "\n",
    "\n",
    "  def contatar_gerente(self):\n",
    "    print(self.gerente.contato)"
   ]
  },
  {
   "cell_type": "markdown",
   "metadata": {
    "colab_type": "text",
    "id": "qVNyeudZ5qjg"
   },
   "source": [
    "### Questão 2: "
   ]
  },
  {
   "cell_type": "markdown",
   "metadata": {
    "colab_type": "text",
    "id": "O6pXUiNHY3yk"
   },
   "source": [
    "Depois de ter criado o sistema, o dono do VoittoBank pediu para você ler os dados de cadastro de dois gerentes, dois clientes e informar os dados lidos\n",
    "\n",
    "1. Ler dados de cadastro de 2 Gerentes\n"
   ]
  },
  {
   "cell_type": "code",
   "execution_count": null,
   "metadata": {
    "colab": {
     "base_uri": "https://localhost:8080/",
     "height": 102
    },
    "colab_type": "code",
    "executionInfo": {
     "elapsed": 22900,
     "status": "ok",
     "timestamp": 1600343197945,
     "user": {
      "displayName": "Júlia Valadares",
      "photoUrl": "https://lh3.googleusercontent.com/a-/AOh14GhaQ1kZQO_VVOwz95-P8m4T8gJZzuJDzbG9k7xpeA=s64",
      "userId": "14705877685816302988"
     },
     "user_tz": 180
    },
    "id": "CFDWuHPpY4J_",
    "outputId": "285cd390-3aaa-4f09-874b-f91724f7bd6c"
   },
   "outputs": [
    {
     "name": "stdout",
     "output_type": "stream",
     "text": [
      "Digite o nome do gerente: i\n",
      "Digite o CPF: 293847\n",
      "Digite o salario do gerente: 324984\n",
      "Digite a agência: caix\n",
      "Digite o e-mail do gerente: oisjhfnr\n"
     ]
    }
   ],
   "source": [
    "gerentes = []\n",
    "\n",
    "for i in range(1):\n",
    "  nome = input('Digite o nome do gerente: ')\n",
    "  cpf = input('Digite o CPF: ')\n",
    "  salario = int (input('Digite o salario do gerente: '))\n",
    "  agencia = input(\"Digite a agência: \")\n",
    "  contato = input(\"Digite o e-mail do gerente: \")  \n",
    "\n",
    "  gerente = Gerente(nome, cpf, salario, agencia, contato)\n",
    "\n",
    "  gerentes.append(gerente)"
   ]
  },
  {
   "cell_type": "markdown",
   "metadata": {
    "colab_type": "text",
    "id": "HZH3hQQdHFf_"
   },
   "source": [
    "2. Ler dados de cadastro de 2 Clientes. Obs: escolha qualquer um dos gerentes instaciados anteriormente."
   ]
  },
  {
   "cell_type": "code",
   "execution_count": null,
   "metadata": {
    "colab": {
     "base_uri": "https://localhost:8080/",
     "height": 187
    },
    "colab_type": "code",
    "executionInfo": {
     "elapsed": 37628,
     "status": "ok",
     "timestamp": 1600343287460,
     "user": {
      "displayName": "Júlia Valadares",
      "photoUrl": "https://lh3.googleusercontent.com/a-/AOh14GhaQ1kZQO_VVOwz95-P8m4T8gJZzuJDzbG9k7xpeA=s64",
      "userId": "14705877685816302988"
     },
     "user_tz": 180
    },
    "id": "f8EaOSEZbEUk",
    "outputId": "21241b18-685b-4666-f85f-eb5c578c6d1a"
   },
   "outputs": [
    {
     "name": "stdout",
     "output_type": "stream",
     "text": [
      "Digite o nome do cliente: kjnvdf\n",
      "Digite o CPF: 2134872\n",
      "Digite o numero da conta: 230948\n",
      "Digite o saldo inicial: 2987364\n",
      "Digite uma senha:23098\n",
      "Digite o nome do cliente: juald\n",
      "Digite o CPF: 908213\n",
      "Digite o numero da conta: 90834\n",
      "Digite o saldo inicial: 98374\n",
      "Digite uma senha:jiuhwe\n"
     ]
    }
   ],
   "source": [
    "clientes = []\n",
    "\n",
    "for i in range(2):\n",
    "  nome = input('Digite o nome do cliente: ')\n",
    "  cpf = input('Digite o CPF: ')\n",
    "  conta = input('Digite o numero da conta: ')\n",
    "  saldo_inicial = int (input('Digite o saldo inicial: '))\n",
    "  senha = input(\"Digite uma senha:\")\n",
    "\n",
    "  gerente = random.choice(gerentes)\n",
    "\n",
    "  cliente = Cliente(nome, cpf, conta, saldo_inicial, senha, gerente)\n",
    "\n",
    "  clientes.append(cliente)"
   ]
  },
  {
   "cell_type": "markdown",
   "metadata": {
    "colab_type": "text",
    "id": "TD_DPspnJEV9"
   },
   "source": [
    "3. Verificar os dados cadastrados"
   ]
  },
  {
   "cell_type": "code",
   "execution_count": null,
   "metadata": {
    "colab": {
     "base_uri": "https://localhost:8080/",
     "height": 85
    },
    "colab_type": "code",
    "executionInfo": {
     "elapsed": 928,
     "status": "ok",
     "timestamp": 1600343226404,
     "user": {
      "displayName": "Júlia Valadares",
      "photoUrl": "https://lh3.googleusercontent.com/a-/AOh14GhaQ1kZQO_VVOwz95-P8m4T8gJZzuJDzbG9k7xpeA=s64",
      "userId": "14705877685816302988"
     },
     "user_tz": 180
    },
    "id": "MLhoyF_yJlT5",
    "outputId": "23542815-5b0e-48b0-8b05-996df86ab168"
   },
   "outputs": [
    {
     "name": "stdout",
     "output_type": "stream",
     "text": [
      "Nome do gerente: i\n",
      "CPF do gerente 293847\n",
      "Gerente da agência caix\n",
      "O cliente oijaf com CPF 2387423 é atendido pelo gerente i\n"
     ]
    }
   ],
   "source": [
    "for p in gerentes + clientes:\n",
    "  p.informaDados()"
   ]
  },
  {
   "cell_type": "markdown",
   "metadata": {
    "colab_type": "text",
    "id": "6oVrTCNC6ExI"
   },
   "source": [
    "### Questão 3: "
   ]
  },
  {
   "cell_type": "markdown",
   "metadata": {
    "colab_type": "text",
    "id": "nrNXMh0b6WFU"
   },
   "source": [
    "Após realizar o cadastro de clientes e gerentes você deve realizar o saque de R$ 1000 do cliente 2, contatar o gerente do cliente 1 e implementar uma função que reproduza a transferência entre duas contas"
   ]
  },
  {
   "cell_type": "markdown",
   "metadata": {
    "colab_type": "text",
    "id": "rlDmIQlpGJRM"
   },
   "source": [
    "1. Fazer o saque de R$ 1000 do cliente 2"
   ]
  },
  {
   "cell_type": "code",
   "execution_count": null,
   "metadata": {
    "colab": {
     "base_uri": "https://localhost:8080/",
     "height": 51
    },
    "colab_type": "code",
    "executionInfo": {
     "elapsed": 1080,
     "status": "ok",
     "timestamp": 1600343291603,
     "user": {
      "displayName": "Júlia Valadares",
      "photoUrl": "https://lh3.googleusercontent.com/a-/AOh14GhaQ1kZQO_VVOwz95-P8m4T8gJZzuJDzbG9k7xpeA=s64",
      "userId": "14705877685816302988"
     },
     "user_tz": 180
    },
    "id": "KfEG3grYJLOc",
    "outputId": "ba4ed04d-0969-489d-9ffb-c2b460883dfa"
   },
   "outputs": [
    {
     "name": "stdout",
     "output_type": "stream",
     "text": [
      "Senha inválida\n"
     ]
    },
    {
     "data": {
      "text/plain": [
       "False"
      ]
     },
     "execution_count": 18,
     "metadata": {
      "tags": []
     },
     "output_type": "execute_result"
    }
   ],
   "source": [
    "clientes[1].saca_dinheiro(1000, 12234) # colocar a senha certa e errrada"
   ]
  },
  {
   "cell_type": "markdown",
   "metadata": {
    "colab_type": "text",
    "id": "8epnuNY6J_qz"
   },
   "source": [
    "2. Simule a ação do cliente 1 entrando em contato com o seu gerente."
   ]
  },
  {
   "cell_type": "code",
   "execution_count": null,
   "metadata": {
    "colab": {
     "base_uri": "https://localhost:8080/",
     "height": 34
    },
    "colab_type": "code",
    "executionInfo": {
     "elapsed": 1060,
     "status": "ok",
     "timestamp": 1600343296875,
     "user": {
      "displayName": "Júlia Valadares",
      "photoUrl": "https://lh3.googleusercontent.com/a-/AOh14GhaQ1kZQO_VVOwz95-P8m4T8gJZzuJDzbG9k7xpeA=s64",
      "userId": "14705877685816302988"
     },
     "user_tz": 180
    },
    "id": "6jjQw-t8KJYK",
    "outputId": "a342786c-de68-4d7c-cee9-7f4486a05920"
   },
   "outputs": [
    {
     "name": "stdout",
     "output_type": "stream",
     "text": [
      "oisjhfnr\n"
     ]
    }
   ],
   "source": [
    "clientes[0].contatar_gerente()"
   ]
  },
  {
   "cell_type": "markdown",
   "metadata": {
    "colab_type": "text",
    "id": "uT4C37CKKhFT"
   },
   "source": [
    "3. A função de transferência deverá receber os seguintes dados: \n",
    "\n",
    "Dados do remetente:\n",
    "\n",
    "* Objeto cliente \n",
    "* Senha da conta\n",
    "\n",
    "Dados do destinatário:\n",
    "\n",
    "* Objeto cliente\n",
    "* Numéro da conta\n",
    "\n",
    "Além disso, deve receber um valor (float) que será transferido do remetente para o destinatátio. \n",
    "\n",
    "Dica: utilize os métodos *sacar_dinheiro()*  e *deposito()* para realizar esta operação."
   ]
  },
  {
   "cell_type": "code",
   "execution_count": null,
   "metadata": {
    "colab": {
     "base_uri": "https://localhost:8080/",
     "height": 51
    },
    "colab_type": "code",
    "executionInfo": {
     "elapsed": 1071,
     "status": "ok",
     "timestamp": 1600343342032,
     "user": {
      "displayName": "Júlia Valadares",
      "photoUrl": "https://lh3.googleusercontent.com/a-/AOh14GhaQ1kZQO_VVOwz95-P8m4T8gJZzuJDzbG9k7xpeA=s64",
      "userId": "14705877685816302988"
     },
     "user_tz": 180
    },
    "id": "x3MKJRJHLpgO",
    "outputId": "0427195e-07ad-416f-a9e3-f85f312f0ebc"
   },
   "outputs": [
    {
     "name": "stdout",
     "output_type": "stream",
     "text": [
      "Senha inválida\n",
      "Operação não realizada\n"
     ]
    }
   ],
   "source": [
    "def transferencia(clienteRemetente, senhaRemetente, clienteDestinatario, nContaDestinatario, valor):\n",
    "  if clienteRemetente.saca_dinheiro(senha, valor):\n",
    "    clienteDestinatario.deposito(valor, conta)\n",
    "  else:\n",
    "    print(\"Operação não realizada\")\n",
    "\n",
    "senhaRemetente = 12983\n",
    "nConta = 129872\n",
    "\n",
    "transferencia(clientes[0], senhaRemetente, clientes[1], nConta, 100)"
   ]
  },
  {
   "cell_type": "markdown",
   "metadata": {
    "colab_type": "text",
    "id": "_iQn5TcM9AcV"
   },
   "source": [
    "### Questão 4:"
   ]
  },
  {
   "cell_type": "code",
   "execution_count": null,
   "metadata": {
    "colab": {},
    "colab_type": "code",
    "id": "kTvzxyZ1Pbyx"
   },
   "outputs": [],
   "source": []
  },
  {
   "cell_type": "code",
   "execution_count": null,
   "metadata": {
    "colab": {},
    "colab_type": "code",
    "id": "7RAiFeN9PbTD"
   },
   "outputs": [],
   "source": []
  },
  {
   "cell_type": "markdown",
   "metadata": {
    "colab_type": "text",
    "id": "D15f7OmubKJF"
   },
   "source": [
    "Por último, você deve salvar as informações dos Gerentes e Clientes cadastrados atualmente no sistema. As informações de interesse são: nome da Pessoa, CPF da Pessoa e índice de valor 1 se os dados forem referentes a um Cliente e 2 se os dados forem referentes a um Gerente."
   ]
  },
  {
   "cell_type": "code",
   "execution_count": null,
   "metadata": {
    "colab": {},
    "colab_type": "code",
    "id": "1DdimR7jbb0-"
   },
   "outputs": [],
   "source": [
    "import csv\n",
    "d = {'nome': None, 'cpf': None, 'indice': None}\n",
    "\n",
    "with open(\"informacoes.csv\", 'w') as file:\n",
    "  arq = csv.DictWriter(file, fieldnames=d.keys())\n",
    "  arq.writeheader()\n",
    "\n",
    "  for p in clientes + gerentes:\n",
    "    d['nome'] = p.nome\n",
    "    d['cpf'] = p.cpf\n",
    "    if isinstance(p, Cliente):\n",
    "      d['indice'] = 1 \n",
    "    elif isinstance(p, Gerente):\n",
    "      d['indice'] = 2  \n",
    "    else:\n",
    "      d['indice'] = None\n",
    "\n",
    "    arq.writerow(d)"
   ]
  },
  {
   "cell_type": "markdown",
   "metadata": {
    "colab_type": "text",
    "id": "3L5R-w63uInt"
   },
   "source": [
    "## Exercício 3: Sistemas Lineares"
   ]
  },
  {
   "cell_type": "markdown",
   "metadata": {
    "colab_type": "text",
    "id": "yNuHmSyiudQd"
   },
   "source": [
    "### Questão 1"
   ]
  },
  {
   "cell_type": "markdown",
   "metadata": {
    "colab_type": "text",
    "id": "XxzWKQuJ03N-"
   },
   "source": [
    "[UFSC - Adaptado] Quando estamos estudando tranferência de calor é importante considerarmos a forma de se determinar a distribuição de temperatura assintótica de uma placa fina quando a temperatura nas suas extremidades é conhecida. Suponha que a placa a seguir represente uma seção transversal de uma barra de metal, com fluxo de calor desprezivel na direção perpendicular à placa.\n",
    "Sejam T1,..., T6 as temperaturas em seis vértices interiores da figura. A\n",
    "temperatura em um vértice é aproximadamente igual a média dos quatro vértices vizinhos\n",
    "mais próximos — a esquerda, acima,à direita, e abaixo. Por exemplo:"
   ]
  },
  {
   "cell_type": "markdown",
   "metadata": {
    "colab_type": "text",
    "id": "ZxdMYVSDAbD5"
   },
   "source": [
    "![](https://drive.google.com/uc?export=view&id=1kdyo0-uihrknVRmQV7-rDswluBeo5OBT) \n"
   ]
  },
  {
   "cell_type": "markdown",
   "metadata": {
    "colab_type": "text",
    "id": "eDxk5i0f-vbP"
   },
   "source": [
    "Para criarmos as equações que estarão na nossa matriz devemos seguir as seguintes equações: \\\\\n",
    "\n",
    "\\begin{equation}\n",
    "  T_1  = \\frac{(10 + 20 + T_2 + T_4)}{4}\n",
    "\\end{equation}\n",
    "\n",
    "Ou \n",
    "\n",
    "\\begin{equation}\n",
    "  30 = 4 T_1 - T_2 - T_4\n",
    "\\end{equation}\n"
   ]
  },
  {
   "cell_type": "markdown",
   "metadata": {
    "colab_type": "text",
    "id": "QDIjxzrT4-IB"
   },
   "source": [
    "Repetindo o mesmo processo para os outros pontos, temos:"
   ]
  },
  {
   "cell_type": "markdown",
   "metadata": {
    "colab_type": "text",
    "id": "8UAqhO-66K9d"
   },
   "source": [
    "\\begin{align}\n",
    "  20 &= -T_1 + 4 T_2 - T_3 - T_5 \\\\\n",
    "  60 &= -T_2 + 4 T_3 - T_6 \\\\\n",
    "  30 &= -T_1 + 4T_4 - T_5 \\\\\n",
    "  30 &= -T_2 - T_4 + 4T_5 -T_6 \\\\\n",
    "  60 &= -T_3 - T_5 + 4T_6\n",
    "\\end{align}"
   ]
  },
  {
   "cell_type": "markdown",
   "metadata": {
    "colab_type": "text",
    "id": "t73260han-bP"
   },
   "source": [
    "Escrevendo o sistema em forma matricial, teremos uma matriz 6x6 da seguinte forma:\n",
    "\n",
    "\n",
    "\n",
    "\\begin{equation}\\left[\\begin{array}{cccccc}\n",
    "4T_1 & -T_2 & 0 & -T_4 & 0 & 0 \\\\\n",
    "-T_1 & 4T_2 & -T_3 & 0 & -T_5 & 0 \\\\\n",
    "0 & -T_2 & 4T_3 & 0 & 0 & -T_6 \\\\\n",
    "-T_1 & 0 & 0 & 4T_4 & -T_5 & 0 \\\\\n",
    "0 & -T_2 & 0 & -T_4 & 4T_5 & -T_6 \\\\\n",
    "0 & 0 & -T_3 & 0 & -T_5 & 4T_6\n",
    "\\end{array}\\right] \\quad\\left[\\begin{array}{l}\n",
    "30 \\\\\n",
    "20 \\\\\n",
    "60 \\\\\n",
    "30 \\\\\n",
    "30 \\\\\n",
    "60\n",
    "\\end{array}\\right]\\end{equation}\n"
   ]
  },
  {
   "cell_type": "markdown",
   "metadata": {
    "colab_type": "text",
    "id": "aZ6lsrh074tH"
   },
   "source": [
    "Colocando o sistema no formato AT = B, temos:\n",
    "\n",
    "\\begin{equation}\\left[\\begin{array}{rrrrrr}\n",
    "4 & -1 & 0 & -1 & 0 & 0 \\\\\n",
    "-1 & 4 & -1 & 0 & -1 & 0 \\\\\n",
    "0 & -1 & 4 & 0 & 0 & -1 \\\\\n",
    "-1 & 0 & 0 & 4 & -1 & 0 \\\\\n",
    "0 & -1 & 0 & -1 & 4 & -1 \\\\\n",
    "0 & 0 & -1 & 0 & -1 & 4\n",
    "\\end{array}\\right] \\times \\left[\\begin{array}{l}\n",
    "T_1 \\\\\n",
    "T_2 \\\\\n",
    "T_3 \\\\\n",
    "T_4 \\\\\n",
    "T_5 \\\\\n",
    "T_6\n",
    "\\end{array}\\right] = \\left[\\begin{array}{l}\n",
    "30 \\\\\n",
    "20 \\\\\n",
    "60 \\\\\n",
    "30 \\\\\n",
    "30 \\\\\n",
    "60\n",
    "\\end{array}\\right]\\end{equation}"
   ]
  },
  {
   "cell_type": "code",
   "execution_count": null,
   "metadata": {
    "colab": {},
    "colab_type": "code",
    "id": "qgsq8R7O80zu"
   },
   "outputs": [],
   "source": [
    "import numpy as np"
   ]
  },
  {
   "cell_type": "code",
   "execution_count": null,
   "metadata": {
    "colab": {},
    "colab_type": "code",
    "id": "JXDhz2buuOWT"
   },
   "outputs": [],
   "source": [
    "A = np.matrix([[4, -1, 0, -1, 0, 0],[-1, 4, -1, 0, -1, 0],[0, -1, 4, 0, 0, -1],[-1, 0, 0, 4,-1 ,0],[0, -1, 0, -1, 4, -1],[0, 0, -1, 0, -1, 4 ]])\n",
    "B = np.matrix([[30],[20],[60],[30],[30],[60]])"
   ]
  },
  {
   "cell_type": "code",
   "execution_count": null,
   "metadata": {
    "colab": {
     "base_uri": "https://localhost:8080/",
     "height": 218
    },
    "colab_type": "code",
    "executionInfo": {
     "elapsed": 540,
     "status": "ok",
     "timestamp": 1600277237557,
     "user": {
      "displayName": "Iago Rosa",
      "photoUrl": "https://lh3.googleusercontent.com/a-/AOh14Gg3q7lLSI1kuSuzSHXpY_menrp8rWOGw_hTu1J56Q=s64",
      "userId": "06411405937439573172"
     },
     "user_tz": 180
    },
    "id": "LxZsRqSbFmOL",
    "outputId": "5c326c7f-3ed8-4c23-94a6-a956c370dde4"
   },
   "outputs": [
    {
     "name": "stdout",
     "output_type": "stream",
     "text": [
      "[[ 4 -1  0 -1  0  0]\n",
      " [-1  4 -1  0 -1  0]\n",
      " [ 0 -1  4  0  0 -1]\n",
      " [-1  0  0  4 -1  0]\n",
      " [ 0 -1  0 -1  4 -1]\n",
      " [ 0  0 -1  0 -1  4]]\n",
      "[[30]\n",
      " [20]\n",
      " [60]\n",
      " [30]\n",
      " [30]\n",
      " [60]]\n"
     ]
    }
   ],
   "source": [
    "print(A)\n",
    "print(B)"
   ]
  },
  {
   "cell_type": "markdown",
   "metadata": {
    "colab_type": "text",
    "id": "KljePCxr-RT1"
   },
   "source": [
    "1. Sabemos que é possível descobrirmos se uma matriz possui solução através do *determinante*.\n",
    "  * Se for *igual 0* a matriz possui infinitas soluções\n",
    "  * Se for *diferente de 0* a matriz possui solução única \\\\\n",
    "  Então, calcule o determinante da matriz para descobrir se ela possui solução única"
   ]
  },
  {
   "cell_type": "code",
   "execution_count": null,
   "metadata": {
    "colab": {
     "base_uri": "https://localhost:8080/",
     "height": 34
    },
    "colab_type": "code",
    "executionInfo": {
     "elapsed": 495,
     "status": "ok",
     "timestamp": 1600277240009,
     "user": {
      "displayName": "Iago Rosa",
      "photoUrl": "https://lh3.googleusercontent.com/a-/AOh14Gg3q7lLSI1kuSuzSHXpY_menrp8rWOGw_hTu1J56Q=s64",
      "userId": "06411405937439573172"
     },
     "user_tz": 180
    },
    "id": "wXSe1wZP-CgP",
    "outputId": "9a6e5379-2e62-43ab-ef1d-693a2bc88925"
   },
   "outputs": [
    {
     "data": {
      "text/plain": [
       "2415.0000000000014"
      ]
     },
     "execution_count": 5,
     "metadata": {
      "tags": []
     },
     "output_type": "execute_result"
    }
   ],
   "source": [
    "np.linalg.det(A)"
   ]
  },
  {
   "cell_type": "markdown",
   "metadata": {
    "colab_type": "text",
    "id": "r3cbjrwvBwA2"
   },
   "source": [
    "2. Se o resultado do determinante mostrar que há solução única, use o linalg.solve() para resolver o sistema"
   ]
  },
  {
   "cell_type": "code",
   "execution_count": null,
   "metadata": {
    "colab": {
     "base_uri": "https://localhost:8080/",
     "height": 118
    },
    "colab_type": "code",
    "executionInfo": {
     "elapsed": 496,
     "status": "ok",
     "timestamp": 1600277242058,
     "user": {
      "displayName": "Iago Rosa",
      "photoUrl": "https://lh3.googleusercontent.com/a-/AOh14Gg3q7lLSI1kuSuzSHXpY_menrp8rWOGw_hTu1J56Q=s64",
      "userId": "06411405937439573172"
     },
     "user_tz": 180
    },
    "id": "3LYYMr0CDI_3",
    "outputId": "31f40c2b-c404-420b-b441-7dae09d88ba7"
   },
   "outputs": [
    {
     "data": {
      "text/plain": [
       "matrix([[17.63975155],\n",
       "        [22.48447205],\n",
       "        [27.63975155],\n",
       "        [18.07453416],\n",
       "        [24.65838509],\n",
       "        [28.07453416]])"
      ]
     },
     "execution_count": 6,
     "metadata": {
      "tags": []
     },
     "output_type": "execute_result"
    }
   ],
   "source": [
    "solucao = np.linalg.solve(A,B)\n",
    "solucao"
   ]
  },
  {
   "cell_type": "markdown",
   "metadata": {
    "colab_type": "text",
    "id": "54fFX6v3EFOt"
   },
   "source": [
    "### Questão 2:"
   ]
  },
  {
   "cell_type": "markdown",
   "metadata": {
    "colab_type": "text",
    "id": "f0uza9b_77Lz"
   },
   "source": [
    "Observando a figura da placa:"
   ]
  },
  {
   "cell_type": "markdown",
   "metadata": {
    "colab_type": "text",
    "id": "1uxNtZz57_GI"
   },
   "source": [
    "![](https://drive.google.com/uc?export=view&id=1kdyo0-uihrknVRmQV7-rDswluBeo5OBT) \n"
   ]
  },
  {
   "cell_type": "markdown",
   "metadata": {
    "colab_type": "text",
    "id": "P5c-2FfM8Cxk"
   },
   "source": [
    "Você deve criar uma matriz para representá-la, colocando a solução obtida no lugar de $T_{i}$."
   ]
  },
  {
   "cell_type": "code",
   "execution_count": null,
   "metadata": {
    "colab": {},
    "colab_type": "code",
    "id": "wtIcHCA_wjoK"
   },
   "outputs": [],
   "source": [
    "solucao"
   ]
  },
  {
   "cell_type": "code",
   "execution_count": null,
   "metadata": {
    "colab": {
     "base_uri": "https://localhost:8080/",
     "height": 51
    },
    "colab_type": "code",
    "executionInfo": {
     "elapsed": 709,
     "status": "ok",
     "timestamp": 1598617802301,
     "user": {
      "displayName": "Júlia Valadares",
      "photoUrl": "https://lh3.googleusercontent.com/a-/AOh14GhaQ1kZQO_VVOwz95-P8m4T8gJZzuJDzbG9k7xpeA=s64",
      "userId": "14705877685816302988"
     },
     "user_tz": 180
    },
    "id": "ZHznnIXdCUop",
    "outputId": "caffb2ff-df14-47f2-a1d2-f2695fa24ac7"
   },
   "outputs": [
    {
     "data": {
      "text/plain": [
       "matrix([[17.14285714, 21.42857143, 27.14285714],\n",
       "        [17.14285714, 21.42857143, 27.14285714]])"
      ]
     },
     "execution_count": 19,
     "metadata": {
      "tags": []
     },
     "output_type": "execute_result"
    }
   ],
   "source": [
    "solucao_reshape = solucao.reshape((2,3))\n",
    "solucao_reshape"
   ]
  },
  {
   "cell_type": "code",
   "execution_count": null,
   "metadata": {
    "colab": {
     "base_uri": "https://localhost:8080/",
     "height": 85
    },
    "colab_type": "code",
    "executionInfo": {
     "elapsed": 783,
     "status": "ok",
     "timestamp": 1598632639965,
     "user": {
      "displayName": "Júlia Valadares",
      "photoUrl": "https://lh3.googleusercontent.com/a-/AOh14GhaQ1kZQO_VVOwz95-P8m4T8gJZzuJDzbG9k7xpeA=s64",
      "userId": "14705877685816302988"
     },
     "user_tz": 180
    },
    "id": "23KfssLnEJD7",
    "outputId": "568fad9f-7b8b-4a54-edd7-169c3f3e491a"
   },
   "outputs": [
    {
     "data": {
      "text/plain": [
       "array([[0., 0., 0., 0., 0.],\n",
       "       [0., 0., 0., 0., 0.],\n",
       "       [0., 0., 0., 0., 0.],\n",
       "       [0., 0., 0., 0., 0.]])"
      ]
     },
     "execution_count": 52,
     "metadata": {
      "tags": []
     },
     "output_type": "execute_result"
    }
   ],
   "source": [
    "matriz = np.zeros((4,5))\n",
    "matriz"
   ]
  },
  {
   "cell_type": "code",
   "execution_count": null,
   "metadata": {
    "colab": {
     "base_uri": "https://localhost:8080/",
     "height": 170
    },
    "colab_type": "code",
    "executionInfo": {
     "elapsed": 622,
     "status": "ok",
     "timestamp": 1598632641029,
     "user": {
      "displayName": "Júlia Valadares",
      "photoUrl": "https://lh3.googleusercontent.com/a-/AOh14GhaQ1kZQO_VVOwz95-P8m4T8gJZzuJDzbG9k7xpeA=s64",
      "userId": "14705877685816302988"
     },
     "user_tz": 180
    },
    "id": "fs50Ys-0EI1z",
    "outputId": "16fbb41a-2c7f-4022-80d5-d78d35757aff"
   },
   "outputs": [
    {
     "name": "stdout",
     "output_type": "stream",
     "text": [
      "[[0. 0. 0. 0. 0.]\n",
      " [0. 0. 0. 0. 0.]\n",
      " [0. 0. 0. 0. 0.]\n",
      " [0. 0. 0. 0. 0.]] \n",
      "\n",
      "[[ 0.          0.          0.          0.          0.        ]\n",
      " [ 0.         17.14285714 21.42857143 27.14285714  0.        ]\n",
      " [ 0.         17.14285714 21.42857143 27.14285714  0.        ]\n",
      " [ 0.          0.          0.          0.          0.        ]]\n"
     ]
    }
   ],
   "source": [
    "matriz[1:-1, 1:-1] = solucao_reshape\n",
    "print(matriz)"
   ]
  },
  {
   "cell_type": "code",
   "execution_count": null,
   "metadata": {
    "colab": {},
    "colab_type": "code",
    "id": "UCjyQI5i49Gi"
   },
   "outputs": [],
   "source": [
    "matriz[0, 1:-1] = 20\n",
    "matriz[-1, 1:-1] = [20, 30, 20]\n",
    "matriz[1:-1, 0] = 10\n",
    "matriz[1:-1, -1] = 40\n",
    "matriz"
   ]
  },
  {
   "cell_type": "code",
   "execution_count": null,
   "metadata": {
    "colab": {},
    "colab_type": "code",
    "id": "GfKFgG7gvUoN"
   },
   "outputs": [],
   "source": [
    "matriz[0, 0] = matriz[-1, -1] = matriz[0, -1] = matriz[-1, 0] = None\n",
    "matriz"
   ]
  },
  {
   "cell_type": "markdown",
   "metadata": {
    "colab_type": "text",
    "id": "VAbHz_9LEgTh"
   },
   "source": [
    "## Exercício 4: Arquivos, regressões e ajustes de curvas"
   ]
  },
  {
   "cell_type": "markdown",
   "metadata": {
    "colab_type": "text",
    "id": "Hm93Xi8mGHWV"
   },
   "source": [
    "A **Voitto** vem investindo uma boa parte do capital de lucro em publicidade e propaganda, visando atingir um maior público em todo o país. Com isso, fez-se necessário descobrir como a propaganda influencia no lucro da empresa,já que foi investido bastante nessa área. Com isso, temos os dados do que foi investido em propaganda e o retorno que esse investimento trouxe para a empresa. Dessa forma, você foi contratado, justamente, para descobrir como o valor investido em propaganda está relacionado com o lucro da empresa\n",
    "\n",
    "[Fonte dados](http://www.portalaction.com.br/analise-de-regressao/exercicios)\n",
    "\n"
   ]
  },
  {
   "cell_type": "markdown",
   "metadata": {
    "colab_type": "text",
    "id": "KkTbeLnDEgyS"
   },
   "source": [
    "### Questão 1:"
   ]
  },
  {
   "cell_type": "markdown",
   "metadata": {
    "colab_type": "text",
    "id": "GXdCIa2z9E-4"
   },
   "source": [
    "1. Importe os dados e armazene um um Numpy array. (Lembre-se que os elementos da posição 0 serão sempre o nome da coluna)\n",
    "\n",
    "2. Ajuste as curvas de 1, 2 e 3 grau para ver qual regressão melhor se encaixa com os dados\n",
    "\n",
    "3. Plote o gráfico com os dados e as regressões encontradas\n",
    "\n",
    "4. Calcule o erro MSE (Mean Square Error) das regressões encontradas para avaliar seu modelo"
   ]
  },
  {
   "cell_type": "code",
   "execution_count": null,
   "metadata": {
    "colab": {},
    "colab_type": "code",
    "id": "uR3vYCseGc_O"
   },
   "outputs": [],
   "source": [
    "import csv\n",
    "import numpy as np\n",
    "import matplotlib.pyplot as plt"
   ]
  },
  {
   "cell_type": "markdown",
   "metadata": {
    "colab_type": "text",
    "id": "TI6vVmvY_2P7"
   },
   "source": [
    "**Leitura e tratamento dos dados**"
   ]
  },
  {
   "cell_type": "code",
   "execution_count": null,
   "metadata": {
    "colab": {},
    "colab_type": "code",
    "id": "RcFIQxDJJhMX"
   },
   "outputs": [],
   "source": [
    "with open('dados_propaganda.csv') as file:\n",
    "  dados = csv.reader(file, delimiter=',')\n",
    "  dados = list(dados)\n",
    "\n",
    "dados = np.array(dados)"
   ]
  },
  {
   "cell_type": "code",
   "execution_count": null,
   "metadata": {
    "colab": {},
    "colab_type": "code",
    "id": "3-djOxAhJqNv"
   },
   "outputs": [],
   "source": [
    "propaganda = np.array(np.array(np.delete(dados[0:,0], obj=0), dtype= int))\n",
    "retorno = np.array(np.array(np.delete(dados[0:,1], obj=0), dtype= float))"
   ]
  },
  {
   "cell_type": "markdown",
   "metadata": {
    "colab_type": "text",
    "id": "QY-XLSHQ_zV0"
   },
   "source": [
    "**Ajuste de curvas**"
   ]
  },
  {
   "cell_type": "code",
   "execution_count": null,
   "metadata": {
    "colab": {},
    "colab_type": "code",
    "id": "jHdsjHt6J_hQ"
   },
   "outputs": [],
   "source": [
    "primeiro_grau = np.polyfit(propaganda, retorno,1)\n",
    "segundo_grau = np.polyfit(propaganda, retorno,2)\n",
    "terceiro_grau = np.polyfit(propaganda, retorno,3)"
   ]
  },
  {
   "cell_type": "code",
   "execution_count": null,
   "metadata": {
    "colab": {},
    "colab_type": "code",
    "id": "VC8MOdAgKZ0_"
   },
   "outputs": [],
   "source": [
    "p1 = np.poly1d(primeiro_grau)\n",
    "p2 = np.poly1d(segundo_grau)\n",
    "p3 = np.poly1d(terceiro_grau)"
   ]
  },
  {
   "cell_type": "markdown",
   "metadata": {
    "colab_type": "text",
    "id": "56mxCRas_vtg"
   },
   "source": [
    "**Gráfico**"
   ]
  },
  {
   "cell_type": "code",
   "execution_count": null,
   "metadata": {
    "colab": {
     "base_uri": "https://localhost:8080/",
     "height": 513
    },
    "colab_type": "code",
    "executionInfo": {
     "elapsed": 1157,
     "status": "ok",
     "timestamp": 1598887294389,
     "user": {
      "displayName": "Júlia Valadares",
      "photoUrl": "https://lh3.googleusercontent.com/a-/AOh14GhaQ1kZQO_VVOwz95-P8m4T8gJZzuJDzbG9k7xpeA=s64",
      "userId": "14705877685816302988"
     },
     "user_tz": 180
    },
    "id": "oc5Rn6L8L4_u",
    "outputId": "2745f595-29ae-4190-fe30-4f1bbb70a714"
   },
   "outputs": [
    {
     "data": {
      "image/png": "[encoded data removed]",
      "text/plain": [
       "<Figure size 720x576 with 1 Axes>"
      ]
     },
     "metadata": {
      "needs_background": "light",
      "tags": []
     },
     "output_type": "display_data"
    }
   ],
   "source": [
    "plt.figure(figsize=(10,8))\n",
    "plt.scatter(propaganda,retorno,c='black', label='dados')\n",
    "plt.plot(propaganda,p1(propaganda),'red', label='Regressão 1 grau')\n",
    "plt.plot(propaganda,p2(propaganda),'blue', label='Regressão 2 grau')\n",
    "plt.plot(propaganda,p3(propaganda),'green', label='Regressão 3 grau')\n",
    "plt.legend(loc='best')\n",
    "plt.xlabel('Valor gasto em propaganda')\n",
    "plt.ylabel('Valor que retornou')\n",
    "plt.title('Retorno vs Investimento em propaganda')\n",
    "plt.show()"
   ]
  },
  {
   "cell_type": "markdown",
   "metadata": {
    "colab_type": "text",
    "id": "TagD3xN588xE"
   },
   "source": [
    "**Avaliação do modelo**"
   ]
  },
  {
   "cell_type": "code",
   "execution_count": null,
   "metadata": {
    "colab": {},
    "colab_type": "code",
    "id": "06EVxtqD89RT"
   },
   "outputs": [],
   "source": [
    "def mse(y, y_pred):\n",
    "  erros = (y - y_pred)**2\n",
    "  return erros.mean()"
   ]
  },
  {
   "cell_type": "code",
   "execution_count": null,
   "metadata": {
    "colab": {
     "base_uri": "https://localhost:8080/",
     "height": 68
    },
    "colab_type": "code",
    "executionInfo": {
     "elapsed": 846,
     "status": "ok",
     "timestamp": 1598892425372,
     "user": {
      "displayName": "Júlia Valadares",
      "photoUrl": "https://lh3.googleusercontent.com/a-/AOh14GhaQ1kZQO_VVOwz95-P8m4T8gJZzuJDzbG9k7xpeA=s64",
      "userId": "14705877685816302988"
     },
     "user_tz": 180
    },
    "id": "x4QDkSFnApLN",
    "outputId": "482f8b6c-d581-447e-cffa-f185b2e97d74"
   },
   "outputs": [
    {
     "name": "stdout",
     "output_type": "stream",
     "text": [
      "Erro regressão linear: 2.17e+07\n",
      "Erro regressão quadrática: 5.41e+06\n",
      "Erro regressão 3 grau: 5.36e+06\n"
     ]
    }
   ],
   "source": [
    "print('Erro regressão linear: {:.2e}'.format(mse(retorno, p1(propaganda))))\n",
    "print('Erro regressão quadrática: {:.2e}'.format(mse(retorno, p2(propaganda))))\n",
    "print('Erro regressão 3 grau: {:.2e}'.format(mse(retorno, p3(propaganda))))"
   ]
  },
  {
   "cell_type": "markdown",
   "metadata": {
    "colab_type": "text",
    "id": "Oamv7oLsEoWq"
   },
   "source": [
    "### Questão 2:"
   ]
  },
  {
   "cell_type": "markdown",
   "metadata": {
    "colab_type": "text",
    "id": "EnYZPm0WEvqw"
   },
   "source": [
    "Depois de ter descoberto quais curvas melhores se ajustam aos dados, pediram para que você projete como serão os valores retornados com o aumento da quantidade gasta em propaganda com base nas curvas encontradas. Nessa situação, a projeção deve ser para gastos de até 2500, marcando, no gráfico, os pontos de investimento de 2000, 2250 e 2500 reais na curva que obteve o menor erro\n"
   ]
  },
  {
   "cell_type": "code",
   "execution_count": null,
   "metadata": {
    "colab": {
     "base_uri": "https://localhost:8080/",
     "height": 34
    },
    "colab_type": "code",
    "executionInfo": {
     "elapsed": 818,
     "status": "ok",
     "timestamp": 1598893261229,
     "user": {
      "displayName": "Júlia Valadares",
      "photoUrl": "https://lh3.googleusercontent.com/a-/AOh14GhaQ1kZQO_VVOwz95-P8m4T8gJZzuJDzbG9k7xpeA=s64",
      "userId": "14705877685816302988"
     },
     "user_tz": 180
    },
    "id": "NUQSAY2aEu7N",
    "outputId": "a7391d71-c62a-41e6-ab65-b5bcb0797209"
   },
   "outputs": [
    {
     "data": {
      "text/plain": [
       "[50022.44339999992, 46126.474805293816, 39740.97416522422]"
      ]
     },
     "execution_count": 26,
     "metadata": {
      "tags": []
     },
     "output_type": "execute_result"
    }
   ],
   "source": [
    "invest = [2000,2250,2500]\n",
    "pontos = [p3(x) for x in invest]\n",
    "pontos"
   ]
  },
  {
   "cell_type": "code",
   "execution_count": null,
   "metadata": {
    "colab": {
     "base_uri": "https://localhost:8080/",
     "height": 513
    },
    "colab_type": "code",
    "executionInfo": {
     "elapsed": 986,
     "status": "ok",
     "timestamp": 1598893318711,
     "user": {
      "displayName": "Júlia Valadares",
      "photoUrl": "https://lh3.googleusercontent.com/a-/AOh14GhaQ1kZQO_VVOwz95-P8m4T8gJZzuJDzbG9k7xpeA=s64",
      "userId": "14705877685816302988"
     },
     "user_tz": 180
    },
    "id": "I7OG92W4EvUS",
    "outputId": "37cea122-2162-40a0-8fb2-c79e72316b13"
   },
   "outputs": [
    {
     "data": {
      "image/png": "[encoded data removed]",
      "text/plain": [
       "<Figure size 720x576 with 1 Axes>"
      ]
     },
     "metadata": {
      "needs_background": "light",
      "tags": []
     },
     "output_type": "display_data"
    }
   ],
   "source": [
    "x = np.linspace(0,2700)\n",
    "plt.figure(figsize=(10,8))\n",
    "plt.scatter(propaganda,retorno,c='black', label='dados')\n",
    "plt.scatter(invest,pontos, c='darkorange',label='projeções')\n",
    "plt.plot(x,p1(x),'red', label='Regressão 1 grau')\n",
    "plt.plot(x,p2(x),'blue', label='Regressão 2 grau')\n",
    "plt.plot(x,p3(x),'green', label='Regressão 3 grau')\n",
    "plt.legend(loc='best')\n",
    "plt.xlabel('Valor gasto em propaganda')\n",
    "plt.ylabel('Valor que retornou')\n",
    "plt.title('Extrapolação Retorno vs Investimento em propaganda')\n",
    "\n",
    "plt.show()"
   ]
  },
  {
   "cell_type": "markdown",
   "metadata": {
    "colab_type": "text",
    "id": "iHPw_Kv7l9iI"
   },
   "source": [
    "## Exercício 5: Visualizações de dados"
   ]
  },
  {
   "cell_type": "markdown",
   "metadata": {
    "colab_type": "text",
    "id": "2NWr2UqsoKz_"
   },
   "source": [
    "### Questão 1"
   ]
  },
  {
   "cell_type": "markdown",
   "metadata": {
    "colab_type": "text",
    "id": "IS6AlSFfDxuK"
   },
   "source": [
    "A empresa **Voitto Magazine**, que atua no setor de varejo, obteve um grande volume de vendas no último ano graças às diversas melhorias nos canais de vendas ao cliente. Com o objetivo de analisar o resultado das vendas e aumentar ainda mais a venda de produtos, você foi contratado como analista para tirar informações dos dados que a empresa possui das vendas anteriores.\n"
   ]
  },
  {
   "cell_type": "markdown",
   "metadata": {
    "colab_type": "text",
    "id": "ow1nOWyLoPyw"
   },
   "source": [
    "A partir dessa base descubra:\n",
    "\n",
    "1. Qual foi o canal de venda mais frequente da *Voitto Magazine*;\n",
    "2. Em qual ocasião (Promoção vigente) de oferta os clientes mais compraram;\n",
    "3. Qual porcentagem os eletrodomésticos representam no total de vendas\n",
    "\n"
   ]
  },
  {
   "cell_type": "markdown",
   "metadata": {
    "colab_type": "text",
    "id": "L-V9_pm3srjw"
   },
   "source": [
    "| ID Ordem | Custo Unit | Preço Venda Uni | Qnt Ordem | Custo da Venda | Receita Vendas | Lucro | Canal Venda | Promoção Vigente | Fabricante | Categoria do Produto | Subcategoria do Produto | Cidade | Estado |\n",
    "|----------|------------|-----------------|-----------|----------------|----------------|-------|-------------|------------------|------------|----------------------|-------------------------|--------|--------|\n",
    "|          |            |                 |           |                |                |       |             |                  |            |                      |                         |        |        |"
   ]
  },
  {
   "cell_type": "code",
   "execution_count": null,
   "metadata": {
    "colab": {},
    "colab_type": "code",
    "id": "s1UcRRvJM7n6"
   },
   "outputs": [],
   "source": [
    "with open('dados_CD_varejista.csv') as file:\n",
    "  dados = csv.reader(file, delimiter=',')\n",
    "  dados = list(dados)\n",
    "\n",
    "dados = np.array(dados)"
   ]
  },
  {
   "cell_type": "code",
   "execution_count": null,
   "metadata": {
    "colab": {},
    "colab_type": "code",
    "id": "d92Z12DtsWFy"
   },
   "outputs": [],
   "source": [
    "canal_venda = dados[1:,7]\n",
    "data_comercial = dados[1:,8]\n",
    "catego_produto = dados[1:, -4]\n",
    "lucro = dados[1:,6].astype(float)\n",
    "p_venda = dados [1:, 2].astype(float)\n",
    "receita = dados[1:, 5].astype(float)"
   ]
  },
  {
   "cell_type": "code",
   "execution_count": null,
   "metadata": {
    "colab": {},
    "colab_type": "code",
    "id": "_F1q-yyMudST"
   },
   "outputs": [],
   "source": [
    "import collections\n",
    "import matplotlib.pyplot as plt"
   ]
  },
  {
   "cell_type": "markdown",
   "metadata": {
    "colab_type": "text",
    "id": "096tuKXSfLC-"
   },
   "source": [
    "**Canal de venda mais frequente**"
   ]
  },
  {
   "cell_type": "code",
   "execution_count": null,
   "metadata": {
    "colab": {},
    "colab_type": "code",
    "id": "hyxvhJTGu_dY"
   },
   "outputs": [],
   "source": [
    "counter = collections.Counter(canal_venda)"
   ]
  },
  {
   "cell_type": "code",
   "execution_count": null,
   "metadata": {
    "colab": {},
    "colab_type": "code",
    "id": "AN-OjPKiwDBY"
   },
   "outputs": [],
   "source": [
    "quantidade = [float(item) for item in counter.values()]\n",
    "index_max = quantidade.index(max(quantidade))\n",
    "\n",
    "explode = [0]*len(quantidade)\n",
    "\n",
    "explode[index_max] = 0.1"
   ]
  },
  {
   "cell_type": "code",
   "execution_count": null,
   "metadata": {
    "colab": {
     "base_uri": "https://localhost:8080/",
     "height": 373
    },
    "colab_type": "code",
    "executionInfo": {
     "elapsed": 1036,
     "status": "ok",
     "timestamp": 1598893922495,
     "user": {
      "displayName": "Júlia Valadares",
      "photoUrl": "https://lh3.googleusercontent.com/a-/AOh14GhaQ1kZQO_VVOwz95-P8m4T8gJZzuJDzbG9k7xpeA=s64",
      "userId": "14705877685816302988"
     },
     "user_tz": 180
    },
    "id": "-uXRI_nyvCCz",
    "outputId": "a56acdde-a9a0-474a-9e41-25b41cacd70e"
   },
   "outputs": [
    {
     "data": {
      "image/png": "[encoded data removed]",
      "text/plain": [
       "<Figure size 720x432 with 1 Axes>"
      ]
     },
     "metadata": {
      "tags": []
     },
     "output_type": "display_data"
    }
   ],
   "source": [
    "colors = ['#FA6F0B', '#2376FA', '#23FA94']\n",
    "\n",
    "plt.figure(figsize=(10,6))\n",
    "\n",
    "plt.pie(list(counter.values()),labels=list(counter.keys()),\n",
    "        autopct='%1.1f%%', shadow=True,\n",
    "        explode=explode,\n",
    "        colors=colors, startangle=115, \n",
    "        wedgeprops={'edgecolor': 'black'})\n",
    "plt.title('Canais de vendas varejista')\n",
    "plt.show()"
   ]
  },
  {
   "cell_type": "markdown",
   "metadata": {
    "colab_type": "text",
    "id": "QczNPOdhfJFW"
   },
   "source": [
    "Podemos perceber que o canal de vendas mais ultilizado foi o de Lojas Próprias."
   ]
  },
  {
   "cell_type": "markdown",
   "metadata": {
    "colab_type": "text",
    "id": "ovtT02JAfaFH"
   },
   "source": [
    "**Data comercial de maior influencia nos produtos**"
   ]
  },
  {
   "cell_type": "code",
   "execution_count": null,
   "metadata": {
    "colab": {},
    "colab_type": "code",
    "id": "AWAuxOigvbbV"
   },
   "outputs": [],
   "source": [
    "counter_data_comer = collections.Counter(data_comercial)"
   ]
  },
  {
   "cell_type": "code",
   "execution_count": null,
   "metadata": {
    "colab": {
     "base_uri": "https://localhost:8080/",
     "height": 34
    },
    "colab_type": "code",
    "executionInfo": {
     "elapsed": 1317,
     "status": "ok",
     "timestamp": 1598893925140,
     "user": {
      "displayName": "Júlia Valadares",
      "photoUrl": "https://lh3.googleusercontent.com/a-/AOh14GhaQ1kZQO_VVOwz95-P8m4T8gJZzuJDzbG9k7xpeA=s64",
      "userId": "14705877685816302988"
     },
     "user_tz": 180
    },
    "id": "Q6PFSP7tgQAe",
    "outputId": "15c2efc0-4a6b-48b6-d043-8c2f48def9cc"
   },
   "outputs": [
    {
     "data": {
      "text/plain": [
       "Counter({'Black Friday': 1327, 'Dia das Mães': 1345, 'Sem Desconto': 12328})"
      ]
     },
     "execution_count": 43,
     "metadata": {
      "tags": []
     },
     "output_type": "execute_result"
    }
   ],
   "source": [
    "counter_data_comer"
   ]
  },
  {
   "cell_type": "code",
   "execution_count": null,
   "metadata": {
    "colab": {
     "base_uri": "https://localhost:8080/",
     "height": 452
    },
    "colab_type": "code",
    "executionInfo": {
     "elapsed": 1275,
     "status": "ok",
     "timestamp": 1598893925594,
     "user": {
      "displayName": "Júlia Valadares",
      "photoUrl": "https://lh3.googleusercontent.com/a-/AOh14GhaQ1kZQO_VVOwz95-P8m4T8gJZzuJDzbG9k7xpeA=s64",
      "userId": "14705877685816302988"
     },
     "user_tz": 180
    },
    "id": "NBmc_CaGfyot",
    "outputId": "133babd3-bb97-4ab9-8eeb-1ca7c074e421"
   },
   "outputs": [
    {
     "data": {
      "image/png": "[encoded data removed]",
      "text/plain": [
       "<Figure size 720x432 with 1 Axes>"
      ]
     },
     "metadata": {
      "needs_background": "light",
      "tags": []
     },
     "output_type": "display_data"
    }
   ],
   "source": [
    "plt.figure(figsize=(10,6))\n",
    "#Define quais cores serão utilizadas no gráfico\n",
    "colors = ['#FA6F0B', '#2376FA', '#23FA94']\n",
    "\n",
    "plt.bar(counter_data_comer.keys(), counter_data_comer.values(),color= colors)\n",
    "\n",
    "plt.ylabel('Quantidade de produtos vendidos')\n",
    "plt.xlabel('Promoção vigente')\n",
    "plt.title('Quantidade de produtos em promoções')\n",
    "#Rotação do eixo\n",
    "plt.xticks(rotation=45) \n",
    "plt.show()"
   ]
  },
  {
   "cell_type": "markdown",
   "metadata": {
    "colab_type": "text",
    "id": "JJtSlFNihWft"
   },
   "source": [
    "**Representação dos eletrodomésticos**"
   ]
  },
  {
   "cell_type": "code",
   "execution_count": null,
   "metadata": {
    "colab": {},
    "colab_type": "code",
    "id": "GwXVjof9gtO0"
   },
   "outputs": [],
   "source": [
    "counter = collections.Counter(catego_produto)"
   ]
  },
  {
   "cell_type": "code",
   "execution_count": null,
   "metadata": {
    "colab": {},
    "colab_type": "code",
    "id": "TfUuIj4PiKQt"
   },
   "outputs": [],
   "source": [
    "quantidade = [item for item in counter.keys()]\n",
    "index_max = quantidade.index('Eltetrodoméstico')\n",
    "\n",
    "explode = [0]*len(quantidade)\n",
    "\n",
    "explode[index_max] = 0.1"
   ]
  },
  {
   "cell_type": "code",
   "execution_count": null,
   "metadata": {
    "colab": {
     "base_uri": "https://localhost:8080/",
     "height": 373
    },
    "colab_type": "code",
    "executionInfo": {
     "elapsed": 2700,
     "status": "ok",
     "timestamp": 1598894085677,
     "user": {
      "displayName": "Júlia Valadares",
      "photoUrl": "https://lh3.googleusercontent.com/a-/AOh14GhaQ1kZQO_VVOwz95-P8m4T8gJZzuJDzbG9k7xpeA=s64",
      "userId": "14705877685816302988"
     },
     "user_tz": 180
    },
    "id": "TSfJRGiYiUGZ",
    "outputId": "90741ca7-8871-4729-bfcd-2ee0dca461b4"
   },
   "outputs": [
    {
     "data": {
      "image/png": "[encoded data removed]",
      "text/plain": [
       "<Figure size 720x432 with 1 Axes>"
      ]
     },
     "metadata": {
      "tags": []
     },
     "output_type": "display_data"
    }
   ],
   "source": [
    "colors = ['#FA6F0B', '#2376FA', '#23FA94']\n",
    "\n",
    "plt.figure(figsize=(10,6))\n",
    "plt.pie(list(counter.values()),labels=list(counter.keys()),\n",
    "        autopct='%1.1f%%', shadow=True,\n",
    "        explode=explode,\n",
    "        colors=colors, startangle=115, \n",
    "        wedgeprops={'edgecolor': 'black'})\n",
    "plt.title('Representação Eletromésticos')\n",
    "plt.show()"
   ]
  },
  {
   "cell_type": "markdown",
   "metadata": {
    "colab_type": "text",
    "id": "blUYFDkTHXp9"
   },
   "source": [
    "### Questão 2:\n",
    "\n"
   ]
  },
  {
   "cell_type": "markdown",
   "metadata": {
    "colab_type": "text",
    "id": "VCkw3ZhYHd8T"
   },
   "source": [
    "Além das análises feitas anteriormente, o gerente de vendas da **Voitto Magazine** deseja ter uma visão geral sobre o comportamento do *lucro* e da *receita de vendas*:\n",
    "\n",
    "* Qual foi o lucro e a receita de vendas média, máxima, mínima e desvio padrão? \n",
    "* Como os valores se comportam em um histograma juntamente com a normal? \n"
   ]
  },
  {
   "cell_type": "markdown",
   "metadata": {
    "colab_type": "text",
    "id": "i74nhhHYNTll"
   },
   "source": [
    "**Importe a biblioteca *stats* do Scipy**"
   ]
  },
  {
   "cell_type": "code",
   "execution_count": null,
   "metadata": {
    "colab": {},
    "colab_type": "code",
    "id": "1OxD-V70MyXc"
   },
   "outputs": [],
   "source": [
    "from scipy import stats"
   ]
  },
  {
   "cell_type": "markdown",
   "metadata": {
    "colab_type": "text",
    "id": "tC88zosXNhQV"
   },
   "source": [
    "**Lucro**"
   ]
  },
  {
   "cell_type": "code",
   "execution_count": null,
   "metadata": {
    "colab": {
     "base_uri": "https://localhost:8080/",
     "height": 102
    },
    "colab_type": "code",
    "executionInfo": {
     "elapsed": 904,
     "status": "ok",
     "timestamp": 1598619781637,
     "user": {
      "displayName": "Júlia Valadares",
      "photoUrl": "https://lh3.googleusercontent.com/a-/AOh14GhaQ1kZQO_VVOwz95-P8m4T8gJZzuJDzbG9k7xpeA=s64",
      "userId": "14705877685816302988"
     },
     "user_tz": 180
    },
    "id": "wW8CTCkAGsev",
    "outputId": "7f12ed93-5732-474f-85e7-6ec30ccc1773"
   },
   "outputs": [
    {
     "name": "stdout",
     "output_type": "stream",
     "text": [
      "------Sobre o Lucro--------\n",
      "Lucro máximo: 117807.6\n",
      "Lucro mínimo: 36.01\n",
      "Média do lucro: 8906.52\n",
      "Desvio padrão do lucro 12852.3\n"
     ]
    }
   ],
   "source": [
    "print('------Sobre o Lucro--------')\n",
    "print('Lucro máximo:', max(lucro))\n",
    "print('Lucro mínimo:', min(lucro))\n",
    "print('Média do lucro:', round(lucro.mean(),2))\n",
    "print('Desvio padrão do lucro', round(lucro.std(),2))"
   ]
  },
  {
   "cell_type": "code",
   "execution_count": null,
   "metadata": {
    "colab": {
     "base_uri": "https://localhost:8080/",
     "height": 404
    },
    "colab_type": "code",
    "executionInfo": {
     "elapsed": 2679,
     "status": "ok",
     "timestamp": 1598621127735,
     "user": {
      "displayName": "Júlia Valadares",
      "photoUrl": "https://lh3.googleusercontent.com/a-/AOh14GhaQ1kZQO_VVOwz95-P8m4T8gJZzuJDzbG9k7xpeA=s64",
      "userId": "14705877685816302988"
     },
     "user_tz": 180
    },
    "id": "eeB-VHq8Jo3Y",
    "outputId": "914e57a4-6d93-4ed7-bd36-8daf94870e02"
   },
   "outputs": [
    {
     "data": {
      "image/png": "[encoded data removed]",
      "text/plain": [
       "<Figure size 720x432 with 1 Axes>"
      ]
     },
     "metadata": {
      "needs_background": "light",
      "tags": []
     },
     "output_type": "display_data"
    }
   ],
   "source": [
    "plt.figure(figsize=(10,6))\n",
    "plt.hist(lucro, color='deepskyblue', label='Histograma', density=True,ec='k')\n",
    "\n",
    "#Define os limites da normal no gráfico\n",
    "xmin, xmax = plt.xlim()\n",
    "\n",
    "x = np.linspace(xmin, xmax, 100)\n",
    "\n",
    "#Calcula a normal\n",
    "normal = stats.norm.pdf(x, np.mean(lucro), np.std(lucro))\n",
    "\n",
    "#Desenha a normal no gráfico\n",
    "plt.plot(x, normal,'-o',color='r', label='Normal')\n",
    "\n",
    "plt.title('Histograma do lucro')\n",
    "plt.ylabel('Frequência')\n",
    "plt.xlabel('Lucro')\n",
    "plt.legend(loc='best')\n",
    "plt.show()"
   ]
  },
  {
   "cell_type": "markdown",
   "metadata": {
    "colab_type": "text",
    "id": "PvLtOC6xNw9X"
   },
   "source": [
    "**Receita de vendas**"
   ]
  },
  {
   "cell_type": "code",
   "execution_count": null,
   "metadata": {
    "colab": {
     "base_uri": "https://localhost:8080/",
     "height": 102
    },
    "colab_type": "code",
    "executionInfo": {
     "elapsed": 3136,
     "status": "ok",
     "timestamp": 1598620695366,
     "user": {
      "displayName": "Júlia Valadares",
      "photoUrl": "https://lh3.googleusercontent.com/a-/AOh14GhaQ1kZQO_VVOwz95-P8m4T8gJZzuJDzbG9k7xpeA=s64",
      "userId": "14705877685816302988"
     },
     "user_tz": 180
    },
    "id": "s3Yy5fgBLGOw",
    "outputId": "fbc1bce0-4989-465d-d78e-0ce02fa62c1e"
   },
   "outputs": [
    {
     "name": "stdout",
     "output_type": "stream",
     "text": [
      "------Sobre a receita --------\n",
      "Receita máximo: 168296.4\n",
      "Receita mínimo: 51.45\n",
      "Média ds receita: 12054.17\n",
      "Desvio padrão da receita 17690.37\n"
     ]
    }
   ],
   "source": [
    "print('------Sobre a receita --------')\n",
    "print('Receita máximo:', max(receita))\n",
    "print('Receita mínimo:', min(receita))\n",
    "print('Média ds receita:', round(receita.mean(),2))\n",
    "print('Desvio padrão da receita', round(receita.std(),2))"
   ]
  },
  {
   "cell_type": "code",
   "execution_count": null,
   "metadata": {
    "colab": {
     "base_uri": "https://localhost:8080/",
     "height": 404
    },
    "colab_type": "code",
    "executionInfo": {
     "elapsed": 680,
     "status": "ok",
     "timestamp": 1598621141748,
     "user": {
      "displayName": "Júlia Valadares",
      "photoUrl": "https://lh3.googleusercontent.com/a-/AOh14GhaQ1kZQO_VVOwz95-P8m4T8gJZzuJDzbG9k7xpeA=s64",
      "userId": "14705877685816302988"
     },
     "user_tz": 180
    },
    "id": "GQ0qEM-0N4pV",
    "outputId": "35e4d811-abae-444b-b28f-f125e625d62f"
   },
   "outputs": [
    {
     "data": {
      "image/png": "[encoded data removed]",
      "text/plain": [
       "<Figure size 720x432 with 1 Axes>"
      ]
     },
     "metadata": {
      "needs_background": "light",
      "tags": []
     },
     "output_type": "display_data"
    }
   ],
   "source": [
    "plt.figure(figsize=(10,6))\n",
    "plt.hist(receita, color='deepskyblue', label='Histograma', ec='k',density=True)\n",
    "\n",
    "#Define os limites da normal no gráfico\n",
    "xmin, xmax = plt.xlim()\n",
    "\n",
    "x = np.linspace(xmin, xmax, 100)\n",
    "\n",
    "#Calcula a normal\n",
    "normal = stats.norm.pdf(x, np.mean(receita), np.std(receita))\n",
    "\n",
    "#Desenha a normal no gráfico\n",
    "plt.plot(x, normal,'-o',color='r',label='Normal')\n",
    "\n",
    "plt.title('Histograma da receita')\n",
    "plt.ylabel('Frequência')\n",
    "plt.xlabel('Receita')\n",
    "plt.legend(loc='best')\n",
    "plt.show()"
   ]
  }
 ],
 "metadata": {
  "colab": {
   "collapsed_sections": [
    "qVNyeudZ5qjg",
    "3L5R-w63uInt",
    "VAbHz_9LEgTh"
   ],
   "name": "Exercicios_finais_feitos.ipynb",
   "provenance": []
  },
  "kernelspec": {
   "display_name": "Python 3 (ipykernel)",
   "language": "python",
   "name": "python3"
  },
  "language_info": {
   "codemirror_mode": {
    "name": "ipython",
    "version": 3
   },
   "file_extension": ".py",
   "mimetype": "text/x-python",
   "name": "python",
   "nbconvert_exporter": "python",
   "pygments_lexer": "ipython3",
   "version": "3.9.7"
  }
 },
 "nbformat": 4,
 "nbformat_minor": 1
}
